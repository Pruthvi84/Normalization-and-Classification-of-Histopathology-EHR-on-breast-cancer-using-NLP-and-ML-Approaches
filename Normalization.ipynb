{
  "nbformat": 4,
  "nbformat_minor": 0,
  "metadata": {
    "colab": {
      "provenance": [],
      "include_colab_link": true
    },
    "kernelspec": {
      "name": "python3",
      "display_name": "Python 3"
    },
    "language_info": {
      "name": "python"
    }
  },
  "cells": [
    {
      "cell_type": "markdown",
      "metadata": {
        "id": "view-in-github",
        "colab_type": "text"
      },
      "source": [
        "<a href=\"https://colab.research.google.com/github/Pruthvi84/Normalization-and-Classification-of-Histopathology-EHR-on-breast-cancer-using-NLP-and-ML-Approaches/blob/main/Normalization.ipynb\" target=\"_parent\"><img src=\"https://colab.research.google.com/assets/colab-badge.svg\" alt=\"Open In Colab\"/></a>"
      ]
    },
    {
      "cell_type": "code",
      "execution_count": null,
      "metadata": {
        "id": "AauxcsmFqvns"
      },
      "outputs": [],
      "source": [
        "import pandas as pd\n",
        "import nltk\n",
        "import re\n",
        "import numpy as np"
      ]
    },
    {
      "cell_type": "code",
      "source": [
        "df = pd.read_csv(\"Copy of biopsy data.xlsx - Big Size biopsy.csv\")\n",
        "print(df.head())\n"
      ],
      "metadata": {
        "colab": {
          "base_uri": "https://localhost:8080/"
        },
        "id": "VxeuMwXcrLpj",
        "outputId": "b37d2151-975d-4d07-b5ce-c9126e7188c2"
      },
      "execution_count": null,
      "outputs": [
        {
          "output_type": "stream",
          "name": "stdout",
          "text": [
            "    REG No  Year          Procedure  Age Sex         Descriptive  \\\n",
            "0  2118779  2022  BIG SIZE - BIOPSY   58   F               MACRO   \n",
            "1  2501137  2022  BIG SIZE - BIOPSY   40   F               MACRO   \n",
            "2  2431443  2022  BIG SIZE - BIOPSY   46   F               MACRO   \n",
            "3  2418549  2022  BIG SIZE - BIOPSY   55   F  Clinical Diagnosis   \n",
            "4  2478427  2022  BIG SIZE - BIOPSY   56   F  Clinical Diagnosis   \n",
            "\n",
            "                                              RESULT  \\\n",
            "0  Received right total mastectomy specimen measu...   \n",
            "1  Left breast lump- carcinoma.Received two conta...   \n",
            "2  Intraductal carcinoma breast.Received left mod...   \n",
            "3  CA Breast s/p NACT. DIAGNOSIS:Biopsy, Right MR...   \n",
            "4  Carcinoma Breast.MACRO:Recieved two containers...   \n",
            "\n",
            "                                RESULT in lower case  \n",
            "0  received right total mastectomy specimen measu...  \n",
            "1  left breast lump- carcinoma.received two conta...  \n",
            "2  intraductal carcinoma breast.received left mod...  \n",
            "3  ca breast s/p nact. diagnosis:biopsy, right mr...  \n",
            "4  carcinoma breast.macro:recieved two containers...  \n"
          ]
        }
      ]
    },
    {
      "cell_type": "code",
      "source": [
        "df['RESULT'] = df['RESULT'].apply(str.lower)"
      ],
      "metadata": {
        "id": "aTH81tDjrPpE"
      },
      "execution_count": null,
      "outputs": []
    },
    {
      "cell_type": "code",
      "source": [
        "i=1;\n",
        "lis = [];\n",
        "for reg in df['RESULT in lower case']:\n",
        "   i=i+1\n",
        "   lis.append(re.findall(\"pt\\w*n\\w*m\\w*\",reg));\n",
        "print(lis);"
      ],
      "metadata": {
        "colab": {
          "base_uri": "https://localhost:8080/"
        },
        "id": "Hddx0ONjrTwQ",
        "outputId": "1a330cad-8cc2-4d2e-f41e-2127c696d616"
      },
      "execution_count": null,
      "outputs": [
        {
          "output_type": "stream",
          "name": "stdout",
          "text": [
            "[[], ['pt2n1mx'], [], ['ptnm', 'ptnm'], ['pt2n0mx', 'pt2n0mx'], [], [], [], ['ptnm', 'pt2n0mx'], ['pt2nomx'], ['pt4an1amx'], [], ['ptnm'], [], [], [], [], ['pt3n2amx', 'pt3n2amx'], [], [], [], [], [], [], [], [], ['pt1cnxmx', 'pt1cnxmx'], ['ptnm'], ['pt2nomx', 'pt2nomx'], [], [], ['ptnm'], ['ptnm', 'pt2nomx'], [], ['ptnm'], [], ['pt3nomx'], [], [], ['ptnm', 'ptnm'], [], [], ['pt2n0mx', 'pt2n0mx'], [], [], [], [], ['pt2n1amx'], [], [], [], [], [], [], [], [], [], [], [], [], [], ['ptnm'], [], [], [], ['ptnm'], ['ptnm', 'pt2n1amx'], ['ptnm'], ['ptnm'], [], [], [], [], [], [], [], ['ptnm', 'pt2n1mx', 'ptnm', 'pt2n1mx'], [], ['ptnm', 'pt1an1mx'], ['ptnm'], ['pt1n0mx'], [], [], [], [], ['pt3nomx'], [], ['pt3nomx'], [], ['ptnm'], [], [], [], [], ['ptnm', 'pt2n1amx'], ['ptnm'], [], ['ptnm'], ['ptnm'], ['ptnm', 'pt2nxmx'], ['pt1cn1amx'], ['pt2n2amx'], ['pt2n0mx'], ['ptnm', 'pt1anomx'], [], ['ptnm'], ['ptnm'], ['ptnm', 'pt2nomx'], ['ptnm', 'pt2n2amx'], ['ptnm', 'pt2nomx'], ['ptnm'], ['ptnm', 'pt2n1amx'], [], [], ['ptnm'], [], ['ptnm'], ['ptnm'], ['ptnm'], [], ['pt2n0mx'], ['pt3yn2amx'], ['ptnm'], ['ptnm'], [], ['ptnm'], ['ptnm', 'ptnm'], [], ['pt2nxmx'], [], [], ['ptnm', 'pt2nomx'], ['ptnm'], [], [], ['pt1cn0mxreceived'], [], [], ['ptnm'], [], [], [], ['ptnm', 'pt2nomxseparately'], [], [], [], [], ['ptnm'], ['ptnm'], [], [], [], [], ['ptnm'], [], [], ['ptnm', 'pt3n0mx', 'ptnm'], ['ptnm'], [], [], [], ['ptnm', 'pt2n1mxreceived'], [], ['ptnm'], [], [], [], [], [], [], [], [], ['ptnm'], [], [], [], [], ['ptnm'], [], [], [], [], [], [], [], [], ['ptnm'], [], [], [], [], [], [], [], [], [], [], [], [], [], [], [], [], [], [], [], [], [], [], [], [], [], [], ['pt2n1mx'], [], [], [], [], [], [], [], [], [], [], [], [], [], [], [], [], ['ptnm', 'pt1m1nomx'], [], [], [], [], [], [], [], ['pt2n1amx'], [], [], [], [], [], [], [], [], [], [], [], [], [], [], [], [], [], [], [], [], [], [], [], [], [], [], [], [], [], [], [], [], [], [], [], [], [], [], [], [], [], [], [], [], [], [], [], [], [], [], [], [], [], [], [], [], [], [], [], ['ptnm'], [], ['pt3nomx', 'pt3nomx'], ['ptnm'], [], ['ptnm', 'ptnm'], [], [], [], ['pt2n0mx', 'pt2n0mx'], [], [], [], [], [], [], ['pt2n1amx'], [], [], [], [], [], [], [], [], [], [], [], [], [], [], ['ptnm'], [], [], [], ['ptnm'], ['ptnm', 'pt2n1amx'], ['ptnm'], ['ptnm'], [], [], [], [], [], [], [], [], [], ['ptnm', 'pt2n1mx', 'ptnm', 'pt2n1mxrecieved'], [], [], ['ptnm', 'pt1an1mx', 'ptnm', 'pt1an1mx'], ['ptnm'], ['pt1n0mx1', 'pt1nomx'], [], [], [], [], [], ['pt3nomx'], [], [], [], ['ptnm'], [], [], [], [], [], ['ptnm', 'pt2n1amxsections'], [], ['ptnm'], [], ['ptnm', 'ptnm'], ['ptnm', 'pt2nxmx'], [], ['pt1cn1amx'], ['pt2n2amx'], ['pt2n0mxspecimen'], ['ptnm', 'pt1anomx'], [], ['ptnm'], ['ptnm', 'ptnm'], [], ['ptnm', 'pt2nomx'], ['ptnm', 'pt2n2amx', 'ptnm', 'pt2n2amx'], ['ptnm', 'pt2nomx', 'ptnm', 'pt2nomx'], ['ptnm'], ['ptnm', 'pt2n1amx'], [], [], ['ptnm'], [], [], ['ptnm'], ['ptnm'], [], [], ['ptnm'], [], ['pt2n0mx', 'pt2n0mxleft'], ['pt3yn2amx'], ['ptnm'], ['ptnm'], [], [], ['ptnm'], ['ptnm'], [], [], ['pt2nxmx'], [], [], [], ['ptnm'], [], [], [], ['pt1cn0mx'], [], [], [], ['ptnm'], [], [], [], ['ptnm', 'pt2nomx'], [], ['ptnm'], ['pt2n1mxreceived'], [], [], [], [], ['ptnm'], ['ptnm'], [], [], [], [], ['ptnm'], [], [], ['ptnm', 'ptnm', 'pt3n0mx'], ['ptnm'], [], [], [], ['ptnm', 'pt2n1mxsections'], [], [], [], [], [], [], [], ['ptnm'], [], [], [], ['ptnm', 'ptisnomxright'], [], [], [], [], ['ptnm', 'pt1cnomx'], ['pt1anomx'], ['ptnm', 'pt1cnomx'], ['ptnm'], ['ptnm', 'pt2nomx'], ['ptnm'], ['ptnm', 'pt3n1amx'], ['ptnm', 'pt2nomxright'], ['ptnm', 'pt3n1mx'], ['pt3n1mxreceived'], [], ['ptnm', 'pt2n3mxca'], [], [], ['ptnm', 'pt1cn0mx'], [], [], [], ['ptnm', 'pt2n1amx'], [], ['ptnm'], [], ['pt4n0mx'], [], [], [], [], [], ['ptnm', 'pt2nomx'], [], ['ptnm'], ['ptnm', 'ptnm'], ['ptnm', 'pt2n3amx'], ['ptnm', 'pt2nomx'], ['ptnm', 'pt2nomx'], [], [], ['ptnm', 'pt2n3mx'], ['ptnm', 'pt2n3mx'], [], ['pt2nxmxreceived'], [], [], [], [], [], [], [], [], [], [], [], [], [], [], [], ['pt2n0mx'], [], [], ['ptnm'], ['pt2n3mx', 'pt2n3mx'], [], ['pt2n3mx'], ['pt2n3mx'], [], [], ['ptnm', 'pt2n3amx'], ['ptnm'], ['ptnm'], [], [], ['ptnm'], [], [], [], [], [], [], [], ['ptnm', 'pt2n1mx'], [], [], [], [], [], ['ptnm', 'pt2nomx'], [], [], [], [], ['ptnm']]\n"
          ]
        }
      ]
    },
    {
      "cell_type": "code",
      "source": [
        "res = list(filter(None, lis))\n",
        "print(res);"
      ],
      "metadata": {
        "colab": {
          "base_uri": "https://localhost:8080/"
        },
        "id": "nmdldZrUrbMx",
        "outputId": "76d80b98-40f6-4de5-974c-53a64b5998e3"
      },
      "execution_count": null,
      "outputs": [
        {
          "output_type": "stream",
          "name": "stdout",
          "text": [
            "[['pt2n1mx'], ['ptnm', 'ptnm'], ['pt2n0mx', 'pt2n0mx'], ['ptnm', 'pt2n0mx'], ['pt2nomx'], ['pt4an1amx'], ['ptnm'], ['pt3n2amx', 'pt3n2amx'], ['pt1cnxmx', 'pt1cnxmx'], ['ptnm'], ['pt2nomx', 'pt2nomx'], ['ptnm'], ['ptnm', 'pt2nomx'], ['ptnm'], ['pt3nomx'], ['ptnm', 'ptnm'], ['pt2n0mx', 'pt2n0mx'], ['pt2n1amx'], ['ptnm'], ['ptnm'], ['ptnm', 'pt2n1amx'], ['ptnm'], ['ptnm'], ['ptnm', 'pt2n1mx', 'ptnm', 'pt2n1mx'], ['ptnm', 'pt1an1mx'], ['ptnm'], ['pt1n0mx'], ['pt3nomx'], ['pt3nomx'], ['ptnm'], ['ptnm', 'pt2n1amx'], ['ptnm'], ['ptnm'], ['ptnm'], ['ptnm', 'pt2nxmx'], ['pt1cn1amx'], ['pt2n2amx'], ['pt2n0mx'], ['ptnm', 'pt1anomx'], ['ptnm'], ['ptnm'], ['ptnm', 'pt2nomx'], ['ptnm', 'pt2n2amx'], ['ptnm', 'pt2nomx'], ['ptnm'], ['ptnm', 'pt2n1amx'], ['ptnm'], ['ptnm'], ['ptnm'], ['ptnm'], ['pt2n0mx'], ['pt3yn2amx'], ['ptnm'], ['ptnm'], ['ptnm'], ['ptnm', 'ptnm'], ['pt2nxmx'], ['ptnm', 'pt2nomx'], ['ptnm'], ['pt1cn0mxreceived'], ['ptnm'], ['ptnm', 'pt2nomxseparately'], ['ptnm'], ['ptnm'], ['ptnm'], ['ptnm', 'pt3n0mx', 'ptnm'], ['ptnm'], ['ptnm', 'pt2n1mxreceived'], ['ptnm'], ['ptnm'], ['ptnm'], ['ptnm'], ['pt2n1mx'], ['ptnm', 'pt1m1nomx'], ['pt2n1amx'], ['ptnm'], ['pt3nomx', 'pt3nomx'], ['ptnm'], ['ptnm', 'ptnm'], ['pt2n0mx', 'pt2n0mx'], ['pt2n1amx'], ['ptnm'], ['ptnm'], ['ptnm', 'pt2n1amx'], ['ptnm'], ['ptnm'], ['ptnm', 'pt2n1mx', 'ptnm', 'pt2n1mxrecieved'], ['ptnm', 'pt1an1mx', 'ptnm', 'pt1an1mx'], ['ptnm'], ['pt1n0mx1', 'pt1nomx'], ['pt3nomx'], ['ptnm'], ['ptnm', 'pt2n1amxsections'], ['ptnm'], ['ptnm', 'ptnm'], ['ptnm', 'pt2nxmx'], ['pt1cn1amx'], ['pt2n2amx'], ['pt2n0mxspecimen'], ['ptnm', 'pt1anomx'], ['ptnm'], ['ptnm', 'ptnm'], ['ptnm', 'pt2nomx'], ['ptnm', 'pt2n2amx', 'ptnm', 'pt2n2amx'], ['ptnm', 'pt2nomx', 'ptnm', 'pt2nomx'], ['ptnm'], ['ptnm', 'pt2n1amx'], ['ptnm'], ['ptnm'], ['ptnm'], ['ptnm'], ['pt2n0mx', 'pt2n0mxleft'], ['pt3yn2amx'], ['ptnm'], ['ptnm'], ['ptnm'], ['ptnm'], ['pt2nxmx'], ['ptnm'], ['pt1cn0mx'], ['ptnm'], ['ptnm', 'pt2nomx'], ['ptnm'], ['pt2n1mxreceived'], ['ptnm'], ['ptnm'], ['ptnm'], ['ptnm', 'ptnm', 'pt3n0mx'], ['ptnm'], ['ptnm', 'pt2n1mxsections'], ['ptnm'], ['ptnm', 'ptisnomxright'], ['ptnm', 'pt1cnomx'], ['pt1anomx'], ['ptnm', 'pt1cnomx'], ['ptnm'], ['ptnm', 'pt2nomx'], ['ptnm'], ['ptnm', 'pt3n1amx'], ['ptnm', 'pt2nomxright'], ['ptnm', 'pt3n1mx'], ['pt3n1mxreceived'], ['ptnm', 'pt2n3mxca'], ['ptnm', 'pt1cn0mx'], ['ptnm', 'pt2n1amx'], ['ptnm'], ['pt4n0mx'], ['ptnm', 'pt2nomx'], ['ptnm'], ['ptnm', 'ptnm'], ['ptnm', 'pt2n3amx'], ['ptnm', 'pt2nomx'], ['ptnm', 'pt2nomx'], ['ptnm', 'pt2n3mx'], ['ptnm', 'pt2n3mx'], ['pt2nxmxreceived'], ['pt2n0mx'], ['ptnm'], ['pt2n3mx', 'pt2n3mx'], ['pt2n3mx'], ['pt2n3mx'], ['ptnm', 'pt2n3amx'], ['ptnm'], ['ptnm'], ['ptnm'], ['ptnm', 'pt2n1mx'], ['ptnm', 'pt2nomx'], ['ptnm']]\n"
          ]
        }
      ]
    },
    {
      "cell_type": "code",
      "source": [
        "flatList = [element for innerList in lis for element in innerList]\n",
        "print(flatList)"
      ],
      "metadata": {
        "colab": {
          "base_uri": "https://localhost:8080/"
        },
        "id": "Q_2dawAcrfZW",
        "outputId": "a17e6861-3ab0-408d-85f6-f3c5a8ddc601"
      },
      "execution_count": null,
      "outputs": [
        {
          "output_type": "stream",
          "name": "stdout",
          "text": [
            "['pt2n1mx', 'ptnm', 'ptnm', 'pt2n0mx', 'pt2n0mx', 'ptnm', 'pt2n0mx', 'pt2nomx', 'pt4an1amx', 'ptnm', 'pt3n2amx', 'pt3n2amx', 'pt1cnxmx', 'pt1cnxmx', 'ptnm', 'pt2nomx', 'pt2nomx', 'ptnm', 'ptnm', 'pt2nomx', 'ptnm', 'pt3nomx', 'ptnm', 'ptnm', 'pt2n0mx', 'pt2n0mx', 'pt2n1amx', 'ptnm', 'ptnm', 'ptnm', 'pt2n1amx', 'ptnm', 'ptnm', 'ptnm', 'pt2n1mx', 'ptnm', 'pt2n1mx', 'ptnm', 'pt1an1mx', 'ptnm', 'pt1n0mx', 'pt3nomx', 'pt3nomx', 'ptnm', 'ptnm', 'pt2n1amx', 'ptnm', 'ptnm', 'ptnm', 'ptnm', 'pt2nxmx', 'pt1cn1amx', 'pt2n2amx', 'pt2n0mx', 'ptnm', 'pt1anomx', 'ptnm', 'ptnm', 'ptnm', 'pt2nomx', 'ptnm', 'pt2n2amx', 'ptnm', 'pt2nomx', 'ptnm', 'ptnm', 'pt2n1amx', 'ptnm', 'ptnm', 'ptnm', 'ptnm', 'pt2n0mx', 'pt3yn2amx', 'ptnm', 'ptnm', 'ptnm', 'ptnm', 'ptnm', 'pt2nxmx', 'ptnm', 'pt2nomx', 'ptnm', 'pt1cn0mxreceived', 'ptnm', 'ptnm', 'pt2nomxseparately', 'ptnm', 'ptnm', 'ptnm', 'ptnm', 'pt3n0mx', 'ptnm', 'ptnm', 'ptnm', 'pt2n1mxreceived', 'ptnm', 'ptnm', 'ptnm', 'ptnm', 'pt2n1mx', 'ptnm', 'pt1m1nomx', 'pt2n1amx', 'ptnm', 'pt3nomx', 'pt3nomx', 'ptnm', 'ptnm', 'ptnm', 'pt2n0mx', 'pt2n0mx', 'pt2n1amx', 'ptnm', 'ptnm', 'ptnm', 'pt2n1amx', 'ptnm', 'ptnm', 'ptnm', 'pt2n1mx', 'ptnm', 'pt2n1mxrecieved', 'ptnm', 'pt1an1mx', 'ptnm', 'pt1an1mx', 'ptnm', 'pt1n0mx1', 'pt1nomx', 'pt3nomx', 'ptnm', 'ptnm', 'pt2n1amxsections', 'ptnm', 'ptnm', 'ptnm', 'ptnm', 'pt2nxmx', 'pt1cn1amx', 'pt2n2amx', 'pt2n0mxspecimen', 'ptnm', 'pt1anomx', 'ptnm', 'ptnm', 'ptnm', 'ptnm', 'pt2nomx', 'ptnm', 'pt2n2amx', 'ptnm', 'pt2n2amx', 'ptnm', 'pt2nomx', 'ptnm', 'pt2nomx', 'ptnm', 'ptnm', 'pt2n1amx', 'ptnm', 'ptnm', 'ptnm', 'ptnm', 'pt2n0mx', 'pt2n0mxleft', 'pt3yn2amx', 'ptnm', 'ptnm', 'ptnm', 'ptnm', 'pt2nxmx', 'ptnm', 'pt1cn0mx', 'ptnm', 'ptnm', 'pt2nomx', 'ptnm', 'pt2n1mxreceived', 'ptnm', 'ptnm', 'ptnm', 'ptnm', 'ptnm', 'pt3n0mx', 'ptnm', 'ptnm', 'pt2n1mxsections', 'ptnm', 'ptnm', 'ptisnomxright', 'ptnm', 'pt1cnomx', 'pt1anomx', 'ptnm', 'pt1cnomx', 'ptnm', 'ptnm', 'pt2nomx', 'ptnm', 'ptnm', 'pt3n1amx', 'ptnm', 'pt2nomxright', 'ptnm', 'pt3n1mx', 'pt3n1mxreceived', 'ptnm', 'pt2n3mxca', 'ptnm', 'pt1cn0mx', 'ptnm', 'pt2n1amx', 'ptnm', 'pt4n0mx', 'ptnm', 'pt2nomx', 'ptnm', 'ptnm', 'ptnm', 'ptnm', 'pt2n3amx', 'ptnm', 'pt2nomx', 'ptnm', 'pt2nomx', 'ptnm', 'pt2n3mx', 'ptnm', 'pt2n3mx', 'pt2nxmxreceived', 'pt2n0mx', 'ptnm', 'pt2n3mx', 'pt2n3mx', 'pt2n3mx', 'pt2n3mx', 'ptnm', 'pt2n3amx', 'ptnm', 'ptnm', 'ptnm', 'ptnm', 'pt2n1mx', 'ptnm', 'pt2nomx', 'ptnm']\n"
          ]
        }
      ]
    },
    {
      "cell_type": "code",
      "source": [
        "flatList.remove(\"ptnm\")\n",
        "print(flatList)"
      ],
      "metadata": {
        "colab": {
          "base_uri": "https://localhost:8080/"
        },
        "id": "Lo6FsopUrijD",
        "outputId": "83711e25-880c-4bb4-f3bd-007b1478ecbe"
      },
      "execution_count": null,
      "outputs": [
        {
          "output_type": "stream",
          "name": "stdout",
          "text": [
            "['pt2n1mx', 'ptnm', 'pt2n0mx', 'pt2n0mx', 'ptnm', 'pt2n0mx', 'pt2nomx', 'pt4an1amx', 'ptnm', 'pt3n2amx', 'pt3n2amx', 'pt1cnxmx', 'pt1cnxmx', 'ptnm', 'pt2nomx', 'pt2nomx', 'ptnm', 'ptnm', 'pt2nomx', 'ptnm', 'pt3nomx', 'ptnm', 'ptnm', 'pt2n0mx', 'pt2n0mx', 'pt2n1amx', 'ptnm', 'ptnm', 'ptnm', 'pt2n1amx', 'ptnm', 'ptnm', 'ptnm', 'pt2n1mx', 'ptnm', 'pt2n1mx', 'ptnm', 'pt1an1mx', 'ptnm', 'pt1n0mx', 'pt3nomx', 'pt3nomx', 'ptnm', 'ptnm', 'pt2n1amx', 'ptnm', 'ptnm', 'ptnm', 'ptnm', 'pt2nxmx', 'pt1cn1amx', 'pt2n2amx', 'pt2n0mx', 'ptnm', 'pt1anomx', 'ptnm', 'ptnm', 'ptnm', 'pt2nomx', 'ptnm', 'pt2n2amx', 'ptnm', 'pt2nomx', 'ptnm', 'ptnm', 'pt2n1amx', 'ptnm', 'ptnm', 'ptnm', 'ptnm', 'pt2n0mx', 'pt3yn2amx', 'ptnm', 'ptnm', 'ptnm', 'ptnm', 'ptnm', 'pt2nxmx', 'ptnm', 'pt2nomx', 'ptnm', 'pt1cn0mxreceived', 'ptnm', 'ptnm', 'pt2nomxseparately', 'ptnm', 'ptnm', 'ptnm', 'ptnm', 'pt3n0mx', 'ptnm', 'ptnm', 'ptnm', 'pt2n1mxreceived', 'ptnm', 'ptnm', 'ptnm', 'ptnm', 'pt2n1mx', 'ptnm', 'pt1m1nomx', 'pt2n1amx', 'ptnm', 'pt3nomx', 'pt3nomx', 'ptnm', 'ptnm', 'ptnm', 'pt2n0mx', 'pt2n0mx', 'pt2n1amx', 'ptnm', 'ptnm', 'ptnm', 'pt2n1amx', 'ptnm', 'ptnm', 'ptnm', 'pt2n1mx', 'ptnm', 'pt2n1mxrecieved', 'ptnm', 'pt1an1mx', 'ptnm', 'pt1an1mx', 'ptnm', 'pt1n0mx1', 'pt1nomx', 'pt3nomx', 'ptnm', 'ptnm', 'pt2n1amxsections', 'ptnm', 'ptnm', 'ptnm', 'ptnm', 'pt2nxmx', 'pt1cn1amx', 'pt2n2amx', 'pt2n0mxspecimen', 'ptnm', 'pt1anomx', 'ptnm', 'ptnm', 'ptnm', 'ptnm', 'pt2nomx', 'ptnm', 'pt2n2amx', 'ptnm', 'pt2n2amx', 'ptnm', 'pt2nomx', 'ptnm', 'pt2nomx', 'ptnm', 'ptnm', 'pt2n1amx', 'ptnm', 'ptnm', 'ptnm', 'ptnm', 'pt2n0mx', 'pt2n0mxleft', 'pt3yn2amx', 'ptnm', 'ptnm', 'ptnm', 'ptnm', 'pt2nxmx', 'ptnm', 'pt1cn0mx', 'ptnm', 'ptnm', 'pt2nomx', 'ptnm', 'pt2n1mxreceived', 'ptnm', 'ptnm', 'ptnm', 'ptnm', 'ptnm', 'pt3n0mx', 'ptnm', 'ptnm', 'pt2n1mxsections', 'ptnm', 'ptnm', 'ptisnomxright', 'ptnm', 'pt1cnomx', 'pt1anomx', 'ptnm', 'pt1cnomx', 'ptnm', 'ptnm', 'pt2nomx', 'ptnm', 'ptnm', 'pt3n1amx', 'ptnm', 'pt2nomxright', 'ptnm', 'pt3n1mx', 'pt3n1mxreceived', 'ptnm', 'pt2n3mxca', 'ptnm', 'pt1cn0mx', 'ptnm', 'pt2n1amx', 'ptnm', 'pt4n0mx', 'ptnm', 'pt2nomx', 'ptnm', 'ptnm', 'ptnm', 'ptnm', 'pt2n3amx', 'ptnm', 'pt2nomx', 'ptnm', 'pt2nomx', 'ptnm', 'pt2n3mx', 'ptnm', 'pt2n3mx', 'pt2nxmxreceived', 'pt2n0mx', 'ptnm', 'pt2n3mx', 'pt2n3mx', 'pt2n3mx', 'pt2n3mx', 'ptnm', 'pt2n3amx', 'ptnm', 'ptnm', 'ptnm', 'ptnm', 'pt2n1mx', 'ptnm', 'pt2nomx', 'ptnm']\n"
          ]
        }
      ]
    },
    {
      "cell_type": "code",
      "source": [
        "for i in flatList:\n",
        "  if(i==\"ptnm\"):\n",
        "    flatList.remove(i);\n",
        "print(flatList)"
      ],
      "metadata": {
        "colab": {
          "base_uri": "https://localhost:8080/"
        },
        "id": "cwoqZIT3rnJ5",
        "outputId": "1dcb98ce-b343-4fe5-8ad7-47410a89afce"
      },
      "execution_count": null,
      "outputs": [
        {
          "output_type": "stream",
          "name": "stdout",
          "text": [
            "['pt2n1mx', 'pt2n0mx', 'pt2n0mx', 'pt2n0mx', 'pt2nomx', 'pt4an1amx', 'pt3n2amx', 'pt3n2amx', 'pt1cnxmx', 'pt1cnxmx', 'pt2nomx', 'pt2nomx', 'pt2nomx', 'pt3nomx', 'pt2n0mx', 'pt2n0mx', 'pt2n1amx', 'pt2n1amx', 'pt2n1mx', 'pt2n1mx', 'pt1an1mx', 'pt1n0mx', 'pt3nomx', 'pt3nomx', 'pt2n1amx', 'pt2nxmx', 'pt1cn1amx', 'pt2n2amx', 'pt2n0mx', 'pt1anomx', 'pt2nomx', 'pt2n2amx', 'pt2nomx', 'pt2n1amx', 'pt2n0mx', 'pt3yn2amx', 'pt2nxmx', 'pt2nomx', 'pt1cn0mxreceived', 'pt2nomxseparately', 'pt3n0mx', 'pt2n1mxreceived', 'pt2n1mx', 'pt1m1nomx', 'pt2n1amx', 'pt3nomx', 'pt3nomx', 'pt2n0mx', 'pt2n0mx', 'pt2n1amx', 'pt2n1amx', 'pt2n1mx', 'pt2n1mxrecieved', 'pt1an1mx', 'pt1an1mx', 'pt1n0mx1', 'pt1nomx', 'pt3nomx', 'pt2n1amxsections', 'pt2nxmx', 'pt1cn1amx', 'pt2n2amx', 'pt2n0mxspecimen', 'pt1anomx', 'pt2nomx', 'pt2n2amx', 'pt2n2amx', 'pt2nomx', 'pt2nomx', 'pt2n1amx', 'pt2n0mx', 'pt2n0mxleft', 'pt3yn2amx', 'ptnm', 'pt2nxmx', 'ptnm', 'pt1cn0mx', 'ptnm', 'ptnm', 'pt2nomx', 'ptnm', 'pt2n1mxreceived', 'ptnm', 'ptnm', 'ptnm', 'ptnm', 'ptnm', 'pt3n0mx', 'ptnm', 'ptnm', 'pt2n1mxsections', 'ptnm', 'ptnm', 'ptisnomxright', 'ptnm', 'pt1cnomx', 'pt1anomx', 'ptnm', 'pt1cnomx', 'ptnm', 'ptnm', 'pt2nomx', 'ptnm', 'ptnm', 'pt3n1amx', 'ptnm', 'pt2nomxright', 'ptnm', 'pt3n1mx', 'pt3n1mxreceived', 'ptnm', 'pt2n3mxca', 'ptnm', 'pt1cn0mx', 'ptnm', 'pt2n1amx', 'ptnm', 'pt4n0mx', 'ptnm', 'pt2nomx', 'ptnm', 'ptnm', 'ptnm', 'ptnm', 'pt2n3amx', 'ptnm', 'pt2nomx', 'ptnm', 'pt2nomx', 'ptnm', 'pt2n3mx', 'ptnm', 'pt2n3mx', 'pt2nxmxreceived', 'pt2n0mx', 'ptnm', 'pt2n3mx', 'pt2n3mx', 'pt2n3mx', 'pt2n3mx', 'ptnm', 'pt2n3amx', 'ptnm', 'ptnm', 'ptnm', 'ptnm', 'pt2n1mx', 'ptnm', 'pt2nomx', 'ptnm']\n"
          ]
        }
      ]
    },
    {
      "cell_type": "code",
      "source": [
        "print(len(flatList))"
      ],
      "metadata": {
        "colab": {
          "base_uri": "https://localhost:8080/"
        },
        "id": "xbViYFKNrqP7",
        "outputId": "c7ae8887-46ad-4841-c743-0826826f9967"
      },
      "execution_count": null,
      "outputs": [
        {
          "output_type": "stream",
          "name": "stdout",
          "text": [
            "150\n"
          ]
        }
      ]
    },
    {
      "cell_type": "code",
      "source": [
        "data = flatList[0];\n",
        "newData = data[1:];\n",
        "print(newData)"
      ],
      "metadata": {
        "colab": {
          "base_uri": "https://localhost:8080/"
        },
        "id": "3RTyQbM7rwgI",
        "outputId": "fd29e335-ec94-4fed-d76e-65c050bd8d58"
      },
      "execution_count": null,
      "outputs": [
        {
          "output_type": "stream",
          "name": "stdout",
          "text": [
            "t2n1mx\n"
          ]
        }
      ]
    },
    {
      "cell_type": "code",
      "source": [
        "from array import array\n",
        "data = flatList[0];\n",
        "res = re.split('t|n|m', data)\n",
        "#print(type(res[1]));\n",
        "print(res);\n"
      ],
      "metadata": {
        "colab": {
          "base_uri": "https://localhost:8080/"
        },
        "id": "NwGUvBFwr02S",
        "outputId": "e1e3110a-d7a0-4a47-bd1b-b036d0b25f41"
      },
      "execution_count": null,
      "outputs": [
        {
          "output_type": "stream",
          "name": "stdout",
          "text": [
            "['p', '2', '1', 'x']\n"
          ]
        }
      ]
    },
    {
      "cell_type": "code",
      "source": [
        "i = 0;\n",
        "t_array = []\n",
        "n_array = []\n",
        "m_array = []\n",
        "for i in range(len(flatList)):\n",
        "  x = flatList[i][1:];\n",
        "  res = re.split('t|n|m', x)\n",
        "  t_array.append(res[1]);\n",
        "  n_array.append(res[2]);\n",
        "  m_array.append(res[3]);\n",
        "\n",
        "print(t_array);\n",
        "print(n_array);\n",
        "print(m_array);"
      ],
      "metadata": {
        "colab": {
          "base_uri": "https://localhost:8080/"
        },
        "id": "MrOJSx6vr5rf",
        "outputId": "c96312fb-d670-462b-ae43-99ecc8ee4a42"
      },
      "execution_count": null,
      "outputs": [
        {
          "output_type": "stream",
          "name": "stdout",
          "text": [
            "['2', '2', '2', '2', '2', '4a', '3', '3', '1c', '1c', '2', '2', '2', '3', '2', '2', '2', '2', '2', '2', '1a', '1', '3', '3', '2', '2', '1c', '2', '2', '1a', '2', '2', '2', '2', '2', '3y', '2', '2', '1c', '2', '3', '2', '2', '1', '2', '3', '3', '2', '2', '2', '2', '2', '2', '1a', '1a', '1', '1', '3', '2', '2', '1c', '2', '2', '1a', '2', '2', '2', '2', '2', '2', '2', '2', '3y', '', '2', '', '1c', '', '', '2', '', '2', '', '', '', '', '', '3', '', '', '2', '', '', 'is', '', '1c', '1a', '', '1c', '', '', '2', '', '', '3', '', '2', '', '3', '3', '', '2', '', '1c', '', '2', '', '4', '', '2', '', '', '', '', '2', '', '2', '', '2', '', '2', '', '2', '2', '2', '', '2', '2', '2', '2', '', '2', '', '', '', '', '2', '', '2', '']\n",
            "['1', '0', '0', '0', 'o', '1a', '2a', '2a', 'x', 'x', 'o', 'o', 'o', 'o', '0', '0', '1a', '1a', '1', '1', '1', '0', 'o', 'o', '1a', 'x', '1a', '2a', '0', 'o', 'o', '2a', 'o', '1a', '0', '2a', 'x', 'o', '0', 'o', '0', '1', '1', '1', '1a', 'o', 'o', '0', '0', '1a', '1a', '1', '1', '1', '1', '0', 'o', 'o', '1a', 'x', '1a', '2a', '0', 'o', 'o', '2a', '2a', 'o', 'o', '1a', '0', '0', '2a', '', 'x', '', '0', '', '', 'o', '', '1', '', '', '', '', '', '0', '', '', '1', '', '', 'o', '', 'o', 'o', '', 'o', '', '', 'o', '', '', '1a', '', 'o', '', '1', '1', '', '3', '', '0', '', '1a', '', '0', '', 'o', '', '', '', '', '3a', '', 'o', '', 'o', '', '3', '', '3', 'x', '0', '', '3', '3', '3', '3', '', '3a', '', '', '', '', '1', '', 'o', '']\n",
            "['x', 'x', 'x', 'x', 'x', 'x', 'x', 'x', 'x', 'x', 'x', 'x', 'x', 'x', 'x', 'x', 'x', 'x', 'x', 'x', 'x', 'x', 'x', 'x', 'x', 'x', 'x', 'x', 'x', 'x', 'x', 'x', 'x', 'x', 'x', 'x', 'x', 'x', 'xreceived', 'xsepara', 'x', 'xreceived', 'x', 'o', 'x', 'x', 'x', 'x', 'x', 'x', 'x', 'x', 'xrecieved', 'x', 'x', 'x1', 'x', 'x', 'xsec', 'x', 'x', 'x', 'xspeci', 'x', 'x', 'x', 'x', 'x', 'x', 'x', 'x', 'xlef', 'x', '', 'x', '', 'x', '', '', 'x', '', 'xreceived', '', '', '', '', '', 'x', '', '', 'xsec', '', '', 'xrigh', '', 'x', 'x', '', 'x', '', '', 'x', '', '', 'x', '', 'xrigh', '', 'x', 'xreceived', '', 'xca', '', 'x', '', 'x', '', 'x', '', 'x', '', '', '', '', 'x', '', 'x', '', 'x', '', 'x', '', 'x', 'xreceived', 'x', '', 'x', 'x', 'x', 'x', '', 'x', '', '', '', '', 'x', '', 'x', '']\n"
          ]
        }
      ]
    },
    {
      "cell_type": "code",
      "source": [
        "type(t_array)"
      ],
      "metadata": {
        "colab": {
          "base_uri": "https://localhost:8080/"
        },
        "id": "3fAJCFwEEfFh",
        "outputId": "7961622c-aa4b-4b2f-cc94-0fef9ced5906"
      },
      "execution_count": null,
      "outputs": [
        {
          "output_type": "execute_result",
          "data": {
            "text/plain": [
              "list"
            ]
          },
          "metadata": {},
          "execution_count": 13
        }
      ]
    },
    {
      "cell_type": "code",
      "source": [
        "datas = {'t': t_array, 'n': n_array, 'm': m_array}\n",
        "df = pd.DataFrame(data=datas)\n",
        "display(df)"
      ],
      "metadata": {
        "colab": {
          "base_uri": "https://localhost:8080/",
          "height": 423
        },
        "id": "zhJZVVmjr-qZ",
        "outputId": "5e3e81af-db87-45b7-f196-e868757c27ff"
      },
      "execution_count": null,
      "outputs": [
        {
          "output_type": "display_data",
          "data": {
            "text/plain": [
              "     t  n  m\n",
              "0    2  1  x\n",
              "1    2  0  x\n",
              "2    2  0  x\n",
              "3    2  0  x\n",
              "4    2  o  x\n",
              "..  .. .. ..\n",
              "145         \n",
              "146  2  1  x\n",
              "147         \n",
              "148  2  o  x\n",
              "149         \n",
              "\n",
              "[150 rows x 3 columns]"
            ],
            "text/html": [
              "\n",
              "  <div id=\"df-e3f5d4b0-a960-4141-9cf9-4dad28ef1570\">\n",
              "    <div class=\"colab-df-container\">\n",
              "      <div>\n",
              "<style scoped>\n",
              "    .dataframe tbody tr th:only-of-type {\n",
              "        vertical-align: middle;\n",
              "    }\n",
              "\n",
              "    .dataframe tbody tr th {\n",
              "        vertical-align: top;\n",
              "    }\n",
              "\n",
              "    .dataframe thead th {\n",
              "        text-align: right;\n",
              "    }\n",
              "</style>\n",
              "<table border=\"1\" class=\"dataframe\">\n",
              "  <thead>\n",
              "    <tr style=\"text-align: right;\">\n",
              "      <th></th>\n",
              "      <th>t</th>\n",
              "      <th>n</th>\n",
              "      <th>m</th>\n",
              "    </tr>\n",
              "  </thead>\n",
              "  <tbody>\n",
              "    <tr>\n",
              "      <th>0</th>\n",
              "      <td>2</td>\n",
              "      <td>1</td>\n",
              "      <td>x</td>\n",
              "    </tr>\n",
              "    <tr>\n",
              "      <th>1</th>\n",
              "      <td>2</td>\n",
              "      <td>0</td>\n",
              "      <td>x</td>\n",
              "    </tr>\n",
              "    <tr>\n",
              "      <th>2</th>\n",
              "      <td>2</td>\n",
              "      <td>0</td>\n",
              "      <td>x</td>\n",
              "    </tr>\n",
              "    <tr>\n",
              "      <th>3</th>\n",
              "      <td>2</td>\n",
              "      <td>0</td>\n",
              "      <td>x</td>\n",
              "    </tr>\n",
              "    <tr>\n",
              "      <th>4</th>\n",
              "      <td>2</td>\n",
              "      <td>o</td>\n",
              "      <td>x</td>\n",
              "    </tr>\n",
              "    <tr>\n",
              "      <th>...</th>\n",
              "      <td>...</td>\n",
              "      <td>...</td>\n",
              "      <td>...</td>\n",
              "    </tr>\n",
              "    <tr>\n",
              "      <th>145</th>\n",
              "      <td></td>\n",
              "      <td></td>\n",
              "      <td></td>\n",
              "    </tr>\n",
              "    <tr>\n",
              "      <th>146</th>\n",
              "      <td>2</td>\n",
              "      <td>1</td>\n",
              "      <td>x</td>\n",
              "    </tr>\n",
              "    <tr>\n",
              "      <th>147</th>\n",
              "      <td></td>\n",
              "      <td></td>\n",
              "      <td></td>\n",
              "    </tr>\n",
              "    <tr>\n",
              "      <th>148</th>\n",
              "      <td>2</td>\n",
              "      <td>o</td>\n",
              "      <td>x</td>\n",
              "    </tr>\n",
              "    <tr>\n",
              "      <th>149</th>\n",
              "      <td></td>\n",
              "      <td></td>\n",
              "      <td></td>\n",
              "    </tr>\n",
              "  </tbody>\n",
              "</table>\n",
              "<p>150 rows × 3 columns</p>\n",
              "</div>\n",
              "      <button class=\"colab-df-convert\" onclick=\"convertToInteractive('df-e3f5d4b0-a960-4141-9cf9-4dad28ef1570')\"\n",
              "              title=\"Convert this dataframe to an interactive table.\"\n",
              "              style=\"display:none;\">\n",
              "        \n",
              "  <svg xmlns=\"http://www.w3.org/2000/svg\" height=\"24px\"viewBox=\"0 0 24 24\"\n",
              "       width=\"24px\">\n",
              "    <path d=\"M0 0h24v24H0V0z\" fill=\"none\"/>\n",
              "    <path d=\"M18.56 5.44l.94 2.06.94-2.06 2.06-.94-2.06-.94-.94-2.06-.94 2.06-2.06.94zm-11 1L8.5 8.5l.94-2.06 2.06-.94-2.06-.94L8.5 2.5l-.94 2.06-2.06.94zm10 10l.94 2.06.94-2.06 2.06-.94-2.06-.94-.94-2.06-.94 2.06-2.06.94z\"/><path d=\"M17.41 7.96l-1.37-1.37c-.4-.4-.92-.59-1.43-.59-.52 0-1.04.2-1.43.59L10.3 9.45l-7.72 7.72c-.78.78-.78 2.05 0 2.83L4 21.41c.39.39.9.59 1.41.59.51 0 1.02-.2 1.41-.59l7.78-7.78 2.81-2.81c.8-.78.8-2.07 0-2.86zM5.41 20L4 18.59l7.72-7.72 1.47 1.35L5.41 20z\"/>\n",
              "  </svg>\n",
              "      </button>\n",
              "      \n",
              "  <style>\n",
              "    .colab-df-container {\n",
              "      display:flex;\n",
              "      flex-wrap:wrap;\n",
              "      gap: 12px;\n",
              "    }\n",
              "\n",
              "    .colab-df-convert {\n",
              "      background-color: #E8F0FE;\n",
              "      border: none;\n",
              "      border-radius: 50%;\n",
              "      cursor: pointer;\n",
              "      display: none;\n",
              "      fill: #1967D2;\n",
              "      height: 32px;\n",
              "      padding: 0 0 0 0;\n",
              "      width: 32px;\n",
              "    }\n",
              "\n",
              "    .colab-df-convert:hover {\n",
              "      background-color: #E2EBFA;\n",
              "      box-shadow: 0px 1px 2px rgba(60, 64, 67, 0.3), 0px 1px 3px 1px rgba(60, 64, 67, 0.15);\n",
              "      fill: #174EA6;\n",
              "    }\n",
              "\n",
              "    [theme=dark] .colab-df-convert {\n",
              "      background-color: #3B4455;\n",
              "      fill: #D2E3FC;\n",
              "    }\n",
              "\n",
              "    [theme=dark] .colab-df-convert:hover {\n",
              "      background-color: #434B5C;\n",
              "      box-shadow: 0px 1px 3px 1px rgba(0, 0, 0, 0.15);\n",
              "      filter: drop-shadow(0px 1px 2px rgba(0, 0, 0, 0.3));\n",
              "      fill: #FFFFFF;\n",
              "    }\n",
              "  </style>\n",
              "\n",
              "      <script>\n",
              "        const buttonEl =\n",
              "          document.querySelector('#df-e3f5d4b0-a960-4141-9cf9-4dad28ef1570 button.colab-df-convert');\n",
              "        buttonEl.style.display =\n",
              "          google.colab.kernel.accessAllowed ? 'block' : 'none';\n",
              "\n",
              "        async function convertToInteractive(key) {\n",
              "          const element = document.querySelector('#df-e3f5d4b0-a960-4141-9cf9-4dad28ef1570');\n",
              "          const dataTable =\n",
              "            await google.colab.kernel.invokeFunction('convertToInteractive',\n",
              "                                                     [key], {});\n",
              "          if (!dataTable) return;\n",
              "\n",
              "          const docLinkHtml = 'Like what you see? Visit the ' +\n",
              "            '<a target=\"_blank\" href=https://colab.research.google.com/notebooks/data_table.ipynb>data table notebook</a>'\n",
              "            + ' to learn more about interactive tables.';\n",
              "          element.innerHTML = '';\n",
              "          dataTable['output_type'] = 'display_data';\n",
              "          await google.colab.output.renderOutput(dataTable, element);\n",
              "          const docLink = document.createElement('div');\n",
              "          docLink.innerHTML = docLinkHtml;\n",
              "          element.appendChild(docLink);\n",
              "        }\n",
              "      </script>\n",
              "    </div>\n",
              "  </div>\n",
              "  "
            ]
          },
          "metadata": {}
        }
      ]
    },
    {
      "cell_type": "code",
      "source": [
        "!pip install textattack"
      ],
      "metadata": {
        "colab": {
          "base_uri": "https://localhost:8080/",
          "height": 1000
        },
        "id": "WHkvkxJusgH7",
        "outputId": "a4774faf-6e1c-414a-e8e1-dba79ed880c4"
      },
      "execution_count": null,
      "outputs": [
        {
          "output_type": "stream",
          "name": "stdout",
          "text": [
            "Looking in indexes: https://pypi.org/simple, https://us-python.pkg.dev/colab-wheels/public/simple/\n",
            "Collecting textattack\n",
            "  Downloading textattack-0.3.8-py3-none-any.whl (418 kB)\n",
            "\u001b[2K     \u001b[90m━━━━━━━━━━━━━━━━━━━━━━━━━━━━━━━━━━━━━━━\u001b[0m \u001b[32m418.7/418.7 kB\u001b[0m \u001b[31m9.2 MB/s\u001b[0m eta \u001b[36m0:00:00\u001b[0m\n",
            "\u001b[?25hCollecting bert-score>=0.3.5 (from textattack)\n",
            "  Downloading bert_score-0.3.13-py3-none-any.whl (61 kB)\n",
            "\u001b[2K     \u001b[90m━━━━━━━━━━━━━━━━━━━━━━━━━━━━━━━━━━━━━━━━\u001b[0m \u001b[32m61.1/61.1 kB\u001b[0m \u001b[31m5.8 MB/s\u001b[0m eta \u001b[36m0:00:00\u001b[0m\n",
            "\u001b[?25hRequirement already satisfied: editdistance in /usr/local/lib/python3.10/dist-packages (from textattack) (0.6.2)\n",
            "Collecting flair (from textattack)\n",
            "  Downloading flair-0.12.2-py3-none-any.whl (373 kB)\n",
            "\u001b[2K     \u001b[90m━━━━━━━━━━━━━━━━━━━━━━━━━━━━━━━━━━━━━━\u001b[0m \u001b[32m373.1/373.1 kB\u001b[0m \u001b[31m34.7 MB/s\u001b[0m eta \u001b[36m0:00:00\u001b[0m\n",
            "\u001b[?25hRequirement already satisfied: filelock in /usr/local/lib/python3.10/dist-packages (from textattack) (3.12.0)\n",
            "Collecting language-tool-python (from textattack)\n",
            "  Downloading language_tool_python-2.7.1-py3-none-any.whl (34 kB)\n",
            "Collecting lemminflect (from textattack)\n",
            "  Downloading lemminflect-0.2.3-py3-none-any.whl (769 kB)\n",
            "\u001b[2K     \u001b[90m━━━━━━━━━━━━━━━━━━━━━━━━━━━━━━━━━━━━━━\u001b[0m \u001b[32m769.7/769.7 kB\u001b[0m \u001b[31m53.1 MB/s\u001b[0m eta \u001b[36m0:00:00\u001b[0m\n",
            "\u001b[?25hCollecting lru-dict (from textattack)\n",
            "  Downloading lru_dict-1.1.8-cp310-cp310-manylinux_2_5_x86_64.manylinux1_x86_64.manylinux_2_17_x86_64.manylinux2014_x86_64.whl (28 kB)\n",
            "Collecting datasets==2.4.0 (from textattack)\n",
            "  Downloading datasets-2.4.0-py3-none-any.whl (365 kB)\n",
            "\u001b[2K     \u001b[90m━━━━━━━━━━━━━━━━━━━━━━━━━━━━━━━━━━━━━━\u001b[0m \u001b[32m365.7/365.7 kB\u001b[0m \u001b[31m31.6 MB/s\u001b[0m eta \u001b[36m0:00:00\u001b[0m\n",
            "\u001b[?25hRequirement already satisfied: nltk in /usr/local/lib/python3.10/dist-packages (from textattack) (3.8.1)\n",
            "Requirement already satisfied: numpy>=1.21.0 in /usr/local/lib/python3.10/dist-packages (from textattack) (1.22.4)\n",
            "Requirement already satisfied: pandas>=1.0.1 in /usr/local/lib/python3.10/dist-packages (from textattack) (1.5.3)\n",
            "Requirement already satisfied: scipy>=1.4.1 in /usr/local/lib/python3.10/dist-packages (from textattack) (1.10.1)\n",
            "Requirement already satisfied: torch!=1.8,>=1.7.0 in /usr/local/lib/python3.10/dist-packages (from textattack) (2.0.1+cu118)\n",
            "Collecting transformers>=4.21.0 (from textattack)\n",
            "  Downloading transformers-4.29.2-py3-none-any.whl (7.1 MB)\n",
            "\u001b[2K     \u001b[90m━━━━━━━━━━━━━━━━━━━━━━━━━━━━━━━━━━━━━━━━\u001b[0m \u001b[32m7.1/7.1 MB\u001b[0m \u001b[31m77.7 MB/s\u001b[0m eta \u001b[36m0:00:00\u001b[0m\n",
            "\u001b[?25hCollecting terminaltables (from textattack)\n",
            "  Downloading terminaltables-3.1.10-py2.py3-none-any.whl (15 kB)\n",
            "Requirement already satisfied: tqdm in /usr/local/lib/python3.10/dist-packages (from textattack) (4.65.0)\n",
            "Collecting word2number (from textattack)\n",
            "  Downloading word2number-1.1.zip (9.7 kB)\n",
            "  Preparing metadata (setup.py) ... \u001b[?25l\u001b[?25hdone\n",
            "Collecting num2words (from textattack)\n",
            "  Downloading num2words-0.5.12-py3-none-any.whl (125 kB)\n",
            "\u001b[2K     \u001b[90m━━━━━━━━━━━━━━━━━━━━━━━━━━━━━━━━━━━━━━\u001b[0m \u001b[32m125.2/125.2 kB\u001b[0m \u001b[31m14.4 MB/s\u001b[0m eta \u001b[36m0:00:00\u001b[0m\n",
            "\u001b[?25hRequirement already satisfied: more-itertools in /usr/local/lib/python3.10/dist-packages (from textattack) (9.1.0)\n",
            "Requirement already satisfied: PySocks!=1.5.7,>=1.5.6 in /usr/local/lib/python3.10/dist-packages (from textattack) (1.7.1)\n",
            "Collecting pinyin==0.4.0 (from textattack)\n",
            "  Downloading pinyin-0.4.0.tar.gz (3.6 MB)\n",
            "\u001b[2K     \u001b[90m━━━━━━━━━━━━━━━━━━━━━━━━━━━━━━━━━━━━━━━━\u001b[0m \u001b[32m3.6/3.6 MB\u001b[0m \u001b[31m91.4 MB/s\u001b[0m eta \u001b[36m0:00:00\u001b[0m\n",
            "\u001b[?25h  Preparing metadata (setup.py) ... \u001b[?25l\u001b[?25hdone\n",
            "Requirement already satisfied: jieba in /usr/local/lib/python3.10/dist-packages (from textattack) (0.42.1)\n",
            "Collecting OpenHowNet (from textattack)\n",
            "  Downloading OpenHowNet-2.0-py3-none-any.whl (18 kB)\n",
            "Collecting pycld2 (from textattack)\n",
            "  Downloading pycld2-0.41.tar.gz (41.4 MB)\n",
            "\u001b[2K     \u001b[90m━━━━━━━━━━━━━━━━━━━━━━━━━━━━━━━━━━━━━━━━\u001b[0m \u001b[32m41.4/41.4 MB\u001b[0m \u001b[31m20.9 MB/s\u001b[0m eta \u001b[36m0:00:00\u001b[0m\n",
            "\u001b[?25h  Preparing metadata (setup.py) ... \u001b[?25l\u001b[?25hdone\n",
            "Collecting click<8.1.0 (from textattack)\n",
            "  Downloading click-8.0.4-py3-none-any.whl (97 kB)\n",
            "\u001b[2K     \u001b[90m━━━━━━━━━━━━━━━━━━━━━━━━━━━━━━━━━━━━━━━━\u001b[0m \u001b[32m97.5/97.5 kB\u001b[0m \u001b[31m7.7 MB/s\u001b[0m eta \u001b[36m0:00:00\u001b[0m\n",
            "\u001b[?25hRequirement already satisfied: pyarrow>=6.0.0 in /usr/local/lib/python3.10/dist-packages (from datasets==2.4.0->textattack) (9.0.0)\n",
            "Collecting dill<0.3.6 (from datasets==2.4.0->textattack)\n",
            "  Downloading dill-0.3.5.1-py2.py3-none-any.whl (95 kB)\n",
            "\u001b[2K     \u001b[90m━━━━━━━━━━━━━━━━━━━━━━━━━━━━━━━━━━━━━━━━\u001b[0m \u001b[32m95.8/95.8 kB\u001b[0m \u001b[31m10.3 MB/s\u001b[0m eta \u001b[36m0:00:00\u001b[0m\n",
            "\u001b[?25hRequirement already satisfied: requests>=2.19.0 in /usr/local/lib/python3.10/dist-packages (from datasets==2.4.0->textattack) (2.27.1)\n",
            "Collecting xxhash (from datasets==2.4.0->textattack)\n",
            "  Downloading xxhash-3.2.0-cp310-cp310-manylinux_2_17_x86_64.manylinux2014_x86_64.whl (212 kB)\n",
            "\u001b[2K     \u001b[90m━━━━━━━━━━━━━━━━━━━━━━━━━━━━━━━━━━━━━━\u001b[0m \u001b[32m212.5/212.5 kB\u001b[0m \u001b[31m18.8 MB/s\u001b[0m eta \u001b[36m0:00:00\u001b[0m\n",
            "\u001b[?25hCollecting multiprocess (from datasets==2.4.0->textattack)\n",
            "  Downloading multiprocess-0.70.14-py310-none-any.whl (134 kB)\n",
            "\u001b[2K     \u001b[90m━━━━━━━━━━━━━━━━━━━━━━━━━━━━━━━━━━━━━━\u001b[0m \u001b[32m134.3/134.3 kB\u001b[0m \u001b[31m13.7 MB/s\u001b[0m eta \u001b[36m0:00:00\u001b[0m\n",
            "\u001b[?25hRequirement already satisfied: fsspec[http]>=2021.11.1 in /usr/local/lib/python3.10/dist-packages (from datasets==2.4.0->textattack) (2023.4.0)\n",
            "Collecting aiohttp (from datasets==2.4.0->textattack)\n",
            "  Downloading aiohttp-3.8.4-cp310-cp310-manylinux_2_17_x86_64.manylinux2014_x86_64.whl (1.0 MB)\n",
            "\u001b[2K     \u001b[90m━━━━━━━━━━━━━━━━━━━━━━━━━━━━━━━━━━━━━━━━\u001b[0m \u001b[32m1.0/1.0 MB\u001b[0m \u001b[31m69.7 MB/s\u001b[0m eta \u001b[36m0:00:00\u001b[0m\n",
            "\u001b[?25hCollecting huggingface-hub<1.0.0,>=0.1.0 (from datasets==2.4.0->textattack)\n",
            "  Downloading huggingface_hub-0.14.1-py3-none-any.whl (224 kB)\n",
            "\u001b[2K     \u001b[90m━━━━━━━━━━━━━━━━━━━━━━━━━━━━━━━━━━━━━━\u001b[0m \u001b[32m224.5/224.5 kB\u001b[0m \u001b[31m23.7 MB/s\u001b[0m eta \u001b[36m0:00:00\u001b[0m\n",
            "\u001b[?25hRequirement already satisfied: packaging in /usr/local/lib/python3.10/dist-packages (from datasets==2.4.0->textattack) (23.1)\n",
            "Collecting responses<0.19 (from datasets==2.4.0->textattack)\n",
            "  Downloading responses-0.18.0-py3-none-any.whl (38 kB)\n",
            "Requirement already satisfied: matplotlib in /usr/local/lib/python3.10/dist-packages (from bert-score>=0.3.5->textattack) (3.7.1)\n",
            "Requirement already satisfied: python-dateutil>=2.8.1 in /usr/local/lib/python3.10/dist-packages (from pandas>=1.0.1->textattack) (2.8.2)\n",
            "Requirement already satisfied: pytz>=2020.1 in /usr/local/lib/python3.10/dist-packages (from pandas>=1.0.1->textattack) (2022.7.1)\n",
            "Requirement already satisfied: typing-extensions in /usr/local/lib/python3.10/dist-packages (from torch!=1.8,>=1.7.0->textattack) (4.5.0)\n",
            "Requirement already satisfied: sympy in /usr/local/lib/python3.10/dist-packages (from torch!=1.8,>=1.7.0->textattack) (1.11.1)\n",
            "Requirement already satisfied: networkx in /usr/local/lib/python3.10/dist-packages (from torch!=1.8,>=1.7.0->textattack) (3.1)\n",
            "Requirement already satisfied: jinja2 in /usr/local/lib/python3.10/dist-packages (from torch!=1.8,>=1.7.0->textattack) (3.1.2)\n",
            "Requirement already satisfied: triton==2.0.0 in /usr/local/lib/python3.10/dist-packages (from torch!=1.8,>=1.7.0->textattack) (2.0.0)\n",
            "Requirement already satisfied: cmake in /usr/local/lib/python3.10/dist-packages (from triton==2.0.0->torch!=1.8,>=1.7.0->textattack) (3.25.2)\n",
            "Requirement already satisfied: lit in /usr/local/lib/python3.10/dist-packages (from triton==2.0.0->torch!=1.8,>=1.7.0->textattack) (16.0.5)\n",
            "Requirement already satisfied: pyyaml>=5.1 in /usr/local/lib/python3.10/dist-packages (from transformers>=4.21.0->textattack) (6.0)\n",
            "Requirement already satisfied: regex!=2019.12.17 in /usr/local/lib/python3.10/dist-packages (from transformers>=4.21.0->textattack) (2022.10.31)\n",
            "Collecting tokenizers!=0.11.3,<0.14,>=0.11.1 (from transformers>=4.21.0->textattack)\n",
            "  Downloading tokenizers-0.13.3-cp310-cp310-manylinux_2_17_x86_64.manylinux2014_x86_64.whl (7.8 MB)\n",
            "\u001b[2K     \u001b[90m━━━━━━━━━━━━━━━━━━━━━━━━━━━━━━━━━━━━━━━━\u001b[0m \u001b[32m7.8/7.8 MB\u001b[0m \u001b[31m102.0 MB/s\u001b[0m eta \u001b[36m0:00:00\u001b[0m\n",
            "\u001b[?25hRequirement already satisfied: gensim>=3.8.0 in /usr/local/lib/python3.10/dist-packages (from flair->textattack) (4.3.1)\n",
            "Collecting segtok>=1.5.7 (from flair->textattack)\n",
            "  Downloading segtok-1.5.11-py3-none-any.whl (24 kB)\n",
            "Collecting mpld3==0.3 (from flair->textattack)\n",
            "  Downloading mpld3-0.3.tar.gz (788 kB)\n",
            "\u001b[2K     \u001b[90m━━━━━━━━━━━━━━━━━━━━━━━━━━━━━━━━━━━━━━\u001b[0m \u001b[32m788.5/788.5 kB\u001b[0m \u001b[31m50.3 MB/s\u001b[0m eta \u001b[36m0:00:00\u001b[0m\n",
            "\u001b[?25h  Preparing metadata (setup.py) ... \u001b[?25l\u001b[?25hdone\n",
            "Requirement already satisfied: scikit-learn>=0.21.3 in /usr/local/lib/python3.10/dist-packages (from flair->textattack) (1.2.2)\n",
            "Collecting sqlitedict>=1.6.0 (from flair->textattack)\n",
            "  Downloading sqlitedict-2.1.0.tar.gz (21 kB)\n",
            "  Preparing metadata (setup.py) ... \u001b[?25l\u001b[?25hdone\n",
            "Collecting deprecated>=1.2.4 (from flair->textattack)\n",
            "  Downloading Deprecated-1.2.13-py2.py3-none-any.whl (9.6 kB)\n",
            "Requirement already satisfied: hyperopt>=0.2.7 in /usr/local/lib/python3.10/dist-packages (from flair->textattack) (0.2.7)\n",
            "Collecting boto3 (from flair->textattack)\n",
            "  Downloading boto3-1.26.139-py3-none-any.whl (135 kB)\n",
            "\u001b[2K     \u001b[90m━━━━━━━━━━━━━━━━━━━━━━━━━━━━━━━━━━━━━━\u001b[0m \u001b[32m135.6/135.6 kB\u001b[0m \u001b[31m14.5 MB/s\u001b[0m eta \u001b[36m0:00:00\u001b[0m\n",
            "\u001b[?25hCollecting bpemb>=0.3.2 (from flair->textattack)\n",
            "  Downloading bpemb-0.3.4-py3-none-any.whl (19 kB)\n",
            "Requirement already satisfied: tabulate in /usr/local/lib/python3.10/dist-packages (from flair->textattack) (0.8.10)\n",
            "Collecting langdetect (from flair->textattack)\n",
            "  Downloading langdetect-1.0.9.tar.gz (981 kB)\n",
            "\u001b[2K     \u001b[90m━━━━━━━━━━━━━━━━━━━━━━━━━━━━━━━━━━━━━━\u001b[0m \u001b[32m981.5/981.5 kB\u001b[0m \u001b[31m64.7 MB/s\u001b[0m eta \u001b[36m0:00:00\u001b[0m\n",
            "\u001b[?25h  Preparing metadata (setup.py) ... \u001b[?25l\u001b[?25hdone\n",
            "Requirement already satisfied: lxml in /usr/local/lib/python3.10/dist-packages (from flair->textattack) (4.9.2)\n",
            "Collecting ftfy (from flair->textattack)\n",
            "  Downloading ftfy-6.1.1-py3-none-any.whl (53 kB)\n",
            "\u001b[2K     \u001b[90m━━━━━━━━━━━━━━━━━━━━━━━━━━━━━━━━━━━━━━━━\u001b[0m \u001b[32m53.1/53.1 kB\u001b[0m \u001b[31m6.2 MB/s\u001b[0m eta \u001b[36m0:00:00\u001b[0m\n",
            "\u001b[?25hCollecting janome (from flair->textattack)\n",
            "  Downloading Janome-0.4.2-py2.py3-none-any.whl (19.7 MB)\n",
            "\u001b[2K     \u001b[90m━━━━━━━━━━━━━━━━━━━━━━━━━━━━━━━━━━━━━━━━\u001b[0m \u001b[32m19.7/19.7 MB\u001b[0m \u001b[31m66.0 MB/s\u001b[0m eta \u001b[36m0:00:00\u001b[0m\n",
            "\u001b[?25hCollecting gdown==4.4.0 (from flair->textattack)\n",
            "  Downloading gdown-4.4.0.tar.gz (14 kB)\n",
            "  Installing build dependencies ... \u001b[?25l\u001b[?25hdone\n",
            "  Getting requirements to build wheel ... \u001b[?25l\u001b[?25hdone\n",
            "  Preparing metadata (pyproject.toml) ... \u001b[?25l\u001b[?25hdone\n",
            "Collecting conllu>=4.0 (from flair->textattack)\n",
            "  Downloading conllu-4.5.2-py2.py3-none-any.whl (16 kB)\n",
            "Collecting wikipedia-api (from flair->textattack)\n",
            "  Downloading Wikipedia_API-0.5.8-py3-none-any.whl (13 kB)\n",
            "Collecting pptree (from flair->textattack)\n",
            "  Downloading pptree-3.1.tar.gz (3.0 kB)\n",
            "  Preparing metadata (setup.py) ... \u001b[?25l\u001b[?25hdone\n",
            "Collecting pytorch-revgrad (from flair->textattack)\n",
            "  Downloading pytorch_revgrad-0.2.0-py3-none-any.whl (4.6 kB)\n",
            "Collecting transformer-smaller-training-vocab>=0.2.1 (from flair->textattack)\n",
            "  Downloading transformer_smaller_training_vocab-0.2.4-py3-none-any.whl (13 kB)\n",
            "Requirement already satisfied: six in /usr/local/lib/python3.10/dist-packages (from gdown==4.4.0->flair->textattack) (1.16.0)\n",
            "Requirement already satisfied: beautifulsoup4 in /usr/local/lib/python3.10/dist-packages (from gdown==4.4.0->flair->textattack) (4.11.2)\n",
            "Requirement already satisfied: joblib in /usr/local/lib/python3.10/dist-packages (from nltk->textattack) (1.2.0)\n",
            "Collecting docopt>=0.6.2 (from num2words->textattack)\n",
            "  Downloading docopt-0.6.2.tar.gz (25 kB)\n",
            "  Preparing metadata (setup.py) ... \u001b[?25l\u001b[?25hdone\n",
            "Collecting anytree (from OpenHowNet->textattack)\n",
            "  Downloading anytree-2.8.0-py2.py3-none-any.whl (41 kB)\n",
            "\u001b[2K     \u001b[90m━━━━━━━━━━━━━━━━━━━━━━━━━━━━━━━━━━━━━━━━\u001b[0m \u001b[32m41.7/41.7 kB\u001b[0m \u001b[31m3.8 MB/s\u001b[0m eta \u001b[36m0:00:00\u001b[0m\n",
            "\u001b[?25hRequirement already satisfied: setuptools in /usr/local/lib/python3.10/dist-packages (from OpenHowNet->textattack) (67.7.2)\n",
            "Collecting sentencepiece (from bpemb>=0.3.2->flair->textattack)\n",
            "  Downloading sentencepiece-0.1.99-cp310-cp310-manylinux_2_17_x86_64.manylinux2014_x86_64.whl (1.3 MB)\n",
            "\u001b[2K     \u001b[90m━━━━━━━━━━━━━━━━━━━━━━━━━━━━━━━━━━━━━━━━\u001b[0m \u001b[32m1.3/1.3 MB\u001b[0m \u001b[31m70.1 MB/s\u001b[0m eta \u001b[36m0:00:00\u001b[0m\n",
            "\u001b[?25hRequirement already satisfied: wrapt<2,>=1.10 in /usr/local/lib/python3.10/dist-packages (from deprecated>=1.2.4->flair->textattack) (1.14.1)\n",
            "Requirement already satisfied: attrs>=17.3.0 in /usr/local/lib/python3.10/dist-packages (from aiohttp->datasets==2.4.0->textattack) (23.1.0)\n",
            "Requirement already satisfied: charset-normalizer<4.0,>=2.0 in /usr/local/lib/python3.10/dist-packages (from aiohttp->datasets==2.4.0->textattack) (2.0.12)\n",
            "Collecting multidict<7.0,>=4.5 (from aiohttp->datasets==2.4.0->textattack)\n",
            "  Downloading multidict-6.0.4-cp310-cp310-manylinux_2_17_x86_64.manylinux2014_x86_64.whl (114 kB)\n",
            "\u001b[2K     \u001b[90m━━━━━━━━━━━━━━━━━━━━━━━━━━━━━━━━━━━━━━\u001b[0m \u001b[32m114.5/114.5 kB\u001b[0m \u001b[31m11.8 MB/s\u001b[0m eta \u001b[36m0:00:00\u001b[0m\n",
            "\u001b[?25hCollecting async-timeout<5.0,>=4.0.0a3 (from aiohttp->datasets==2.4.0->textattack)\n",
            "  Downloading async_timeout-4.0.2-py3-none-any.whl (5.8 kB)\n",
            "Collecting yarl<2.0,>=1.0 (from aiohttp->datasets==2.4.0->textattack)\n",
            "  Downloading yarl-1.9.2-cp310-cp310-manylinux_2_17_x86_64.manylinux2014_x86_64.whl (268 kB)\n",
            "\u001b[2K     \u001b[90m━━━━━━━━━━━━━━━━━━━━━━━━━━━━━━━━━━━━━━\u001b[0m \u001b[32m268.8/268.8 kB\u001b[0m \u001b[31m28.0 MB/s\u001b[0m eta \u001b[36m0:00:00\u001b[0m\n",
            "\u001b[?25hCollecting frozenlist>=1.1.1 (from aiohttp->datasets==2.4.0->textattack)\n",
            "  Downloading frozenlist-1.3.3-cp310-cp310-manylinux_2_5_x86_64.manylinux1_x86_64.manylinux_2_17_x86_64.manylinux2014_x86_64.whl (149 kB)\n",
            "\u001b[2K     \u001b[90m━━━━━━━━━━━━━━━━━━━━━━━━━━━━━━━━━━━━━━━\u001b[0m \u001b[32m149.6/149.6 kB\u001b[0m \u001b[31m9.4 MB/s\u001b[0m eta \u001b[36m0:00:00\u001b[0m\n",
            "\u001b[?25hCollecting aiosignal>=1.1.2 (from aiohttp->datasets==2.4.0->textattack)\n",
            "  Downloading aiosignal-1.3.1-py3-none-any.whl (7.6 kB)\n",
            "Requirement already satisfied: smart-open>=1.8.1 in /usr/local/lib/python3.10/dist-packages (from gensim>=3.8.0->flair->textattack) (6.3.0)\n",
            "Requirement already satisfied: future in /usr/local/lib/python3.10/dist-packages (from hyperopt>=0.2.7->flair->textattack) (0.18.3)\n",
            "Requirement already satisfied: cloudpickle in /usr/local/lib/python3.10/dist-packages (from hyperopt>=0.2.7->flair->textattack) (2.2.1)\n",
            "Requirement already satisfied: py4j in /usr/local/lib/python3.10/dist-packages (from hyperopt>=0.2.7->flair->textattack) (0.10.9.7)\n",
            "Requirement already satisfied: contourpy>=1.0.1 in /usr/local/lib/python3.10/dist-packages (from matplotlib->bert-score>=0.3.5->textattack) (1.0.7)\n",
            "Requirement already satisfied: cycler>=0.10 in /usr/local/lib/python3.10/dist-packages (from matplotlib->bert-score>=0.3.5->textattack) (0.11.0)\n",
            "Requirement already satisfied: fonttools>=4.22.0 in /usr/local/lib/python3.10/dist-packages (from matplotlib->bert-score>=0.3.5->textattack) (4.39.3)\n",
            "Requirement already satisfied: kiwisolver>=1.0.1 in /usr/local/lib/python3.10/dist-packages (from matplotlib->bert-score>=0.3.5->textattack) (1.4.4)\n",
            "Requirement already satisfied: pillow>=6.2.0 in /usr/local/lib/python3.10/dist-packages (from matplotlib->bert-score>=0.3.5->textattack) (8.4.0)\n",
            "Requirement already satisfied: pyparsing>=2.3.1 in /usr/local/lib/python3.10/dist-packages (from matplotlib->bert-score>=0.3.5->textattack) (3.0.9)\n",
            "Requirement already satisfied: urllib3<1.27,>=1.21.1 in /usr/local/lib/python3.10/dist-packages (from requests>=2.19.0->datasets==2.4.0->textattack) (1.26.15)\n",
            "Requirement already satisfied: certifi>=2017.4.17 in /usr/local/lib/python3.10/dist-packages (from requests>=2.19.0->datasets==2.4.0->textattack) (2022.12.7)\n",
            "Requirement already satisfied: idna<4,>=2.5 in /usr/local/lib/python3.10/dist-packages (from requests>=2.19.0->datasets==2.4.0->textattack) (3.4)\n",
            "Requirement already satisfied: threadpoolctl>=2.0.0 in /usr/local/lib/python3.10/dist-packages (from scikit-learn>=0.21.3->flair->textattack) (3.1.0)\n",
            "Collecting protobuf<=3.20.2 (from transformers>=4.21.0->textattack)\n",
            "  Downloading protobuf-3.20.2-cp310-cp310-manylinux_2_12_x86_64.manylinux2010_x86_64.whl (1.1 MB)\n",
            "\u001b[2K     \u001b[90m━━━━━━━━━━━━━━━━━━━━━━━━━━━━━━━━━━━━━━━━\u001b[0m \u001b[32m1.1/1.1 MB\u001b[0m \u001b[31m53.5 MB/s\u001b[0m eta \u001b[36m0:00:00\u001b[0m\n",
            "\u001b[?25hCollecting botocore<1.30.0,>=1.29.139 (from boto3->flair->textattack)\n",
            "  Downloading botocore-1.29.139-py3-none-any.whl (10.8 MB)\n",
            "\u001b[2K     \u001b[90m━━━━━━━━━━━━━━━━━━━━━━━━━━━━━━━━━━━━━━━━\u001b[0m \u001b[32m10.8/10.8 MB\u001b[0m \u001b[31m69.1 MB/s\u001b[0m eta \u001b[36m0:00:00\u001b[0m\n",
            "\u001b[?25hCollecting jmespath<2.0.0,>=0.7.1 (from boto3->flair->textattack)\n",
            "  Downloading jmespath-1.0.1-py3-none-any.whl (20 kB)\n",
            "Collecting s3transfer<0.7.0,>=0.6.0 (from boto3->flair->textattack)\n",
            "  Downloading s3transfer-0.6.1-py3-none-any.whl (79 kB)\n",
            "\u001b[2K     \u001b[90m━━━━━━━━━━━━━━━━━━━━━━━━━━━━━━━━━━━━━━━━\u001b[0m \u001b[32m79.8/79.8 kB\u001b[0m \u001b[31m9.9 MB/s\u001b[0m eta \u001b[36m0:00:00\u001b[0m\n",
            "\u001b[?25hRequirement already satisfied: wcwidth>=0.2.5 in /usr/local/lib/python3.10/dist-packages (from ftfy->flair->textattack) (0.2.6)\n",
            "Requirement already satisfied: MarkupSafe>=2.0 in /usr/local/lib/python3.10/dist-packages (from jinja2->torch!=1.8,>=1.7.0->textattack) (2.1.2)\n",
            "INFO: pip is looking at multiple versions of multiprocess to determine which version is compatible with other requirements. This could take a while.\n",
            "Collecting multiprocess (from datasets==2.4.0->textattack)\n",
            "  Downloading multiprocess-0.70.13-py310-none-any.whl (133 kB)\n",
            "\u001b[2K     \u001b[90m━━━━━━━━━━━━━━━━━━━━━━━━━━━━━━━━━━━━━━\u001b[0m \u001b[32m133.1/133.1 kB\u001b[0m \u001b[31m16.6 MB/s\u001b[0m eta \u001b[36m0:00:00\u001b[0m\n",
            "\u001b[?25hRequirement already satisfied: mpmath>=0.19 in /usr/local/lib/python3.10/dist-packages (from sympy->torch!=1.8,>=1.7.0->textattack) (1.3.0)\n",
            "Collecting accelerate>=0.19.0 (from transformers>=4.21.0->textattack)\n",
            "  Downloading accelerate-0.19.0-py3-none-any.whl (219 kB)\n",
            "\u001b[2K     \u001b[90m━━━━━━━━━━━━━━━━━━━━━━━━━━━━━━━━━━━━━━\u001b[0m \u001b[32m219.1/219.1 kB\u001b[0m \u001b[31m22.6 MB/s\u001b[0m eta \u001b[36m0:00:00\u001b[0m\n",
            "\u001b[?25hRequirement already satisfied: soupsieve>1.2 in /usr/local/lib/python3.10/dist-packages (from beautifulsoup4->gdown==4.4.0->flair->textattack) (2.4.1)\n",
            "Requirement already satisfied: psutil in /usr/local/lib/python3.10/dist-packages (from accelerate>=0.19.0->transformers>=4.21.0->textattack) (5.9.5)\n",
            "Building wheels for collected packages: pinyin, gdown, mpld3, pycld2, word2number, docopt, sqlitedict, langdetect, pptree\n",
            "  Building wheel for pinyin (setup.py) ... \u001b[?25l\u001b[?25hdone\n",
            "  Created wheel for pinyin: filename=pinyin-0.4.0-py3-none-any.whl size=3630476 sha256=98e93fd9f0347f767a903e8ee9b7c80a76553e49782a2f70301ad98566c6e424\n",
            "  Stored in directory: /root/.cache/pip/wheels/33/38/af/616fc6f154aa5bae65a1da12b22d79943434269f0468ff9b3f\n",
            "  Building wheel for gdown (pyproject.toml) ... \u001b[?25l\u001b[?25hdone\n",
            "  Created wheel for gdown: filename=gdown-4.4.0-py3-none-any.whl size=14759 sha256=3e8f6347a659531461d769baba9cbf883026c91afc5afc3045f6ab0a190f11fd\n",
            "  Stored in directory: /root/.cache/pip/wheels/03/0b/3f/6ddf67a417a5b400b213b0bb772a50276c199a386b12c06bfc\n",
            "  Building wheel for mpld3 (setup.py) ... \u001b[?25l\u001b[?25hdone\n",
            "  Created wheel for mpld3: filename=mpld3-0.3-py3-none-any.whl size=116685 sha256=20a8147745b0030742075bd67cd245f41a09aaace08361a5d5bb540503f265ec\n",
            "  Stored in directory: /root/.cache/pip/wheels/9c/92/f7/45d9aac5dcfb1c2a1761a272365599cc7ba1050ce211a3fd9a\n",
            "  Building wheel for pycld2 (setup.py) ... \u001b[?25l\u001b[?25hdone\n",
            "  Created wheel for pycld2: filename=pycld2-0.41-cp310-cp310-linux_x86_64.whl size=9915783 sha256=d8adbb43443bd778a114b0261e1dba945b5ef7a2a56f695ddeb388c45429972a\n",
            "  Stored in directory: /root/.cache/pip/wheels/be/81/31/240c89c845e008a93d98542325270007de595bfd356eb0b06c\n",
            "  Building wheel for word2number (setup.py) ... \u001b[?25l\u001b[?25hdone\n",
            "  Created wheel for word2number: filename=word2number-1.1-py3-none-any.whl size=5569 sha256=7d0dc6600e22fbb32517e03ba3587816466d40c49678710c166d755c3e3f35a9\n",
            "  Stored in directory: /root/.cache/pip/wheels/84/ff/26/d3cfbd971e96c5aa3737ecfced81628830d7359b55fbb8ca3b\n",
            "  Building wheel for docopt (setup.py) ... \u001b[?25l\u001b[?25hdone\n",
            "  Created wheel for docopt: filename=docopt-0.6.2-py2.py3-none-any.whl size=13707 sha256=053d25427f35ddab79ed39c20af9656ce6f80935506870ba75226506b96d1440\n",
            "  Stored in directory: /root/.cache/pip/wheels/fc/ab/d4/5da2067ac95b36618c629a5f93f809425700506f72c9732fac\n",
            "  Building wheel for sqlitedict (setup.py) ... \u001b[?25l\u001b[?25hdone\n",
            "  Created wheel for sqlitedict: filename=sqlitedict-2.1.0-py3-none-any.whl size=16863 sha256=86dcac1790d8a542c85e4b6272efa493bf23eb79c694366bbcf9358020c05996\n",
            "  Stored in directory: /root/.cache/pip/wheels/79/d6/e7/304e0e6cb2221022c26d8161f7c23cd4f259a9e41e8bbcfabd\n",
            "  Building wheel for langdetect (setup.py) ... \u001b[?25l\u001b[?25hdone\n",
            "  Created wheel for langdetect: filename=langdetect-1.0.9-py3-none-any.whl size=993224 sha256=c74522aa65aed6297f6f75e98c78a11aca181a7eacf5a3c58acf9f9074d9942b\n",
            "  Stored in directory: /root/.cache/pip/wheels/95/03/7d/59ea870c70ce4e5a370638b5462a7711ab78fba2f655d05106\n",
            "  Building wheel for pptree (setup.py) ... \u001b[?25l\u001b[?25hdone\n",
            "  Created wheel for pptree: filename=pptree-3.1-py3-none-any.whl size=4609 sha256=c094f934324473afd0c998fd541946dd82d8df18d4e05b41f9286490a81cdef0\n",
            "  Stored in directory: /root/.cache/pip/wheels/9f/b6/0e/6f26eb9e6eb53ff2107a7888d72b5a6a597593956113037828\n",
            "Successfully built pinyin gdown mpld3 pycld2 word2number docopt sqlitedict langdetect pptree\n",
            "Installing collected packages: word2number, tokenizers, sqlitedict, sentencepiece, pycld2, pptree, pinyin, mpld3, lru-dict, janome, docopt, xxhash, terminaltables, segtok, protobuf, num2words, multidict, lemminflect, langdetect, jmespath, ftfy, frozenlist, dill, deprecated, conllu, click, async-timeout, anytree, yarl, wikipedia-api, responses, OpenHowNet, multiprocess, language-tool-python, huggingface-hub, botocore, aiosignal, transformers, s3transfer, gdown, bpemb, aiohttp, boto3, datasets, accelerate, transformer-smaller-training-vocab, pytorch-revgrad, flair, bert-score, textattack\n",
            "  Attempting uninstall: protobuf\n",
            "    Found existing installation: protobuf 3.20.3\n",
            "    Uninstalling protobuf-3.20.3:\n",
            "      Successfully uninstalled protobuf-3.20.3\n",
            "  Attempting uninstall: click\n",
            "    Found existing installation: click 8.1.3\n",
            "    Uninstalling click-8.1.3:\n",
            "      Successfully uninstalled click-8.1.3\n",
            "  Attempting uninstall: gdown\n",
            "    Found existing installation: gdown 4.6.6\n",
            "    Uninstalling gdown-4.6.6:\n",
            "      Successfully uninstalled gdown-4.6.6\n",
            "\u001b[31mERROR: pip's dependency resolver does not currently take into account all the packages that are installed. This behaviour is the source of the following dependency conflicts.\n",
            "tensorflow 2.12.0 requires protobuf!=4.21.0,!=4.21.1,!=4.21.2,!=4.21.3,!=4.21.4,!=4.21.5,<5.0.0dev,>=3.20.3, but you have protobuf 3.20.2 which is incompatible.\n",
            "tensorflow-metadata 1.13.1 requires protobuf<5,>=3.20.3, but you have protobuf 3.20.2 which is incompatible.\u001b[0m\u001b[31m\n",
            "\u001b[0mSuccessfully installed OpenHowNet-2.0 accelerate-0.19.0 aiohttp-3.8.4 aiosignal-1.3.1 anytree-2.8.0 async-timeout-4.0.2 bert-score-0.3.13 boto3-1.26.139 botocore-1.29.139 bpemb-0.3.4 click-8.0.4 conllu-4.5.2 datasets-2.4.0 deprecated-1.2.13 dill-0.3.5.1 docopt-0.6.2 flair-0.12.2 frozenlist-1.3.3 ftfy-6.1.1 gdown-4.4.0 huggingface-hub-0.14.1 janome-0.4.2 jmespath-1.0.1 langdetect-1.0.9 language-tool-python-2.7.1 lemminflect-0.2.3 lru-dict-1.1.8 mpld3-0.3 multidict-6.0.4 multiprocess-0.70.13 num2words-0.5.12 pinyin-0.4.0 pptree-3.1 protobuf-3.20.2 pycld2-0.41 pytorch-revgrad-0.2.0 responses-0.18.0 s3transfer-0.6.1 segtok-1.5.11 sentencepiece-0.1.99 sqlitedict-2.1.0 terminaltables-3.1.10 textattack-0.3.8 tokenizers-0.13.3 transformer-smaller-training-vocab-0.2.4 transformers-4.29.2 wikipedia-api-0.5.8 word2number-1.1 xxhash-3.2.0 yarl-1.9.2\n"
          ]
        },
        {
          "output_type": "display_data",
          "data": {
            "application/vnd.colab-display-data+json": {
              "pip_warning": {
                "packages": [
                  "google"
                ]
              }
            }
          },
          "metadata": {}
        }
      ]
    },
    {
      "cell_type": "code",
      "source": [
        "# def listToString(s):\n",
        "\n",
        "#     # initialize an empty string\n",
        "#     str1 = \" \"\n",
        "\n",
        "#     # traverse in the string\n",
        "#     for ele in t_array:\n",
        "#         str1 += ele\n",
        "\n",
        "#     # return string\n",
        "#     return str1\n",
        "\n",
        "\n",
        "# # Driver code\n",
        "# # s = ['Geeks', 'for', 'Geeks']\n",
        "# print(listToString(t_array))\n",
        "# s = ['I', 'want', 4, 'apples', 'and', 18, 'bananas']\n",
        "\n",
        "# using list comprehension\n",
        "listTot_array = ' '.join([str(elem) for elem in t_array])\n",
        "listTon_array = ' '.join([str(elem) for elem in n_array])\n",
        "listTom_array = ' '.join([str(elem) for elem in m_array])\n",
        "print(listTot_array)\n",
        "print(listTon_array)\n",
        "print(listTom_array)"
      ],
      "metadata": {
        "colab": {
          "base_uri": "https://localhost:8080/"
        },
        "id": "3GMCq42Xum0k",
        "outputId": "6a3cefdd-e2ef-49d2-bbdd-75db5dd0cb3b"
      },
      "execution_count": null,
      "outputs": [
        {
          "output_type": "stream",
          "name": "stdout",
          "text": [
            "2 2 2 2 2 4a 3 3 1c 1c 2 2 2 3 2 2 2 2 2 2 1a 1 3 3 2 2 1c 2 2 1a 2 2 2 2 2 3y 2 2 1c 2 3 2 2 1 2 3 3 2 2 2 2 2 2 1a 1a 1 1 3 2 2 1c 2 2 1a 2 2 2 2 2 2 2 2 3y  2  1c   2  2      3   2   is  1c 1a  1c   2   3  2  3 3  2  1c  2  4  2     2  2  2  2  2 2 2  2 2 2 2  2     2  2 \n",
            "1 0 0 0 o 1a 2a 2a x x o o o o 0 0 1a 1a 1 1 1 0 o o 1a x 1a 2a 0 o o 2a o 1a 0 2a x o 0 o 0 1 1 1 1a o o 0 0 1a 1a 1 1 1 1 0 o o 1a x 1a 2a 0 o o 2a 2a o o 1a 0 0 2a  x  0   o  1      0   1   o  o o  o   o   1a  o  1 1  3  0  1a  0  o     3a  o  o  3  3 x 0  3 3 3 3  3a     1  o \n",
            "x x x x x x x x x x x x x x x x x x x x x x x x x x x x x x x x x x x x x x xreceived xsepara x xreceived x o x x x x x x x x xrecieved x x x1 x x xsec x x x xspeci x x x x x x x x xlef x  x  x   x  xreceived      x   xsec   xrigh  x x  x   x   x  xrigh  x xreceived  xca  x  x  x  x     x  x  x  x  x xreceived x  x x x x  x     x  x \n"
          ]
        }
      ]
    },
    {
      "cell_type": "code",
      "source": [
        "from textattack.augmentation import EasyDataAugmenter\n"
      ],
      "metadata": {
        "colab": {
          "base_uri": "https://localhost:8080/"
        },
        "id": "I72agqWuw11Z",
        "outputId": "1fa823d2-04f4-48ff-ea9a-6f1c9e2135a9"
      },
      "execution_count": null,
      "outputs": [
        {
          "output_type": "stream",
          "name": "stderr",
          "text": [
            "textattack: Updating TextAttack package dependencies.\n",
            "textattack: Downloading NLTK required packages.\n",
            "[nltk_data] Downloading package averaged_perceptron_tagger to\n",
            "[nltk_data]     /root/nltk_data...\n",
            "[nltk_data]   Unzipping taggers/averaged_perceptron_tagger.zip.\n",
            "[nltk_data] Downloading package stopwords to /root/nltk_data...\n",
            "[nltk_data]   Unzipping corpora/stopwords.zip.\n",
            "[nltk_data] Downloading package omw to /root/nltk_data...\n",
            "[nltk_data] Downloading package universal_tagset to /root/nltk_data...\n",
            "[nltk_data]   Unzipping taggers/universal_tagset.zip.\n",
            "[nltk_data] Downloading package wordnet to /root/nltk_data...\n",
            "[nltk_data] Downloading package punkt to /root/nltk_data...\n",
            "[nltk_data]   Unzipping tokenizers/punkt.zip.\n"
          ]
        }
      ]
    },
    {
      "cell_type": "code",
      "source": [
        "eda_aug = EasyDataAugmenter()\n",
        "aug_list_t_array=eda_aug.augment(listTot_array);\n",
        "aug_list_n_array=eda_aug.augment(listTon_array);\n",
        "aug_list_m_array=eda_aug.augment(listTom_array);"
      ],
      "metadata": {
        "colab": {
          "base_uri": "https://localhost:8080/"
        },
        "id": "kqxCwksIxyxA",
        "outputId": "e2a293e6-b3af-46fd-f826-f06d127029d3"
      },
      "execution_count": null,
      "outputs": [
        {
          "output_type": "stream",
          "name": "stderr",
          "text": [
            "[nltk_data] Downloading package omw-1.4 to /root/nltk_data...\n"
          ]
        }
      ]
    },
    {
      "cell_type": "code",
      "source": [
        "print(aug_list_t_array[0])"
      ],
      "metadata": {
        "colab": {
          "base_uri": "https://localhost:8080/"
        },
        "id": "pKXFws_WxMJ-",
        "outputId": "c21d563c-35c6-4d35-c712-dd77d47800fe"
      },
      "execution_count": null,
      "outputs": [
        {
          "output_type": "stream",
          "name": "stdout",
          "text": [
            "2 2 2 2 2 4a 3 3 2 1c 2 2 1a 3 2 2 2 2 2 3 2 1 3 1a 2 2 1c 2 2 1a 2 2 2 2 2 3y 2 2 1c 2 2 2 2 1 2 3 3 2 2 2 2 2 2 1a 2 1 1 3 2 2 1c 2 2 1a 2 2 2 1c 2 1a 2 2 3y  2  1c   2  2      3   2   is  1c 3  1c   2   3  2  3 3  2  1c  2  4  2     2  2  2  2  2 2 2  2 2 2 2  2     2  2 \n"
          ]
        }
      ]
    },
    {
      "cell_type": "code",
      "source": [
        "print(aug_list_t_array)\n",
        "print(aug_list_n_array)\n",
        "print(aug_list_m_array)"
      ],
      "metadata": {
        "colab": {
          "base_uri": "https://localhost:8080/"
        },
        "id": "_a86paFD_6Zn",
        "outputId": "c54d2cc7-890f-4f32-f398-f448614cedfb"
      },
      "execution_count": null,
      "outputs": [
        {
          "output_type": "stream",
          "name": "stdout",
          "text": [
            "['2 2 2 2 2 4a 3 3 2 1c 2 2 1a 3 2 2 2 2 2 3 2 1 3 1a 2 2 1c 2 2 1a 2 2 2 2 2 3y 2 2 1c 2 2 2 2 1 2 3 3 2 2 2 2 2 2 1a 2 1 1 3 2 2 1c 2 2 1a 2 2 2 1c 2 1a 2 2 3y  2  1c   2  2      3   2   is  1c 3  1c   2   3  2  3 3  2  1c  2  4  2     2  2  2  2  2 2 2  2 2 2 2  2     2  2 ', '2 2 2 2 trine 2 4a 3 3 1c 1c 2 2 2 3 2 2 2 2 2 2 1a 1 3 3 2 2 1c II 2 2 1a 2 2 2 2 2 3y 2 2 1c quaternion 2 deuce 3 2 2 1 2 3 3 2 2 2 2 2 2 1a 1a 1 1 3 2 2 1c 2 2 1a 2 2 2 2 2 2 2 2 3y  2  1c   2  2      3   2   is  1c 1a  1c   2   3  2  3 3  2  1c  2  4  unity 2     2  2  2  2  2 2 2  2 2 2 2  2     2  2 ', '2 2 2 2 2 4a 3 1c 1c 2 2 2 3 2 2 2 2 2 1a 1 3 3 2 2 1c 2 2 1a 2 2 2 2 3y 2 1c 2 3 2 2 1 2 3 2 2 2 2 2 2 1a 1a 1 3 2 1c 2 2 1a 2 2 2 2 2 2 2 3y  2  1c   2  2      3   2   is  1c 1a  1c   2   3  2  3 3  2   2  4  2      2  2  2  2 2 2  2 2 2 2  2     2  2 ', '2 2 two 2 2 4a 3 3 1c 1c 2 2 2 triad 2 2 2 2 2 2 1a 1 triplet iii 2 2 1c 2 2 1a deuce 2 2 2 2 3y 2 2 1c II 3 2 2 1 2 3 3 2 2 2 2 2 2 1a 1a single 1 3 2 2 1c 2 2 1a two 2 2 2 2 2 2 2 3y  2  1c   2  2      trio   2   is  1c 1a  1c   2   3  2  3 3  2  1c  2  4  2     2  2  2  2  2 2 deuce  2 2 2 2  2     2  2 ']\n",
            "['1 0 0 0 o 1a o 2a x x o o o o 0 o 1a 1a 1 1 1 0 o o 1a x 1a 2a 0 o o 2a o 1a 0 2a x o 0 o 0 1 1 1 1a 0 o 0 0 1a 1a 1 1 1 1 0 o o 1a x 1a 2a 0 o o 1 2a o o 1a 1a 0 2a  x  0   o  2a      0   1   o  o 2a  o   o   0  o  1 1  3  0  1a  0  o     3a  o  o  3  3 x 0  3 3 3 3  3a     1  o ', '1 0 0 0 o 1a 2a 2a x x o o o o 0 0 1a 1a 1 1 1 0 o o 1a x 1a 2a 0 o o 2a o 1a 0 2a x o 0 o 0 O 1 1 1 1a o o 0 cypher 0 1a 1a 1 1 1 1 0 o o 1a oxygen x 1a 2a 0 o o 2a 2a o o 1a 0 0 2a  x  0   o  1      0   1   o  o o  nought o   o   1a  o  1 1  3  0  1a  0  o     3a  nought o  o  3  3 x 0  3 3 3 3  3a     1  o ', '1 0 0 nought o 1a 2a 2a x x o o o o 0 0 1a 1a 1 1 1 0 o o 1a x 1a 2a 0 o o 2a o 1a 0 2a x o 0 o 0 1 1 I 1a o o 0 0 1a 1a 1 unity one 1 0 o o 1a Adam 1a 2a 0 o o 2a 2a o o 1a 0 0 2a  x  0   o  1      0   1   o  o o  o   o   1a  o  1 1  triplet  0  1a  0  o     3a  o  o  3  three x 0  iii triad ternary 3  3a     1  o ', '0 0 0 1a 2a 2a x x o o o o 0 1a 1a 1 1 0 o 1a x 1a 2a 0 o o 2a o 1a x o 0 o 0 1 1 1 1a o o 0 0 1a 1a 1 1 1 1 0 o o 1a x 1a 2a 0 o o 2a o o 1a 0 0 2a  x  0   o  1      0   1   o  o o  o   o   1a  o  1 1  3  0  1a  0  o     3a  o  o   3 x 0  3 3 3 3  3a     1  ']\n",
            "['x x x x x x x x x x x x x x x x x x x x x x x x xrigh x x x x x x x x x x x x x xreceived xsepara x xreceived x o x x x x x x x x xrecieved x x x1 x x xsec x x x xspeci x x x x x x x x xlef x  x  x   x  xreceived      x   xsec   x  x x  x   x   x  xrigh  x xreceived  xca  x  x  x  x     x  x  x  x  x xreceived x  x x x x  x     x  x ', 'x x x x x x x x x x x x x x x x x x x x x x x x x x x x x x x x x x x x xreceived xsepara x x x x x x x x x x xrecieved x x x1 x x xsec x x x xspeci x x x x x x xlef x  x  x   x  xreceived      x     xrigh  x x  x   x   x  xrigh  x xreceived  xca  x    x     x  x  x  x  x xreceived  x x x x  x     x  x ', 'x x x x x x x x x X x x x x x x x x x Adam x x x x x x x x x x x x x x x cristal x x x x x xreceived xsepara x xreceived x o x Adam x x x x x x x xrecieved x x X x1 x x xsec x x x xspeci x x x x x x x x xlef x  x  x   x  xreceived      x   xsec   xrigh  x x  x   x   x  xrigh  x xreceived  xca  x  x  x  x     x  x  x  x  x xreceived x  x x x x  x     x  x ', 'x x x x x x x x x x x x X x x x XTC x x x x x x x x x x x x x ex x x x x x x x xreceived xsepara x xreceived x o x x x x x go x x xrecieved x x x1 x x xsec x x x xspeci x x x x x x x x xlef x  tenner  x   x  xreceived      X   xsec   xrigh  x x  x   x   ex  xrigh  x xreceived  xca  x  10  x  x     ten  x  x  x  cristal xreceived x  x x x x  x     x  x ']\n"
          ]
        }
      ]
    },
    {
      "cell_type": "code",
      "source": [
        "print(aug_list_m_array)"
      ],
      "metadata": {
        "colab": {
          "base_uri": "https://localhost:8080/"
        },
        "id": "Z9RaBWowHeXn",
        "outputId": "24635311-00c1-4ea6-acb9-c0805d63824b"
      },
      "execution_count": null,
      "outputs": [
        {
          "output_type": "stream",
          "name": "stdout",
          "text": [
            "['x x x x x x x x x x x x x x x x x x x x x x x x xrigh x x x x x x x x x x x x x xreceived xsepara x xreceived x o x x x x x x x x xrecieved x x x1 x x xsec x x x xspeci x x x x x x x x xlef x  x  x   x  xreceived      x   xsec   x  x x  x   x   x  xrigh  x xreceived  xca  x  x  x  x     x  x  x  x  x xreceived x  x x x x  x     x  x ', 'x x x x x x x x x x x x x x x x x x x x x x x x x x x x x x x x x x x x xreceived xsepara x x x x x x x x x x xrecieved x x x1 x x xsec x x x xspeci x x x x x x xlef x  x  x   x  xreceived      x     xrigh  x x  x   x   x  xrigh  x xreceived  xca  x    x     x  x  x  x  x xreceived  x x x x  x     x  x ', 'x x x x x x x x x X x x x x x x x x x Adam x x x x x x x x x x x x x x x cristal x x x x x xreceived xsepara x xreceived x o x Adam x x x x x x x xrecieved x x X x1 x x xsec x x x xspeci x x x x x x x x xlef x  x  x   x  xreceived      x   xsec   xrigh  x x  x   x   x  xrigh  x xreceived  xca  x  x  x  x     x  x  x  x  x xreceived x  x x x x  x     x  x ', 'x x x x x x x x x x x x X x x x XTC x x x x x x x x x x x x x ex x x x x x x x xreceived xsepara x xreceived x o x x x x x go x x xrecieved x x x1 x x xsec x x x xspeci x x x x x x x x xlef x  tenner  x   x  xreceived      X   xsec   xrigh  x x  x   x   ex  xrigh  x xreceived  xca  x  10  x  x     ten  x  x  x  cristal xreceived x  x x x x  x     x  x ']\n"
          ]
        }
      ]
    },
    {
      "cell_type": "code",
      "source": [
        "s1 = aug_list_t_array[0]+\" \"+aug_list_t_array[1]\n",
        "s2 =aug_list_t_array[2]+\" \"+aug_list_t_array[3]\n",
        "t_final_array=s1 +\" \"+s2\n",
        "print(t_final_array)"
      ],
      "metadata": {
        "colab": {
          "base_uri": "https://localhost:8080/"
        },
        "id": "8WDJ2V5NABMQ",
        "outputId": "f2078141-fd44-4cf2-8dcb-c5df01b36c61"
      },
      "execution_count": null,
      "outputs": [
        {
          "output_type": "stream",
          "name": "stdout",
          "text": [
            "2 2 2 2 2 4a 3 3 2 1c 2 2 1a 3 2 2 2 2 2 3 2 1 3 1a 2 2 1c 2 2 1a 2 2 2 2 2 3y 2 2 1c 2 2 2 2 1 2 3 3 2 2 2 2 2 2 1a 2 1 1 3 2 2 1c 2 2 1a 2 2 2 1c 2 1a 2 2 3y  2  1c   2  2      3   2   is  1c 3  1c   2   3  2  3 3  2  1c  2  4  2     2  2  2  2  2 2 2  2 2 2 2  2     2  2  2 2 2 2 trine 2 4a 3 3 1c 1c 2 2 2 3 2 2 2 2 2 2 1a 1 3 3 2 2 1c II 2 2 1a 2 2 2 2 2 3y 2 2 1c quaternion 2 deuce 3 2 2 1 2 3 3 2 2 2 2 2 2 1a 1a 1 1 3 2 2 1c 2 2 1a 2 2 2 2 2 2 2 2 3y  2  1c   2  2      3   2   is  1c 1a  1c   2   3  2  3 3  2  1c  2  4  unity 2     2  2  2  2  2 2 2  2 2 2 2  2     2  2  2 2 2 2 2 4a 3 1c 1c 2 2 2 3 2 2 2 2 2 1a 1 3 3 2 2 1c 2 2 1a 2 2 2 2 3y 2 1c 2 3 2 2 1 2 3 2 2 2 2 2 2 1a 1a 1 3 2 1c 2 2 1a 2 2 2 2 2 2 2 3y  2  1c   2  2      3   2   is  1c 1a  1c   2   3  2  3 3  2   2  4  2      2  2  2  2 2 2  2 2 2 2  2     2  2  2 2 two 2 2 4a 3 3 1c 1c 2 2 2 triad 2 2 2 2 2 2 1a 1 triplet iii 2 2 1c 2 2 1a deuce 2 2 2 2 3y 2 2 1c II 3 2 2 1 2 3 3 2 2 2 2 2 2 1a 1a single 1 3 2 2 1c 2 2 1a two 2 2 2 2 2 2 2 3y  2  1c   2  2      trio   2   is  1c 1a  1c   2   3  2  3 3  2  1c  2  4  2     2  2  2  2  2 2 deuce  2 2 2 2  2     2  2 \n"
          ]
        }
      ]
    },
    {
      "cell_type": "code",
      "source": [
        "s3 = aug_list_n_array[0]+\" \"+aug_list_n_array[1]\n",
        "s4 =aug_list_n_array[2]+\" \"+aug_list_n_array[3]\n",
        "n_final_array=s3 +\" \"+s4\n",
        "print(n_final_array)"
      ],
      "metadata": {
        "colab": {
          "base_uri": "https://localhost:8080/"
        },
        "id": "EIxxRGwIHX6b",
        "outputId": "2caea924-bc2b-486e-e8db-81df755921fd"
      },
      "execution_count": null,
      "outputs": [
        {
          "output_type": "stream",
          "name": "stdout",
          "text": [
            "1 0 0 0 o 1a o 2a x x o o o o 0 o 1a 1a 1 1 1 0 o o 1a x 1a 2a 0 o o 2a o 1a 0 2a x o 0 o 0 1 1 1 1a 0 o 0 0 1a 1a 1 1 1 1 0 o o 1a x 1a 2a 0 o o 1 2a o o 1a 1a 0 2a  x  0   o  2a      0   1   o  o 2a  o   o   0  o  1 1  3  0  1a  0  o     3a  o  o  3  3 x 0  3 3 3 3  3a     1  o  1 0 0 0 o 1a 2a 2a x x o o o o 0 0 1a 1a 1 1 1 0 o o 1a x 1a 2a 0 o o 2a o 1a 0 2a x o 0 o 0 O 1 1 1 1a o o 0 cypher 0 1a 1a 1 1 1 1 0 o o 1a oxygen x 1a 2a 0 o o 2a 2a o o 1a 0 0 2a  x  0   o  1      0   1   o  o o  nought o   o   1a  o  1 1  3  0  1a  0  o     3a  nought o  o  3  3 x 0  3 3 3 3  3a     1  o  1 0 0 nought o 1a 2a 2a x x o o o o 0 0 1a 1a 1 1 1 0 o o 1a x 1a 2a 0 o o 2a o 1a 0 2a x o 0 o 0 1 1 I 1a o o 0 0 1a 1a 1 unity one 1 0 o o 1a Adam 1a 2a 0 o o 2a 2a o o 1a 0 0 2a  x  0   o  1      0   1   o  o o  o   o   1a  o  1 1  triplet  0  1a  0  o     3a  o  o  3  three x 0  iii triad ternary 3  3a     1  o  0 0 0 1a 2a 2a x x o o o o 0 1a 1a 1 1 0 o 1a x 1a 2a 0 o o 2a o 1a x o 0 o 0 1 1 1 1a o o 0 0 1a 1a 1 1 1 1 0 o o 1a x 1a 2a 0 o o 2a o o 1a 0 0 2a  x  0   o  1      0   1   o  o o  o   o   1a  o  1 1  3  0  1a  0  o     3a  o  o   3 x 0  3 3 3 3  3a     1  \n"
          ]
        }
      ]
    },
    {
      "cell_type": "code",
      "source": [
        "s5 = aug_list_m_array[0]+\" \"+aug_list_m_array[1]\n",
        "s6 =aug_list_m_array[2]+\" \"+aug_list_m_array[3]\n",
        "m_final_array=s5 +\" \"+s6\n",
        "print(m_final_array)"
      ],
      "metadata": {
        "colab": {
          "base_uri": "https://localhost:8080/"
        },
        "id": "AC9yKUTZIcUY",
        "outputId": "fcdf804b-75c5-4d50-e0cc-79bcd37dc217"
      },
      "execution_count": null,
      "outputs": [
        {
          "output_type": "stream",
          "name": "stdout",
          "text": [
            "x x x x x x x x x x x x x x x x x x x x x x x x xrigh x x x x x x x x x x x x x xreceived xsepara x xreceived x o x x x x x x x x xrecieved x x x1 x x xsec x x x xspeci x x x x x x x x xlef x  x  x   x  xreceived      x   xsec   x  x x  x   x   x  xrigh  x xreceived  xca  x  x  x  x     x  x  x  x  x xreceived x  x x x x  x     x  x  x x x x x x x x x x x x x x x x x x x x x x x x x x x x x x x x x x x x xreceived xsepara x x x x x x x x x x xrecieved x x x1 x x xsec x x x xspeci x x x x x x xlef x  x  x   x  xreceived      x     xrigh  x x  x   x   x  xrigh  x xreceived  xca  x    x     x  x  x  x  x xreceived  x x x x  x     x  x  x x x x x x x x x X x x x x x x x x x Adam x x x x x x x x x x x x x x x cristal x x x x x xreceived xsepara x xreceived x o x Adam x x x x x x x xrecieved x x X x1 x x xsec x x x xspeci x x x x x x x x xlef x  x  x   x  xreceived      x   xsec   xrigh  x x  x   x   x  xrigh  x xreceived  xca  x  x  x  x     x  x  x  x  x xreceived x  x x x x  x     x  x  x x x x x x x x x x x x X x x x XTC x x x x x x x x x x x x x ex x x x x x x x xreceived xsepara x xreceived x o x x x x x go x x xrecieved x x x1 x x xsec x x x xspeci x x x x x x x x xlef x  tenner  x   x  xreceived      X   xsec   xrigh  x x  x   x   ex  xrigh  x xreceived  xca  x  10  x  x     ten  x  x  x  cristal xreceived x  x x x x  x     x  x \n"
          ]
        }
      ]
    },
    {
      "cell_type": "code",
      "source": [
        "# Python code to convert string to list\n",
        "\n",
        "\n",
        "def Convert(string):\n",
        "\tli = list(string.split(\" \"))\n",
        "\treturn li\n",
        "\n",
        "\n",
        "# Driver code\n",
        "#str1 = \"Geeks for Geeks\"\n",
        "t_final_list=Convert(t_final_array)\n",
        "print(t_final_list)\n",
        "\n",
        "n_final_list=Convert(n_final_array)\n",
        "print(n_final_list)\n",
        "\n",
        "m_final_list=Convert(m_final_array)\n",
        "print(m_final_list)"
      ],
      "metadata": {
        "colab": {
          "base_uri": "https://localhost:8080/"
        },
        "id": "uPSyIVuS92UJ",
        "outputId": "73497bd4-70aa-45bb-e400-2f28dcf65e2e"
      },
      "execution_count": null,
      "outputs": [
        {
          "output_type": "stream",
          "name": "stdout",
          "text": [
            "['2', '2', '2', '2', '2', '4a', '3', '3', '2', '1c', '2', '2', '1a', '3', '2', '2', '2', '2', '2', '3', '2', '1', '3', '1a', '2', '2', '1c', '2', '2', '1a', '2', '2', '2', '2', '2', '3y', '2', '2', '1c', '2', '2', '2', '2', '1', '2', '3', '3', '2', '2', '2', '2', '2', '2', '1a', '2', '1', '1', '3', '2', '2', '1c', '2', '2', '1a', '2', '2', '2', '1c', '2', '1a', '2', '2', '3y', '', '2', '', '1c', '', '', '2', '', '2', '', '', '', '', '', '3', '', '', '2', '', '', 'is', '', '1c', '3', '', '1c', '', '', '2', '', '', '3', '', '2', '', '3', '3', '', '2', '', '1c', '', '2', '', '4', '', '2', '', '', '', '', '2', '', '2', '', '2', '', '2', '', '2', '2', '2', '', '2', '2', '2', '2', '', '2', '', '', '', '', '2', '', '2', '', '2', '2', '2', '2', 'trine', '2', '4a', '3', '3', '1c', '1c', '2', '2', '2', '3', '2', '2', '2', '2', '2', '2', '1a', '1', '3', '3', '2', '2', '1c', 'II', '2', '2', '1a', '2', '2', '2', '2', '2', '3y', '2', '2', '1c', 'quaternion', '2', 'deuce', '3', '2', '2', '1', '2', '3', '3', '2', '2', '2', '2', '2', '2', '1a', '1a', '1', '1', '3', '2', '2', '1c', '2', '2', '1a', '2', '2', '2', '2', '2', '2', '2', '2', '3y', '', '2', '', '1c', '', '', '2', '', '2', '', '', '', '', '', '3', '', '', '2', '', '', 'is', '', '1c', '1a', '', '1c', '', '', '2', '', '', '3', '', '2', '', '3', '3', '', '2', '', '1c', '', '2', '', '4', '', 'unity', '2', '', '', '', '', '2', '', '2', '', '2', '', '2', '', '2', '2', '2', '', '2', '2', '2', '2', '', '2', '', '', '', '', '2', '', '2', '', '2', '2', '2', '2', '2', '4a', '3', '1c', '1c', '2', '2', '2', '3', '2', '2', '2', '2', '2', '1a', '1', '3', '3', '2', '2', '1c', '2', '2', '1a', '2', '2', '2', '2', '3y', '2', '1c', '2', '3', '2', '2', '1', '2', '3', '2', '2', '2', '2', '2', '2', '1a', '1a', '1', '3', '2', '1c', '2', '2', '1a', '2', '2', '2', '2', '2', '2', '2', '3y', '', '2', '', '1c', '', '', '2', '', '2', '', '', '', '', '', '3', '', '', '2', '', '', 'is', '', '1c', '1a', '', '1c', '', '', '2', '', '', '3', '', '2', '', '3', '3', '', '2', '', '', '2', '', '4', '', '2', '', '', '', '', '', '2', '', '2', '', '2', '', '2', '2', '2', '', '2', '2', '2', '2', '', '2', '', '', '', '', '2', '', '2', '', '2', '2', 'two', '2', '2', '4a', '3', '3', '1c', '1c', '2', '2', '2', 'triad', '2', '2', '2', '2', '2', '2', '1a', '1', 'triplet', 'iii', '2', '2', '1c', '2', '2', '1a', 'deuce', '2', '2', '2', '2', '3y', '2', '2', '1c', 'II', '3', '2', '2', '1', '2', '3', '3', '2', '2', '2', '2', '2', '2', '1a', '1a', 'single', '1', '3', '2', '2', '1c', '2', '2', '1a', 'two', '2', '2', '2', '2', '2', '2', '2', '3y', '', '2', '', '1c', '', '', '2', '', '2', '', '', '', '', '', 'trio', '', '', '2', '', '', 'is', '', '1c', '1a', '', '1c', '', '', '2', '', '', '3', '', '2', '', '3', '3', '', '2', '', '1c', '', '2', '', '4', '', '2', '', '', '', '', '2', '', '2', '', '2', '', '2', '', '2', '2', 'deuce', '', '2', '2', '2', '2', '', '2', '', '', '', '', '2', '', '2', '']\n",
            "['1', '0', '0', '0', 'o', '1a', 'o', '2a', 'x', 'x', 'o', 'o', 'o', 'o', '0', 'o', '1a', '1a', '1', '1', '1', '0', 'o', 'o', '1a', 'x', '1a', '2a', '0', 'o', 'o', '2a', 'o', '1a', '0', '2a', 'x', 'o', '0', 'o', '0', '1', '1', '1', '1a', '0', 'o', '0', '0', '1a', '1a', '1', '1', '1', '1', '0', 'o', 'o', '1a', 'x', '1a', '2a', '0', 'o', 'o', '1', '2a', 'o', 'o', '1a', '1a', '0', '2a', '', 'x', '', '0', '', '', 'o', '', '2a', '', '', '', '', '', '0', '', '', '1', '', '', 'o', '', 'o', '2a', '', 'o', '', '', 'o', '', '', '0', '', 'o', '', '1', '1', '', '3', '', '0', '', '1a', '', '0', '', 'o', '', '', '', '', '3a', '', 'o', '', 'o', '', '3', '', '3', 'x', '0', '', '3', '3', '3', '3', '', '3a', '', '', '', '', '1', '', 'o', '', '1', '0', '0', '0', 'o', '1a', '2a', '2a', 'x', 'x', 'o', 'o', 'o', 'o', '0', '0', '1a', '1a', '1', '1', '1', '0', 'o', 'o', '1a', 'x', '1a', '2a', '0', 'o', 'o', '2a', 'o', '1a', '0', '2a', 'x', 'o', '0', 'o', '0', 'O', '1', '1', '1', '1a', 'o', 'o', '0', 'cypher', '0', '1a', '1a', '1', '1', '1', '1', '0', 'o', 'o', '1a', 'oxygen', 'x', '1a', '2a', '0', 'o', 'o', '2a', '2a', 'o', 'o', '1a', '0', '0', '2a', '', 'x', '', '0', '', '', 'o', '', '1', '', '', '', '', '', '0', '', '', '1', '', '', 'o', '', 'o', 'o', '', 'nought', 'o', '', '', 'o', '', '', '1a', '', 'o', '', '1', '1', '', '3', '', '0', '', '1a', '', '0', '', 'o', '', '', '', '', '3a', '', 'nought', 'o', '', 'o', '', '3', '', '3', 'x', '0', '', '3', '3', '3', '3', '', '3a', '', '', '', '', '1', '', 'o', '', '1', '0', '0', 'nought', 'o', '1a', '2a', '2a', 'x', 'x', 'o', 'o', 'o', 'o', '0', '0', '1a', '1a', '1', '1', '1', '0', 'o', 'o', '1a', 'x', '1a', '2a', '0', 'o', 'o', '2a', 'o', '1a', '0', '2a', 'x', 'o', '0', 'o', '0', '1', '1', 'I', '1a', 'o', 'o', '0', '0', '1a', '1a', '1', 'unity', 'one', '1', '0', 'o', 'o', '1a', 'Adam', '1a', '2a', '0', 'o', 'o', '2a', '2a', 'o', 'o', '1a', '0', '0', '2a', '', 'x', '', '0', '', '', 'o', '', '1', '', '', '', '', '', '0', '', '', '1', '', '', 'o', '', 'o', 'o', '', 'o', '', '', 'o', '', '', '1a', '', 'o', '', '1', '1', '', 'triplet', '', '0', '', '1a', '', '0', '', 'o', '', '', '', '', '3a', '', 'o', '', 'o', '', '3', '', 'three', 'x', '0', '', 'iii', 'triad', 'ternary', '3', '', '3a', '', '', '', '', '1', '', 'o', '', '0', '0', '0', '1a', '2a', '2a', 'x', 'x', 'o', 'o', 'o', 'o', '0', '1a', '1a', '1', '1', '0', 'o', '1a', 'x', '1a', '2a', '0', 'o', 'o', '2a', 'o', '1a', 'x', 'o', '0', 'o', '0', '1', '1', '1', '1a', 'o', 'o', '0', '0', '1a', '1a', '1', '1', '1', '1', '0', 'o', 'o', '1a', 'x', '1a', '2a', '0', 'o', 'o', '2a', 'o', 'o', '1a', '0', '0', '2a', '', 'x', '', '0', '', '', 'o', '', '1', '', '', '', '', '', '0', '', '', '1', '', '', 'o', '', 'o', 'o', '', 'o', '', '', 'o', '', '', '1a', '', 'o', '', '1', '1', '', '3', '', '0', '', '1a', '', '0', '', 'o', '', '', '', '', '3a', '', 'o', '', 'o', '', '', '3', 'x', '0', '', '3', '3', '3', '3', '', '3a', '', '', '', '', '1', '', '']\n",
            "['x', 'x', 'x', 'x', 'x', 'x', 'x', 'x', 'x', 'x', 'x', 'x', 'x', 'x', 'x', 'x', 'x', 'x', 'x', 'x', 'x', 'x', 'x', 'x', 'xrigh', 'x', 'x', 'x', 'x', 'x', 'x', 'x', 'x', 'x', 'x', 'x', 'x', 'x', 'xreceived', 'xsepara', 'x', 'xreceived', 'x', 'o', 'x', 'x', 'x', 'x', 'x', 'x', 'x', 'x', 'xrecieved', 'x', 'x', 'x1', 'x', 'x', 'xsec', 'x', 'x', 'x', 'xspeci', 'x', 'x', 'x', 'x', 'x', 'x', 'x', 'x', 'xlef', 'x', '', 'x', '', 'x', '', '', 'x', '', 'xreceived', '', '', '', '', '', 'x', '', '', 'xsec', '', '', 'x', '', 'x', 'x', '', 'x', '', '', 'x', '', '', 'x', '', 'xrigh', '', 'x', 'xreceived', '', 'xca', '', 'x', '', 'x', '', 'x', '', 'x', '', '', '', '', 'x', '', 'x', '', 'x', '', 'x', '', 'x', 'xreceived', 'x', '', 'x', 'x', 'x', 'x', '', 'x', '', '', '', '', 'x', '', 'x', '', 'x', 'x', 'x', 'x', 'x', 'x', 'x', 'x', 'x', 'x', 'x', 'x', 'x', 'x', 'x', 'x', 'x', 'x', 'x', 'x', 'x', 'x', 'x', 'x', 'x', 'x', 'x', 'x', 'x', 'x', 'x', 'x', 'x', 'x', 'x', 'x', 'xreceived', 'xsepara', 'x', 'x', 'x', 'x', 'x', 'x', 'x', 'x', 'x', 'x', 'xrecieved', 'x', 'x', 'x1', 'x', 'x', 'xsec', 'x', 'x', 'x', 'xspeci', 'x', 'x', 'x', 'x', 'x', 'x', 'xlef', 'x', '', 'x', '', 'x', '', '', 'x', '', 'xreceived', '', '', '', '', '', 'x', '', '', '', '', 'xrigh', '', 'x', 'x', '', 'x', '', '', 'x', '', '', 'x', '', 'xrigh', '', 'x', 'xreceived', '', 'xca', '', 'x', '', '', '', 'x', '', '', '', '', 'x', '', 'x', '', 'x', '', 'x', '', 'x', 'xreceived', '', 'x', 'x', 'x', 'x', '', 'x', '', '', '', '', 'x', '', 'x', '', 'x', 'x', 'x', 'x', 'x', 'x', 'x', 'x', 'x', 'X', 'x', 'x', 'x', 'x', 'x', 'x', 'x', 'x', 'x', 'Adam', 'x', 'x', 'x', 'x', 'x', 'x', 'x', 'x', 'x', 'x', 'x', 'x', 'x', 'x', 'x', 'cristal', 'x', 'x', 'x', 'x', 'x', 'xreceived', 'xsepara', 'x', 'xreceived', 'x', 'o', 'x', 'Adam', 'x', 'x', 'x', 'x', 'x', 'x', 'x', 'xrecieved', 'x', 'x', 'X', 'x1', 'x', 'x', 'xsec', 'x', 'x', 'x', 'xspeci', 'x', 'x', 'x', 'x', 'x', 'x', 'x', 'x', 'xlef', 'x', '', 'x', '', 'x', '', '', 'x', '', 'xreceived', '', '', '', '', '', 'x', '', '', 'xsec', '', '', 'xrigh', '', 'x', 'x', '', 'x', '', '', 'x', '', '', 'x', '', 'xrigh', '', 'x', 'xreceived', '', 'xca', '', 'x', '', 'x', '', 'x', '', 'x', '', '', '', '', 'x', '', 'x', '', 'x', '', 'x', '', 'x', 'xreceived', 'x', '', 'x', 'x', 'x', 'x', '', 'x', '', '', '', '', 'x', '', 'x', '', 'x', 'x', 'x', 'x', 'x', 'x', 'x', 'x', 'x', 'x', 'x', 'x', 'X', 'x', 'x', 'x', 'XTC', 'x', 'x', 'x', 'x', 'x', 'x', 'x', 'x', 'x', 'x', 'x', 'x', 'x', 'ex', 'x', 'x', 'x', 'x', 'x', 'x', 'x', 'xreceived', 'xsepara', 'x', 'xreceived', 'x', 'o', 'x', 'x', 'x', 'x', 'x', 'go', 'x', 'x', 'xrecieved', 'x', 'x', 'x1', 'x', 'x', 'xsec', 'x', 'x', 'x', 'xspeci', 'x', 'x', 'x', 'x', 'x', 'x', 'x', 'x', 'xlef', 'x', '', 'tenner', '', 'x', '', '', 'x', '', 'xreceived', '', '', '', '', '', 'X', '', '', 'xsec', '', '', 'xrigh', '', 'x', 'x', '', 'x', '', '', 'x', '', '', 'ex', '', 'xrigh', '', 'x', 'xreceived', '', 'xca', '', 'x', '', '10', '', 'x', '', 'x', '', '', '', '', 'ten', '', 'x', '', 'x', '', 'x', '', 'cristal', 'xreceived', 'x', '', 'x', 'x', 'x', 'x', '', 'x', '', '', '', '', 'x', '', 'x', '']\n"
          ]
        }
      ]
    },
    {
      "cell_type": "code",
      "source": [
        "datas = {'t': t_final_list, 'n': n_final_list, 'm': m_final_list}\n",
        "df1 = pd.DataFrame(data=datas)\n",
        "display(df1)\n"
      ],
      "metadata": {
        "colab": {
          "base_uri": "https://localhost:8080/",
          "height": 423
        },
        "id": "DJ-noEYTErJf",
        "outputId": "1534fa00-3f8c-4426-8af1-4e3693460e52"
      },
      "execution_count": null,
      "outputs": [
        {
          "output_type": "display_data",
          "data": {
            "text/plain": [
              "     t  n  m\n",
              "0    2  1  x\n",
              "1    2  0  x\n",
              "2    2  0  x\n",
              "3    2  0  x\n",
              "4    2  o  x\n",
              "..  .. .. ..\n",
              "590         \n",
              "591  2     x\n",
              "592     1   \n",
              "593  2     x\n",
              "594         \n",
              "\n",
              "[595 rows x 3 columns]"
            ],
            "text/html": [
              "\n",
              "  <div id=\"df-1f336a90-0015-4c7c-a86d-7f8c82f6ee87\">\n",
              "    <div class=\"colab-df-container\">\n",
              "      <div>\n",
              "<style scoped>\n",
              "    .dataframe tbody tr th:only-of-type {\n",
              "        vertical-align: middle;\n",
              "    }\n",
              "\n",
              "    .dataframe tbody tr th {\n",
              "        vertical-align: top;\n",
              "    }\n",
              "\n",
              "    .dataframe thead th {\n",
              "        text-align: right;\n",
              "    }\n",
              "</style>\n",
              "<table border=\"1\" class=\"dataframe\">\n",
              "  <thead>\n",
              "    <tr style=\"text-align: right;\">\n",
              "      <th></th>\n",
              "      <th>t</th>\n",
              "      <th>n</th>\n",
              "      <th>m</th>\n",
              "    </tr>\n",
              "  </thead>\n",
              "  <tbody>\n",
              "    <tr>\n",
              "      <th>0</th>\n",
              "      <td>2</td>\n",
              "      <td>1</td>\n",
              "      <td>x</td>\n",
              "    </tr>\n",
              "    <tr>\n",
              "      <th>1</th>\n",
              "      <td>2</td>\n",
              "      <td>0</td>\n",
              "      <td>x</td>\n",
              "    </tr>\n",
              "    <tr>\n",
              "      <th>2</th>\n",
              "      <td>2</td>\n",
              "      <td>0</td>\n",
              "      <td>x</td>\n",
              "    </tr>\n",
              "    <tr>\n",
              "      <th>3</th>\n",
              "      <td>2</td>\n",
              "      <td>0</td>\n",
              "      <td>x</td>\n",
              "    </tr>\n",
              "    <tr>\n",
              "      <th>4</th>\n",
              "      <td>2</td>\n",
              "      <td>o</td>\n",
              "      <td>x</td>\n",
              "    </tr>\n",
              "    <tr>\n",
              "      <th>...</th>\n",
              "      <td>...</td>\n",
              "      <td>...</td>\n",
              "      <td>...</td>\n",
              "    </tr>\n",
              "    <tr>\n",
              "      <th>590</th>\n",
              "      <td></td>\n",
              "      <td></td>\n",
              "      <td></td>\n",
              "    </tr>\n",
              "    <tr>\n",
              "      <th>591</th>\n",
              "      <td>2</td>\n",
              "      <td></td>\n",
              "      <td>x</td>\n",
              "    </tr>\n",
              "    <tr>\n",
              "      <th>592</th>\n",
              "      <td></td>\n",
              "      <td>1</td>\n",
              "      <td></td>\n",
              "    </tr>\n",
              "    <tr>\n",
              "      <th>593</th>\n",
              "      <td>2</td>\n",
              "      <td></td>\n",
              "      <td>x</td>\n",
              "    </tr>\n",
              "    <tr>\n",
              "      <th>594</th>\n",
              "      <td></td>\n",
              "      <td></td>\n",
              "      <td></td>\n",
              "    </tr>\n",
              "  </tbody>\n",
              "</table>\n",
              "<p>595 rows × 3 columns</p>\n",
              "</div>\n",
              "      <button class=\"colab-df-convert\" onclick=\"convertToInteractive('df-1f336a90-0015-4c7c-a86d-7f8c82f6ee87')\"\n",
              "              title=\"Convert this dataframe to an interactive table.\"\n",
              "              style=\"display:none;\">\n",
              "        \n",
              "  <svg xmlns=\"http://www.w3.org/2000/svg\" height=\"24px\"viewBox=\"0 0 24 24\"\n",
              "       width=\"24px\">\n",
              "    <path d=\"M0 0h24v24H0V0z\" fill=\"none\"/>\n",
              "    <path d=\"M18.56 5.44l.94 2.06.94-2.06 2.06-.94-2.06-.94-.94-2.06-.94 2.06-2.06.94zm-11 1L8.5 8.5l.94-2.06 2.06-.94-2.06-.94L8.5 2.5l-.94 2.06-2.06.94zm10 10l.94 2.06.94-2.06 2.06-.94-2.06-.94-.94-2.06-.94 2.06-2.06.94z\"/><path d=\"M17.41 7.96l-1.37-1.37c-.4-.4-.92-.59-1.43-.59-.52 0-1.04.2-1.43.59L10.3 9.45l-7.72 7.72c-.78.78-.78 2.05 0 2.83L4 21.41c.39.39.9.59 1.41.59.51 0 1.02-.2 1.41-.59l7.78-7.78 2.81-2.81c.8-.78.8-2.07 0-2.86zM5.41 20L4 18.59l7.72-7.72 1.47 1.35L5.41 20z\"/>\n",
              "  </svg>\n",
              "      </button>\n",
              "      \n",
              "  <style>\n",
              "    .colab-df-container {\n",
              "      display:flex;\n",
              "      flex-wrap:wrap;\n",
              "      gap: 12px;\n",
              "    }\n",
              "\n",
              "    .colab-df-convert {\n",
              "      background-color: #E8F0FE;\n",
              "      border: none;\n",
              "      border-radius: 50%;\n",
              "      cursor: pointer;\n",
              "      display: none;\n",
              "      fill: #1967D2;\n",
              "      height: 32px;\n",
              "      padding: 0 0 0 0;\n",
              "      width: 32px;\n",
              "    }\n",
              "\n",
              "    .colab-df-convert:hover {\n",
              "      background-color: #E2EBFA;\n",
              "      box-shadow: 0px 1px 2px rgba(60, 64, 67, 0.3), 0px 1px 3px 1px rgba(60, 64, 67, 0.15);\n",
              "      fill: #174EA6;\n",
              "    }\n",
              "\n",
              "    [theme=dark] .colab-df-convert {\n",
              "      background-color: #3B4455;\n",
              "      fill: #D2E3FC;\n",
              "    }\n",
              "\n",
              "    [theme=dark] .colab-df-convert:hover {\n",
              "      background-color: #434B5C;\n",
              "      box-shadow: 0px 1px 3px 1px rgba(0, 0, 0, 0.15);\n",
              "      filter: drop-shadow(0px 1px 2px rgba(0, 0, 0, 0.3));\n",
              "      fill: #FFFFFF;\n",
              "    }\n",
              "  </style>\n",
              "\n",
              "      <script>\n",
              "        const buttonEl =\n",
              "          document.querySelector('#df-1f336a90-0015-4c7c-a86d-7f8c82f6ee87 button.colab-df-convert');\n",
              "        buttonEl.style.display =\n",
              "          google.colab.kernel.accessAllowed ? 'block' : 'none';\n",
              "\n",
              "        async function convertToInteractive(key) {\n",
              "          const element = document.querySelector('#df-1f336a90-0015-4c7c-a86d-7f8c82f6ee87');\n",
              "          const dataTable =\n",
              "            await google.colab.kernel.invokeFunction('convertToInteractive',\n",
              "                                                     [key], {});\n",
              "          if (!dataTable) return;\n",
              "\n",
              "          const docLinkHtml = 'Like what you see? Visit the ' +\n",
              "            '<a target=\"_blank\" href=https://colab.research.google.com/notebooks/data_table.ipynb>data table notebook</a>'\n",
              "            + ' to learn more about interactive tables.';\n",
              "          element.innerHTML = '';\n",
              "          dataTable['output_type'] = 'display_data';\n",
              "          await google.colab.output.renderOutput(dataTable, element);\n",
              "          const docLink = document.createElement('div');\n",
              "          docLink.innerHTML = docLinkHtml;\n",
              "          element.appendChild(docLink);\n",
              "        }\n",
              "      </script>\n",
              "    </div>\n",
              "  </div>\n",
              "  "
            ]
          },
          "metadata": {}
        }
      ]
    },
    {
      "cell_type": "markdown",
      "source": [
        "# Data Augumentation Part 2"
      ],
      "metadata": {
        "id": "tsXc38c70JtZ"
      }
    },
    {
      "cell_type": "code",
      "source": [
        "listTot_array2 = ' '.join([str(elem) for elem in t_final_list])\n",
        "listTon_array2 = ' '.join([str(elem) for elem in n_final_list])\n",
        "listTom_array2 = ' '.join([str(elem) for elem in m_final_list])\n",
        "print(listTot_array2)\n",
        "print(listTon_array2)\n",
        "print(listTom_array2)"
      ],
      "metadata": {
        "colab": {
          "base_uri": "https://localhost:8080/"
        },
        "id": "ZIyiAxRF0A9c",
        "outputId": "b07f62fe-e9e0-4147-ee6f-75ec773a04f0"
      },
      "execution_count": null,
      "outputs": [
        {
          "output_type": "stream",
          "name": "stdout",
          "text": [
            "2 2 2 2 2 4a 3 3 2 1c 2 2 1a 3 2 2 2 2 2 3 2 1 3 1a 2 2 1c 2 2 1a 2 2 2 2 2 3y 2 2 1c 2 2 2 2 1 2 3 3 2 2 2 2 2 2 1a 2 1 1 3 2 2 1c 2 2 1a 2 2 2 1c 2 1a 2 2 3y  2  1c   2  2      3   2   is  1c 3  1c   2   3  2  3 3  2  1c  2  4  2     2  2  2  2  2 2 2  2 2 2 2  2     2  2  2 2 2 2 trine 2 4a 3 3 1c 1c 2 2 2 3 2 2 2 2 2 2 1a 1 3 3 2 2 1c II 2 2 1a 2 2 2 2 2 3y 2 2 1c quaternion 2 deuce 3 2 2 1 2 3 3 2 2 2 2 2 2 1a 1a 1 1 3 2 2 1c 2 2 1a 2 2 2 2 2 2 2 2 3y  2  1c   2  2      3   2   is  1c 1a  1c   2   3  2  3 3  2  1c  2  4  unity 2     2  2  2  2  2 2 2  2 2 2 2  2     2  2  2 2 2 2 2 4a 3 1c 1c 2 2 2 3 2 2 2 2 2 1a 1 3 3 2 2 1c 2 2 1a 2 2 2 2 3y 2 1c 2 3 2 2 1 2 3 2 2 2 2 2 2 1a 1a 1 3 2 1c 2 2 1a 2 2 2 2 2 2 2 3y  2  1c   2  2      3   2   is  1c 1a  1c   2   3  2  3 3  2   2  4  2      2  2  2  2 2 2  2 2 2 2  2     2  2  2 2 two 2 2 4a 3 3 1c 1c 2 2 2 triad 2 2 2 2 2 2 1a 1 triplet iii 2 2 1c 2 2 1a deuce 2 2 2 2 3y 2 2 1c II 3 2 2 1 2 3 3 2 2 2 2 2 2 1a 1a single 1 3 2 2 1c 2 2 1a two 2 2 2 2 2 2 2 3y  2  1c   2  2      trio   2   is  1c 1a  1c   2   3  2  3 3  2  1c  2  4  2     2  2  2  2  2 2 deuce  2 2 2 2  2     2  2 \n",
            "1 0 0 0 o 1a o 2a x x o o o o 0 o 1a 1a 1 1 1 0 o o 1a x 1a 2a 0 o o 2a o 1a 0 2a x o 0 o 0 1 1 1 1a 0 o 0 0 1a 1a 1 1 1 1 0 o o 1a x 1a 2a 0 o o 1 2a o o 1a 1a 0 2a  x  0   o  2a      0   1   o  o 2a  o   o   0  o  1 1  3  0  1a  0  o     3a  o  o  3  3 x 0  3 3 3 3  3a     1  o  1 0 0 0 o 1a 2a 2a x x o o o o 0 0 1a 1a 1 1 1 0 o o 1a x 1a 2a 0 o o 2a o 1a 0 2a x o 0 o 0 O 1 1 1 1a o o 0 cypher 0 1a 1a 1 1 1 1 0 o o 1a oxygen x 1a 2a 0 o o 2a 2a o o 1a 0 0 2a  x  0   o  1      0   1   o  o o  nought o   o   1a  o  1 1  3  0  1a  0  o     3a  nought o  o  3  3 x 0  3 3 3 3  3a     1  o  1 0 0 nought o 1a 2a 2a x x o o o o 0 0 1a 1a 1 1 1 0 o o 1a x 1a 2a 0 o o 2a o 1a 0 2a x o 0 o 0 1 1 I 1a o o 0 0 1a 1a 1 unity one 1 0 o o 1a Adam 1a 2a 0 o o 2a 2a o o 1a 0 0 2a  x  0   o  1      0   1   o  o o  o   o   1a  o  1 1  triplet  0  1a  0  o     3a  o  o  3  three x 0  iii triad ternary 3  3a     1  o  0 0 0 1a 2a 2a x x o o o o 0 1a 1a 1 1 0 o 1a x 1a 2a 0 o o 2a o 1a x o 0 o 0 1 1 1 1a o o 0 0 1a 1a 1 1 1 1 0 o o 1a x 1a 2a 0 o o 2a o o 1a 0 0 2a  x  0   o  1      0   1   o  o o  o   o   1a  o  1 1  3  0  1a  0  o     3a  o  o   3 x 0  3 3 3 3  3a     1  \n",
            "x x x x x x x x x x x x x x x x x x x x x x x x xrigh x x x x x x x x x x x x x xreceived xsepara x xreceived x o x x x x x x x x xrecieved x x x1 x x xsec x x x xspeci x x x x x x x x xlef x  x  x   x  xreceived      x   xsec   x  x x  x   x   x  xrigh  x xreceived  xca  x  x  x  x     x  x  x  x  x xreceived x  x x x x  x     x  x  x x x x x x x x x x x x x x x x x x x x x x x x x x x x x x x x x x x x xreceived xsepara x x x x x x x x x x xrecieved x x x1 x x xsec x x x xspeci x x x x x x xlef x  x  x   x  xreceived      x     xrigh  x x  x   x   x  xrigh  x xreceived  xca  x    x     x  x  x  x  x xreceived  x x x x  x     x  x  x x x x x x x x x X x x x x x x x x x Adam x x x x x x x x x x x x x x x cristal x x x x x xreceived xsepara x xreceived x o x Adam x x x x x x x xrecieved x x X x1 x x xsec x x x xspeci x x x x x x x x xlef x  x  x   x  xreceived      x   xsec   xrigh  x x  x   x   x  xrigh  x xreceived  xca  x  x  x  x     x  x  x  x  x xreceived x  x x x x  x     x  x  x x x x x x x x x x x x X x x x XTC x x x x x x x x x x x x x ex x x x x x x x xreceived xsepara x xreceived x o x x x x x go x x xrecieved x x x1 x x xsec x x x xspeci x x x x x x x x xlef x  tenner  x   x  xreceived      X   xsec   xrigh  x x  x   x   ex  xrigh  x xreceived  xca  x  10  x  x     ten  x  x  x  cristal xreceived x  x x x x  x     x  x \n"
          ]
        }
      ]
    },
    {
      "cell_type": "code",
      "source": [
        "type(listTot_array2)\n"
      ],
      "metadata": {
        "colab": {
          "base_uri": "https://localhost:8080/"
        },
        "id": "RYXxoxcG3g0P",
        "outputId": "1fa14add-c6c0-46c7-8c15-d8f10573664c"
      },
      "execution_count": null,
      "outputs": [
        {
          "output_type": "execute_result",
          "data": {
            "text/plain": [
              "str"
            ]
          },
          "metadata": {},
          "execution_count": 28
        }
      ]
    },
    {
      "cell_type": "code",
      "source": [
        "t_final_array2=t_final_array+\" \"+listTot_array2\n",
        "print(t_final_array2)\n",
        "n_final_array2=n_final_array+\" \"+listTon_array2\n",
        "print(n_final_array2)\n",
        "m_final_array2=m_final_array+\" \"+listTom_array2\n",
        "print(m_final_array2)"
      ],
      "metadata": {
        "colab": {
          "base_uri": "https://localhost:8080/"
        },
        "id": "vC_70k75yr04",
        "outputId": "c723b25c-f32d-4379-91ab-a90322199f03"
      },
      "execution_count": null,
      "outputs": [
        {
          "output_type": "stream",
          "name": "stdout",
          "text": [
            "2 2 2 2 2 4a 3 3 2 1c 2 2 1a 3 2 2 2 2 2 3 2 1 3 1a 2 2 1c 2 2 1a 2 2 2 2 2 3y 2 2 1c 2 2 2 2 1 2 3 3 2 2 2 2 2 2 1a 2 1 1 3 2 2 1c 2 2 1a 2 2 2 1c 2 1a 2 2 3y  2  1c   2  2      3   2   is  1c 3  1c   2   3  2  3 3  2  1c  2  4  2     2  2  2  2  2 2 2  2 2 2 2  2     2  2  2 2 2 2 trine 2 4a 3 3 1c 1c 2 2 2 3 2 2 2 2 2 2 1a 1 3 3 2 2 1c II 2 2 1a 2 2 2 2 2 3y 2 2 1c quaternion 2 deuce 3 2 2 1 2 3 3 2 2 2 2 2 2 1a 1a 1 1 3 2 2 1c 2 2 1a 2 2 2 2 2 2 2 2 3y  2  1c   2  2      3   2   is  1c 1a  1c   2   3  2  3 3  2  1c  2  4  unity 2     2  2  2  2  2 2 2  2 2 2 2  2     2  2  2 2 2 2 2 4a 3 1c 1c 2 2 2 3 2 2 2 2 2 1a 1 3 3 2 2 1c 2 2 1a 2 2 2 2 3y 2 1c 2 3 2 2 1 2 3 2 2 2 2 2 2 1a 1a 1 3 2 1c 2 2 1a 2 2 2 2 2 2 2 3y  2  1c   2  2      3   2   is  1c 1a  1c   2   3  2  3 3  2   2  4  2      2  2  2  2 2 2  2 2 2 2  2     2  2  2 2 two 2 2 4a 3 3 1c 1c 2 2 2 triad 2 2 2 2 2 2 1a 1 triplet iii 2 2 1c 2 2 1a deuce 2 2 2 2 3y 2 2 1c II 3 2 2 1 2 3 3 2 2 2 2 2 2 1a 1a single 1 3 2 2 1c 2 2 1a two 2 2 2 2 2 2 2 3y  2  1c   2  2      trio   2   is  1c 1a  1c   2   3  2  3 3  2  1c  2  4  2     2  2  2  2  2 2 deuce  2 2 2 2  2     2  2  2 2 2 2 2 4a 3 3 2 1c 2 2 1a 3 2 2 2 2 2 3 2 1 3 1a 2 2 1c 2 2 1a 2 2 2 2 2 3y 2 2 1c 2 2 2 2 1 2 3 3 2 2 2 2 2 2 1a 2 1 1 3 2 2 1c 2 2 1a 2 2 2 1c 2 1a 2 2 3y  2  1c   2  2      3   2   is  1c 3  1c   2   3  2  3 3  2  1c  2  4  2     2  2  2  2  2 2 2  2 2 2 2  2     2  2  2 2 2 2 trine 2 4a 3 3 1c 1c 2 2 2 3 2 2 2 2 2 2 1a 1 3 3 2 2 1c II 2 2 1a 2 2 2 2 2 3y 2 2 1c quaternion 2 deuce 3 2 2 1 2 3 3 2 2 2 2 2 2 1a 1a 1 1 3 2 2 1c 2 2 1a 2 2 2 2 2 2 2 2 3y  2  1c   2  2      3   2   is  1c 1a  1c   2   3  2  3 3  2  1c  2  4  unity 2     2  2  2  2  2 2 2  2 2 2 2  2     2  2  2 2 2 2 2 4a 3 1c 1c 2 2 2 3 2 2 2 2 2 1a 1 3 3 2 2 1c 2 2 1a 2 2 2 2 3y 2 1c 2 3 2 2 1 2 3 2 2 2 2 2 2 1a 1a 1 3 2 1c 2 2 1a 2 2 2 2 2 2 2 3y  2  1c   2  2      3   2   is  1c 1a  1c   2   3  2  3 3  2   2  4  2      2  2  2  2 2 2  2 2 2 2  2     2  2  2 2 two 2 2 4a 3 3 1c 1c 2 2 2 triad 2 2 2 2 2 2 1a 1 triplet iii 2 2 1c 2 2 1a deuce 2 2 2 2 3y 2 2 1c II 3 2 2 1 2 3 3 2 2 2 2 2 2 1a 1a single 1 3 2 2 1c 2 2 1a two 2 2 2 2 2 2 2 3y  2  1c   2  2      trio   2   is  1c 1a  1c   2   3  2  3 3  2  1c  2  4  2     2  2  2  2  2 2 deuce  2 2 2 2  2     2  2 \n",
            "1 0 0 0 o 1a o 2a x x o o o o 0 o 1a 1a 1 1 1 0 o o 1a x 1a 2a 0 o o 2a o 1a 0 2a x o 0 o 0 1 1 1 1a 0 o 0 0 1a 1a 1 1 1 1 0 o o 1a x 1a 2a 0 o o 1 2a o o 1a 1a 0 2a  x  0   o  2a      0   1   o  o 2a  o   o   0  o  1 1  3  0  1a  0  o     3a  o  o  3  3 x 0  3 3 3 3  3a     1  o  1 0 0 0 o 1a 2a 2a x x o o o o 0 0 1a 1a 1 1 1 0 o o 1a x 1a 2a 0 o o 2a o 1a 0 2a x o 0 o 0 O 1 1 1 1a o o 0 cypher 0 1a 1a 1 1 1 1 0 o o 1a oxygen x 1a 2a 0 o o 2a 2a o o 1a 0 0 2a  x  0   o  1      0   1   o  o o  nought o   o   1a  o  1 1  3  0  1a  0  o     3a  nought o  o  3  3 x 0  3 3 3 3  3a     1  o  1 0 0 nought o 1a 2a 2a x x o o o o 0 0 1a 1a 1 1 1 0 o o 1a x 1a 2a 0 o o 2a o 1a 0 2a x o 0 o 0 1 1 I 1a o o 0 0 1a 1a 1 unity one 1 0 o o 1a Adam 1a 2a 0 o o 2a 2a o o 1a 0 0 2a  x  0   o  1      0   1   o  o o  o   o   1a  o  1 1  triplet  0  1a  0  o     3a  o  o  3  three x 0  iii triad ternary 3  3a     1  o  0 0 0 1a 2a 2a x x o o o o 0 1a 1a 1 1 0 o 1a x 1a 2a 0 o o 2a o 1a x o 0 o 0 1 1 1 1a o o 0 0 1a 1a 1 1 1 1 0 o o 1a x 1a 2a 0 o o 2a o o 1a 0 0 2a  x  0   o  1      0   1   o  o o  o   o   1a  o  1 1  3  0  1a  0  o     3a  o  o   3 x 0  3 3 3 3  3a     1   1 0 0 0 o 1a o 2a x x o o o o 0 o 1a 1a 1 1 1 0 o o 1a x 1a 2a 0 o o 2a o 1a 0 2a x o 0 o 0 1 1 1 1a 0 o 0 0 1a 1a 1 1 1 1 0 o o 1a x 1a 2a 0 o o 1 2a o o 1a 1a 0 2a  x  0   o  2a      0   1   o  o 2a  o   o   0  o  1 1  3  0  1a  0  o     3a  o  o  3  3 x 0  3 3 3 3  3a     1  o  1 0 0 0 o 1a 2a 2a x x o o o o 0 0 1a 1a 1 1 1 0 o o 1a x 1a 2a 0 o o 2a o 1a 0 2a x o 0 o 0 O 1 1 1 1a o o 0 cypher 0 1a 1a 1 1 1 1 0 o o 1a oxygen x 1a 2a 0 o o 2a 2a o o 1a 0 0 2a  x  0   o  1      0   1   o  o o  nought o   o   1a  o  1 1  3  0  1a  0  o     3a  nought o  o  3  3 x 0  3 3 3 3  3a     1  o  1 0 0 nought o 1a 2a 2a x x o o o o 0 0 1a 1a 1 1 1 0 o o 1a x 1a 2a 0 o o 2a o 1a 0 2a x o 0 o 0 1 1 I 1a o o 0 0 1a 1a 1 unity one 1 0 o o 1a Adam 1a 2a 0 o o 2a 2a o o 1a 0 0 2a  x  0   o  1      0   1   o  o o  o   o   1a  o  1 1  triplet  0  1a  0  o     3a  o  o  3  three x 0  iii triad ternary 3  3a     1  o  0 0 0 1a 2a 2a x x o o o o 0 1a 1a 1 1 0 o 1a x 1a 2a 0 o o 2a o 1a x o 0 o 0 1 1 1 1a o o 0 0 1a 1a 1 1 1 1 0 o o 1a x 1a 2a 0 o o 2a o o 1a 0 0 2a  x  0   o  1      0   1   o  o o  o   o   1a  o  1 1  3  0  1a  0  o     3a  o  o   3 x 0  3 3 3 3  3a     1  \n",
            "x x x x x x x x x x x x x x x x x x x x x x x x xrigh x x x x x x x x x x x x x xreceived xsepara x xreceived x o x x x x x x x x xrecieved x x x1 x x xsec x x x xspeci x x x x x x x x xlef x  x  x   x  xreceived      x   xsec   x  x x  x   x   x  xrigh  x xreceived  xca  x  x  x  x     x  x  x  x  x xreceived x  x x x x  x     x  x  x x x x x x x x x x x x x x x x x x x x x x x x x x x x x x x x x x x x xreceived xsepara x x x x x x x x x x xrecieved x x x1 x x xsec x x x xspeci x x x x x x xlef x  x  x   x  xreceived      x     xrigh  x x  x   x   x  xrigh  x xreceived  xca  x    x     x  x  x  x  x xreceived  x x x x  x     x  x  x x x x x x x x x X x x x x x x x x x Adam x x x x x x x x x x x x x x x cristal x x x x x xreceived xsepara x xreceived x o x Adam x x x x x x x xrecieved x x X x1 x x xsec x x x xspeci x x x x x x x x xlef x  x  x   x  xreceived      x   xsec   xrigh  x x  x   x   x  xrigh  x xreceived  xca  x  x  x  x     x  x  x  x  x xreceived x  x x x x  x     x  x  x x x x x x x x x x x x X x x x XTC x x x x x x x x x x x x x ex x x x x x x x xreceived xsepara x xreceived x o x x x x x go x x xrecieved x x x1 x x xsec x x x xspeci x x x x x x x x xlef x  tenner  x   x  xreceived      X   xsec   xrigh  x x  x   x   ex  xrigh  x xreceived  xca  x  10  x  x     ten  x  x  x  cristal xreceived x  x x x x  x     x  x  x x x x x x x x x x x x x x x x x x x x x x x x xrigh x x x x x x x x x x x x x xreceived xsepara x xreceived x o x x x x x x x x xrecieved x x x1 x x xsec x x x xspeci x x x x x x x x xlef x  x  x   x  xreceived      x   xsec   x  x x  x   x   x  xrigh  x xreceived  xca  x  x  x  x     x  x  x  x  x xreceived x  x x x x  x     x  x  x x x x x x x x x x x x x x x x x x x x x x x x x x x x x x x x x x x x xreceived xsepara x x x x x x x x x x xrecieved x x x1 x x xsec x x x xspeci x x x x x x xlef x  x  x   x  xreceived      x     xrigh  x x  x   x   x  xrigh  x xreceived  xca  x    x     x  x  x  x  x xreceived  x x x x  x     x  x  x x x x x x x x x X x x x x x x x x x Adam x x x x x x x x x x x x x x x cristal x x x x x xreceived xsepara x xreceived x o x Adam x x x x x x x xrecieved x x X x1 x x xsec x x x xspeci x x x x x x x x xlef x  x  x   x  xreceived      x   xsec   xrigh  x x  x   x   x  xrigh  x xreceived  xca  x  x  x  x     x  x  x  x  x xreceived x  x x x x  x     x  x  x x x x x x x x x x x x X x x x XTC x x x x x x x x x x x x x ex x x x x x x x xreceived xsepara x xreceived x o x x x x x go x x xrecieved x x x1 x x xsec x x x xspeci x x x x x x x x xlef x  tenner  x   x  xreceived      X   xsec   xrigh  x x  x   x   ex  xrigh  x xreceived  xca  x  10  x  x     ten  x  x  x  cristal xreceived x  x x x x  x     x  x \n"
          ]
        }
      ]
    },
    {
      "cell_type": "code",
      "source": [
        "def Convert(string):\n",
        "\tli = list(string.split(\" \"))\n",
        "\treturn li\n",
        "\n",
        "\n",
        "# Driver code\n",
        "#str1 = \"Geeks for Geeks\"\n",
        "t_final_list2=Convert(t_final_array2)\n",
        "print(t_final_list2)\n",
        "\n",
        "n_final_list2=Convert(n_final_array2)\n",
        "print(n_final_list2)\n",
        "\n",
        "m_final_list2=Convert(m_final_array2)\n",
        "print(m_final_list2)"
      ],
      "metadata": {
        "colab": {
          "base_uri": "https://localhost:8080/"
        },
        "id": "bMUo04OQzhzl",
        "outputId": "ccfcd7d0-d30f-4596-99f7-8e103f9ce813"
      },
      "execution_count": null,
      "outputs": [
        {
          "output_type": "stream",
          "name": "stdout",
          "text": [
            "['2', '2', '2', '2', '2', '4a', '3', '3', '2', '1c', '2', '2', '1a', '3', '2', '2', '2', '2', '2', '3', '2', '1', '3', '1a', '2', '2', '1c', '2', '2', '1a', '2', '2', '2', '2', '2', '3y', '2', '2', '1c', '2', '2', '2', '2', '1', '2', '3', '3', '2', '2', '2', '2', '2', '2', '1a', '2', '1', '1', '3', '2', '2', '1c', '2', '2', '1a', '2', '2', '2', '1c', '2', '1a', '2', '2', '3y', '', '2', '', '1c', '', '', '2', '', '2', '', '', '', '', '', '3', '', '', '2', '', '', 'is', '', '1c', '3', '', '1c', '', '', '2', '', '', '3', '', '2', '', '3', '3', '', '2', '', '1c', '', '2', '', '4', '', '2', '', '', '', '', '2', '', '2', '', '2', '', '2', '', '2', '2', '2', '', '2', '2', '2', '2', '', '2', '', '', '', '', '2', '', '2', '', '2', '2', '2', '2', 'trine', '2', '4a', '3', '3', '1c', '1c', '2', '2', '2', '3', '2', '2', '2', '2', '2', '2', '1a', '1', '3', '3', '2', '2', '1c', 'II', '2', '2', '1a', '2', '2', '2', '2', '2', '3y', '2', '2', '1c', 'quaternion', '2', 'deuce', '3', '2', '2', '1', '2', '3', '3', '2', '2', '2', '2', '2', '2', '1a', '1a', '1', '1', '3', '2', '2', '1c', '2', '2', '1a', '2', '2', '2', '2', '2', '2', '2', '2', '3y', '', '2', '', '1c', '', '', '2', '', '2', '', '', '', '', '', '3', '', '', '2', '', '', 'is', '', '1c', '1a', '', '1c', '', '', '2', '', '', '3', '', '2', '', '3', '3', '', '2', '', '1c', '', '2', '', '4', '', 'unity', '2', '', '', '', '', '2', '', '2', '', '2', '', '2', '', '2', '2', '2', '', '2', '2', '2', '2', '', '2', '', '', '', '', '2', '', '2', '', '2', '2', '2', '2', '2', '4a', '3', '1c', '1c', '2', '2', '2', '3', '2', '2', '2', '2', '2', '1a', '1', '3', '3', '2', '2', '1c', '2', '2', '1a', '2', '2', '2', '2', '3y', '2', '1c', '2', '3', '2', '2', '1', '2', '3', '2', '2', '2', '2', '2', '2', '1a', '1a', '1', '3', '2', '1c', '2', '2', '1a', '2', '2', '2', '2', '2', '2', '2', '3y', '', '2', '', '1c', '', '', '2', '', '2', '', '', '', '', '', '3', '', '', '2', '', '', 'is', '', '1c', '1a', '', '1c', '', '', '2', '', '', '3', '', '2', '', '3', '3', '', '2', '', '', '2', '', '4', '', '2', '', '', '', '', '', '2', '', '2', '', '2', '', '2', '2', '2', '', '2', '2', '2', '2', '', '2', '', '', '', '', '2', '', '2', '', '2', '2', 'two', '2', '2', '4a', '3', '3', '1c', '1c', '2', '2', '2', 'triad', '2', '2', '2', '2', '2', '2', '1a', '1', 'triplet', 'iii', '2', '2', '1c', '2', '2', '1a', 'deuce', '2', '2', '2', '2', '3y', '2', '2', '1c', 'II', '3', '2', '2', '1', '2', '3', '3', '2', '2', '2', '2', '2', '2', '1a', '1a', 'single', '1', '3', '2', '2', '1c', '2', '2', '1a', 'two', '2', '2', '2', '2', '2', '2', '2', '3y', '', '2', '', '1c', '', '', '2', '', '2', '', '', '', '', '', 'trio', '', '', '2', '', '', 'is', '', '1c', '1a', '', '1c', '', '', '2', '', '', '3', '', '2', '', '3', '3', '', '2', '', '1c', '', '2', '', '4', '', '2', '', '', '', '', '2', '', '2', '', '2', '', '2', '', '2', '2', 'deuce', '', '2', '2', '2', '2', '', '2', '', '', '', '', '2', '', '2', '', '2', '2', '2', '2', '2', '4a', '3', '3', '2', '1c', '2', '2', '1a', '3', '2', '2', '2', '2', '2', '3', '2', '1', '3', '1a', '2', '2', '1c', '2', '2', '1a', '2', '2', '2', '2', '2', '3y', '2', '2', '1c', '2', '2', '2', '2', '1', '2', '3', '3', '2', '2', '2', '2', '2', '2', '1a', '2', '1', '1', '3', '2', '2', '1c', '2', '2', '1a', '2', '2', '2', '1c', '2', '1a', '2', '2', '3y', '', '2', '', '1c', '', '', '2', '', '2', '', '', '', '', '', '3', '', '', '2', '', '', 'is', '', '1c', '3', '', '1c', '', '', '2', '', '', '3', '', '2', '', '3', '3', '', '2', '', '1c', '', '2', '', '4', '', '2', '', '', '', '', '2', '', '2', '', '2', '', '2', '', '2', '2', '2', '', '2', '2', '2', '2', '', '2', '', '', '', '', '2', '', '2', '', '2', '2', '2', '2', 'trine', '2', '4a', '3', '3', '1c', '1c', '2', '2', '2', '3', '2', '2', '2', '2', '2', '2', '1a', '1', '3', '3', '2', '2', '1c', 'II', '2', '2', '1a', '2', '2', '2', '2', '2', '3y', '2', '2', '1c', 'quaternion', '2', 'deuce', '3', '2', '2', '1', '2', '3', '3', '2', '2', '2', '2', '2', '2', '1a', '1a', '1', '1', '3', '2', '2', '1c', '2', '2', '1a', '2', '2', '2', '2', '2', '2', '2', '2', '3y', '', '2', '', '1c', '', '', '2', '', '2', '', '', '', '', '', '3', '', '', '2', '', '', 'is', '', '1c', '1a', '', '1c', '', '', '2', '', '', '3', '', '2', '', '3', '3', '', '2', '', '1c', '', '2', '', '4', '', 'unity', '2', '', '', '', '', '2', '', '2', '', '2', '', '2', '', '2', '2', '2', '', '2', '2', '2', '2', '', '2', '', '', '', '', '2', '', '2', '', '2', '2', '2', '2', '2', '4a', '3', '1c', '1c', '2', '2', '2', '3', '2', '2', '2', '2', '2', '1a', '1', '3', '3', '2', '2', '1c', '2', '2', '1a', '2', '2', '2', '2', '3y', '2', '1c', '2', '3', '2', '2', '1', '2', '3', '2', '2', '2', '2', '2', '2', '1a', '1a', '1', '3', '2', '1c', '2', '2', '1a', '2', '2', '2', '2', '2', '2', '2', '3y', '', '2', '', '1c', '', '', '2', '', '2', '', '', '', '', '', '3', '', '', '2', '', '', 'is', '', '1c', '1a', '', '1c', '', '', '2', '', '', '3', '', '2', '', '3', '3', '', '2', '', '', '2', '', '4', '', '2', '', '', '', '', '', '2', '', '2', '', '2', '', '2', '2', '2', '', '2', '2', '2', '2', '', '2', '', '', '', '', '2', '', '2', '', '2', '2', 'two', '2', '2', '4a', '3', '3', '1c', '1c', '2', '2', '2', 'triad', '2', '2', '2', '2', '2', '2', '1a', '1', 'triplet', 'iii', '2', '2', '1c', '2', '2', '1a', 'deuce', '2', '2', '2', '2', '3y', '2', '2', '1c', 'II', '3', '2', '2', '1', '2', '3', '3', '2', '2', '2', '2', '2', '2', '1a', '1a', 'single', '1', '3', '2', '2', '1c', '2', '2', '1a', 'two', '2', '2', '2', '2', '2', '2', '2', '3y', '', '2', '', '1c', '', '', '2', '', '2', '', '', '', '', '', 'trio', '', '', '2', '', '', 'is', '', '1c', '1a', '', '1c', '', '', '2', '', '', '3', '', '2', '', '3', '3', '', '2', '', '1c', '', '2', '', '4', '', '2', '', '', '', '', '2', '', '2', '', '2', '', '2', '', '2', '2', 'deuce', '', '2', '2', '2', '2', '', '2', '', '', '', '', '2', '', '2', '']\n",
            "['1', '0', '0', '0', 'o', '1a', 'o', '2a', 'x', 'x', 'o', 'o', 'o', 'o', '0', 'o', '1a', '1a', '1', '1', '1', '0', 'o', 'o', '1a', 'x', '1a', '2a', '0', 'o', 'o', '2a', 'o', '1a', '0', '2a', 'x', 'o', '0', 'o', '0', '1', '1', '1', '1a', '0', 'o', '0', '0', '1a', '1a', '1', '1', '1', '1', '0', 'o', 'o', '1a', 'x', '1a', '2a', '0', 'o', 'o', '1', '2a', 'o', 'o', '1a', '1a', '0', '2a', '', 'x', '', '0', '', '', 'o', '', '2a', '', '', '', '', '', '0', '', '', '1', '', '', 'o', '', 'o', '2a', '', 'o', '', '', 'o', '', '', '0', '', 'o', '', '1', '1', '', '3', '', '0', '', '1a', '', '0', '', 'o', '', '', '', '', '3a', '', 'o', '', 'o', '', '3', '', '3', 'x', '0', '', '3', '3', '3', '3', '', '3a', '', '', '', '', '1', '', 'o', '', '1', '0', '0', '0', 'o', '1a', '2a', '2a', 'x', 'x', 'o', 'o', 'o', 'o', '0', '0', '1a', '1a', '1', '1', '1', '0', 'o', 'o', '1a', 'x', '1a', '2a', '0', 'o', 'o', '2a', 'o', '1a', '0', '2a', 'x', 'o', '0', 'o', '0', 'O', '1', '1', '1', '1a', 'o', 'o', '0', 'cypher', '0', '1a', '1a', '1', '1', '1', '1', '0', 'o', 'o', '1a', 'oxygen', 'x', '1a', '2a', '0', 'o', 'o', '2a', '2a', 'o', 'o', '1a', '0', '0', '2a', '', 'x', '', '0', '', '', 'o', '', '1', '', '', '', '', '', '0', '', '', '1', '', '', 'o', '', 'o', 'o', '', 'nought', 'o', '', '', 'o', '', '', '1a', '', 'o', '', '1', '1', '', '3', '', '0', '', '1a', '', '0', '', 'o', '', '', '', '', '3a', '', 'nought', 'o', '', 'o', '', '3', '', '3', 'x', '0', '', '3', '3', '3', '3', '', '3a', '', '', '', '', '1', '', 'o', '', '1', '0', '0', 'nought', 'o', '1a', '2a', '2a', 'x', 'x', 'o', 'o', 'o', 'o', '0', '0', '1a', '1a', '1', '1', '1', '0', 'o', 'o', '1a', 'x', '1a', '2a', '0', 'o', 'o', '2a', 'o', '1a', '0', '2a', 'x', 'o', '0', 'o', '0', '1', '1', 'I', '1a', 'o', 'o', '0', '0', '1a', '1a', '1', 'unity', 'one', '1', '0', 'o', 'o', '1a', 'Adam', '1a', '2a', '0', 'o', 'o', '2a', '2a', 'o', 'o', '1a', '0', '0', '2a', '', 'x', '', '0', '', '', 'o', '', '1', '', '', '', '', '', '0', '', '', '1', '', '', 'o', '', 'o', 'o', '', 'o', '', '', 'o', '', '', '1a', '', 'o', '', '1', '1', '', 'triplet', '', '0', '', '1a', '', '0', '', 'o', '', '', '', '', '3a', '', 'o', '', 'o', '', '3', '', 'three', 'x', '0', '', 'iii', 'triad', 'ternary', '3', '', '3a', '', '', '', '', '1', '', 'o', '', '0', '0', '0', '1a', '2a', '2a', 'x', 'x', 'o', 'o', 'o', 'o', '0', '1a', '1a', '1', '1', '0', 'o', '1a', 'x', '1a', '2a', '0', 'o', 'o', '2a', 'o', '1a', 'x', 'o', '0', 'o', '0', '1', '1', '1', '1a', 'o', 'o', '0', '0', '1a', '1a', '1', '1', '1', '1', '0', 'o', 'o', '1a', 'x', '1a', '2a', '0', 'o', 'o', '2a', 'o', 'o', '1a', '0', '0', '2a', '', 'x', '', '0', '', '', 'o', '', '1', '', '', '', '', '', '0', '', '', '1', '', '', 'o', '', 'o', 'o', '', 'o', '', '', 'o', '', '', '1a', '', 'o', '', '1', '1', '', '3', '', '0', '', '1a', '', '0', '', 'o', '', '', '', '', '3a', '', 'o', '', 'o', '', '', '3', 'x', '0', '', '3', '3', '3', '3', '', '3a', '', '', '', '', '1', '', '', '1', '0', '0', '0', 'o', '1a', 'o', '2a', 'x', 'x', 'o', 'o', 'o', 'o', '0', 'o', '1a', '1a', '1', '1', '1', '0', 'o', 'o', '1a', 'x', '1a', '2a', '0', 'o', 'o', '2a', 'o', '1a', '0', '2a', 'x', 'o', '0', 'o', '0', '1', '1', '1', '1a', '0', 'o', '0', '0', '1a', '1a', '1', '1', '1', '1', '0', 'o', 'o', '1a', 'x', '1a', '2a', '0', 'o', 'o', '1', '2a', 'o', 'o', '1a', '1a', '0', '2a', '', 'x', '', '0', '', '', 'o', '', '2a', '', '', '', '', '', '0', '', '', '1', '', '', 'o', '', 'o', '2a', '', 'o', '', '', 'o', '', '', '0', '', 'o', '', '1', '1', '', '3', '', '0', '', '1a', '', '0', '', 'o', '', '', '', '', '3a', '', 'o', '', 'o', '', '3', '', '3', 'x', '0', '', '3', '3', '3', '3', '', '3a', '', '', '', '', '1', '', 'o', '', '1', '0', '0', '0', 'o', '1a', '2a', '2a', 'x', 'x', 'o', 'o', 'o', 'o', '0', '0', '1a', '1a', '1', '1', '1', '0', 'o', 'o', '1a', 'x', '1a', '2a', '0', 'o', 'o', '2a', 'o', '1a', '0', '2a', 'x', 'o', '0', 'o', '0', 'O', '1', '1', '1', '1a', 'o', 'o', '0', 'cypher', '0', '1a', '1a', '1', '1', '1', '1', '0', 'o', 'o', '1a', 'oxygen', 'x', '1a', '2a', '0', 'o', 'o', '2a', '2a', 'o', 'o', '1a', '0', '0', '2a', '', 'x', '', '0', '', '', 'o', '', '1', '', '', '', '', '', '0', '', '', '1', '', '', 'o', '', 'o', 'o', '', 'nought', 'o', '', '', 'o', '', '', '1a', '', 'o', '', '1', '1', '', '3', '', '0', '', '1a', '', '0', '', 'o', '', '', '', '', '3a', '', 'nought', 'o', '', 'o', '', '3', '', '3', 'x', '0', '', '3', '3', '3', '3', '', '3a', '', '', '', '', '1', '', 'o', '', '1', '0', '0', 'nought', 'o', '1a', '2a', '2a', 'x', 'x', 'o', 'o', 'o', 'o', '0', '0', '1a', '1a', '1', '1', '1', '0', 'o', 'o', '1a', 'x', '1a', '2a', '0', 'o', 'o', '2a', 'o', '1a', '0', '2a', 'x', 'o', '0', 'o', '0', '1', '1', 'I', '1a', 'o', 'o', '0', '0', '1a', '1a', '1', 'unity', 'one', '1', '0', 'o', 'o', '1a', 'Adam', '1a', '2a', '0', 'o', 'o', '2a', '2a', 'o', 'o', '1a', '0', '0', '2a', '', 'x', '', '0', '', '', 'o', '', '1', '', '', '', '', '', '0', '', '', '1', '', '', 'o', '', 'o', 'o', '', 'o', '', '', 'o', '', '', '1a', '', 'o', '', '1', '1', '', 'triplet', '', '0', '', '1a', '', '0', '', 'o', '', '', '', '', '3a', '', 'o', '', 'o', '', '3', '', 'three', 'x', '0', '', 'iii', 'triad', 'ternary', '3', '', '3a', '', '', '', '', '1', '', 'o', '', '0', '0', '0', '1a', '2a', '2a', 'x', 'x', 'o', 'o', 'o', 'o', '0', '1a', '1a', '1', '1', '0', 'o', '1a', 'x', '1a', '2a', '0', 'o', 'o', '2a', 'o', '1a', 'x', 'o', '0', 'o', '0', '1', '1', '1', '1a', 'o', 'o', '0', '0', '1a', '1a', '1', '1', '1', '1', '0', 'o', 'o', '1a', 'x', '1a', '2a', '0', 'o', 'o', '2a', 'o', 'o', '1a', '0', '0', '2a', '', 'x', '', '0', '', '', 'o', '', '1', '', '', '', '', '', '0', '', '', '1', '', '', 'o', '', 'o', 'o', '', 'o', '', '', 'o', '', '', '1a', '', 'o', '', '1', '1', '', '3', '', '0', '', '1a', '', '0', '', 'o', '', '', '', '', '3a', '', 'o', '', 'o', '', '', '3', 'x', '0', '', '3', '3', '3', '3', '', '3a', '', '', '', '', '1', '', '']\n",
            "['x', 'x', 'x', 'x', 'x', 'x', 'x', 'x', 'x', 'x', 'x', 'x', 'x', 'x', 'x', 'x', 'x', 'x', 'x', 'x', 'x', 'x', 'x', 'x', 'xrigh', 'x', 'x', 'x', 'x', 'x', 'x', 'x', 'x', 'x', 'x', 'x', 'x', 'x', 'xreceived', 'xsepara', 'x', 'xreceived', 'x', 'o', 'x', 'x', 'x', 'x', 'x', 'x', 'x', 'x', 'xrecieved', 'x', 'x', 'x1', 'x', 'x', 'xsec', 'x', 'x', 'x', 'xspeci', 'x', 'x', 'x', 'x', 'x', 'x', 'x', 'x', 'xlef', 'x', '', 'x', '', 'x', '', '', 'x', '', 'xreceived', '', '', '', '', '', 'x', '', '', 'xsec', '', '', 'x', '', 'x', 'x', '', 'x', '', '', 'x', '', '', 'x', '', 'xrigh', '', 'x', 'xreceived', '', 'xca', '', 'x', '', 'x', '', 'x', '', 'x', '', '', '', '', 'x', '', 'x', '', 'x', '', 'x', '', 'x', 'xreceived', 'x', '', 'x', 'x', 'x', 'x', '', 'x', '', '', '', '', 'x', '', 'x', '', 'x', 'x', 'x', 'x', 'x', 'x', 'x', 'x', 'x', 'x', 'x', 'x', 'x', 'x', 'x', 'x', 'x', 'x', 'x', 'x', 'x', 'x', 'x', 'x', 'x', 'x', 'x', 'x', 'x', 'x', 'x', 'x', 'x', 'x', 'x', 'x', 'xreceived', 'xsepara', 'x', 'x', 'x', 'x', 'x', 'x', 'x', 'x', 'x', 'x', 'xrecieved', 'x', 'x', 'x1', 'x', 'x', 'xsec', 'x', 'x', 'x', 'xspeci', 'x', 'x', 'x', 'x', 'x', 'x', 'xlef', 'x', '', 'x', '', 'x', '', '', 'x', '', 'xreceived', '', '', '', '', '', 'x', '', '', '', '', 'xrigh', '', 'x', 'x', '', 'x', '', '', 'x', '', '', 'x', '', 'xrigh', '', 'x', 'xreceived', '', 'xca', '', 'x', '', '', '', 'x', '', '', '', '', 'x', '', 'x', '', 'x', '', 'x', '', 'x', 'xreceived', '', 'x', 'x', 'x', 'x', '', 'x', '', '', '', '', 'x', '', 'x', '', 'x', 'x', 'x', 'x', 'x', 'x', 'x', 'x', 'x', 'X', 'x', 'x', 'x', 'x', 'x', 'x', 'x', 'x', 'x', 'Adam', 'x', 'x', 'x', 'x', 'x', 'x', 'x', 'x', 'x', 'x', 'x', 'x', 'x', 'x', 'x', 'cristal', 'x', 'x', 'x', 'x', 'x', 'xreceived', 'xsepara', 'x', 'xreceived', 'x', 'o', 'x', 'Adam', 'x', 'x', 'x', 'x', 'x', 'x', 'x', 'xrecieved', 'x', 'x', 'X', 'x1', 'x', 'x', 'xsec', 'x', 'x', 'x', 'xspeci', 'x', 'x', 'x', 'x', 'x', 'x', 'x', 'x', 'xlef', 'x', '', 'x', '', 'x', '', '', 'x', '', 'xreceived', '', '', '', '', '', 'x', '', '', 'xsec', '', '', 'xrigh', '', 'x', 'x', '', 'x', '', '', 'x', '', '', 'x', '', 'xrigh', '', 'x', 'xreceived', '', 'xca', '', 'x', '', 'x', '', 'x', '', 'x', '', '', '', '', 'x', '', 'x', '', 'x', '', 'x', '', 'x', 'xreceived', 'x', '', 'x', 'x', 'x', 'x', '', 'x', '', '', '', '', 'x', '', 'x', '', 'x', 'x', 'x', 'x', 'x', 'x', 'x', 'x', 'x', 'x', 'x', 'x', 'X', 'x', 'x', 'x', 'XTC', 'x', 'x', 'x', 'x', 'x', 'x', 'x', 'x', 'x', 'x', 'x', 'x', 'x', 'ex', 'x', 'x', 'x', 'x', 'x', 'x', 'x', 'xreceived', 'xsepara', 'x', 'xreceived', 'x', 'o', 'x', 'x', 'x', 'x', 'x', 'go', 'x', 'x', 'xrecieved', 'x', 'x', 'x1', 'x', 'x', 'xsec', 'x', 'x', 'x', 'xspeci', 'x', 'x', 'x', 'x', 'x', 'x', 'x', 'x', 'xlef', 'x', '', 'tenner', '', 'x', '', '', 'x', '', 'xreceived', '', '', '', '', '', 'X', '', '', 'xsec', '', '', 'xrigh', '', 'x', 'x', '', 'x', '', '', 'x', '', '', 'ex', '', 'xrigh', '', 'x', 'xreceived', '', 'xca', '', 'x', '', '10', '', 'x', '', 'x', '', '', '', '', 'ten', '', 'x', '', 'x', '', 'x', '', 'cristal', 'xreceived', 'x', '', 'x', 'x', 'x', 'x', '', 'x', '', '', '', '', 'x', '', 'x', '', 'x', 'x', 'x', 'x', 'x', 'x', 'x', 'x', 'x', 'x', 'x', 'x', 'x', 'x', 'x', 'x', 'x', 'x', 'x', 'x', 'x', 'x', 'x', 'x', 'xrigh', 'x', 'x', 'x', 'x', 'x', 'x', 'x', 'x', 'x', 'x', 'x', 'x', 'x', 'xreceived', 'xsepara', 'x', 'xreceived', 'x', 'o', 'x', 'x', 'x', 'x', 'x', 'x', 'x', 'x', 'xrecieved', 'x', 'x', 'x1', 'x', 'x', 'xsec', 'x', 'x', 'x', 'xspeci', 'x', 'x', 'x', 'x', 'x', 'x', 'x', 'x', 'xlef', 'x', '', 'x', '', 'x', '', '', 'x', '', 'xreceived', '', '', '', '', '', 'x', '', '', 'xsec', '', '', 'x', '', 'x', 'x', '', 'x', '', '', 'x', '', '', 'x', '', 'xrigh', '', 'x', 'xreceived', '', 'xca', '', 'x', '', 'x', '', 'x', '', 'x', '', '', '', '', 'x', '', 'x', '', 'x', '', 'x', '', 'x', 'xreceived', 'x', '', 'x', 'x', 'x', 'x', '', 'x', '', '', '', '', 'x', '', 'x', '', 'x', 'x', 'x', 'x', 'x', 'x', 'x', 'x', 'x', 'x', 'x', 'x', 'x', 'x', 'x', 'x', 'x', 'x', 'x', 'x', 'x', 'x', 'x', 'x', 'x', 'x', 'x', 'x', 'x', 'x', 'x', 'x', 'x', 'x', 'x', 'x', 'xreceived', 'xsepara', 'x', 'x', 'x', 'x', 'x', 'x', 'x', 'x', 'x', 'x', 'xrecieved', 'x', 'x', 'x1', 'x', 'x', 'xsec', 'x', 'x', 'x', 'xspeci', 'x', 'x', 'x', 'x', 'x', 'x', 'xlef', 'x', '', 'x', '', 'x', '', '', 'x', '', 'xreceived', '', '', '', '', '', 'x', '', '', '', '', 'xrigh', '', 'x', 'x', '', 'x', '', '', 'x', '', '', 'x', '', 'xrigh', '', 'x', 'xreceived', '', 'xca', '', 'x', '', '', '', 'x', '', '', '', '', 'x', '', 'x', '', 'x', '', 'x', '', 'x', 'xreceived', '', 'x', 'x', 'x', 'x', '', 'x', '', '', '', '', 'x', '', 'x', '', 'x', 'x', 'x', 'x', 'x', 'x', 'x', 'x', 'x', 'X', 'x', 'x', 'x', 'x', 'x', 'x', 'x', 'x', 'x', 'Adam', 'x', 'x', 'x', 'x', 'x', 'x', 'x', 'x', 'x', 'x', 'x', 'x', 'x', 'x', 'x', 'cristal', 'x', 'x', 'x', 'x', 'x', 'xreceived', 'xsepara', 'x', 'xreceived', 'x', 'o', 'x', 'Adam', 'x', 'x', 'x', 'x', 'x', 'x', 'x', 'xrecieved', 'x', 'x', 'X', 'x1', 'x', 'x', 'xsec', 'x', 'x', 'x', 'xspeci', 'x', 'x', 'x', 'x', 'x', 'x', 'x', 'x', 'xlef', 'x', '', 'x', '', 'x', '', '', 'x', '', 'xreceived', '', '', '', '', '', 'x', '', '', 'xsec', '', '', 'xrigh', '', 'x', 'x', '', 'x', '', '', 'x', '', '', 'x', '', 'xrigh', '', 'x', 'xreceived', '', 'xca', '', 'x', '', 'x', '', 'x', '', 'x', '', '', '', '', 'x', '', 'x', '', 'x', '', 'x', '', 'x', 'xreceived', 'x', '', 'x', 'x', 'x', 'x', '', 'x', '', '', '', '', 'x', '', 'x', '', 'x', 'x', 'x', 'x', 'x', 'x', 'x', 'x', 'x', 'x', 'x', 'x', 'X', 'x', 'x', 'x', 'XTC', 'x', 'x', 'x', 'x', 'x', 'x', 'x', 'x', 'x', 'x', 'x', 'x', 'x', 'ex', 'x', 'x', 'x', 'x', 'x', 'x', 'x', 'xreceived', 'xsepara', 'x', 'xreceived', 'x', 'o', 'x', 'x', 'x', 'x', 'x', 'go', 'x', 'x', 'xrecieved', 'x', 'x', 'x1', 'x', 'x', 'xsec', 'x', 'x', 'x', 'xspeci', 'x', 'x', 'x', 'x', 'x', 'x', 'x', 'x', 'xlef', 'x', '', 'tenner', '', 'x', '', '', 'x', '', 'xreceived', '', '', '', '', '', 'X', '', '', 'xsec', '', '', 'xrigh', '', 'x', 'x', '', 'x', '', '', 'x', '', '', 'ex', '', 'xrigh', '', 'x', 'xreceived', '', 'xca', '', 'x', '', '10', '', 'x', '', 'x', '', '', '', '', 'ten', '', 'x', '', 'x', '', 'x', '', 'cristal', 'xreceived', 'x', '', 'x', 'x', 'x', 'x', '', 'x', '', '', '', '', 'x', '', 'x', '']\n"
          ]
        }
      ]
    },
    {
      "cell_type": "code",
      "source": [
        "datas2 = {'t': t_final_list2}\n",
        "df2 = pd.DataFrame(data=datas2)\n",
        "display(df2)"
      ],
      "metadata": {
        "colab": {
          "base_uri": "https://localhost:8080/",
          "height": 423
        },
        "id": "OFxrCMjF2vtq",
        "outputId": "29bdbf49-e440-49ad-d160-e31b9e06a6dd"
      },
      "execution_count": null,
      "outputs": [
        {
          "output_type": "display_data",
          "data": {
            "text/plain": [
              "      t\n",
              "0     2\n",
              "1     2\n",
              "2     2\n",
              "3     2\n",
              "4     2\n",
              "...  ..\n",
              "1185   \n",
              "1186  2\n",
              "1187   \n",
              "1188  2\n",
              "1189   \n",
              "\n",
              "[1190 rows x 1 columns]"
            ],
            "text/html": [
              "\n",
              "  <div id=\"df-9a4f783a-5c19-4ae6-8d86-0546b8a482f9\">\n",
              "    <div class=\"colab-df-container\">\n",
              "      <div>\n",
              "<style scoped>\n",
              "    .dataframe tbody tr th:only-of-type {\n",
              "        vertical-align: middle;\n",
              "    }\n",
              "\n",
              "    .dataframe tbody tr th {\n",
              "        vertical-align: top;\n",
              "    }\n",
              "\n",
              "    .dataframe thead th {\n",
              "        text-align: right;\n",
              "    }\n",
              "</style>\n",
              "<table border=\"1\" class=\"dataframe\">\n",
              "  <thead>\n",
              "    <tr style=\"text-align: right;\">\n",
              "      <th></th>\n",
              "      <th>t</th>\n",
              "    </tr>\n",
              "  </thead>\n",
              "  <tbody>\n",
              "    <tr>\n",
              "      <th>0</th>\n",
              "      <td>2</td>\n",
              "    </tr>\n",
              "    <tr>\n",
              "      <th>1</th>\n",
              "      <td>2</td>\n",
              "    </tr>\n",
              "    <tr>\n",
              "      <th>2</th>\n",
              "      <td>2</td>\n",
              "    </tr>\n",
              "    <tr>\n",
              "      <th>3</th>\n",
              "      <td>2</td>\n",
              "    </tr>\n",
              "    <tr>\n",
              "      <th>4</th>\n",
              "      <td>2</td>\n",
              "    </tr>\n",
              "    <tr>\n",
              "      <th>...</th>\n",
              "      <td>...</td>\n",
              "    </tr>\n",
              "    <tr>\n",
              "      <th>1185</th>\n",
              "      <td></td>\n",
              "    </tr>\n",
              "    <tr>\n",
              "      <th>1186</th>\n",
              "      <td>2</td>\n",
              "    </tr>\n",
              "    <tr>\n",
              "      <th>1187</th>\n",
              "      <td></td>\n",
              "    </tr>\n",
              "    <tr>\n",
              "      <th>1188</th>\n",
              "      <td>2</td>\n",
              "    </tr>\n",
              "    <tr>\n",
              "      <th>1189</th>\n",
              "      <td></td>\n",
              "    </tr>\n",
              "  </tbody>\n",
              "</table>\n",
              "<p>1190 rows × 1 columns</p>\n",
              "</div>\n",
              "      <button class=\"colab-df-convert\" onclick=\"convertToInteractive('df-9a4f783a-5c19-4ae6-8d86-0546b8a482f9')\"\n",
              "              title=\"Convert this dataframe to an interactive table.\"\n",
              "              style=\"display:none;\">\n",
              "        \n",
              "  <svg xmlns=\"http://www.w3.org/2000/svg\" height=\"24px\"viewBox=\"0 0 24 24\"\n",
              "       width=\"24px\">\n",
              "    <path d=\"M0 0h24v24H0V0z\" fill=\"none\"/>\n",
              "    <path d=\"M18.56 5.44l.94 2.06.94-2.06 2.06-.94-2.06-.94-.94-2.06-.94 2.06-2.06.94zm-11 1L8.5 8.5l.94-2.06 2.06-.94-2.06-.94L8.5 2.5l-.94 2.06-2.06.94zm10 10l.94 2.06.94-2.06 2.06-.94-2.06-.94-.94-2.06-.94 2.06-2.06.94z\"/><path d=\"M17.41 7.96l-1.37-1.37c-.4-.4-.92-.59-1.43-.59-.52 0-1.04.2-1.43.59L10.3 9.45l-7.72 7.72c-.78.78-.78 2.05 0 2.83L4 21.41c.39.39.9.59 1.41.59.51 0 1.02-.2 1.41-.59l7.78-7.78 2.81-2.81c.8-.78.8-2.07 0-2.86zM5.41 20L4 18.59l7.72-7.72 1.47 1.35L5.41 20z\"/>\n",
              "  </svg>\n",
              "      </button>\n",
              "      \n",
              "  <style>\n",
              "    .colab-df-container {\n",
              "      display:flex;\n",
              "      flex-wrap:wrap;\n",
              "      gap: 12px;\n",
              "    }\n",
              "\n",
              "    .colab-df-convert {\n",
              "      background-color: #E8F0FE;\n",
              "      border: none;\n",
              "      border-radius: 50%;\n",
              "      cursor: pointer;\n",
              "      display: none;\n",
              "      fill: #1967D2;\n",
              "      height: 32px;\n",
              "      padding: 0 0 0 0;\n",
              "      width: 32px;\n",
              "    }\n",
              "\n",
              "    .colab-df-convert:hover {\n",
              "      background-color: #E2EBFA;\n",
              "      box-shadow: 0px 1px 2px rgba(60, 64, 67, 0.3), 0px 1px 3px 1px rgba(60, 64, 67, 0.15);\n",
              "      fill: #174EA6;\n",
              "    }\n",
              "\n",
              "    [theme=dark] .colab-df-convert {\n",
              "      background-color: #3B4455;\n",
              "      fill: #D2E3FC;\n",
              "    }\n",
              "\n",
              "    [theme=dark] .colab-df-convert:hover {\n",
              "      background-color: #434B5C;\n",
              "      box-shadow: 0px 1px 3px 1px rgba(0, 0, 0, 0.15);\n",
              "      filter: drop-shadow(0px 1px 2px rgba(0, 0, 0, 0.3));\n",
              "      fill: #FFFFFF;\n",
              "    }\n",
              "  </style>\n",
              "\n",
              "      <script>\n",
              "        const buttonEl =\n",
              "          document.querySelector('#df-9a4f783a-5c19-4ae6-8d86-0546b8a482f9 button.colab-df-convert');\n",
              "        buttonEl.style.display =\n",
              "          google.colab.kernel.accessAllowed ? 'block' : 'none';\n",
              "\n",
              "        async function convertToInteractive(key) {\n",
              "          const element = document.querySelector('#df-9a4f783a-5c19-4ae6-8d86-0546b8a482f9');\n",
              "          const dataTable =\n",
              "            await google.colab.kernel.invokeFunction('convertToInteractive',\n",
              "                                                     [key], {});\n",
              "          if (!dataTable) return;\n",
              "\n",
              "          const docLinkHtml = 'Like what you see? Visit the ' +\n",
              "            '<a target=\"_blank\" href=https://colab.research.google.com/notebooks/data_table.ipynb>data table notebook</a>'\n",
              "            + ' to learn more about interactive tables.';\n",
              "          element.innerHTML = '';\n",
              "          dataTable['output_type'] = 'display_data';\n",
              "          await google.colab.output.renderOutput(dataTable, element);\n",
              "          const docLink = document.createElement('div');\n",
              "          docLink.innerHTML = docLinkHtml;\n",
              "          element.appendChild(docLink);\n",
              "        }\n",
              "      </script>\n",
              "    </div>\n",
              "  </div>\n",
              "  "
            ]
          },
          "metadata": {}
        }
      ]
    },
    {
      "cell_type": "markdown",
      "source": [
        "# Data Augumentation - Part 3"
      ],
      "metadata": {
        "id": "98nJ180j1ENH"
      }
    },
    {
      "cell_type": "code",
      "source": [
        "listTot_array3 = ' '.join([str(elem) for elem in t_final_list2])\n",
        "listTon_array3 = ' '.join([str(elem) for elem in n_final_list2])\n",
        "listTom_array3 = ' '.join([str(elem) for elem in m_final_list2])\n",
        "print(listTot_array3)\n",
        "print(listTon_array3)\n",
        "print(listTom_array3)"
      ],
      "metadata": {
        "colab": {
          "base_uri": "https://localhost:8080/"
        },
        "id": "q-3WDISX0-kZ",
        "outputId": "04ffc63c-effb-47e7-84c0-a9ab3d2c0e60"
      },
      "execution_count": null,
      "outputs": [
        {
          "output_type": "stream",
          "name": "stdout",
          "text": [
            "2 2 2 2 2 4a 3 3 2 1c 2 2 1a 3 2 2 2 2 2 3 2 1 3 1a 2 2 1c 2 2 1a 2 2 2 2 2 3y 2 2 1c 2 2 2 2 1 2 3 3 2 2 2 2 2 2 1a 2 1 1 3 2 2 1c 2 2 1a 2 2 2 1c 2 1a 2 2 3y  2  1c   2  2      3   2   is  1c 3  1c   2   3  2  3 3  2  1c  2  4  2     2  2  2  2  2 2 2  2 2 2 2  2     2  2  2 2 2 2 trine 2 4a 3 3 1c 1c 2 2 2 3 2 2 2 2 2 2 1a 1 3 3 2 2 1c II 2 2 1a 2 2 2 2 2 3y 2 2 1c quaternion 2 deuce 3 2 2 1 2 3 3 2 2 2 2 2 2 1a 1a 1 1 3 2 2 1c 2 2 1a 2 2 2 2 2 2 2 2 3y  2  1c   2  2      3   2   is  1c 1a  1c   2   3  2  3 3  2  1c  2  4  unity 2     2  2  2  2  2 2 2  2 2 2 2  2     2  2  2 2 2 2 2 4a 3 1c 1c 2 2 2 3 2 2 2 2 2 1a 1 3 3 2 2 1c 2 2 1a 2 2 2 2 3y 2 1c 2 3 2 2 1 2 3 2 2 2 2 2 2 1a 1a 1 3 2 1c 2 2 1a 2 2 2 2 2 2 2 3y  2  1c   2  2      3   2   is  1c 1a  1c   2   3  2  3 3  2   2  4  2      2  2  2  2 2 2  2 2 2 2  2     2  2  2 2 two 2 2 4a 3 3 1c 1c 2 2 2 triad 2 2 2 2 2 2 1a 1 triplet iii 2 2 1c 2 2 1a deuce 2 2 2 2 3y 2 2 1c II 3 2 2 1 2 3 3 2 2 2 2 2 2 1a 1a single 1 3 2 2 1c 2 2 1a two 2 2 2 2 2 2 2 3y  2  1c   2  2      trio   2   is  1c 1a  1c   2   3  2  3 3  2  1c  2  4  2     2  2  2  2  2 2 deuce  2 2 2 2  2     2  2  2 2 2 2 2 4a 3 3 2 1c 2 2 1a 3 2 2 2 2 2 3 2 1 3 1a 2 2 1c 2 2 1a 2 2 2 2 2 3y 2 2 1c 2 2 2 2 1 2 3 3 2 2 2 2 2 2 1a 2 1 1 3 2 2 1c 2 2 1a 2 2 2 1c 2 1a 2 2 3y  2  1c   2  2      3   2   is  1c 3  1c   2   3  2  3 3  2  1c  2  4  2     2  2  2  2  2 2 2  2 2 2 2  2     2  2  2 2 2 2 trine 2 4a 3 3 1c 1c 2 2 2 3 2 2 2 2 2 2 1a 1 3 3 2 2 1c II 2 2 1a 2 2 2 2 2 3y 2 2 1c quaternion 2 deuce 3 2 2 1 2 3 3 2 2 2 2 2 2 1a 1a 1 1 3 2 2 1c 2 2 1a 2 2 2 2 2 2 2 2 3y  2  1c   2  2      3   2   is  1c 1a  1c   2   3  2  3 3  2  1c  2  4  unity 2     2  2  2  2  2 2 2  2 2 2 2  2     2  2  2 2 2 2 2 4a 3 1c 1c 2 2 2 3 2 2 2 2 2 1a 1 3 3 2 2 1c 2 2 1a 2 2 2 2 3y 2 1c 2 3 2 2 1 2 3 2 2 2 2 2 2 1a 1a 1 3 2 1c 2 2 1a 2 2 2 2 2 2 2 3y  2  1c   2  2      3   2   is  1c 1a  1c   2   3  2  3 3  2   2  4  2      2  2  2  2 2 2  2 2 2 2  2     2  2  2 2 two 2 2 4a 3 3 1c 1c 2 2 2 triad 2 2 2 2 2 2 1a 1 triplet iii 2 2 1c 2 2 1a deuce 2 2 2 2 3y 2 2 1c II 3 2 2 1 2 3 3 2 2 2 2 2 2 1a 1a single 1 3 2 2 1c 2 2 1a two 2 2 2 2 2 2 2 3y  2  1c   2  2      trio   2   is  1c 1a  1c   2   3  2  3 3  2  1c  2  4  2     2  2  2  2  2 2 deuce  2 2 2 2  2     2  2 \n",
            "1 0 0 0 o 1a o 2a x x o o o o 0 o 1a 1a 1 1 1 0 o o 1a x 1a 2a 0 o o 2a o 1a 0 2a x o 0 o 0 1 1 1 1a 0 o 0 0 1a 1a 1 1 1 1 0 o o 1a x 1a 2a 0 o o 1 2a o o 1a 1a 0 2a  x  0   o  2a      0   1   o  o 2a  o   o   0  o  1 1  3  0  1a  0  o     3a  o  o  3  3 x 0  3 3 3 3  3a     1  o  1 0 0 0 o 1a 2a 2a x x o o o o 0 0 1a 1a 1 1 1 0 o o 1a x 1a 2a 0 o o 2a o 1a 0 2a x o 0 o 0 O 1 1 1 1a o o 0 cypher 0 1a 1a 1 1 1 1 0 o o 1a oxygen x 1a 2a 0 o o 2a 2a o o 1a 0 0 2a  x  0   o  1      0   1   o  o o  nought o   o   1a  o  1 1  3  0  1a  0  o     3a  nought o  o  3  3 x 0  3 3 3 3  3a     1  o  1 0 0 nought o 1a 2a 2a x x o o o o 0 0 1a 1a 1 1 1 0 o o 1a x 1a 2a 0 o o 2a o 1a 0 2a x o 0 o 0 1 1 I 1a o o 0 0 1a 1a 1 unity one 1 0 o o 1a Adam 1a 2a 0 o o 2a 2a o o 1a 0 0 2a  x  0   o  1      0   1   o  o o  o   o   1a  o  1 1  triplet  0  1a  0  o     3a  o  o  3  three x 0  iii triad ternary 3  3a     1  o  0 0 0 1a 2a 2a x x o o o o 0 1a 1a 1 1 0 o 1a x 1a 2a 0 o o 2a o 1a x o 0 o 0 1 1 1 1a o o 0 0 1a 1a 1 1 1 1 0 o o 1a x 1a 2a 0 o o 2a o o 1a 0 0 2a  x  0   o  1      0   1   o  o o  o   o   1a  o  1 1  3  0  1a  0  o     3a  o  o   3 x 0  3 3 3 3  3a     1   1 0 0 0 o 1a o 2a x x o o o o 0 o 1a 1a 1 1 1 0 o o 1a x 1a 2a 0 o o 2a o 1a 0 2a x o 0 o 0 1 1 1 1a 0 o 0 0 1a 1a 1 1 1 1 0 o o 1a x 1a 2a 0 o o 1 2a o o 1a 1a 0 2a  x  0   o  2a      0   1   o  o 2a  o   o   0  o  1 1  3  0  1a  0  o     3a  o  o  3  3 x 0  3 3 3 3  3a     1  o  1 0 0 0 o 1a 2a 2a x x o o o o 0 0 1a 1a 1 1 1 0 o o 1a x 1a 2a 0 o o 2a o 1a 0 2a x o 0 o 0 O 1 1 1 1a o o 0 cypher 0 1a 1a 1 1 1 1 0 o o 1a oxygen x 1a 2a 0 o o 2a 2a o o 1a 0 0 2a  x  0   o  1      0   1   o  o o  nought o   o   1a  o  1 1  3  0  1a  0  o     3a  nought o  o  3  3 x 0  3 3 3 3  3a     1  o  1 0 0 nought o 1a 2a 2a x x o o o o 0 0 1a 1a 1 1 1 0 o o 1a x 1a 2a 0 o o 2a o 1a 0 2a x o 0 o 0 1 1 I 1a o o 0 0 1a 1a 1 unity one 1 0 o o 1a Adam 1a 2a 0 o o 2a 2a o o 1a 0 0 2a  x  0   o  1      0   1   o  o o  o   o   1a  o  1 1  triplet  0  1a  0  o     3a  o  o  3  three x 0  iii triad ternary 3  3a     1  o  0 0 0 1a 2a 2a x x o o o o 0 1a 1a 1 1 0 o 1a x 1a 2a 0 o o 2a o 1a x o 0 o 0 1 1 1 1a o o 0 0 1a 1a 1 1 1 1 0 o o 1a x 1a 2a 0 o o 2a o o 1a 0 0 2a  x  0   o  1      0   1   o  o o  o   o   1a  o  1 1  3  0  1a  0  o     3a  o  o   3 x 0  3 3 3 3  3a     1  \n",
            "x x x x x x x x x x x x x x x x x x x x x x x x xrigh x x x x x x x x x x x x x xreceived xsepara x xreceived x o x x x x x x x x xrecieved x x x1 x x xsec x x x xspeci x x x x x x x x xlef x  x  x   x  xreceived      x   xsec   x  x x  x   x   x  xrigh  x xreceived  xca  x  x  x  x     x  x  x  x  x xreceived x  x x x x  x     x  x  x x x x x x x x x x x x x x x x x x x x x x x x x x x x x x x x x x x x xreceived xsepara x x x x x x x x x x xrecieved x x x1 x x xsec x x x xspeci x x x x x x xlef x  x  x   x  xreceived      x     xrigh  x x  x   x   x  xrigh  x xreceived  xca  x    x     x  x  x  x  x xreceived  x x x x  x     x  x  x x x x x x x x x X x x x x x x x x x Adam x x x x x x x x x x x x x x x cristal x x x x x xreceived xsepara x xreceived x o x Adam x x x x x x x xrecieved x x X x1 x x xsec x x x xspeci x x x x x x x x xlef x  x  x   x  xreceived      x   xsec   xrigh  x x  x   x   x  xrigh  x xreceived  xca  x  x  x  x     x  x  x  x  x xreceived x  x x x x  x     x  x  x x x x x x x x x x x x X x x x XTC x x x x x x x x x x x x x ex x x x x x x x xreceived xsepara x xreceived x o x x x x x go x x xrecieved x x x1 x x xsec x x x xspeci x x x x x x x x xlef x  tenner  x   x  xreceived      X   xsec   xrigh  x x  x   x   ex  xrigh  x xreceived  xca  x  10  x  x     ten  x  x  x  cristal xreceived x  x x x x  x     x  x  x x x x x x x x x x x x x x x x x x x x x x x x xrigh x x x x x x x x x x x x x xreceived xsepara x xreceived x o x x x x x x x x xrecieved x x x1 x x xsec x x x xspeci x x x x x x x x xlef x  x  x   x  xreceived      x   xsec   x  x x  x   x   x  xrigh  x xreceived  xca  x  x  x  x     x  x  x  x  x xreceived x  x x x x  x     x  x  x x x x x x x x x x x x x x x x x x x x x x x x x x x x x x x x x x x x xreceived xsepara x x x x x x x x x x xrecieved x x x1 x x xsec x x x xspeci x x x x x x xlef x  x  x   x  xreceived      x     xrigh  x x  x   x   x  xrigh  x xreceived  xca  x    x     x  x  x  x  x xreceived  x x x x  x     x  x  x x x x x x x x x X x x x x x x x x x Adam x x x x x x x x x x x x x x x cristal x x x x x xreceived xsepara x xreceived x o x Adam x x x x x x x xrecieved x x X x1 x x xsec x x x xspeci x x x x x x x x xlef x  x  x   x  xreceived      x   xsec   xrigh  x x  x   x   x  xrigh  x xreceived  xca  x  x  x  x     x  x  x  x  x xreceived x  x x x x  x     x  x  x x x x x x x x x x x x X x x x XTC x x x x x x x x x x x x x ex x x x x x x x xreceived xsepara x xreceived x o x x x x x go x x xrecieved x x x1 x x xsec x x x xspeci x x x x x x x x xlef x  tenner  x   x  xreceived      X   xsec   xrigh  x x  x   x   ex  xrigh  x xreceived  xca  x  10  x  x     ten  x  x  x  cristal xreceived x  x x x x  x     x  x \n"
          ]
        }
      ]
    },
    {
      "cell_type": "code",
      "source": [
        "t_final_array3=t_final_array2+\" \"+listTot_array3\n",
        "print(t_final_array3)\n",
        "n_final_array3=n_final_array2+\" \"+listTon_array3\n",
        "print(n_final_array3)\n",
        "m_final_array3=m_final_array2+\" \"+listTom_array3\n",
        "print(m_final_array3)"
      ],
      "metadata": {
        "colab": {
          "base_uri": "https://localhost:8080/"
        },
        "id": "10Nj8svE1mSw",
        "outputId": "7662abc5-cb34-4fc0-c6f7-351118a8f745"
      },
      "execution_count": null,
      "outputs": [
        {
          "output_type": "stream",
          "name": "stdout",
          "text": [
            "2 2 2 2 2 4a 3 3 2 1c 2 2 1a 3 2 2 2 2 2 3 2 1 3 1a 2 2 1c 2 2 1a 2 2 2 2 2 3y 2 2 1c 2 2 2 2 1 2 3 3 2 2 2 2 2 2 1a 2 1 1 3 2 2 1c 2 2 1a 2 2 2 1c 2 1a 2 2 3y  2  1c   2  2      3   2   is  1c 3  1c   2   3  2  3 3  2  1c  2  4  2     2  2  2  2  2 2 2  2 2 2 2  2     2  2  2 2 2 2 trine 2 4a 3 3 1c 1c 2 2 2 3 2 2 2 2 2 2 1a 1 3 3 2 2 1c II 2 2 1a 2 2 2 2 2 3y 2 2 1c quaternion 2 deuce 3 2 2 1 2 3 3 2 2 2 2 2 2 1a 1a 1 1 3 2 2 1c 2 2 1a 2 2 2 2 2 2 2 2 3y  2  1c   2  2      3   2   is  1c 1a  1c   2   3  2  3 3  2  1c  2  4  unity 2     2  2  2  2  2 2 2  2 2 2 2  2     2  2  2 2 2 2 2 4a 3 1c 1c 2 2 2 3 2 2 2 2 2 1a 1 3 3 2 2 1c 2 2 1a 2 2 2 2 3y 2 1c 2 3 2 2 1 2 3 2 2 2 2 2 2 1a 1a 1 3 2 1c 2 2 1a 2 2 2 2 2 2 2 3y  2  1c   2  2      3   2   is  1c 1a  1c   2   3  2  3 3  2   2  4  2      2  2  2  2 2 2  2 2 2 2  2     2  2  2 2 two 2 2 4a 3 3 1c 1c 2 2 2 triad 2 2 2 2 2 2 1a 1 triplet iii 2 2 1c 2 2 1a deuce 2 2 2 2 3y 2 2 1c II 3 2 2 1 2 3 3 2 2 2 2 2 2 1a 1a single 1 3 2 2 1c 2 2 1a two 2 2 2 2 2 2 2 3y  2  1c   2  2      trio   2   is  1c 1a  1c   2   3  2  3 3  2  1c  2  4  2     2  2  2  2  2 2 deuce  2 2 2 2  2     2  2  2 2 2 2 2 4a 3 3 2 1c 2 2 1a 3 2 2 2 2 2 3 2 1 3 1a 2 2 1c 2 2 1a 2 2 2 2 2 3y 2 2 1c 2 2 2 2 1 2 3 3 2 2 2 2 2 2 1a 2 1 1 3 2 2 1c 2 2 1a 2 2 2 1c 2 1a 2 2 3y  2  1c   2  2      3   2   is  1c 3  1c   2   3  2  3 3  2  1c  2  4  2     2  2  2  2  2 2 2  2 2 2 2  2     2  2  2 2 2 2 trine 2 4a 3 3 1c 1c 2 2 2 3 2 2 2 2 2 2 1a 1 3 3 2 2 1c II 2 2 1a 2 2 2 2 2 3y 2 2 1c quaternion 2 deuce 3 2 2 1 2 3 3 2 2 2 2 2 2 1a 1a 1 1 3 2 2 1c 2 2 1a 2 2 2 2 2 2 2 2 3y  2  1c   2  2      3   2   is  1c 1a  1c   2   3  2  3 3  2  1c  2  4  unity 2     2  2  2  2  2 2 2  2 2 2 2  2     2  2  2 2 2 2 2 4a 3 1c 1c 2 2 2 3 2 2 2 2 2 1a 1 3 3 2 2 1c 2 2 1a 2 2 2 2 3y 2 1c 2 3 2 2 1 2 3 2 2 2 2 2 2 1a 1a 1 3 2 1c 2 2 1a 2 2 2 2 2 2 2 3y  2  1c   2  2      3   2   is  1c 1a  1c   2   3  2  3 3  2   2  4  2      2  2  2  2 2 2  2 2 2 2  2     2  2  2 2 two 2 2 4a 3 3 1c 1c 2 2 2 triad 2 2 2 2 2 2 1a 1 triplet iii 2 2 1c 2 2 1a deuce 2 2 2 2 3y 2 2 1c II 3 2 2 1 2 3 3 2 2 2 2 2 2 1a 1a single 1 3 2 2 1c 2 2 1a two 2 2 2 2 2 2 2 3y  2  1c   2  2      trio   2   is  1c 1a  1c   2   3  2  3 3  2  1c  2  4  2     2  2  2  2  2 2 deuce  2 2 2 2  2     2  2  2 2 2 2 2 4a 3 3 2 1c 2 2 1a 3 2 2 2 2 2 3 2 1 3 1a 2 2 1c 2 2 1a 2 2 2 2 2 3y 2 2 1c 2 2 2 2 1 2 3 3 2 2 2 2 2 2 1a 2 1 1 3 2 2 1c 2 2 1a 2 2 2 1c 2 1a 2 2 3y  2  1c   2  2      3   2   is  1c 3  1c   2   3  2  3 3  2  1c  2  4  2     2  2  2  2  2 2 2  2 2 2 2  2     2  2  2 2 2 2 trine 2 4a 3 3 1c 1c 2 2 2 3 2 2 2 2 2 2 1a 1 3 3 2 2 1c II 2 2 1a 2 2 2 2 2 3y 2 2 1c quaternion 2 deuce 3 2 2 1 2 3 3 2 2 2 2 2 2 1a 1a 1 1 3 2 2 1c 2 2 1a 2 2 2 2 2 2 2 2 3y  2  1c   2  2      3   2   is  1c 1a  1c   2   3  2  3 3  2  1c  2  4  unity 2     2  2  2  2  2 2 2  2 2 2 2  2     2  2  2 2 2 2 2 4a 3 1c 1c 2 2 2 3 2 2 2 2 2 1a 1 3 3 2 2 1c 2 2 1a 2 2 2 2 3y 2 1c 2 3 2 2 1 2 3 2 2 2 2 2 2 1a 1a 1 3 2 1c 2 2 1a 2 2 2 2 2 2 2 3y  2  1c   2  2      3   2   is  1c 1a  1c   2   3  2  3 3  2   2  4  2      2  2  2  2 2 2  2 2 2 2  2     2  2  2 2 two 2 2 4a 3 3 1c 1c 2 2 2 triad 2 2 2 2 2 2 1a 1 triplet iii 2 2 1c 2 2 1a deuce 2 2 2 2 3y 2 2 1c II 3 2 2 1 2 3 3 2 2 2 2 2 2 1a 1a single 1 3 2 2 1c 2 2 1a two 2 2 2 2 2 2 2 3y  2  1c   2  2      trio   2   is  1c 1a  1c   2   3  2  3 3  2  1c  2  4  2     2  2  2  2  2 2 deuce  2 2 2 2  2     2  2  2 2 2 2 2 4a 3 3 2 1c 2 2 1a 3 2 2 2 2 2 3 2 1 3 1a 2 2 1c 2 2 1a 2 2 2 2 2 3y 2 2 1c 2 2 2 2 1 2 3 3 2 2 2 2 2 2 1a 2 1 1 3 2 2 1c 2 2 1a 2 2 2 1c 2 1a 2 2 3y  2  1c   2  2      3   2   is  1c 3  1c   2   3  2  3 3  2  1c  2  4  2     2  2  2  2  2 2 2  2 2 2 2  2     2  2  2 2 2 2 trine 2 4a 3 3 1c 1c 2 2 2 3 2 2 2 2 2 2 1a 1 3 3 2 2 1c II 2 2 1a 2 2 2 2 2 3y 2 2 1c quaternion 2 deuce 3 2 2 1 2 3 3 2 2 2 2 2 2 1a 1a 1 1 3 2 2 1c 2 2 1a 2 2 2 2 2 2 2 2 3y  2  1c   2  2      3   2   is  1c 1a  1c   2   3  2  3 3  2  1c  2  4  unity 2     2  2  2  2  2 2 2  2 2 2 2  2     2  2  2 2 2 2 2 4a 3 1c 1c 2 2 2 3 2 2 2 2 2 1a 1 3 3 2 2 1c 2 2 1a 2 2 2 2 3y 2 1c 2 3 2 2 1 2 3 2 2 2 2 2 2 1a 1a 1 3 2 1c 2 2 1a 2 2 2 2 2 2 2 3y  2  1c   2  2      3   2   is  1c 1a  1c   2   3  2  3 3  2   2  4  2      2  2  2  2 2 2  2 2 2 2  2     2  2  2 2 two 2 2 4a 3 3 1c 1c 2 2 2 triad 2 2 2 2 2 2 1a 1 triplet iii 2 2 1c 2 2 1a deuce 2 2 2 2 3y 2 2 1c II 3 2 2 1 2 3 3 2 2 2 2 2 2 1a 1a single 1 3 2 2 1c 2 2 1a two 2 2 2 2 2 2 2 3y  2  1c   2  2      trio   2   is  1c 1a  1c   2   3  2  3 3  2  1c  2  4  2     2  2  2  2  2 2 deuce  2 2 2 2  2     2  2 \n",
            "1 0 0 0 o 1a o 2a x x o o o o 0 o 1a 1a 1 1 1 0 o o 1a x 1a 2a 0 o o 2a o 1a 0 2a x o 0 o 0 1 1 1 1a 0 o 0 0 1a 1a 1 1 1 1 0 o o 1a x 1a 2a 0 o o 1 2a o o 1a 1a 0 2a  x  0   o  2a      0   1   o  o 2a  o   o   0  o  1 1  3  0  1a  0  o     3a  o  o  3  3 x 0  3 3 3 3  3a     1  o  1 0 0 0 o 1a 2a 2a x x o o o o 0 0 1a 1a 1 1 1 0 o o 1a x 1a 2a 0 o o 2a o 1a 0 2a x o 0 o 0 O 1 1 1 1a o o 0 cypher 0 1a 1a 1 1 1 1 0 o o 1a oxygen x 1a 2a 0 o o 2a 2a o o 1a 0 0 2a  x  0   o  1      0   1   o  o o  nought o   o   1a  o  1 1  3  0  1a  0  o     3a  nought o  o  3  3 x 0  3 3 3 3  3a     1  o  1 0 0 nought o 1a 2a 2a x x o o o o 0 0 1a 1a 1 1 1 0 o o 1a x 1a 2a 0 o o 2a o 1a 0 2a x o 0 o 0 1 1 I 1a o o 0 0 1a 1a 1 unity one 1 0 o o 1a Adam 1a 2a 0 o o 2a 2a o o 1a 0 0 2a  x  0   o  1      0   1   o  o o  o   o   1a  o  1 1  triplet  0  1a  0  o     3a  o  o  3  three x 0  iii triad ternary 3  3a     1  o  0 0 0 1a 2a 2a x x o o o o 0 1a 1a 1 1 0 o 1a x 1a 2a 0 o o 2a o 1a x o 0 o 0 1 1 1 1a o o 0 0 1a 1a 1 1 1 1 0 o o 1a x 1a 2a 0 o o 2a o o 1a 0 0 2a  x  0   o  1      0   1   o  o o  o   o   1a  o  1 1  3  0  1a  0  o     3a  o  o   3 x 0  3 3 3 3  3a     1   1 0 0 0 o 1a o 2a x x o o o o 0 o 1a 1a 1 1 1 0 o o 1a x 1a 2a 0 o o 2a o 1a 0 2a x o 0 o 0 1 1 1 1a 0 o 0 0 1a 1a 1 1 1 1 0 o o 1a x 1a 2a 0 o o 1 2a o o 1a 1a 0 2a  x  0   o  2a      0   1   o  o 2a  o   o   0  o  1 1  3  0  1a  0  o     3a  o  o  3  3 x 0  3 3 3 3  3a     1  o  1 0 0 0 o 1a 2a 2a x x o o o o 0 0 1a 1a 1 1 1 0 o o 1a x 1a 2a 0 o o 2a o 1a 0 2a x o 0 o 0 O 1 1 1 1a o o 0 cypher 0 1a 1a 1 1 1 1 0 o o 1a oxygen x 1a 2a 0 o o 2a 2a o o 1a 0 0 2a  x  0   o  1      0   1   o  o o  nought o   o   1a  o  1 1  3  0  1a  0  o     3a  nought o  o  3  3 x 0  3 3 3 3  3a     1  o  1 0 0 nought o 1a 2a 2a x x o o o o 0 0 1a 1a 1 1 1 0 o o 1a x 1a 2a 0 o o 2a o 1a 0 2a x o 0 o 0 1 1 I 1a o o 0 0 1a 1a 1 unity one 1 0 o o 1a Adam 1a 2a 0 o o 2a 2a o o 1a 0 0 2a  x  0   o  1      0   1   o  o o  o   o   1a  o  1 1  triplet  0  1a  0  o     3a  o  o  3  three x 0  iii triad ternary 3  3a     1  o  0 0 0 1a 2a 2a x x o o o o 0 1a 1a 1 1 0 o 1a x 1a 2a 0 o o 2a o 1a x o 0 o 0 1 1 1 1a o o 0 0 1a 1a 1 1 1 1 0 o o 1a x 1a 2a 0 o o 2a o o 1a 0 0 2a  x  0   o  1      0   1   o  o o  o   o   1a  o  1 1  3  0  1a  0  o     3a  o  o   3 x 0  3 3 3 3  3a     1   1 0 0 0 o 1a o 2a x x o o o o 0 o 1a 1a 1 1 1 0 o o 1a x 1a 2a 0 o o 2a o 1a 0 2a x o 0 o 0 1 1 1 1a 0 o 0 0 1a 1a 1 1 1 1 0 o o 1a x 1a 2a 0 o o 1 2a o o 1a 1a 0 2a  x  0   o  2a      0   1   o  o 2a  o   o   0  o  1 1  3  0  1a  0  o     3a  o  o  3  3 x 0  3 3 3 3  3a     1  o  1 0 0 0 o 1a 2a 2a x x o o o o 0 0 1a 1a 1 1 1 0 o o 1a x 1a 2a 0 o o 2a o 1a 0 2a x o 0 o 0 O 1 1 1 1a o o 0 cypher 0 1a 1a 1 1 1 1 0 o o 1a oxygen x 1a 2a 0 o o 2a 2a o o 1a 0 0 2a  x  0   o  1      0   1   o  o o  nought o   o   1a  o  1 1  3  0  1a  0  o     3a  nought o  o  3  3 x 0  3 3 3 3  3a     1  o  1 0 0 nought o 1a 2a 2a x x o o o o 0 0 1a 1a 1 1 1 0 o o 1a x 1a 2a 0 o o 2a o 1a 0 2a x o 0 o 0 1 1 I 1a o o 0 0 1a 1a 1 unity one 1 0 o o 1a Adam 1a 2a 0 o o 2a 2a o o 1a 0 0 2a  x  0   o  1      0   1   o  o o  o   o   1a  o  1 1  triplet  0  1a  0  o     3a  o  o  3  three x 0  iii triad ternary 3  3a     1  o  0 0 0 1a 2a 2a x x o o o o 0 1a 1a 1 1 0 o 1a x 1a 2a 0 o o 2a o 1a x o 0 o 0 1 1 1 1a o o 0 0 1a 1a 1 1 1 1 0 o o 1a x 1a 2a 0 o o 2a o o 1a 0 0 2a  x  0   o  1      0   1   o  o o  o   o   1a  o  1 1  3  0  1a  0  o     3a  o  o   3 x 0  3 3 3 3  3a     1   1 0 0 0 o 1a o 2a x x o o o o 0 o 1a 1a 1 1 1 0 o o 1a x 1a 2a 0 o o 2a o 1a 0 2a x o 0 o 0 1 1 1 1a 0 o 0 0 1a 1a 1 1 1 1 0 o o 1a x 1a 2a 0 o o 1 2a o o 1a 1a 0 2a  x  0   o  2a      0   1   o  o 2a  o   o   0  o  1 1  3  0  1a  0  o     3a  o  o  3  3 x 0  3 3 3 3  3a     1  o  1 0 0 0 o 1a 2a 2a x x o o o o 0 0 1a 1a 1 1 1 0 o o 1a x 1a 2a 0 o o 2a o 1a 0 2a x o 0 o 0 O 1 1 1 1a o o 0 cypher 0 1a 1a 1 1 1 1 0 o o 1a oxygen x 1a 2a 0 o o 2a 2a o o 1a 0 0 2a  x  0   o  1      0   1   o  o o  nought o   o   1a  o  1 1  3  0  1a  0  o     3a  nought o  o  3  3 x 0  3 3 3 3  3a     1  o  1 0 0 nought o 1a 2a 2a x x o o o o 0 0 1a 1a 1 1 1 0 o o 1a x 1a 2a 0 o o 2a o 1a 0 2a x o 0 o 0 1 1 I 1a o o 0 0 1a 1a 1 unity one 1 0 o o 1a Adam 1a 2a 0 o o 2a 2a o o 1a 0 0 2a  x  0   o  1      0   1   o  o o  o   o   1a  o  1 1  triplet  0  1a  0  o     3a  o  o  3  three x 0  iii triad ternary 3  3a     1  o  0 0 0 1a 2a 2a x x o o o o 0 1a 1a 1 1 0 o 1a x 1a 2a 0 o o 2a o 1a x o 0 o 0 1 1 1 1a o o 0 0 1a 1a 1 1 1 1 0 o o 1a x 1a 2a 0 o o 2a o o 1a 0 0 2a  x  0   o  1      0   1   o  o o  o   o   1a  o  1 1  3  0  1a  0  o     3a  o  o   3 x 0  3 3 3 3  3a     1  \n",
            "x x x x x x x x x x x x x x x x x x x x x x x x xrigh x x x x x x x x x x x x x xreceived xsepara x xreceived x o x x x x x x x x xrecieved x x x1 x x xsec x x x xspeci x x x x x x x x xlef x  x  x   x  xreceived      x   xsec   x  x x  x   x   x  xrigh  x xreceived  xca  x  x  x  x     x  x  x  x  x xreceived x  x x x x  x     x  x  x x x x x x x x x x x x x x x x x x x x x x x x x x x x x x x x x x x x xreceived xsepara x x x x x x x x x x xrecieved x x x1 x x xsec x x x xspeci x x x x x x xlef x  x  x   x  xreceived      x     xrigh  x x  x   x   x  xrigh  x xreceived  xca  x    x     x  x  x  x  x xreceived  x x x x  x     x  x  x x x x x x x x x X x x x x x x x x x Adam x x x x x x x x x x x x x x x cristal x x x x x xreceived xsepara x xreceived x o x Adam x x x x x x x xrecieved x x X x1 x x xsec x x x xspeci x x x x x x x x xlef x  x  x   x  xreceived      x   xsec   xrigh  x x  x   x   x  xrigh  x xreceived  xca  x  x  x  x     x  x  x  x  x xreceived x  x x x x  x     x  x  x x x x x x x x x x x x X x x x XTC x x x x x x x x x x x x x ex x x x x x x x xreceived xsepara x xreceived x o x x x x x go x x xrecieved x x x1 x x xsec x x x xspeci x x x x x x x x xlef x  tenner  x   x  xreceived      X   xsec   xrigh  x x  x   x   ex  xrigh  x xreceived  xca  x  10  x  x     ten  x  x  x  cristal xreceived x  x x x x  x     x  x  x x x x x x x x x x x x x x x x x x x x x x x x xrigh x x x x x x x x x x x x x xreceived xsepara x xreceived x o x x x x x x x x xrecieved x x x1 x x xsec x x x xspeci x x x x x x x x xlef x  x  x   x  xreceived      x   xsec   x  x x  x   x   x  xrigh  x xreceived  xca  x  x  x  x     x  x  x  x  x xreceived x  x x x x  x     x  x  x x x x x x x x x x x x x x x x x x x x x x x x x x x x x x x x x x x x xreceived xsepara x x x x x x x x x x xrecieved x x x1 x x xsec x x x xspeci x x x x x x xlef x  x  x   x  xreceived      x     xrigh  x x  x   x   x  xrigh  x xreceived  xca  x    x     x  x  x  x  x xreceived  x x x x  x     x  x  x x x x x x x x x X x x x x x x x x x Adam x x x x x x x x x x x x x x x cristal x x x x x xreceived xsepara x xreceived x o x Adam x x x x x x x xrecieved x x X x1 x x xsec x x x xspeci x x x x x x x x xlef x  x  x   x  xreceived      x   xsec   xrigh  x x  x   x   x  xrigh  x xreceived  xca  x  x  x  x     x  x  x  x  x xreceived x  x x x x  x     x  x  x x x x x x x x x x x x X x x x XTC x x x x x x x x x x x x x ex x x x x x x x xreceived xsepara x xreceived x o x x x x x go x x xrecieved x x x1 x x xsec x x x xspeci x x x x x x x x xlef x  tenner  x   x  xreceived      X   xsec   xrigh  x x  x   x   ex  xrigh  x xreceived  xca  x  10  x  x     ten  x  x  x  cristal xreceived x  x x x x  x     x  x  x x x x x x x x x x x x x x x x x x x x x x x x xrigh x x x x x x x x x x x x x xreceived xsepara x xreceived x o x x x x x x x x xrecieved x x x1 x x xsec x x x xspeci x x x x x x x x xlef x  x  x   x  xreceived      x   xsec   x  x x  x   x   x  xrigh  x xreceived  xca  x  x  x  x     x  x  x  x  x xreceived x  x x x x  x     x  x  x x x x x x x x x x x x x x x x x x x x x x x x x x x x x x x x x x x x xreceived xsepara x x x x x x x x x x xrecieved x x x1 x x xsec x x x xspeci x x x x x x xlef x  x  x   x  xreceived      x     xrigh  x x  x   x   x  xrigh  x xreceived  xca  x    x     x  x  x  x  x xreceived  x x x x  x     x  x  x x x x x x x x x X x x x x x x x x x Adam x x x x x x x x x x x x x x x cristal x x x x x xreceived xsepara x xreceived x o x Adam x x x x x x x xrecieved x x X x1 x x xsec x x x xspeci x x x x x x x x xlef x  x  x   x  xreceived      x   xsec   xrigh  x x  x   x   x  xrigh  x xreceived  xca  x  x  x  x     x  x  x  x  x xreceived x  x x x x  x     x  x  x x x x x x x x x x x x X x x x XTC x x x x x x x x x x x x x ex x x x x x x x xreceived xsepara x xreceived x o x x x x x go x x xrecieved x x x1 x x xsec x x x xspeci x x x x x x x x xlef x  tenner  x   x  xreceived      X   xsec   xrigh  x x  x   x   ex  xrigh  x xreceived  xca  x  10  x  x     ten  x  x  x  cristal xreceived x  x x x x  x     x  x  x x x x x x x x x x x x x x x x x x x x x x x x xrigh x x x x x x x x x x x x x xreceived xsepara x xreceived x o x x x x x x x x xrecieved x x x1 x x xsec x x x xspeci x x x x x x x x xlef x  x  x   x  xreceived      x   xsec   x  x x  x   x   x  xrigh  x xreceived  xca  x  x  x  x     x  x  x  x  x xreceived x  x x x x  x     x  x  x x x x x x x x x x x x x x x x x x x x x x x x x x x x x x x x x x x x xreceived xsepara x x x x x x x x x x xrecieved x x x1 x x xsec x x x xspeci x x x x x x xlef x  x  x   x  xreceived      x     xrigh  x x  x   x   x  xrigh  x xreceived  xca  x    x     x  x  x  x  x xreceived  x x x x  x     x  x  x x x x x x x x x X x x x x x x x x x Adam x x x x x x x x x x x x x x x cristal x x x x x xreceived xsepara x xreceived x o x Adam x x x x x x x xrecieved x x X x1 x x xsec x x x xspeci x x x x x x x x xlef x  x  x   x  xreceived      x   xsec   xrigh  x x  x   x   x  xrigh  x xreceived  xca  x  x  x  x     x  x  x  x  x xreceived x  x x x x  x     x  x  x x x x x x x x x x x x X x x x XTC x x x x x x x x x x x x x ex x x x x x x x xreceived xsepara x xreceived x o x x x x x go x x xrecieved x x x1 x x xsec x x x xspeci x x x x x x x x xlef x  tenner  x   x  xreceived      X   xsec   xrigh  x x  x   x   ex  xrigh  x xreceived  xca  x  10  x  x     ten  x  x  x  cristal xreceived x  x x x x  x     x  x \n"
          ]
        }
      ]
    },
    {
      "cell_type": "code",
      "source": [
        "def Convert(string):\n",
        "\tli = list(string.split(\" \"))\n",
        "\treturn li\n",
        "\n",
        "\n",
        "# Driver code\n",
        "#str1 = \"Geeks for Geeks\"\n",
        "t_final_list3=Convert(t_final_array3)\n",
        "print(t_final_list3)\n",
        "\n",
        "n_final_list3=Convert(n_final_array3)\n",
        "print(n_final_list3)\n",
        "\n",
        "m_final_list3=Convert(m_final_array3)\n",
        "print(m_final_list3)"
      ],
      "metadata": {
        "colab": {
          "base_uri": "https://localhost:8080/"
        },
        "id": "IMlxBUkr2SHg",
        "outputId": "7c9cf525-6f65-438d-b763-bcda11035526"
      },
      "execution_count": null,
      "outputs": [
        {
          "output_type": "stream",
          "name": "stdout",
          "text": [
            "['2', '2', '2', '2', '2', '4a', '3', '3', '2', '1c', '2', '2', '1a', '3', '2', '2', '2', '2', '2', '3', '2', '1', '3', '1a', '2', '2', '1c', '2', '2', '1a', '2', '2', '2', '2', '2', '3y', '2', '2', '1c', '2', '2', '2', '2', '1', '2', '3', '3', '2', '2', '2', '2', '2', '2', '1a', '2', '1', '1', '3', '2', '2', '1c', '2', '2', '1a', '2', '2', '2', '1c', '2', '1a', '2', '2', '3y', '', '2', '', '1c', '', '', '2', '', '2', '', '', '', '', '', '3', '', '', '2', '', '', 'is', '', '1c', '3', '', '1c', '', '', '2', '', '', '3', '', '2', '', '3', '3', '', '2', '', '1c', '', '2', '', '4', '', '2', '', '', '', '', '2', '', '2', '', '2', '', '2', '', '2', '2', '2', '', '2', '2', '2', '2', '', '2', '', '', '', '', '2', '', '2', '', '2', '2', '2', '2', 'trine', '2', '4a', '3', '3', '1c', '1c', '2', '2', '2', '3', '2', '2', '2', '2', '2', '2', '1a', '1', '3', '3', '2', '2', '1c', 'II', '2', '2', '1a', '2', '2', '2', '2', '2', '3y', '2', '2', '1c', 'quaternion', '2', 'deuce', '3', '2', '2', '1', '2', '3', '3', '2', '2', '2', '2', '2', '2', '1a', '1a', '1', '1', '3', '2', '2', '1c', '2', '2', '1a', '2', '2', '2', '2', '2', '2', '2', '2', '3y', '', '2', '', '1c', '', '', '2', '', '2', '', '', '', '', '', '3', '', '', '2', '', '', 'is', '', '1c', '1a', '', '1c', '', '', '2', '', '', '3', '', '2', '', '3', '3', '', '2', '', '1c', '', '2', '', '4', '', 'unity', '2', '', '', '', '', '2', '', '2', '', '2', '', '2', '', '2', '2', '2', '', '2', '2', '2', '2', '', '2', '', '', '', '', '2', '', '2', '', '2', '2', '2', '2', '2', '4a', '3', '1c', '1c', '2', '2', '2', '3', '2', '2', '2', '2', '2', '1a', '1', '3', '3', '2', '2', '1c', '2', '2', '1a', '2', '2', '2', '2', '3y', '2', '1c', '2', '3', '2', '2', '1', '2', '3', '2', '2', '2', '2', '2', '2', '1a', '1a', '1', '3', '2', '1c', '2', '2', '1a', '2', '2', '2', '2', '2', '2', '2', '3y', '', '2', '', '1c', '', '', '2', '', '2', '', '', '', '', '', '3', '', '', '2', '', '', 'is', '', '1c', '1a', '', '1c', '', '', '2', '', '', '3', '', '2', '', '3', '3', '', '2', '', '', '2', '', '4', '', '2', '', '', '', '', '', '2', '', '2', '', '2', '', '2', '2', '2', '', '2', '2', '2', '2', '', '2', '', '', '', '', '2', '', '2', '', '2', '2', 'two', '2', '2', '4a', '3', '3', '1c', '1c', '2', '2', '2', 'triad', '2', '2', '2', '2', '2', '2', '1a', '1', 'triplet', 'iii', '2', '2', '1c', '2', '2', '1a', 'deuce', '2', '2', '2', '2', '3y', '2', '2', '1c', 'II', '3', '2', '2', '1', '2', '3', '3', '2', '2', '2', '2', '2', '2', '1a', '1a', 'single', '1', '3', '2', '2', '1c', '2', '2', '1a', 'two', '2', '2', '2', '2', '2', '2', '2', '3y', '', '2', '', '1c', '', '', '2', '', '2', '', '', '', '', '', 'trio', '', '', '2', '', '', 'is', '', '1c', '1a', '', '1c', '', '', '2', '', '', '3', '', '2', '', '3', '3', '', '2', '', '1c', '', '2', '', '4', '', '2', '', '', '', '', '2', '', '2', '', '2', '', '2', '', '2', '2', 'deuce', '', '2', '2', '2', '2', '', '2', '', '', '', '', '2', '', '2', '', '2', '2', '2', '2', '2', '4a', '3', '3', '2', '1c', '2', '2', '1a', '3', '2', '2', '2', '2', '2', '3', '2', '1', '3', '1a', '2', '2', '1c', '2', '2', '1a', '2', '2', '2', '2', '2', '3y', '2', '2', '1c', '2', '2', '2', '2', '1', '2', '3', '3', '2', '2', '2', '2', '2', '2', '1a', '2', '1', '1', '3', '2', '2', '1c', '2', '2', '1a', '2', '2', '2', '1c', '2', '1a', '2', '2', '3y', '', '2', '', '1c', '', '', '2', '', '2', '', '', '', '', '', '3', '', '', '2', '', '', 'is', '', '1c', '3', '', '1c', '', '', '2', '', '', '3', '', '2', '', '3', '3', '', '2', '', '1c', '', '2', '', '4', '', '2', '', '', '', '', '2', '', '2', '', '2', '', '2', '', '2', '2', '2', '', '2', '2', '2', '2', '', '2', '', '', '', '', '2', '', '2', '', '2', '2', '2', '2', 'trine', '2', '4a', '3', '3', '1c', '1c', '2', '2', '2', '3', '2', '2', '2', '2', '2', '2', '1a', '1', '3', '3', '2', '2', '1c', 'II', '2', '2', '1a', '2', '2', '2', '2', '2', '3y', '2', '2', '1c', 'quaternion', '2', 'deuce', '3', '2', '2', '1', '2', '3', '3', '2', '2', '2', '2', '2', '2', '1a', '1a', '1', '1', '3', '2', '2', '1c', '2', '2', '1a', '2', '2', '2', '2', '2', '2', '2', '2', '3y', '', '2', '', '1c', '', '', '2', '', '2', '', '', '', '', '', '3', '', '', '2', '', '', 'is', '', '1c', '1a', '', '1c', '', '', '2', '', '', '3', '', '2', '', '3', '3', '', '2', '', '1c', '', '2', '', '4', '', 'unity', '2', '', '', '', '', '2', '', '2', '', '2', '', '2', '', '2', '2', '2', '', '2', '2', '2', '2', '', '2', '', '', '', '', '2', '', '2', '', '2', '2', '2', '2', '2', '4a', '3', '1c', '1c', '2', '2', '2', '3', '2', '2', '2', '2', '2', '1a', '1', '3', '3', '2', '2', '1c', '2', '2', '1a', '2', '2', '2', '2', '3y', '2', '1c', '2', '3', '2', '2', '1', '2', '3', '2', '2', '2', '2', '2', '2', '1a', '1a', '1', '3', '2', '1c', '2', '2', '1a', '2', '2', '2', '2', '2', '2', '2', '3y', '', '2', '', '1c', '', '', '2', '', '2', '', '', '', '', '', '3', '', '', '2', '', '', 'is', '', '1c', '1a', '', '1c', '', '', '2', '', '', '3', '', '2', '', '3', '3', '', '2', '', '', '2', '', '4', '', '2', '', '', '', '', '', '2', '', '2', '', '2', '', '2', '2', '2', '', '2', '2', '2', '2', '', '2', '', '', '', '', '2', '', '2', '', '2', '2', 'two', '2', '2', '4a', '3', '3', '1c', '1c', '2', '2', '2', 'triad', '2', '2', '2', '2', '2', '2', '1a', '1', 'triplet', 'iii', '2', '2', '1c', '2', '2', '1a', 'deuce', '2', '2', '2', '2', '3y', '2', '2', '1c', 'II', '3', '2', '2', '1', '2', '3', '3', '2', '2', '2', '2', '2', '2', '1a', '1a', 'single', '1', '3', '2', '2', '1c', '2', '2', '1a', 'two', '2', '2', '2', '2', '2', '2', '2', '3y', '', '2', '', '1c', '', '', '2', '', '2', '', '', '', '', '', 'trio', '', '', '2', '', '', 'is', '', '1c', '1a', '', '1c', '', '', '2', '', '', '3', '', '2', '', '3', '3', '', '2', '', '1c', '', '2', '', '4', '', '2', '', '', '', '', '2', '', '2', '', '2', '', '2', '', '2', '2', 'deuce', '', '2', '2', '2', '2', '', '2', '', '', '', '', '2', '', '2', '', '2', '2', '2', '2', '2', '4a', '3', '3', '2', '1c', '2', '2', '1a', '3', '2', '2', '2', '2', '2', '3', '2', '1', '3', '1a', '2', '2', '1c', '2', '2', '1a', '2', '2', '2', '2', '2', '3y', '2', '2', '1c', '2', '2', '2', '2', '1', '2', '3', '3', '2', '2', '2', '2', '2', '2', '1a', '2', '1', '1', '3', '2', '2', '1c', '2', '2', '1a', '2', '2', '2', '1c', '2', '1a', '2', '2', '3y', '', '2', '', '1c', '', '', '2', '', '2', '', '', '', '', '', '3', '', '', '2', '', '', 'is', '', '1c', '3', '', '1c', '', '', '2', '', '', '3', '', '2', '', '3', '3', '', '2', '', '1c', '', '2', '', '4', '', '2', '', '', '', '', '2', '', '2', '', '2', '', '2', '', '2', '2', '2', '', '2', '2', '2', '2', '', '2', '', '', '', '', '2', '', '2', '', '2', '2', '2', '2', 'trine', '2', '4a', '3', '3', '1c', '1c', '2', '2', '2', '3', '2', '2', '2', '2', '2', '2', '1a', '1', '3', '3', '2', '2', '1c', 'II', '2', '2', '1a', '2', '2', '2', '2', '2', '3y', '2', '2', '1c', 'quaternion', '2', 'deuce', '3', '2', '2', '1', '2', '3', '3', '2', '2', '2', '2', '2', '2', '1a', '1a', '1', '1', '3', '2', '2', '1c', '2', '2', '1a', '2', '2', '2', '2', '2', '2', '2', '2', '3y', '', '2', '', '1c', '', '', '2', '', '2', '', '', '', '', '', '3', '', '', '2', '', '', 'is', '', '1c', '1a', '', '1c', '', '', '2', '', '', '3', '', '2', '', '3', '3', '', '2', '', '1c', '', '2', '', '4', '', 'unity', '2', '', '', '', '', '2', '', '2', '', '2', '', '2', '', '2', '2', '2', '', '2', '2', '2', '2', '', '2', '', '', '', '', '2', '', '2', '', '2', '2', '2', '2', '2', '4a', '3', '1c', '1c', '2', '2', '2', '3', '2', '2', '2', '2', '2', '1a', '1', '3', '3', '2', '2', '1c', '2', '2', '1a', '2', '2', '2', '2', '3y', '2', '1c', '2', '3', '2', '2', '1', '2', '3', '2', '2', '2', '2', '2', '2', '1a', '1a', '1', '3', '2', '1c', '2', '2', '1a', '2', '2', '2', '2', '2', '2', '2', '3y', '', '2', '', '1c', '', '', '2', '', '2', '', '', '', '', '', '3', '', '', '2', '', '', 'is', '', '1c', '1a', '', '1c', '', '', '2', '', '', '3', '', '2', '', '3', '3', '', '2', '', '', '2', '', '4', '', '2', '', '', '', '', '', '2', '', '2', '', '2', '', '2', '2', '2', '', '2', '2', '2', '2', '', '2', '', '', '', '', '2', '', '2', '', '2', '2', 'two', '2', '2', '4a', '3', '3', '1c', '1c', '2', '2', '2', 'triad', '2', '2', '2', '2', '2', '2', '1a', '1', 'triplet', 'iii', '2', '2', '1c', '2', '2', '1a', 'deuce', '2', '2', '2', '2', '3y', '2', '2', '1c', 'II', '3', '2', '2', '1', '2', '3', '3', '2', '2', '2', '2', '2', '2', '1a', '1a', 'single', '1', '3', '2', '2', '1c', '2', '2', '1a', 'two', '2', '2', '2', '2', '2', '2', '2', '3y', '', '2', '', '1c', '', '', '2', '', '2', '', '', '', '', '', 'trio', '', '', '2', '', '', 'is', '', '1c', '1a', '', '1c', '', '', '2', '', '', '3', '', '2', '', '3', '3', '', '2', '', '1c', '', '2', '', '4', '', '2', '', '', '', '', '2', '', '2', '', '2', '', '2', '', '2', '2', 'deuce', '', '2', '2', '2', '2', '', '2', '', '', '', '', '2', '', '2', '', '2', '2', '2', '2', '2', '4a', '3', '3', '2', '1c', '2', '2', '1a', '3', '2', '2', '2', '2', '2', '3', '2', '1', '3', '1a', '2', '2', '1c', '2', '2', '1a', '2', '2', '2', '2', '2', '3y', '2', '2', '1c', '2', '2', '2', '2', '1', '2', '3', '3', '2', '2', '2', '2', '2', '2', '1a', '2', '1', '1', '3', '2', '2', '1c', '2', '2', '1a', '2', '2', '2', '1c', '2', '1a', '2', '2', '3y', '', '2', '', '1c', '', '', '2', '', '2', '', '', '', '', '', '3', '', '', '2', '', '', 'is', '', '1c', '3', '', '1c', '', '', '2', '', '', '3', '', '2', '', '3', '3', '', '2', '', '1c', '', '2', '', '4', '', '2', '', '', '', '', '2', '', '2', '', '2', '', '2', '', '2', '2', '2', '', '2', '2', '2', '2', '', '2', '', '', '', '', '2', '', '2', '', '2', '2', '2', '2', 'trine', '2', '4a', '3', '3', '1c', '1c', '2', '2', '2', '3', '2', '2', '2', '2', '2', '2', '1a', '1', '3', '3', '2', '2', '1c', 'II', '2', '2', '1a', '2', '2', '2', '2', '2', '3y', '2', '2', '1c', 'quaternion', '2', 'deuce', '3', '2', '2', '1', '2', '3', '3', '2', '2', '2', '2', '2', '2', '1a', '1a', '1', '1', '3', '2', '2', '1c', '2', '2', '1a', '2', '2', '2', '2', '2', '2', '2', '2', '3y', '', '2', '', '1c', '', '', '2', '', '2', '', '', '', '', '', '3', '', '', '2', '', '', 'is', '', '1c', '1a', '', '1c', '', '', '2', '', '', '3', '', '2', '', '3', '3', '', '2', '', '1c', '', '2', '', '4', '', 'unity', '2', '', '', '', '', '2', '', '2', '', '2', '', '2', '', '2', '2', '2', '', '2', '2', '2', '2', '', '2', '', '', '', '', '2', '', '2', '', '2', '2', '2', '2', '2', '4a', '3', '1c', '1c', '2', '2', '2', '3', '2', '2', '2', '2', '2', '1a', '1', '3', '3', '2', '2', '1c', '2', '2', '1a', '2', '2', '2', '2', '3y', '2', '1c', '2', '3', '2', '2', '1', '2', '3', '2', '2', '2', '2', '2', '2', '1a', '1a', '1', '3', '2', '1c', '2', '2', '1a', '2', '2', '2', '2', '2', '2', '2', '3y', '', '2', '', '1c', '', '', '2', '', '2', '', '', '', '', '', '3', '', '', '2', '', '', 'is', '', '1c', '1a', '', '1c', '', '', '2', '', '', '3', '', '2', '', '3', '3', '', '2', '', '', '2', '', '4', '', '2', '', '', '', '', '', '2', '', '2', '', '2', '', '2', '2', '2', '', '2', '2', '2', '2', '', '2', '', '', '', '', '2', '', '2', '', '2', '2', 'two', '2', '2', '4a', '3', '3', '1c', '1c', '2', '2', '2', 'triad', '2', '2', '2', '2', '2', '2', '1a', '1', 'triplet', 'iii', '2', '2', '1c', '2', '2', '1a', 'deuce', '2', '2', '2', '2', '3y', '2', '2', '1c', 'II', '3', '2', '2', '1', '2', '3', '3', '2', '2', '2', '2', '2', '2', '1a', '1a', 'single', '1', '3', '2', '2', '1c', '2', '2', '1a', 'two', '2', '2', '2', '2', '2', '2', '2', '3y', '', '2', '', '1c', '', '', '2', '', '2', '', '', '', '', '', 'trio', '', '', '2', '', '', 'is', '', '1c', '1a', '', '1c', '', '', '2', '', '', '3', '', '2', '', '3', '3', '', '2', '', '1c', '', '2', '', '4', '', '2', '', '', '', '', '2', '', '2', '', '2', '', '2', '', '2', '2', 'deuce', '', '2', '2', '2', '2', '', '2', '', '', '', '', '2', '', '2', '']\n",
            "['1', '0', '0', '0', 'o', '1a', 'o', '2a', 'x', 'x', 'o', 'o', 'o', 'o', '0', 'o', '1a', '1a', '1', '1', '1', '0', 'o', 'o', '1a', 'x', '1a', '2a', '0', 'o', 'o', '2a', 'o', '1a', '0', '2a', 'x', 'o', '0', 'o', '0', '1', '1', '1', '1a', '0', 'o', '0', '0', '1a', '1a', '1', '1', '1', '1', '0', 'o', 'o', '1a', 'x', '1a', '2a', '0', 'o', 'o', '1', '2a', 'o', 'o', '1a', '1a', '0', '2a', '', 'x', '', '0', '', '', 'o', '', '2a', '', '', '', '', '', '0', '', '', '1', '', '', 'o', '', 'o', '2a', '', 'o', '', '', 'o', '', '', '0', '', 'o', '', '1', '1', '', '3', '', '0', '', '1a', '', '0', '', 'o', '', '', '', '', '3a', '', 'o', '', 'o', '', '3', '', '3', 'x', '0', '', '3', '3', '3', '3', '', '3a', '', '', '', '', '1', '', 'o', '', '1', '0', '0', '0', 'o', '1a', '2a', '2a', 'x', 'x', 'o', 'o', 'o', 'o', '0', '0', '1a', '1a', '1', '1', '1', '0', 'o', 'o', '1a', 'x', '1a', '2a', '0', 'o', 'o', '2a', 'o', '1a', '0', '2a', 'x', 'o', '0', 'o', '0', 'O', '1', '1', '1', '1a', 'o', 'o', '0', 'cypher', '0', '1a', '1a', '1', '1', '1', '1', '0', 'o', 'o', '1a', 'oxygen', 'x', '1a', '2a', '0', 'o', 'o', '2a', '2a', 'o', 'o', '1a', '0', '0', '2a', '', 'x', '', '0', '', '', 'o', '', '1', '', '', '', '', '', '0', '', '', '1', '', '', 'o', '', 'o', 'o', '', 'nought', 'o', '', '', 'o', '', '', '1a', '', 'o', '', '1', '1', '', '3', '', '0', '', '1a', '', '0', '', 'o', '', '', '', '', '3a', '', 'nought', 'o', '', 'o', '', '3', '', '3', 'x', '0', '', '3', '3', '3', '3', '', '3a', '', '', '', '', '1', '', 'o', '', '1', '0', '0', 'nought', 'o', '1a', '2a', '2a', 'x', 'x', 'o', 'o', 'o', 'o', '0', '0', '1a', '1a', '1', '1', '1', '0', 'o', 'o', '1a', 'x', '1a', '2a', '0', 'o', 'o', '2a', 'o', '1a', '0', '2a', 'x', 'o', '0', 'o', '0', '1', '1', 'I', '1a', 'o', 'o', '0', '0', '1a', '1a', '1', 'unity', 'one', '1', '0', 'o', 'o', '1a', 'Adam', '1a', '2a', '0', 'o', 'o', '2a', '2a', 'o', 'o', '1a', '0', '0', '2a', '', 'x', '', '0', '', '', 'o', '', '1', '', '', '', '', '', '0', '', '', '1', '', '', 'o', '', 'o', 'o', '', 'o', '', '', 'o', '', '', '1a', '', 'o', '', '1', '1', '', 'triplet', '', '0', '', '1a', '', '0', '', 'o', '', '', '', '', '3a', '', 'o', '', 'o', '', '3', '', 'three', 'x', '0', '', 'iii', 'triad', 'ternary', '3', '', '3a', '', '', '', '', '1', '', 'o', '', '0', '0', '0', '1a', '2a', '2a', 'x', 'x', 'o', 'o', 'o', 'o', '0', '1a', '1a', '1', '1', '0', 'o', '1a', 'x', '1a', '2a', '0', 'o', 'o', '2a', 'o', '1a', 'x', 'o', '0', 'o', '0', '1', '1', '1', '1a', 'o', 'o', '0', '0', '1a', '1a', '1', '1', '1', '1', '0', 'o', 'o', '1a', 'x', '1a', '2a', '0', 'o', 'o', '2a', 'o', 'o', '1a', '0', '0', '2a', '', 'x', '', '0', '', '', 'o', '', '1', '', '', '', '', '', '0', '', '', '1', '', '', 'o', '', 'o', 'o', '', 'o', '', '', 'o', '', '', '1a', '', 'o', '', '1', '1', '', '3', '', '0', '', '1a', '', '0', '', 'o', '', '', '', '', '3a', '', 'o', '', 'o', '', '', '3', 'x', '0', '', '3', '3', '3', '3', '', '3a', '', '', '', '', '1', '', '', '1', '0', '0', '0', 'o', '1a', 'o', '2a', 'x', 'x', 'o', 'o', 'o', 'o', '0', 'o', '1a', '1a', '1', '1', '1', '0', 'o', 'o', '1a', 'x', '1a', '2a', '0', 'o', 'o', '2a', 'o', '1a', '0', '2a', 'x', 'o', '0', 'o', '0', '1', '1', '1', '1a', '0', 'o', '0', '0', '1a', '1a', '1', '1', '1', '1', '0', 'o', 'o', '1a', 'x', '1a', '2a', '0', 'o', 'o', '1', '2a', 'o', 'o', '1a', '1a', '0', '2a', '', 'x', '', '0', '', '', 'o', '', '2a', '', '', '', '', '', '0', '', '', '1', '', '', 'o', '', 'o', '2a', '', 'o', '', '', 'o', '', '', '0', '', 'o', '', '1', '1', '', '3', '', '0', '', '1a', '', '0', '', 'o', '', '', '', '', '3a', '', 'o', '', 'o', '', '3', '', '3', 'x', '0', '', '3', '3', '3', '3', '', '3a', '', '', '', '', '1', '', 'o', '', '1', '0', '0', '0', 'o', '1a', '2a', '2a', 'x', 'x', 'o', 'o', 'o', 'o', '0', '0', '1a', '1a', '1', '1', '1', '0', 'o', 'o', '1a', 'x', '1a', '2a', '0', 'o', 'o', '2a', 'o', '1a', '0', '2a', 'x', 'o', '0', 'o', '0', 'O', '1', '1', '1', '1a', 'o', 'o', '0', 'cypher', '0', '1a', '1a', '1', '1', '1', '1', '0', 'o', 'o', '1a', 'oxygen', 'x', '1a', '2a', '0', 'o', 'o', '2a', '2a', 'o', 'o', '1a', '0', '0', '2a', '', 'x', '', '0', '', '', 'o', '', '1', '', '', '', '', '', '0', '', '', '1', '', '', 'o', '', 'o', 'o', '', 'nought', 'o', '', '', 'o', '', '', '1a', '', 'o', '', '1', '1', '', '3', '', '0', '', '1a', '', '0', '', 'o', '', '', '', '', '3a', '', 'nought', 'o', '', 'o', '', '3', '', '3', 'x', '0', '', '3', '3', '3', '3', '', '3a', '', '', '', '', '1', '', 'o', '', '1', '0', '0', 'nought', 'o', '1a', '2a', '2a', 'x', 'x', 'o', 'o', 'o', 'o', '0', '0', '1a', '1a', '1', '1', '1', '0', 'o', 'o', '1a', 'x', '1a', '2a', '0', 'o', 'o', '2a', 'o', '1a', '0', '2a', 'x', 'o', '0', 'o', '0', '1', '1', 'I', '1a', 'o', 'o', '0', '0', '1a', '1a', '1', 'unity', 'one', '1', '0', 'o', 'o', '1a', 'Adam', '1a', '2a', '0', 'o', 'o', '2a', '2a', 'o', 'o', '1a', '0', '0', '2a', '', 'x', '', '0', '', '', 'o', '', '1', '', '', '', '', '', '0', '', '', '1', '', '', 'o', '', 'o', 'o', '', 'o', '', '', 'o', '', '', '1a', '', 'o', '', '1', '1', '', 'triplet', '', '0', '', '1a', '', '0', '', 'o', '', '', '', '', '3a', '', 'o', '', 'o', '', '3', '', 'three', 'x', '0', '', 'iii', 'triad', 'ternary', '3', '', '3a', '', '', '', '', '1', '', 'o', '', '0', '0', '0', '1a', '2a', '2a', 'x', 'x', 'o', 'o', 'o', 'o', '0', '1a', '1a', '1', '1', '0', 'o', '1a', 'x', '1a', '2a', '0', 'o', 'o', '2a', 'o', '1a', 'x', 'o', '0', 'o', '0', '1', '1', '1', '1a', 'o', 'o', '0', '0', '1a', '1a', '1', '1', '1', '1', '0', 'o', 'o', '1a', 'x', '1a', '2a', '0', 'o', 'o', '2a', 'o', 'o', '1a', '0', '0', '2a', '', 'x', '', '0', '', '', 'o', '', '1', '', '', '', '', '', '0', '', '', '1', '', '', 'o', '', 'o', 'o', '', 'o', '', '', 'o', '', '', '1a', '', 'o', '', '1', '1', '', '3', '', '0', '', '1a', '', '0', '', 'o', '', '', '', '', '3a', '', 'o', '', 'o', '', '', '3', 'x', '0', '', '3', '3', '3', '3', '', '3a', '', '', '', '', '1', '', '', '1', '0', '0', '0', 'o', '1a', 'o', '2a', 'x', 'x', 'o', 'o', 'o', 'o', '0', 'o', '1a', '1a', '1', '1', '1', '0', 'o', 'o', '1a', 'x', '1a', '2a', '0', 'o', 'o', '2a', 'o', '1a', '0', '2a', 'x', 'o', '0', 'o', '0', '1', '1', '1', '1a', '0', 'o', '0', '0', '1a', '1a', '1', '1', '1', '1', '0', 'o', 'o', '1a', 'x', '1a', '2a', '0', 'o', 'o', '1', '2a', 'o', 'o', '1a', '1a', '0', '2a', '', 'x', '', '0', '', '', 'o', '', '2a', '', '', '', '', '', '0', '', '', '1', '', '', 'o', '', 'o', '2a', '', 'o', '', '', 'o', '', '', '0', '', 'o', '', '1', '1', '', '3', '', '0', '', '1a', '', '0', '', 'o', '', '', '', '', '3a', '', 'o', '', 'o', '', '3', '', '3', 'x', '0', '', '3', '3', '3', '3', '', '3a', '', '', '', '', '1', '', 'o', '', '1', '0', '0', '0', 'o', '1a', '2a', '2a', 'x', 'x', 'o', 'o', 'o', 'o', '0', '0', '1a', '1a', '1', '1', '1', '0', 'o', 'o', '1a', 'x', '1a', '2a', '0', 'o', 'o', '2a', 'o', '1a', '0', '2a', 'x', 'o', '0', 'o', '0', 'O', '1', '1', '1', '1a', 'o', 'o', '0', 'cypher', '0', '1a', '1a', '1', '1', '1', '1', '0', 'o', 'o', '1a', 'oxygen', 'x', '1a', '2a', '0', 'o', 'o', '2a', '2a', 'o', 'o', '1a', '0', '0', '2a', '', 'x', '', '0', '', '', 'o', '', '1', '', '', '', '', '', '0', '', '', '1', '', '', 'o', '', 'o', 'o', '', 'nought', 'o', '', '', 'o', '', '', '1a', '', 'o', '', '1', '1', '', '3', '', '0', '', '1a', '', '0', '', 'o', '', '', '', '', '3a', '', 'nought', 'o', '', 'o', '', '3', '', '3', 'x', '0', '', '3', '3', '3', '3', '', '3a', '', '', '', '', '1', '', 'o', '', '1', '0', '0', 'nought', 'o', '1a', '2a', '2a', 'x', 'x', 'o', 'o', 'o', 'o', '0', '0', '1a', '1a', '1', '1', '1', '0', 'o', 'o', '1a', 'x', '1a', '2a', '0', 'o', 'o', '2a', 'o', '1a', '0', '2a', 'x', 'o', '0', 'o', '0', '1', '1', 'I', '1a', 'o', 'o', '0', '0', '1a', '1a', '1', 'unity', 'one', '1', '0', 'o', 'o', '1a', 'Adam', '1a', '2a', '0', 'o', 'o', '2a', '2a', 'o', 'o', '1a', '0', '0', '2a', '', 'x', '', '0', '', '', 'o', '', '1', '', '', '', '', '', '0', '', '', '1', '', '', 'o', '', 'o', 'o', '', 'o', '', '', 'o', '', '', '1a', '', 'o', '', '1', '1', '', 'triplet', '', '0', '', '1a', '', '0', '', 'o', '', '', '', '', '3a', '', 'o', '', 'o', '', '3', '', 'three', 'x', '0', '', 'iii', 'triad', 'ternary', '3', '', '3a', '', '', '', '', '1', '', 'o', '', '0', '0', '0', '1a', '2a', '2a', 'x', 'x', 'o', 'o', 'o', 'o', '0', '1a', '1a', '1', '1', '0', 'o', '1a', 'x', '1a', '2a', '0', 'o', 'o', '2a', 'o', '1a', 'x', 'o', '0', 'o', '0', '1', '1', '1', '1a', 'o', 'o', '0', '0', '1a', '1a', '1', '1', '1', '1', '0', 'o', 'o', '1a', 'x', '1a', '2a', '0', 'o', 'o', '2a', 'o', 'o', '1a', '0', '0', '2a', '', 'x', '', '0', '', '', 'o', '', '1', '', '', '', '', '', '0', '', '', '1', '', '', 'o', '', 'o', 'o', '', 'o', '', '', 'o', '', '', '1a', '', 'o', '', '1', '1', '', '3', '', '0', '', '1a', '', '0', '', 'o', '', '', '', '', '3a', '', 'o', '', 'o', '', '', '3', 'x', '0', '', '3', '3', '3', '3', '', '3a', '', '', '', '', '1', '', '', '1', '0', '0', '0', 'o', '1a', 'o', '2a', 'x', 'x', 'o', 'o', 'o', 'o', '0', 'o', '1a', '1a', '1', '1', '1', '0', 'o', 'o', '1a', 'x', '1a', '2a', '0', 'o', 'o', '2a', 'o', '1a', '0', '2a', 'x', 'o', '0', 'o', '0', '1', '1', '1', '1a', '0', 'o', '0', '0', '1a', '1a', '1', '1', '1', '1', '0', 'o', 'o', '1a', 'x', '1a', '2a', '0', 'o', 'o', '1', '2a', 'o', 'o', '1a', '1a', '0', '2a', '', 'x', '', '0', '', '', 'o', '', '2a', '', '', '', '', '', '0', '', '', '1', '', '', 'o', '', 'o', '2a', '', 'o', '', '', 'o', '', '', '0', '', 'o', '', '1', '1', '', '3', '', '0', '', '1a', '', '0', '', 'o', '', '', '', '', '3a', '', 'o', '', 'o', '', '3', '', '3', 'x', '0', '', '3', '3', '3', '3', '', '3a', '', '', '', '', '1', '', 'o', '', '1', '0', '0', '0', 'o', '1a', '2a', '2a', 'x', 'x', 'o', 'o', 'o', 'o', '0', '0', '1a', '1a', '1', '1', '1', '0', 'o', 'o', '1a', 'x', '1a', '2a', '0', 'o', 'o', '2a', 'o', '1a', '0', '2a', 'x', 'o', '0', 'o', '0', 'O', '1', '1', '1', '1a', 'o', 'o', '0', 'cypher', '0', '1a', '1a', '1', '1', '1', '1', '0', 'o', 'o', '1a', 'oxygen', 'x', '1a', '2a', '0', 'o', 'o', '2a', '2a', 'o', 'o', '1a', '0', '0', '2a', '', 'x', '', '0', '', '', 'o', '', '1', '', '', '', '', '', '0', '', '', '1', '', '', 'o', '', 'o', 'o', '', 'nought', 'o', '', '', 'o', '', '', '1a', '', 'o', '', '1', '1', '', '3', '', '0', '', '1a', '', '0', '', 'o', '', '', '', '', '3a', '', 'nought', 'o', '', 'o', '', '3', '', '3', 'x', '0', '', '3', '3', '3', '3', '', '3a', '', '', '', '', '1', '', 'o', '', '1', '0', '0', 'nought', 'o', '1a', '2a', '2a', 'x', 'x', 'o', 'o', 'o', 'o', '0', '0', '1a', '1a', '1', '1', '1', '0', 'o', 'o', '1a', 'x', '1a', '2a', '0', 'o', 'o', '2a', 'o', '1a', '0', '2a', 'x', 'o', '0', 'o', '0', '1', '1', 'I', '1a', 'o', 'o', '0', '0', '1a', '1a', '1', 'unity', 'one', '1', '0', 'o', 'o', '1a', 'Adam', '1a', '2a', '0', 'o', 'o', '2a', '2a', 'o', 'o', '1a', '0', '0', '2a', '', 'x', '', '0', '', '', 'o', '', '1', '', '', '', '', '', '0', '', '', '1', '', '', 'o', '', 'o', 'o', '', 'o', '', '', 'o', '', '', '1a', '', 'o', '', '1', '1', '', 'triplet', '', '0', '', '1a', '', '0', '', 'o', '', '', '', '', '3a', '', 'o', '', 'o', '', '3', '', 'three', 'x', '0', '', 'iii', 'triad', 'ternary', '3', '', '3a', '', '', '', '', '1', '', 'o', '', '0', '0', '0', '1a', '2a', '2a', 'x', 'x', 'o', 'o', 'o', 'o', '0', '1a', '1a', '1', '1', '0', 'o', '1a', 'x', '1a', '2a', '0', 'o', 'o', '2a', 'o', '1a', 'x', 'o', '0', 'o', '0', '1', '1', '1', '1a', 'o', 'o', '0', '0', '1a', '1a', '1', '1', '1', '1', '0', 'o', 'o', '1a', 'x', '1a', '2a', '0', 'o', 'o', '2a', 'o', 'o', '1a', '0', '0', '2a', '', 'x', '', '0', '', '', 'o', '', '1', '', '', '', '', '', '0', '', '', '1', '', '', 'o', '', 'o', 'o', '', 'o', '', '', 'o', '', '', '1a', '', 'o', '', '1', '1', '', '3', '', '0', '', '1a', '', '0', '', 'o', '', '', '', '', '3a', '', 'o', '', 'o', '', '', '3', 'x', '0', '', '3', '3', '3', '3', '', '3a', '', '', '', '', '1', '', '']\n",
            "['x', 'x', 'x', 'x', 'x', 'x', 'x', 'x', 'x', 'x', 'x', 'x', 'x', 'x', 'x', 'x', 'x', 'x', 'x', 'x', 'x', 'x', 'x', 'x', 'xrigh', 'x', 'x', 'x', 'x', 'x', 'x', 'x', 'x', 'x', 'x', 'x', 'x', 'x', 'xreceived', 'xsepara', 'x', 'xreceived', 'x', 'o', 'x', 'x', 'x', 'x', 'x', 'x', 'x', 'x', 'xrecieved', 'x', 'x', 'x1', 'x', 'x', 'xsec', 'x', 'x', 'x', 'xspeci', 'x', 'x', 'x', 'x', 'x', 'x', 'x', 'x', 'xlef', 'x', '', 'x', '', 'x', '', '', 'x', '', 'xreceived', '', '', '', '', '', 'x', '', '', 'xsec', '', '', 'x', '', 'x', 'x', '', 'x', '', '', 'x', '', '', 'x', '', 'xrigh', '', 'x', 'xreceived', '', 'xca', '', 'x', '', 'x', '', 'x', '', 'x', '', '', '', '', 'x', '', 'x', '', 'x', '', 'x', '', 'x', 'xreceived', 'x', '', 'x', 'x', 'x', 'x', '', 'x', '', '', '', '', 'x', '', 'x', '', 'x', 'x', 'x', 'x', 'x', 'x', 'x', 'x', 'x', 'x', 'x', 'x', 'x', 'x', 'x', 'x', 'x', 'x', 'x', 'x', 'x', 'x', 'x', 'x', 'x', 'x', 'x', 'x', 'x', 'x', 'x', 'x', 'x', 'x', 'x', 'x', 'xreceived', 'xsepara', 'x', 'x', 'x', 'x', 'x', 'x', 'x', 'x', 'x', 'x', 'xrecieved', 'x', 'x', 'x1', 'x', 'x', 'xsec', 'x', 'x', 'x', 'xspeci', 'x', 'x', 'x', 'x', 'x', 'x', 'xlef', 'x', '', 'x', '', 'x', '', '', 'x', '', 'xreceived', '', '', '', '', '', 'x', '', '', '', '', 'xrigh', '', 'x', 'x', '', 'x', '', '', 'x', '', '', 'x', '', 'xrigh', '', 'x', 'xreceived', '', 'xca', '', 'x', '', '', '', 'x', '', '', '', '', 'x', '', 'x', '', 'x', '', 'x', '', 'x', 'xreceived', '', 'x', 'x', 'x', 'x', '', 'x', '', '', '', '', 'x', '', 'x', '', 'x', 'x', 'x', 'x', 'x', 'x', 'x', 'x', 'x', 'X', 'x', 'x', 'x', 'x', 'x', 'x', 'x', 'x', 'x', 'Adam', 'x', 'x', 'x', 'x', 'x', 'x', 'x', 'x', 'x', 'x', 'x', 'x', 'x', 'x', 'x', 'cristal', 'x', 'x', 'x', 'x', 'x', 'xreceived', 'xsepara', 'x', 'xreceived', 'x', 'o', 'x', 'Adam', 'x', 'x', 'x', 'x', 'x', 'x', 'x', 'xrecieved', 'x', 'x', 'X', 'x1', 'x', 'x', 'xsec', 'x', 'x', 'x', 'xspeci', 'x', 'x', 'x', 'x', 'x', 'x', 'x', 'x', 'xlef', 'x', '', 'x', '', 'x', '', '', 'x', '', 'xreceived', '', '', '', '', '', 'x', '', '', 'xsec', '', '', 'xrigh', '', 'x', 'x', '', 'x', '', '', 'x', '', '', 'x', '', 'xrigh', '', 'x', 'xreceived', '', 'xca', '', 'x', '', 'x', '', 'x', '', 'x', '', '', '', '', 'x', '', 'x', '', 'x', '', 'x', '', 'x', 'xreceived', 'x', '', 'x', 'x', 'x', 'x', '', 'x', '', '', '', '', 'x', '', 'x', '', 'x', 'x', 'x', 'x', 'x', 'x', 'x', 'x', 'x', 'x', 'x', 'x', 'X', 'x', 'x', 'x', 'XTC', 'x', 'x', 'x', 'x', 'x', 'x', 'x', 'x', 'x', 'x', 'x', 'x', 'x', 'ex', 'x', 'x', 'x', 'x', 'x', 'x', 'x', 'xreceived', 'xsepara', 'x', 'xreceived', 'x', 'o', 'x', 'x', 'x', 'x', 'x', 'go', 'x', 'x', 'xrecieved', 'x', 'x', 'x1', 'x', 'x', 'xsec', 'x', 'x', 'x', 'xspeci', 'x', 'x', 'x', 'x', 'x', 'x', 'x', 'x', 'xlef', 'x', '', 'tenner', '', 'x', '', '', 'x', '', 'xreceived', '', '', '', '', '', 'X', '', '', 'xsec', '', '', 'xrigh', '', 'x', 'x', '', 'x', '', '', 'x', '', '', 'ex', '', 'xrigh', '', 'x', 'xreceived', '', 'xca', '', 'x', '', '10', '', 'x', '', 'x', '', '', '', '', 'ten', '', 'x', '', 'x', '', 'x', '', 'cristal', 'xreceived', 'x', '', 'x', 'x', 'x', 'x', '', 'x', '', '', '', '', 'x', '', 'x', '', 'x', 'x', 'x', 'x', 'x', 'x', 'x', 'x', 'x', 'x', 'x', 'x', 'x', 'x', 'x', 'x', 'x', 'x', 'x', 'x', 'x', 'x', 'x', 'x', 'xrigh', 'x', 'x', 'x', 'x', 'x', 'x', 'x', 'x', 'x', 'x', 'x', 'x', 'x', 'xreceived', 'xsepara', 'x', 'xreceived', 'x', 'o', 'x', 'x', 'x', 'x', 'x', 'x', 'x', 'x', 'xrecieved', 'x', 'x', 'x1', 'x', 'x', 'xsec', 'x', 'x', 'x', 'xspeci', 'x', 'x', 'x', 'x', 'x', 'x', 'x', 'x', 'xlef', 'x', '', 'x', '', 'x', '', '', 'x', '', 'xreceived', '', '', '', '', '', 'x', '', '', 'xsec', '', '', 'x', '', 'x', 'x', '', 'x', '', '', 'x', '', '', 'x', '', 'xrigh', '', 'x', 'xreceived', '', 'xca', '', 'x', '', 'x', '', 'x', '', 'x', '', '', '', '', 'x', '', 'x', '', 'x', '', 'x', '', 'x', 'xreceived', 'x', '', 'x', 'x', 'x', 'x', '', 'x', '', '', '', '', 'x', '', 'x', '', 'x', 'x', 'x', 'x', 'x', 'x', 'x', 'x', 'x', 'x', 'x', 'x', 'x', 'x', 'x', 'x', 'x', 'x', 'x', 'x', 'x', 'x', 'x', 'x', 'x', 'x', 'x', 'x', 'x', 'x', 'x', 'x', 'x', 'x', 'x', 'x', 'xreceived', 'xsepara', 'x', 'x', 'x', 'x', 'x', 'x', 'x', 'x', 'x', 'x', 'xrecieved', 'x', 'x', 'x1', 'x', 'x', 'xsec', 'x', 'x', 'x', 'xspeci', 'x', 'x', 'x', 'x', 'x', 'x', 'xlef', 'x', '', 'x', '', 'x', '', '', 'x', '', 'xreceived', '', '', '', '', '', 'x', '', '', '', '', 'xrigh', '', 'x', 'x', '', 'x', '', '', 'x', '', '', 'x', '', 'xrigh', '', 'x', 'xreceived', '', 'xca', '', 'x', '', '', '', 'x', '', '', '', '', 'x', '', 'x', '', 'x', '', 'x', '', 'x', 'xreceived', '', 'x', 'x', 'x', 'x', '', 'x', '', '', '', '', 'x', '', 'x', '', 'x', 'x', 'x', 'x', 'x', 'x', 'x', 'x', 'x', 'X', 'x', 'x', 'x', 'x', 'x', 'x', 'x', 'x', 'x', 'Adam', 'x', 'x', 'x', 'x', 'x', 'x', 'x', 'x', 'x', 'x', 'x', 'x', 'x', 'x', 'x', 'cristal', 'x', 'x', 'x', 'x', 'x', 'xreceived', 'xsepara', 'x', 'xreceived', 'x', 'o', 'x', 'Adam', 'x', 'x', 'x', 'x', 'x', 'x', 'x', 'xrecieved', 'x', 'x', 'X', 'x1', 'x', 'x', 'xsec', 'x', 'x', 'x', 'xspeci', 'x', 'x', 'x', 'x', 'x', 'x', 'x', 'x', 'xlef', 'x', '', 'x', '', 'x', '', '', 'x', '', 'xreceived', '', '', '', '', '', 'x', '', '', 'xsec', '', '', 'xrigh', '', 'x', 'x', '', 'x', '', '', 'x', '', '', 'x', '', 'xrigh', '', 'x', 'xreceived', '', 'xca', '', 'x', '', 'x', '', 'x', '', 'x', '', '', '', '', 'x', '', 'x', '', 'x', '', 'x', '', 'x', 'xreceived', 'x', '', 'x', 'x', 'x', 'x', '', 'x', '', '', '', '', 'x', '', 'x', '', 'x', 'x', 'x', 'x', 'x', 'x', 'x', 'x', 'x', 'x', 'x', 'x', 'X', 'x', 'x', 'x', 'XTC', 'x', 'x', 'x', 'x', 'x', 'x', 'x', 'x', 'x', 'x', 'x', 'x', 'x', 'ex', 'x', 'x', 'x', 'x', 'x', 'x', 'x', 'xreceived', 'xsepara', 'x', 'xreceived', 'x', 'o', 'x', 'x', 'x', 'x', 'x', 'go', 'x', 'x', 'xrecieved', 'x', 'x', 'x1', 'x', 'x', 'xsec', 'x', 'x', 'x', 'xspeci', 'x', 'x', 'x', 'x', 'x', 'x', 'x', 'x', 'xlef', 'x', '', 'tenner', '', 'x', '', '', 'x', '', 'xreceived', '', '', '', '', '', 'X', '', '', 'xsec', '', '', 'xrigh', '', 'x', 'x', '', 'x', '', '', 'x', '', '', 'ex', '', 'xrigh', '', 'x', 'xreceived', '', 'xca', '', 'x', '', '10', '', 'x', '', 'x', '', '', '', '', 'ten', '', 'x', '', 'x', '', 'x', '', 'cristal', 'xreceived', 'x', '', 'x', 'x', 'x', 'x', '', 'x', '', '', '', '', 'x', '', 'x', '', 'x', 'x', 'x', 'x', 'x', 'x', 'x', 'x', 'x', 'x', 'x', 'x', 'x', 'x', 'x', 'x', 'x', 'x', 'x', 'x', 'x', 'x', 'x', 'x', 'xrigh', 'x', 'x', 'x', 'x', 'x', 'x', 'x', 'x', 'x', 'x', 'x', 'x', 'x', 'xreceived', 'xsepara', 'x', 'xreceived', 'x', 'o', 'x', 'x', 'x', 'x', 'x', 'x', 'x', 'x', 'xrecieved', 'x', 'x', 'x1', 'x', 'x', 'xsec', 'x', 'x', 'x', 'xspeci', 'x', 'x', 'x', 'x', 'x', 'x', 'x', 'x', 'xlef', 'x', '', 'x', '', 'x', '', '', 'x', '', 'xreceived', '', '', '', '', '', 'x', '', '', 'xsec', '', '', 'x', '', 'x', 'x', '', 'x', '', '', 'x', '', '', 'x', '', 'xrigh', '', 'x', 'xreceived', '', 'xca', '', 'x', '', 'x', '', 'x', '', 'x', '', '', '', '', 'x', '', 'x', '', 'x', '', 'x', '', 'x', 'xreceived', 'x', '', 'x', 'x', 'x', 'x', '', 'x', '', '', '', '', 'x', '', 'x', '', 'x', 'x', 'x', 'x', 'x', 'x', 'x', 'x', 'x', 'x', 'x', 'x', 'x', 'x', 'x', 'x', 'x', 'x', 'x', 'x', 'x', 'x', 'x', 'x', 'x', 'x', 'x', 'x', 'x', 'x', 'x', 'x', 'x', 'x', 'x', 'x', 'xreceived', 'xsepara', 'x', 'x', 'x', 'x', 'x', 'x', 'x', 'x', 'x', 'x', 'xrecieved', 'x', 'x', 'x1', 'x', 'x', 'xsec', 'x', 'x', 'x', 'xspeci', 'x', 'x', 'x', 'x', 'x', 'x', 'xlef', 'x', '', 'x', '', 'x', '', '', 'x', '', 'xreceived', '', '', '', '', '', 'x', '', '', '', '', 'xrigh', '', 'x', 'x', '', 'x', '', '', 'x', '', '', 'x', '', 'xrigh', '', 'x', 'xreceived', '', 'xca', '', 'x', '', '', '', 'x', '', '', '', '', 'x', '', 'x', '', 'x', '', 'x', '', 'x', 'xreceived', '', 'x', 'x', 'x', 'x', '', 'x', '', '', '', '', 'x', '', 'x', '', 'x', 'x', 'x', 'x', 'x', 'x', 'x', 'x', 'x', 'X', 'x', 'x', 'x', 'x', 'x', 'x', 'x', 'x', 'x', 'Adam', 'x', 'x', 'x', 'x', 'x', 'x', 'x', 'x', 'x', 'x', 'x', 'x', 'x', 'x', 'x', 'cristal', 'x', 'x', 'x', 'x', 'x', 'xreceived', 'xsepara', 'x', 'xreceived', 'x', 'o', 'x', 'Adam', 'x', 'x', 'x', 'x', 'x', 'x', 'x', 'xrecieved', 'x', 'x', 'X', 'x1', 'x', 'x', 'xsec', 'x', 'x', 'x', 'xspeci', 'x', 'x', 'x', 'x', 'x', 'x', 'x', 'x', 'xlef', 'x', '', 'x', '', 'x', '', '', 'x', '', 'xreceived', '', '', '', '', '', 'x', '', '', 'xsec', '', '', 'xrigh', '', 'x', 'x', '', 'x', '', '', 'x', '', '', 'x', '', 'xrigh', '', 'x', 'xreceived', '', 'xca', '', 'x', '', 'x', '', 'x', '', 'x', '', '', '', '', 'x', '', 'x', '', 'x', '', 'x', '', 'x', 'xreceived', 'x', '', 'x', 'x', 'x', 'x', '', 'x', '', '', '', '', 'x', '', 'x', '', 'x', 'x', 'x', 'x', 'x', 'x', 'x', 'x', 'x', 'x', 'x', 'x', 'X', 'x', 'x', 'x', 'XTC', 'x', 'x', 'x', 'x', 'x', 'x', 'x', 'x', 'x', 'x', 'x', 'x', 'x', 'ex', 'x', 'x', 'x', 'x', 'x', 'x', 'x', 'xreceived', 'xsepara', 'x', 'xreceived', 'x', 'o', 'x', 'x', 'x', 'x', 'x', 'go', 'x', 'x', 'xrecieved', 'x', 'x', 'x1', 'x', 'x', 'xsec', 'x', 'x', 'x', 'xspeci', 'x', 'x', 'x', 'x', 'x', 'x', 'x', 'x', 'xlef', 'x', '', 'tenner', '', 'x', '', '', 'x', '', 'xreceived', '', '', '', '', '', 'X', '', '', 'xsec', '', '', 'xrigh', '', 'x', 'x', '', 'x', '', '', 'x', '', '', 'ex', '', 'xrigh', '', 'x', 'xreceived', '', 'xca', '', 'x', '', '10', '', 'x', '', 'x', '', '', '', '', 'ten', '', 'x', '', 'x', '', 'x', '', 'cristal', 'xreceived', 'x', '', 'x', 'x', 'x', 'x', '', 'x', '', '', '', '', 'x', '', 'x', '', 'x', 'x', 'x', 'x', 'x', 'x', 'x', 'x', 'x', 'x', 'x', 'x', 'x', 'x', 'x', 'x', 'x', 'x', 'x', 'x', 'x', 'x', 'x', 'x', 'xrigh', 'x', 'x', 'x', 'x', 'x', 'x', 'x', 'x', 'x', 'x', 'x', 'x', 'x', 'xreceived', 'xsepara', 'x', 'xreceived', 'x', 'o', 'x', 'x', 'x', 'x', 'x', 'x', 'x', 'x', 'xrecieved', 'x', 'x', 'x1', 'x', 'x', 'xsec', 'x', 'x', 'x', 'xspeci', 'x', 'x', 'x', 'x', 'x', 'x', 'x', 'x', 'xlef', 'x', '', 'x', '', 'x', '', '', 'x', '', 'xreceived', '', '', '', '', '', 'x', '', '', 'xsec', '', '', 'x', '', 'x', 'x', '', 'x', '', '', 'x', '', '', 'x', '', 'xrigh', '', 'x', 'xreceived', '', 'xca', '', 'x', '', 'x', '', 'x', '', 'x', '', '', '', '', 'x', '', 'x', '', 'x', '', 'x', '', 'x', 'xreceived', 'x', '', 'x', 'x', 'x', 'x', '', 'x', '', '', '', '', 'x', '', 'x', '', 'x', 'x', 'x', 'x', 'x', 'x', 'x', 'x', 'x', 'x', 'x', 'x', 'x', 'x', 'x', 'x', 'x', 'x', 'x', 'x', 'x', 'x', 'x', 'x', 'x', 'x', 'x', 'x', 'x', 'x', 'x', 'x', 'x', 'x', 'x', 'x', 'xreceived', 'xsepara', 'x', 'x', 'x', 'x', 'x', 'x', 'x', 'x', 'x', 'x', 'xrecieved', 'x', 'x', 'x1', 'x', 'x', 'xsec', 'x', 'x', 'x', 'xspeci', 'x', 'x', 'x', 'x', 'x', 'x', 'xlef', 'x', '', 'x', '', 'x', '', '', 'x', '', 'xreceived', '', '', '', '', '', 'x', '', '', '', '', 'xrigh', '', 'x', 'x', '', 'x', '', '', 'x', '', '', 'x', '', 'xrigh', '', 'x', 'xreceived', '', 'xca', '', 'x', '', '', '', 'x', '', '', '', '', 'x', '', 'x', '', 'x', '', 'x', '', 'x', 'xreceived', '', 'x', 'x', 'x', 'x', '', 'x', '', '', '', '', 'x', '', 'x', '', 'x', 'x', 'x', 'x', 'x', 'x', 'x', 'x', 'x', 'X', 'x', 'x', 'x', 'x', 'x', 'x', 'x', 'x', 'x', 'Adam', 'x', 'x', 'x', 'x', 'x', 'x', 'x', 'x', 'x', 'x', 'x', 'x', 'x', 'x', 'x', 'cristal', 'x', 'x', 'x', 'x', 'x', 'xreceived', 'xsepara', 'x', 'xreceived', 'x', 'o', 'x', 'Adam', 'x', 'x', 'x', 'x', 'x', 'x', 'x', 'xrecieved', 'x', 'x', 'X', 'x1', 'x', 'x', 'xsec', 'x', 'x', 'x', 'xspeci', 'x', 'x', 'x', 'x', 'x', 'x', 'x', 'x', 'xlef', 'x', '', 'x', '', 'x', '', '', 'x', '', 'xreceived', '', '', '', '', '', 'x', '', '', 'xsec', '', '', 'xrigh', '', 'x', 'x', '', 'x', '', '', 'x', '', '', 'x', '', 'xrigh', '', 'x', 'xreceived', '', 'xca', '', 'x', '', 'x', '', 'x', '', 'x', '', '', '', '', 'x', '', 'x', '', 'x', '', 'x', '', 'x', 'xreceived', 'x', '', 'x', 'x', 'x', 'x', '', 'x', '', '', '', '', 'x', '', 'x', '', 'x', 'x', 'x', 'x', 'x', 'x', 'x', 'x', 'x', 'x', 'x', 'x', 'X', 'x', 'x', 'x', 'XTC', 'x', 'x', 'x', 'x', 'x', 'x', 'x', 'x', 'x', 'x', 'x', 'x', 'x', 'ex', 'x', 'x', 'x', 'x', 'x', 'x', 'x', 'xreceived', 'xsepara', 'x', 'xreceived', 'x', 'o', 'x', 'x', 'x', 'x', 'x', 'go', 'x', 'x', 'xrecieved', 'x', 'x', 'x1', 'x', 'x', 'xsec', 'x', 'x', 'x', 'xspeci', 'x', 'x', 'x', 'x', 'x', 'x', 'x', 'x', 'xlef', 'x', '', 'tenner', '', 'x', '', '', 'x', '', 'xreceived', '', '', '', '', '', 'X', '', '', 'xsec', '', '', 'xrigh', '', 'x', 'x', '', 'x', '', '', 'x', '', '', 'ex', '', 'xrigh', '', 'x', 'xreceived', '', 'xca', '', 'x', '', '10', '', 'x', '', 'x', '', '', '', '', 'ten', '', 'x', '', 'x', '', 'x', '', 'cristal', 'xreceived', 'x', '', 'x', 'x', 'x', 'x', '', 'x', '', '', '', '', 'x', '', 'x', '']\n"
          ]
        }
      ]
    },
    {
      "cell_type": "code",
      "source": [
        "datas3 = {'t': t_final_list3, 'n': n_final_list3, 'm': m_final_list3}\n",
        "df3 = pd.DataFrame(data=datas3)\n",
        "display(df3)\n"
      ],
      "metadata": {
        "colab": {
          "base_uri": "https://localhost:8080/",
          "height": 423
        },
        "id": "at7w5zLd2n08",
        "outputId": "162d7109-86e4-425f-ad43-5c70e804f6c8"
      },
      "execution_count": null,
      "outputs": [
        {
          "output_type": "display_data",
          "data": {
            "text/plain": [
              "      t  n  m\n",
              "0     2  1  x\n",
              "1     2  0  x\n",
              "2     2  0  x\n",
              "3     2  0  x\n",
              "4     2  o  x\n",
              "...  .. .. ..\n",
              "2375         \n",
              "2376  2     x\n",
              "2377     1   \n",
              "2378  2     x\n",
              "2379         \n",
              "\n",
              "[2380 rows x 3 columns]"
            ],
            "text/html": [
              "\n",
              "  <div id=\"df-d0f42b5a-ebb4-41a1-bf30-d1fae7f3b0a1\">\n",
              "    <div class=\"colab-df-container\">\n",
              "      <div>\n",
              "<style scoped>\n",
              "    .dataframe tbody tr th:only-of-type {\n",
              "        vertical-align: middle;\n",
              "    }\n",
              "\n",
              "    .dataframe tbody tr th {\n",
              "        vertical-align: top;\n",
              "    }\n",
              "\n",
              "    .dataframe thead th {\n",
              "        text-align: right;\n",
              "    }\n",
              "</style>\n",
              "<table border=\"1\" class=\"dataframe\">\n",
              "  <thead>\n",
              "    <tr style=\"text-align: right;\">\n",
              "      <th></th>\n",
              "      <th>t</th>\n",
              "      <th>n</th>\n",
              "      <th>m</th>\n",
              "    </tr>\n",
              "  </thead>\n",
              "  <tbody>\n",
              "    <tr>\n",
              "      <th>0</th>\n",
              "      <td>2</td>\n",
              "      <td>1</td>\n",
              "      <td>x</td>\n",
              "    </tr>\n",
              "    <tr>\n",
              "      <th>1</th>\n",
              "      <td>2</td>\n",
              "      <td>0</td>\n",
              "      <td>x</td>\n",
              "    </tr>\n",
              "    <tr>\n",
              "      <th>2</th>\n",
              "      <td>2</td>\n",
              "      <td>0</td>\n",
              "      <td>x</td>\n",
              "    </tr>\n",
              "    <tr>\n",
              "      <th>3</th>\n",
              "      <td>2</td>\n",
              "      <td>0</td>\n",
              "      <td>x</td>\n",
              "    </tr>\n",
              "    <tr>\n",
              "      <th>4</th>\n",
              "      <td>2</td>\n",
              "      <td>o</td>\n",
              "      <td>x</td>\n",
              "    </tr>\n",
              "    <tr>\n",
              "      <th>...</th>\n",
              "      <td>...</td>\n",
              "      <td>...</td>\n",
              "      <td>...</td>\n",
              "    </tr>\n",
              "    <tr>\n",
              "      <th>2375</th>\n",
              "      <td></td>\n",
              "      <td></td>\n",
              "      <td></td>\n",
              "    </tr>\n",
              "    <tr>\n",
              "      <th>2376</th>\n",
              "      <td>2</td>\n",
              "      <td></td>\n",
              "      <td>x</td>\n",
              "    </tr>\n",
              "    <tr>\n",
              "      <th>2377</th>\n",
              "      <td></td>\n",
              "      <td>1</td>\n",
              "      <td></td>\n",
              "    </tr>\n",
              "    <tr>\n",
              "      <th>2378</th>\n",
              "      <td>2</td>\n",
              "      <td></td>\n",
              "      <td>x</td>\n",
              "    </tr>\n",
              "    <tr>\n",
              "      <th>2379</th>\n",
              "      <td></td>\n",
              "      <td></td>\n",
              "      <td></td>\n",
              "    </tr>\n",
              "  </tbody>\n",
              "</table>\n",
              "<p>2380 rows × 3 columns</p>\n",
              "</div>\n",
              "      <button class=\"colab-df-convert\" onclick=\"convertToInteractive('df-d0f42b5a-ebb4-41a1-bf30-d1fae7f3b0a1')\"\n",
              "              title=\"Convert this dataframe to an interactive table.\"\n",
              "              style=\"display:none;\">\n",
              "        \n",
              "  <svg xmlns=\"http://www.w3.org/2000/svg\" height=\"24px\"viewBox=\"0 0 24 24\"\n",
              "       width=\"24px\">\n",
              "    <path d=\"M0 0h24v24H0V0z\" fill=\"none\"/>\n",
              "    <path d=\"M18.56 5.44l.94 2.06.94-2.06 2.06-.94-2.06-.94-.94-2.06-.94 2.06-2.06.94zm-11 1L8.5 8.5l.94-2.06 2.06-.94-2.06-.94L8.5 2.5l-.94 2.06-2.06.94zm10 10l.94 2.06.94-2.06 2.06-.94-2.06-.94-.94-2.06-.94 2.06-2.06.94z\"/><path d=\"M17.41 7.96l-1.37-1.37c-.4-.4-.92-.59-1.43-.59-.52 0-1.04.2-1.43.59L10.3 9.45l-7.72 7.72c-.78.78-.78 2.05 0 2.83L4 21.41c.39.39.9.59 1.41.59.51 0 1.02-.2 1.41-.59l7.78-7.78 2.81-2.81c.8-.78.8-2.07 0-2.86zM5.41 20L4 18.59l7.72-7.72 1.47 1.35L5.41 20z\"/>\n",
              "  </svg>\n",
              "      </button>\n",
              "      \n",
              "  <style>\n",
              "    .colab-df-container {\n",
              "      display:flex;\n",
              "      flex-wrap:wrap;\n",
              "      gap: 12px;\n",
              "    }\n",
              "\n",
              "    .colab-df-convert {\n",
              "      background-color: #E8F0FE;\n",
              "      border: none;\n",
              "      border-radius: 50%;\n",
              "      cursor: pointer;\n",
              "      display: none;\n",
              "      fill: #1967D2;\n",
              "      height: 32px;\n",
              "      padding: 0 0 0 0;\n",
              "      width: 32px;\n",
              "    }\n",
              "\n",
              "    .colab-df-convert:hover {\n",
              "      background-color: #E2EBFA;\n",
              "      box-shadow: 0px 1px 2px rgba(60, 64, 67, 0.3), 0px 1px 3px 1px rgba(60, 64, 67, 0.15);\n",
              "      fill: #174EA6;\n",
              "    }\n",
              "\n",
              "    [theme=dark] .colab-df-convert {\n",
              "      background-color: #3B4455;\n",
              "      fill: #D2E3FC;\n",
              "    }\n",
              "\n",
              "    [theme=dark] .colab-df-convert:hover {\n",
              "      background-color: #434B5C;\n",
              "      box-shadow: 0px 1px 3px 1px rgba(0, 0, 0, 0.15);\n",
              "      filter: drop-shadow(0px 1px 2px rgba(0, 0, 0, 0.3));\n",
              "      fill: #FFFFFF;\n",
              "    }\n",
              "  </style>\n",
              "\n",
              "      <script>\n",
              "        const buttonEl =\n",
              "          document.querySelector('#df-d0f42b5a-ebb4-41a1-bf30-d1fae7f3b0a1 button.colab-df-convert');\n",
              "        buttonEl.style.display =\n",
              "          google.colab.kernel.accessAllowed ? 'block' : 'none';\n",
              "\n",
              "        async function convertToInteractive(key) {\n",
              "          const element = document.querySelector('#df-d0f42b5a-ebb4-41a1-bf30-d1fae7f3b0a1');\n",
              "          const dataTable =\n",
              "            await google.colab.kernel.invokeFunction('convertToInteractive',\n",
              "                                                     [key], {});\n",
              "          if (!dataTable) return;\n",
              "\n",
              "          const docLinkHtml = 'Like what you see? Visit the ' +\n",
              "            '<a target=\"_blank\" href=https://colab.research.google.com/notebooks/data_table.ipynb>data table notebook</a>'\n",
              "            + ' to learn more about interactive tables.';\n",
              "          element.innerHTML = '';\n",
              "          dataTable['output_type'] = 'display_data';\n",
              "          await google.colab.output.renderOutput(dataTable, element);\n",
              "          const docLink = document.createElement('div');\n",
              "          docLink.innerHTML = docLinkHtml;\n",
              "          element.appendChild(docLink);\n",
              "        }\n",
              "      </script>\n",
              "    </div>\n",
              "  </div>\n",
              "  "
            ]
          },
          "metadata": {}
        }
      ]
    },
    {
      "cell_type": "code",
      "source": [
        "df3.to_csv('tnm.csv')"
      ],
      "metadata": {
        "id": "f-TpBnlF1jap"
      },
      "execution_count": null,
      "outputs": []
    },
    {
      "cell_type": "markdown",
      "source": [
        "## **Preprocessing of Dataset consisting of t, n, m values**"
      ],
      "metadata": {
        "id": "cf-y_eIiwcQ6"
      }
    },
    {
      "cell_type": "code",
      "source": [
        "df3.head()"
      ],
      "metadata": {
        "colab": {
          "base_uri": "https://localhost:8080/",
          "height": 206
        },
        "id": "abS4sGeRzyI5",
        "outputId": "743b2292-5add-4265-aba5-bc4dac61a532"
      },
      "execution_count": null,
      "outputs": [
        {
          "output_type": "execute_result",
          "data": {
            "text/plain": [
              "   t  n  m\n",
              "0  2  1  x\n",
              "1  2  0  x\n",
              "2  2  0  x\n",
              "3  2  0  x\n",
              "4  2  o  x"
            ],
            "text/html": [
              "\n",
              "  <div id=\"df-c3ec2059-119a-41e1-a2a6-538fa4a68098\">\n",
              "    <div class=\"colab-df-container\">\n",
              "      <div>\n",
              "<style scoped>\n",
              "    .dataframe tbody tr th:only-of-type {\n",
              "        vertical-align: middle;\n",
              "    }\n",
              "\n",
              "    .dataframe tbody tr th {\n",
              "        vertical-align: top;\n",
              "    }\n",
              "\n",
              "    .dataframe thead th {\n",
              "        text-align: right;\n",
              "    }\n",
              "</style>\n",
              "<table border=\"1\" class=\"dataframe\">\n",
              "  <thead>\n",
              "    <tr style=\"text-align: right;\">\n",
              "      <th></th>\n",
              "      <th>t</th>\n",
              "      <th>n</th>\n",
              "      <th>m</th>\n",
              "    </tr>\n",
              "  </thead>\n",
              "  <tbody>\n",
              "    <tr>\n",
              "      <th>0</th>\n",
              "      <td>2</td>\n",
              "      <td>1</td>\n",
              "      <td>x</td>\n",
              "    </tr>\n",
              "    <tr>\n",
              "      <th>1</th>\n",
              "      <td>2</td>\n",
              "      <td>0</td>\n",
              "      <td>x</td>\n",
              "    </tr>\n",
              "    <tr>\n",
              "      <th>2</th>\n",
              "      <td>2</td>\n",
              "      <td>0</td>\n",
              "      <td>x</td>\n",
              "    </tr>\n",
              "    <tr>\n",
              "      <th>3</th>\n",
              "      <td>2</td>\n",
              "      <td>0</td>\n",
              "      <td>x</td>\n",
              "    </tr>\n",
              "    <tr>\n",
              "      <th>4</th>\n",
              "      <td>2</td>\n",
              "      <td>o</td>\n",
              "      <td>x</td>\n",
              "    </tr>\n",
              "  </tbody>\n",
              "</table>\n",
              "</div>\n",
              "      <button class=\"colab-df-convert\" onclick=\"convertToInteractive('df-c3ec2059-119a-41e1-a2a6-538fa4a68098')\"\n",
              "              title=\"Convert this dataframe to an interactive table.\"\n",
              "              style=\"display:none;\">\n",
              "        \n",
              "  <svg xmlns=\"http://www.w3.org/2000/svg\" height=\"24px\"viewBox=\"0 0 24 24\"\n",
              "       width=\"24px\">\n",
              "    <path d=\"M0 0h24v24H0V0z\" fill=\"none\"/>\n",
              "    <path d=\"M18.56 5.44l.94 2.06.94-2.06 2.06-.94-2.06-.94-.94-2.06-.94 2.06-2.06.94zm-11 1L8.5 8.5l.94-2.06 2.06-.94-2.06-.94L8.5 2.5l-.94 2.06-2.06.94zm10 10l.94 2.06.94-2.06 2.06-.94-2.06-.94-.94-2.06-.94 2.06-2.06.94z\"/><path d=\"M17.41 7.96l-1.37-1.37c-.4-.4-.92-.59-1.43-.59-.52 0-1.04.2-1.43.59L10.3 9.45l-7.72 7.72c-.78.78-.78 2.05 0 2.83L4 21.41c.39.39.9.59 1.41.59.51 0 1.02-.2 1.41-.59l7.78-7.78 2.81-2.81c.8-.78.8-2.07 0-2.86zM5.41 20L4 18.59l7.72-7.72 1.47 1.35L5.41 20z\"/>\n",
              "  </svg>\n",
              "      </button>\n",
              "      \n",
              "  <style>\n",
              "    .colab-df-container {\n",
              "      display:flex;\n",
              "      flex-wrap:wrap;\n",
              "      gap: 12px;\n",
              "    }\n",
              "\n",
              "    .colab-df-convert {\n",
              "      background-color: #E8F0FE;\n",
              "      border: none;\n",
              "      border-radius: 50%;\n",
              "      cursor: pointer;\n",
              "      display: none;\n",
              "      fill: #1967D2;\n",
              "      height: 32px;\n",
              "      padding: 0 0 0 0;\n",
              "      width: 32px;\n",
              "    }\n",
              "\n",
              "    .colab-df-convert:hover {\n",
              "      background-color: #E2EBFA;\n",
              "      box-shadow: 0px 1px 2px rgba(60, 64, 67, 0.3), 0px 1px 3px 1px rgba(60, 64, 67, 0.15);\n",
              "      fill: #174EA6;\n",
              "    }\n",
              "\n",
              "    [theme=dark] .colab-df-convert {\n",
              "      background-color: #3B4455;\n",
              "      fill: #D2E3FC;\n",
              "    }\n",
              "\n",
              "    [theme=dark] .colab-df-convert:hover {\n",
              "      background-color: #434B5C;\n",
              "      box-shadow: 0px 1px 3px 1px rgba(0, 0, 0, 0.15);\n",
              "      filter: drop-shadow(0px 1px 2px rgba(0, 0, 0, 0.3));\n",
              "      fill: #FFFFFF;\n",
              "    }\n",
              "  </style>\n",
              "\n",
              "      <script>\n",
              "        const buttonEl =\n",
              "          document.querySelector('#df-c3ec2059-119a-41e1-a2a6-538fa4a68098 button.colab-df-convert');\n",
              "        buttonEl.style.display =\n",
              "          google.colab.kernel.accessAllowed ? 'block' : 'none';\n",
              "\n",
              "        async function convertToInteractive(key) {\n",
              "          const element = document.querySelector('#df-c3ec2059-119a-41e1-a2a6-538fa4a68098');\n",
              "          const dataTable =\n",
              "            await google.colab.kernel.invokeFunction('convertToInteractive',\n",
              "                                                     [key], {});\n",
              "          if (!dataTable) return;\n",
              "\n",
              "          const docLinkHtml = 'Like what you see? Visit the ' +\n",
              "            '<a target=\"_blank\" href=https://colab.research.google.com/notebooks/data_table.ipynb>data table notebook</a>'\n",
              "            + ' to learn more about interactive tables.';\n",
              "          element.innerHTML = '';\n",
              "          dataTable['output_type'] = 'display_data';\n",
              "          await google.colab.output.renderOutput(dataTable, element);\n",
              "          const docLink = document.createElement('div');\n",
              "          docLink.innerHTML = docLinkHtml;\n",
              "          element.appendChild(docLink);\n",
              "        }\n",
              "      </script>\n",
              "    </div>\n",
              "  </div>\n",
              "  "
            ]
          },
          "metadata": {},
          "execution_count": 37
        }
      ]
    },
    {
      "cell_type": "code",
      "source": [
        "df3.head(6)"
      ],
      "metadata": {
        "colab": {
          "base_uri": "https://localhost:8080/",
          "height": 237
        },
        "id": "LcUztKvxw4My",
        "outputId": "09a05c0e-b854-4e86-c370-09b8b85826d4"
      },
      "execution_count": null,
      "outputs": [
        {
          "output_type": "execute_result",
          "data": {
            "text/plain": [
              "    t   n  m\n",
              "0   2   1  x\n",
              "1   2   0  x\n",
              "2   2   0  x\n",
              "3   2   0  x\n",
              "4   2   o  x\n",
              "5  4a  1a  x"
            ],
            "text/html": [
              "\n",
              "  <div id=\"df-bafaaa21-1a30-469c-91b6-2bc9e5184108\">\n",
              "    <div class=\"colab-df-container\">\n",
              "      <div>\n",
              "<style scoped>\n",
              "    .dataframe tbody tr th:only-of-type {\n",
              "        vertical-align: middle;\n",
              "    }\n",
              "\n",
              "    .dataframe tbody tr th {\n",
              "        vertical-align: top;\n",
              "    }\n",
              "\n",
              "    .dataframe thead th {\n",
              "        text-align: right;\n",
              "    }\n",
              "</style>\n",
              "<table border=\"1\" class=\"dataframe\">\n",
              "  <thead>\n",
              "    <tr style=\"text-align: right;\">\n",
              "      <th></th>\n",
              "      <th>t</th>\n",
              "      <th>n</th>\n",
              "      <th>m</th>\n",
              "    </tr>\n",
              "  </thead>\n",
              "  <tbody>\n",
              "    <tr>\n",
              "      <th>0</th>\n",
              "      <td>2</td>\n",
              "      <td>1</td>\n",
              "      <td>x</td>\n",
              "    </tr>\n",
              "    <tr>\n",
              "      <th>1</th>\n",
              "      <td>2</td>\n",
              "      <td>0</td>\n",
              "      <td>x</td>\n",
              "    </tr>\n",
              "    <tr>\n",
              "      <th>2</th>\n",
              "      <td>2</td>\n",
              "      <td>0</td>\n",
              "      <td>x</td>\n",
              "    </tr>\n",
              "    <tr>\n",
              "      <th>3</th>\n",
              "      <td>2</td>\n",
              "      <td>0</td>\n",
              "      <td>x</td>\n",
              "    </tr>\n",
              "    <tr>\n",
              "      <th>4</th>\n",
              "      <td>2</td>\n",
              "      <td>o</td>\n",
              "      <td>x</td>\n",
              "    </tr>\n",
              "    <tr>\n",
              "      <th>5</th>\n",
              "      <td>4a</td>\n",
              "      <td>1a</td>\n",
              "      <td>x</td>\n",
              "    </tr>\n",
              "  </tbody>\n",
              "</table>\n",
              "</div>\n",
              "      <button class=\"colab-df-convert\" onclick=\"convertToInteractive('df-bafaaa21-1a30-469c-91b6-2bc9e5184108')\"\n",
              "              title=\"Convert this dataframe to an interactive table.\"\n",
              "              style=\"display:none;\">\n",
              "        \n",
              "  <svg xmlns=\"http://www.w3.org/2000/svg\" height=\"24px\"viewBox=\"0 0 24 24\"\n",
              "       width=\"24px\">\n",
              "    <path d=\"M0 0h24v24H0V0z\" fill=\"none\"/>\n",
              "    <path d=\"M18.56 5.44l.94 2.06.94-2.06 2.06-.94-2.06-.94-.94-2.06-.94 2.06-2.06.94zm-11 1L8.5 8.5l.94-2.06 2.06-.94-2.06-.94L8.5 2.5l-.94 2.06-2.06.94zm10 10l.94 2.06.94-2.06 2.06-.94-2.06-.94-.94-2.06-.94 2.06-2.06.94z\"/><path d=\"M17.41 7.96l-1.37-1.37c-.4-.4-.92-.59-1.43-.59-.52 0-1.04.2-1.43.59L10.3 9.45l-7.72 7.72c-.78.78-.78 2.05 0 2.83L4 21.41c.39.39.9.59 1.41.59.51 0 1.02-.2 1.41-.59l7.78-7.78 2.81-2.81c.8-.78.8-2.07 0-2.86zM5.41 20L4 18.59l7.72-7.72 1.47 1.35L5.41 20z\"/>\n",
              "  </svg>\n",
              "      </button>\n",
              "      \n",
              "  <style>\n",
              "    .colab-df-container {\n",
              "      display:flex;\n",
              "      flex-wrap:wrap;\n",
              "      gap: 12px;\n",
              "    }\n",
              "\n",
              "    .colab-df-convert {\n",
              "      background-color: #E8F0FE;\n",
              "      border: none;\n",
              "      border-radius: 50%;\n",
              "      cursor: pointer;\n",
              "      display: none;\n",
              "      fill: #1967D2;\n",
              "      height: 32px;\n",
              "      padding: 0 0 0 0;\n",
              "      width: 32px;\n",
              "    }\n",
              "\n",
              "    .colab-df-convert:hover {\n",
              "      background-color: #E2EBFA;\n",
              "      box-shadow: 0px 1px 2px rgba(60, 64, 67, 0.3), 0px 1px 3px 1px rgba(60, 64, 67, 0.15);\n",
              "      fill: #174EA6;\n",
              "    }\n",
              "\n",
              "    [theme=dark] .colab-df-convert {\n",
              "      background-color: #3B4455;\n",
              "      fill: #D2E3FC;\n",
              "    }\n",
              "\n",
              "    [theme=dark] .colab-df-convert:hover {\n",
              "      background-color: #434B5C;\n",
              "      box-shadow: 0px 1px 3px 1px rgba(0, 0, 0, 0.15);\n",
              "      filter: drop-shadow(0px 1px 2px rgba(0, 0, 0, 0.3));\n",
              "      fill: #FFFFFF;\n",
              "    }\n",
              "  </style>\n",
              "\n",
              "      <script>\n",
              "        const buttonEl =\n",
              "          document.querySelector('#df-bafaaa21-1a30-469c-91b6-2bc9e5184108 button.colab-df-convert');\n",
              "        buttonEl.style.display =\n",
              "          google.colab.kernel.accessAllowed ? 'block' : 'none';\n",
              "\n",
              "        async function convertToInteractive(key) {\n",
              "          const element = document.querySelector('#df-bafaaa21-1a30-469c-91b6-2bc9e5184108');\n",
              "          const dataTable =\n",
              "            await google.colab.kernel.invokeFunction('convertToInteractive',\n",
              "                                                     [key], {});\n",
              "          if (!dataTable) return;\n",
              "\n",
              "          const docLinkHtml = 'Like what you see? Visit the ' +\n",
              "            '<a target=\"_blank\" href=https://colab.research.google.com/notebooks/data_table.ipynb>data table notebook</a>'\n",
              "            + ' to learn more about interactive tables.';\n",
              "          element.innerHTML = '';\n",
              "          dataTable['output_type'] = 'display_data';\n",
              "          await google.colab.output.renderOutput(dataTable, element);\n",
              "          const docLink = document.createElement('div');\n",
              "          docLink.innerHTML = docLinkHtml;\n",
              "          element.appendChild(docLink);\n",
              "        }\n",
              "      </script>\n",
              "    </div>\n",
              "  </div>\n",
              "  "
            ]
          },
          "metadata": {},
          "execution_count": 38
        }
      ]
    },
    {
      "cell_type": "code",
      "source": [
        "df3.info()"
      ],
      "metadata": {
        "colab": {
          "base_uri": "https://localhost:8080/"
        },
        "id": "PvTlzc-9yxHi",
        "outputId": "3f12540c-a822-4cb5-9877-b87735faf434"
      },
      "execution_count": null,
      "outputs": [
        {
          "output_type": "stream",
          "name": "stdout",
          "text": [
            "<class 'pandas.core.frame.DataFrame'>\n",
            "RangeIndex: 2380 entries, 0 to 2379\n",
            "Data columns (total 3 columns):\n",
            " #   Column  Non-Null Count  Dtype \n",
            "---  ------  --------------  ----- \n",
            " 0   t       2380 non-null   object\n",
            " 1   n       2380 non-null   object\n",
            " 2   m       2380 non-null   object\n",
            "dtypes: object(3)\n",
            "memory usage: 55.9+ KB\n"
          ]
        }
      ]
    },
    {
      "cell_type": "code",
      "source": [
        "df3"
      ],
      "metadata": {
        "colab": {
          "base_uri": "https://localhost:8080/",
          "height": 423
        },
        "id": "5SLvd32pz7yp",
        "outputId": "9458f95e-ad24-4d0d-a91f-d9fa891a502f"
      },
      "execution_count": null,
      "outputs": [
        {
          "output_type": "execute_result",
          "data": {
            "text/plain": [
              "      t  n  m\n",
              "0     2  1  x\n",
              "1     2  0  x\n",
              "2     2  0  x\n",
              "3     2  0  x\n",
              "4     2  o  x\n",
              "...  .. .. ..\n",
              "2375         \n",
              "2376  2     x\n",
              "2377     1   \n",
              "2378  2     x\n",
              "2379         \n",
              "\n",
              "[2380 rows x 3 columns]"
            ],
            "text/html": [
              "\n",
              "  <div id=\"df-7cb04026-9642-43cc-8902-6d5ae1c8acac\">\n",
              "    <div class=\"colab-df-container\">\n",
              "      <div>\n",
              "<style scoped>\n",
              "    .dataframe tbody tr th:only-of-type {\n",
              "        vertical-align: middle;\n",
              "    }\n",
              "\n",
              "    .dataframe tbody tr th {\n",
              "        vertical-align: top;\n",
              "    }\n",
              "\n",
              "    .dataframe thead th {\n",
              "        text-align: right;\n",
              "    }\n",
              "</style>\n",
              "<table border=\"1\" class=\"dataframe\">\n",
              "  <thead>\n",
              "    <tr style=\"text-align: right;\">\n",
              "      <th></th>\n",
              "      <th>t</th>\n",
              "      <th>n</th>\n",
              "      <th>m</th>\n",
              "    </tr>\n",
              "  </thead>\n",
              "  <tbody>\n",
              "    <tr>\n",
              "      <th>0</th>\n",
              "      <td>2</td>\n",
              "      <td>1</td>\n",
              "      <td>x</td>\n",
              "    </tr>\n",
              "    <tr>\n",
              "      <th>1</th>\n",
              "      <td>2</td>\n",
              "      <td>0</td>\n",
              "      <td>x</td>\n",
              "    </tr>\n",
              "    <tr>\n",
              "      <th>2</th>\n",
              "      <td>2</td>\n",
              "      <td>0</td>\n",
              "      <td>x</td>\n",
              "    </tr>\n",
              "    <tr>\n",
              "      <th>3</th>\n",
              "      <td>2</td>\n",
              "      <td>0</td>\n",
              "      <td>x</td>\n",
              "    </tr>\n",
              "    <tr>\n",
              "      <th>4</th>\n",
              "      <td>2</td>\n",
              "      <td>o</td>\n",
              "      <td>x</td>\n",
              "    </tr>\n",
              "    <tr>\n",
              "      <th>...</th>\n",
              "      <td>...</td>\n",
              "      <td>...</td>\n",
              "      <td>...</td>\n",
              "    </tr>\n",
              "    <tr>\n",
              "      <th>2375</th>\n",
              "      <td></td>\n",
              "      <td></td>\n",
              "      <td></td>\n",
              "    </tr>\n",
              "    <tr>\n",
              "      <th>2376</th>\n",
              "      <td>2</td>\n",
              "      <td></td>\n",
              "      <td>x</td>\n",
              "    </tr>\n",
              "    <tr>\n",
              "      <th>2377</th>\n",
              "      <td></td>\n",
              "      <td>1</td>\n",
              "      <td></td>\n",
              "    </tr>\n",
              "    <tr>\n",
              "      <th>2378</th>\n",
              "      <td>2</td>\n",
              "      <td></td>\n",
              "      <td>x</td>\n",
              "    </tr>\n",
              "    <tr>\n",
              "      <th>2379</th>\n",
              "      <td></td>\n",
              "      <td></td>\n",
              "      <td></td>\n",
              "    </tr>\n",
              "  </tbody>\n",
              "</table>\n",
              "<p>2380 rows × 3 columns</p>\n",
              "</div>\n",
              "      <button class=\"colab-df-convert\" onclick=\"convertToInteractive('df-7cb04026-9642-43cc-8902-6d5ae1c8acac')\"\n",
              "              title=\"Convert this dataframe to an interactive table.\"\n",
              "              style=\"display:none;\">\n",
              "        \n",
              "  <svg xmlns=\"http://www.w3.org/2000/svg\" height=\"24px\"viewBox=\"0 0 24 24\"\n",
              "       width=\"24px\">\n",
              "    <path d=\"M0 0h24v24H0V0z\" fill=\"none\"/>\n",
              "    <path d=\"M18.56 5.44l.94 2.06.94-2.06 2.06-.94-2.06-.94-.94-2.06-.94 2.06-2.06.94zm-11 1L8.5 8.5l.94-2.06 2.06-.94-2.06-.94L8.5 2.5l-.94 2.06-2.06.94zm10 10l.94 2.06.94-2.06 2.06-.94-2.06-.94-.94-2.06-.94 2.06-2.06.94z\"/><path d=\"M17.41 7.96l-1.37-1.37c-.4-.4-.92-.59-1.43-.59-.52 0-1.04.2-1.43.59L10.3 9.45l-7.72 7.72c-.78.78-.78 2.05 0 2.83L4 21.41c.39.39.9.59 1.41.59.51 0 1.02-.2 1.41-.59l7.78-7.78 2.81-2.81c.8-.78.8-2.07 0-2.86zM5.41 20L4 18.59l7.72-7.72 1.47 1.35L5.41 20z\"/>\n",
              "  </svg>\n",
              "      </button>\n",
              "      \n",
              "  <style>\n",
              "    .colab-df-container {\n",
              "      display:flex;\n",
              "      flex-wrap:wrap;\n",
              "      gap: 12px;\n",
              "    }\n",
              "\n",
              "    .colab-df-convert {\n",
              "      background-color: #E8F0FE;\n",
              "      border: none;\n",
              "      border-radius: 50%;\n",
              "      cursor: pointer;\n",
              "      display: none;\n",
              "      fill: #1967D2;\n",
              "      height: 32px;\n",
              "      padding: 0 0 0 0;\n",
              "      width: 32px;\n",
              "    }\n",
              "\n",
              "    .colab-df-convert:hover {\n",
              "      background-color: #E2EBFA;\n",
              "      box-shadow: 0px 1px 2px rgba(60, 64, 67, 0.3), 0px 1px 3px 1px rgba(60, 64, 67, 0.15);\n",
              "      fill: #174EA6;\n",
              "    }\n",
              "\n",
              "    [theme=dark] .colab-df-convert {\n",
              "      background-color: #3B4455;\n",
              "      fill: #D2E3FC;\n",
              "    }\n",
              "\n",
              "    [theme=dark] .colab-df-convert:hover {\n",
              "      background-color: #434B5C;\n",
              "      box-shadow: 0px 1px 3px 1px rgba(0, 0, 0, 0.15);\n",
              "      filter: drop-shadow(0px 1px 2px rgba(0, 0, 0, 0.3));\n",
              "      fill: #FFFFFF;\n",
              "    }\n",
              "  </style>\n",
              "\n",
              "      <script>\n",
              "        const buttonEl =\n",
              "          document.querySelector('#df-7cb04026-9642-43cc-8902-6d5ae1c8acac button.colab-df-convert');\n",
              "        buttonEl.style.display =\n",
              "          google.colab.kernel.accessAllowed ? 'block' : 'none';\n",
              "\n",
              "        async function convertToInteractive(key) {\n",
              "          const element = document.querySelector('#df-7cb04026-9642-43cc-8902-6d5ae1c8acac');\n",
              "          const dataTable =\n",
              "            await google.colab.kernel.invokeFunction('convertToInteractive',\n",
              "                                                     [key], {});\n",
              "          if (!dataTable) return;\n",
              "\n",
              "          const docLinkHtml = 'Like what you see? Visit the ' +\n",
              "            '<a target=\"_blank\" href=https://colab.research.google.com/notebooks/data_table.ipynb>data table notebook</a>'\n",
              "            + ' to learn more about interactive tables.';\n",
              "          element.innerHTML = '';\n",
              "          dataTable['output_type'] = 'display_data';\n",
              "          await google.colab.output.renderOutput(dataTable, element);\n",
              "          const docLink = document.createElement('div');\n",
              "          docLink.innerHTML = docLinkHtml;\n",
              "          element.appendChild(docLink);\n",
              "        }\n",
              "      </script>\n",
              "    </div>\n",
              "  </div>\n",
              "  "
            ]
          },
          "metadata": {},
          "execution_count": 40
        }
      ]
    },
    {
      "cell_type": "code",
      "source": [
        "df3.head(100)"
      ],
      "metadata": {
        "colab": {
          "base_uri": "https://localhost:8080/",
          "height": 423
        },
        "id": "ZucpmEZ70dFZ",
        "outputId": "ec594ba1-df82-4bb7-c860-63dd97b03faf"
      },
      "execution_count": null,
      "outputs": [
        {
          "output_type": "execute_result",
          "data": {
            "text/plain": [
              "     t  n       m\n",
              "0    2  1       x\n",
              "1    2  0       x\n",
              "2    2  0       x\n",
              "3    2  1       x\n",
              "4    3  o       x\n",
              "..  .. ..     ...\n",
              "95  1c  o        \n",
              "96  1a  o        \n",
              "97          xrigh\n",
              "98  1c  o        \n",
              "99         tenner\n",
              "\n",
              "[100 rows x 3 columns]"
            ],
            "text/html": [
              "\n",
              "  <div id=\"df-e4a298b6-7356-4627-854e-aa54ad038f38\">\n",
              "    <div class=\"colab-df-container\">\n",
              "      <div>\n",
              "<style scoped>\n",
              "    .dataframe tbody tr th:only-of-type {\n",
              "        vertical-align: middle;\n",
              "    }\n",
              "\n",
              "    .dataframe tbody tr th {\n",
              "        vertical-align: top;\n",
              "    }\n",
              "\n",
              "    .dataframe thead th {\n",
              "        text-align: right;\n",
              "    }\n",
              "</style>\n",
              "<table border=\"1\" class=\"dataframe\">\n",
              "  <thead>\n",
              "    <tr style=\"text-align: right;\">\n",
              "      <th></th>\n",
              "      <th>t</th>\n",
              "      <th>n</th>\n",
              "      <th>m</th>\n",
              "    </tr>\n",
              "  </thead>\n",
              "  <tbody>\n",
              "    <tr>\n",
              "      <th>0</th>\n",
              "      <td>2</td>\n",
              "      <td>1</td>\n",
              "      <td>x</td>\n",
              "    </tr>\n",
              "    <tr>\n",
              "      <th>1</th>\n",
              "      <td>2</td>\n",
              "      <td>0</td>\n",
              "      <td>x</td>\n",
              "    </tr>\n",
              "    <tr>\n",
              "      <th>2</th>\n",
              "      <td>2</td>\n",
              "      <td>0</td>\n",
              "      <td>x</td>\n",
              "    </tr>\n",
              "    <tr>\n",
              "      <th>3</th>\n",
              "      <td>2</td>\n",
              "      <td>1</td>\n",
              "      <td>x</td>\n",
              "    </tr>\n",
              "    <tr>\n",
              "      <th>4</th>\n",
              "      <td>3</td>\n",
              "      <td>o</td>\n",
              "      <td>x</td>\n",
              "    </tr>\n",
              "    <tr>\n",
              "      <th>...</th>\n",
              "      <td>...</td>\n",
              "      <td>...</td>\n",
              "      <td>...</td>\n",
              "    </tr>\n",
              "    <tr>\n",
              "      <th>95</th>\n",
              "      <td>1c</td>\n",
              "      <td>o</td>\n",
              "      <td></td>\n",
              "    </tr>\n",
              "    <tr>\n",
              "      <th>96</th>\n",
              "      <td>1a</td>\n",
              "      <td>o</td>\n",
              "      <td></td>\n",
              "    </tr>\n",
              "    <tr>\n",
              "      <th>97</th>\n",
              "      <td></td>\n",
              "      <td></td>\n",
              "      <td>xrigh</td>\n",
              "    </tr>\n",
              "    <tr>\n",
              "      <th>98</th>\n",
              "      <td>1c</td>\n",
              "      <td>o</td>\n",
              "      <td></td>\n",
              "    </tr>\n",
              "    <tr>\n",
              "      <th>99</th>\n",
              "      <td></td>\n",
              "      <td></td>\n",
              "      <td>tenner</td>\n",
              "    </tr>\n",
              "  </tbody>\n",
              "</table>\n",
              "<p>100 rows × 3 columns</p>\n",
              "</div>\n",
              "      <button class=\"colab-df-convert\" onclick=\"convertToInteractive('df-e4a298b6-7356-4627-854e-aa54ad038f38')\"\n",
              "              title=\"Convert this dataframe to an interactive table.\"\n",
              "              style=\"display:none;\">\n",
              "        \n",
              "  <svg xmlns=\"http://www.w3.org/2000/svg\" height=\"24px\"viewBox=\"0 0 24 24\"\n",
              "       width=\"24px\">\n",
              "    <path d=\"M0 0h24v24H0V0z\" fill=\"none\"/>\n",
              "    <path d=\"M18.56 5.44l.94 2.06.94-2.06 2.06-.94-2.06-.94-.94-2.06-.94 2.06-2.06.94zm-11 1L8.5 8.5l.94-2.06 2.06-.94-2.06-.94L8.5 2.5l-.94 2.06-2.06.94zm10 10l.94 2.06.94-2.06 2.06-.94-2.06-.94-.94-2.06-.94 2.06-2.06.94z\"/><path d=\"M17.41 7.96l-1.37-1.37c-.4-.4-.92-.59-1.43-.59-.52 0-1.04.2-1.43.59L10.3 9.45l-7.72 7.72c-.78.78-.78 2.05 0 2.83L4 21.41c.39.39.9.59 1.41.59.51 0 1.02-.2 1.41-.59l7.78-7.78 2.81-2.81c.8-.78.8-2.07 0-2.86zM5.41 20L4 18.59l7.72-7.72 1.47 1.35L5.41 20z\"/>\n",
              "  </svg>\n",
              "      </button>\n",
              "      \n",
              "  <style>\n",
              "    .colab-df-container {\n",
              "      display:flex;\n",
              "      flex-wrap:wrap;\n",
              "      gap: 12px;\n",
              "    }\n",
              "\n",
              "    .colab-df-convert {\n",
              "      background-color: #E8F0FE;\n",
              "      border: none;\n",
              "      border-radius: 50%;\n",
              "      cursor: pointer;\n",
              "      display: none;\n",
              "      fill: #1967D2;\n",
              "      height: 32px;\n",
              "      padding: 0 0 0 0;\n",
              "      width: 32px;\n",
              "    }\n",
              "\n",
              "    .colab-df-convert:hover {\n",
              "      background-color: #E2EBFA;\n",
              "      box-shadow: 0px 1px 2px rgba(60, 64, 67, 0.3), 0px 1px 3px 1px rgba(60, 64, 67, 0.15);\n",
              "      fill: #174EA6;\n",
              "    }\n",
              "\n",
              "    [theme=dark] .colab-df-convert {\n",
              "      background-color: #3B4455;\n",
              "      fill: #D2E3FC;\n",
              "    }\n",
              "\n",
              "    [theme=dark] .colab-df-convert:hover {\n",
              "      background-color: #434B5C;\n",
              "      box-shadow: 0px 1px 3px 1px rgba(0, 0, 0, 0.15);\n",
              "      filter: drop-shadow(0px 1px 2px rgba(0, 0, 0, 0.3));\n",
              "      fill: #FFFFFF;\n",
              "    }\n",
              "  </style>\n",
              "\n",
              "      <script>\n",
              "        const buttonEl =\n",
              "          document.querySelector('#df-e4a298b6-7356-4627-854e-aa54ad038f38 button.colab-df-convert');\n",
              "        buttonEl.style.display =\n",
              "          google.colab.kernel.accessAllowed ? 'block' : 'none';\n",
              "\n",
              "        async function convertToInteractive(key) {\n",
              "          const element = document.querySelector('#df-e4a298b6-7356-4627-854e-aa54ad038f38');\n",
              "          const dataTable =\n",
              "            await google.colab.kernel.invokeFunction('convertToInteractive',\n",
              "                                                     [key], {});\n",
              "          if (!dataTable) return;\n",
              "\n",
              "          const docLinkHtml = 'Like what you see? Visit the ' +\n",
              "            '<a target=\"_blank\" href=https://colab.research.google.com/notebooks/data_table.ipynb>data table notebook</a>'\n",
              "            + ' to learn more about interactive tables.';\n",
              "          element.innerHTML = '';\n",
              "          dataTable['output_type'] = 'display_data';\n",
              "          await google.colab.output.renderOutput(dataTable, element);\n",
              "          const docLink = document.createElement('div');\n",
              "          docLink.innerHTML = docLinkHtml;\n",
              "          element.appendChild(docLink);\n",
              "        }\n",
              "      </script>\n",
              "    </div>\n",
              "  </div>\n",
              "  "
            ]
          },
          "metadata": {},
          "execution_count": 41
        }
      ]
    },
    {
      "cell_type": "code",
      "source": [
        "df4 = df3.replace(r'^\\s*$', np.nan, regex=True)"
      ],
      "metadata": {
        "id": "n8-aD6jv0-BC"
      },
      "execution_count": null,
      "outputs": []
    },
    {
      "cell_type": "code",
      "source": [
        "df4\n"
      ],
      "metadata": {
        "colab": {
          "base_uri": "https://localhost:8080/",
          "height": 423
        },
        "id": "TliVyhyr1RDB",
        "outputId": "4156a117-8a11-4755-efc8-376d94649945"
      },
      "execution_count": null,
      "outputs": [
        {
          "output_type": "execute_result",
          "data": {
            "text/plain": [
              "        t    n    m\n",
              "0       2    1    x\n",
              "1       2    0    x\n",
              "2       2    0    x\n",
              "3       2    0    x\n",
              "4       2    o    x\n",
              "...   ...  ...  ...\n",
              "2375  NaN  NaN  NaN\n",
              "2376    2  NaN    x\n",
              "2377  NaN    1  NaN\n",
              "2378    2  NaN    x\n",
              "2379  NaN  NaN  NaN\n",
              "\n",
              "[2380 rows x 3 columns]"
            ],
            "text/html": [
              "\n",
              "  <div id=\"df-2a01412a-6873-4b28-b14e-336cc18ea6cc\">\n",
              "    <div class=\"colab-df-container\">\n",
              "      <div>\n",
              "<style scoped>\n",
              "    .dataframe tbody tr th:only-of-type {\n",
              "        vertical-align: middle;\n",
              "    }\n",
              "\n",
              "    .dataframe tbody tr th {\n",
              "        vertical-align: top;\n",
              "    }\n",
              "\n",
              "    .dataframe thead th {\n",
              "        text-align: right;\n",
              "    }\n",
              "</style>\n",
              "<table border=\"1\" class=\"dataframe\">\n",
              "  <thead>\n",
              "    <tr style=\"text-align: right;\">\n",
              "      <th></th>\n",
              "      <th>t</th>\n",
              "      <th>n</th>\n",
              "      <th>m</th>\n",
              "    </tr>\n",
              "  </thead>\n",
              "  <tbody>\n",
              "    <tr>\n",
              "      <th>0</th>\n",
              "      <td>2</td>\n",
              "      <td>1</td>\n",
              "      <td>x</td>\n",
              "    </tr>\n",
              "    <tr>\n",
              "      <th>1</th>\n",
              "      <td>2</td>\n",
              "      <td>0</td>\n",
              "      <td>x</td>\n",
              "    </tr>\n",
              "    <tr>\n",
              "      <th>2</th>\n",
              "      <td>2</td>\n",
              "      <td>0</td>\n",
              "      <td>x</td>\n",
              "    </tr>\n",
              "    <tr>\n",
              "      <th>3</th>\n",
              "      <td>2</td>\n",
              "      <td>0</td>\n",
              "      <td>x</td>\n",
              "    </tr>\n",
              "    <tr>\n",
              "      <th>4</th>\n",
              "      <td>2</td>\n",
              "      <td>o</td>\n",
              "      <td>x</td>\n",
              "    </tr>\n",
              "    <tr>\n",
              "      <th>...</th>\n",
              "      <td>...</td>\n",
              "      <td>...</td>\n",
              "      <td>...</td>\n",
              "    </tr>\n",
              "    <tr>\n",
              "      <th>2375</th>\n",
              "      <td>NaN</td>\n",
              "      <td>NaN</td>\n",
              "      <td>NaN</td>\n",
              "    </tr>\n",
              "    <tr>\n",
              "      <th>2376</th>\n",
              "      <td>2</td>\n",
              "      <td>NaN</td>\n",
              "      <td>x</td>\n",
              "    </tr>\n",
              "    <tr>\n",
              "      <th>2377</th>\n",
              "      <td>NaN</td>\n",
              "      <td>1</td>\n",
              "      <td>NaN</td>\n",
              "    </tr>\n",
              "    <tr>\n",
              "      <th>2378</th>\n",
              "      <td>2</td>\n",
              "      <td>NaN</td>\n",
              "      <td>x</td>\n",
              "    </tr>\n",
              "    <tr>\n",
              "      <th>2379</th>\n",
              "      <td>NaN</td>\n",
              "      <td>NaN</td>\n",
              "      <td>NaN</td>\n",
              "    </tr>\n",
              "  </tbody>\n",
              "</table>\n",
              "<p>2380 rows × 3 columns</p>\n",
              "</div>\n",
              "      <button class=\"colab-df-convert\" onclick=\"convertToInteractive('df-2a01412a-6873-4b28-b14e-336cc18ea6cc')\"\n",
              "              title=\"Convert this dataframe to an interactive table.\"\n",
              "              style=\"display:none;\">\n",
              "        \n",
              "  <svg xmlns=\"http://www.w3.org/2000/svg\" height=\"24px\"viewBox=\"0 0 24 24\"\n",
              "       width=\"24px\">\n",
              "    <path d=\"M0 0h24v24H0V0z\" fill=\"none\"/>\n",
              "    <path d=\"M18.56 5.44l.94 2.06.94-2.06 2.06-.94-2.06-.94-.94-2.06-.94 2.06-2.06.94zm-11 1L8.5 8.5l.94-2.06 2.06-.94-2.06-.94L8.5 2.5l-.94 2.06-2.06.94zm10 10l.94 2.06.94-2.06 2.06-.94-2.06-.94-.94-2.06-.94 2.06-2.06.94z\"/><path d=\"M17.41 7.96l-1.37-1.37c-.4-.4-.92-.59-1.43-.59-.52 0-1.04.2-1.43.59L10.3 9.45l-7.72 7.72c-.78.78-.78 2.05 0 2.83L4 21.41c.39.39.9.59 1.41.59.51 0 1.02-.2 1.41-.59l7.78-7.78 2.81-2.81c.8-.78.8-2.07 0-2.86zM5.41 20L4 18.59l7.72-7.72 1.47 1.35L5.41 20z\"/>\n",
              "  </svg>\n",
              "      </button>\n",
              "      \n",
              "  <style>\n",
              "    .colab-df-container {\n",
              "      display:flex;\n",
              "      flex-wrap:wrap;\n",
              "      gap: 12px;\n",
              "    }\n",
              "\n",
              "    .colab-df-convert {\n",
              "      background-color: #E8F0FE;\n",
              "      border: none;\n",
              "      border-radius: 50%;\n",
              "      cursor: pointer;\n",
              "      display: none;\n",
              "      fill: #1967D2;\n",
              "      height: 32px;\n",
              "      padding: 0 0 0 0;\n",
              "      width: 32px;\n",
              "    }\n",
              "\n",
              "    .colab-df-convert:hover {\n",
              "      background-color: #E2EBFA;\n",
              "      box-shadow: 0px 1px 2px rgba(60, 64, 67, 0.3), 0px 1px 3px 1px rgba(60, 64, 67, 0.15);\n",
              "      fill: #174EA6;\n",
              "    }\n",
              "\n",
              "    [theme=dark] .colab-df-convert {\n",
              "      background-color: #3B4455;\n",
              "      fill: #D2E3FC;\n",
              "    }\n",
              "\n",
              "    [theme=dark] .colab-df-convert:hover {\n",
              "      background-color: #434B5C;\n",
              "      box-shadow: 0px 1px 3px 1px rgba(0, 0, 0, 0.15);\n",
              "      filter: drop-shadow(0px 1px 2px rgba(0, 0, 0, 0.3));\n",
              "      fill: #FFFFFF;\n",
              "    }\n",
              "  </style>\n",
              "\n",
              "      <script>\n",
              "        const buttonEl =\n",
              "          document.querySelector('#df-2a01412a-6873-4b28-b14e-336cc18ea6cc button.colab-df-convert');\n",
              "        buttonEl.style.display =\n",
              "          google.colab.kernel.accessAllowed ? 'block' : 'none';\n",
              "\n",
              "        async function convertToInteractive(key) {\n",
              "          const element = document.querySelector('#df-2a01412a-6873-4b28-b14e-336cc18ea6cc');\n",
              "          const dataTable =\n",
              "            await google.colab.kernel.invokeFunction('convertToInteractive',\n",
              "                                                     [key], {});\n",
              "          if (!dataTable) return;\n",
              "\n",
              "          const docLinkHtml = 'Like what you see? Visit the ' +\n",
              "            '<a target=\"_blank\" href=https://colab.research.google.com/notebooks/data_table.ipynb>data table notebook</a>'\n",
              "            + ' to learn more about interactive tables.';\n",
              "          element.innerHTML = '';\n",
              "          dataTable['output_type'] = 'display_data';\n",
              "          await google.colab.output.renderOutput(dataTable, element);\n",
              "          const docLink = document.createElement('div');\n",
              "          docLink.innerHTML = docLinkHtml;\n",
              "          element.appendChild(docLink);\n",
              "        }\n",
              "      </script>\n",
              "    </div>\n",
              "  </div>\n",
              "  "
            ]
          },
          "metadata": {},
          "execution_count": 42
        }
      ]
    },
    {
      "cell_type": "code",
      "source": [
        "df4.isnull()"
      ],
      "metadata": {
        "colab": {
          "base_uri": "https://localhost:8080/",
          "height": 423
        },
        "id": "dQJAtvtA3Z2C",
        "outputId": "460f916e-8b5f-49a8-a18e-683f45100a43"
      },
      "execution_count": null,
      "outputs": [
        {
          "output_type": "execute_result",
          "data": {
            "text/plain": [
              "          t      n      m\n",
              "0     False  False  False\n",
              "1     False  False  False\n",
              "2     False  False  False\n",
              "3     False  False  False\n",
              "4     False  False  False\n",
              "...     ...    ...    ...\n",
              "2375   True   True   True\n",
              "2376  False   True  False\n",
              "2377   True  False   True\n",
              "2378  False   True  False\n",
              "2379   True   True   True\n",
              "\n",
              "[2380 rows x 3 columns]"
            ],
            "text/html": [
              "\n",
              "  <div id=\"df-f7d398fb-55d1-45a8-a708-499cb69eb2b9\">\n",
              "    <div class=\"colab-df-container\">\n",
              "      <div>\n",
              "<style scoped>\n",
              "    .dataframe tbody tr th:only-of-type {\n",
              "        vertical-align: middle;\n",
              "    }\n",
              "\n",
              "    .dataframe tbody tr th {\n",
              "        vertical-align: top;\n",
              "    }\n",
              "\n",
              "    .dataframe thead th {\n",
              "        text-align: right;\n",
              "    }\n",
              "</style>\n",
              "<table border=\"1\" class=\"dataframe\">\n",
              "  <thead>\n",
              "    <tr style=\"text-align: right;\">\n",
              "      <th></th>\n",
              "      <th>t</th>\n",
              "      <th>n</th>\n",
              "      <th>m</th>\n",
              "    </tr>\n",
              "  </thead>\n",
              "  <tbody>\n",
              "    <tr>\n",
              "      <th>0</th>\n",
              "      <td>False</td>\n",
              "      <td>False</td>\n",
              "      <td>False</td>\n",
              "    </tr>\n",
              "    <tr>\n",
              "      <th>1</th>\n",
              "      <td>False</td>\n",
              "      <td>False</td>\n",
              "      <td>False</td>\n",
              "    </tr>\n",
              "    <tr>\n",
              "      <th>2</th>\n",
              "      <td>False</td>\n",
              "      <td>False</td>\n",
              "      <td>False</td>\n",
              "    </tr>\n",
              "    <tr>\n",
              "      <th>3</th>\n",
              "      <td>False</td>\n",
              "      <td>False</td>\n",
              "      <td>False</td>\n",
              "    </tr>\n",
              "    <tr>\n",
              "      <th>4</th>\n",
              "      <td>False</td>\n",
              "      <td>False</td>\n",
              "      <td>False</td>\n",
              "    </tr>\n",
              "    <tr>\n",
              "      <th>...</th>\n",
              "      <td>...</td>\n",
              "      <td>...</td>\n",
              "      <td>...</td>\n",
              "    </tr>\n",
              "    <tr>\n",
              "      <th>2375</th>\n",
              "      <td>True</td>\n",
              "      <td>True</td>\n",
              "      <td>True</td>\n",
              "    </tr>\n",
              "    <tr>\n",
              "      <th>2376</th>\n",
              "      <td>False</td>\n",
              "      <td>True</td>\n",
              "      <td>False</td>\n",
              "    </tr>\n",
              "    <tr>\n",
              "      <th>2377</th>\n",
              "      <td>True</td>\n",
              "      <td>False</td>\n",
              "      <td>True</td>\n",
              "    </tr>\n",
              "    <tr>\n",
              "      <th>2378</th>\n",
              "      <td>False</td>\n",
              "      <td>True</td>\n",
              "      <td>False</td>\n",
              "    </tr>\n",
              "    <tr>\n",
              "      <th>2379</th>\n",
              "      <td>True</td>\n",
              "      <td>True</td>\n",
              "      <td>True</td>\n",
              "    </tr>\n",
              "  </tbody>\n",
              "</table>\n",
              "<p>2380 rows × 3 columns</p>\n",
              "</div>\n",
              "      <button class=\"colab-df-convert\" onclick=\"convertToInteractive('df-f7d398fb-55d1-45a8-a708-499cb69eb2b9')\"\n",
              "              title=\"Convert this dataframe to an interactive table.\"\n",
              "              style=\"display:none;\">\n",
              "        \n",
              "  <svg xmlns=\"http://www.w3.org/2000/svg\" height=\"24px\"viewBox=\"0 0 24 24\"\n",
              "       width=\"24px\">\n",
              "    <path d=\"M0 0h24v24H0V0z\" fill=\"none\"/>\n",
              "    <path d=\"M18.56 5.44l.94 2.06.94-2.06 2.06-.94-2.06-.94-.94-2.06-.94 2.06-2.06.94zm-11 1L8.5 8.5l.94-2.06 2.06-.94-2.06-.94L8.5 2.5l-.94 2.06-2.06.94zm10 10l.94 2.06.94-2.06 2.06-.94-2.06-.94-.94-2.06-.94 2.06-2.06.94z\"/><path d=\"M17.41 7.96l-1.37-1.37c-.4-.4-.92-.59-1.43-.59-.52 0-1.04.2-1.43.59L10.3 9.45l-7.72 7.72c-.78.78-.78 2.05 0 2.83L4 21.41c.39.39.9.59 1.41.59.51 0 1.02-.2 1.41-.59l7.78-7.78 2.81-2.81c.8-.78.8-2.07 0-2.86zM5.41 20L4 18.59l7.72-7.72 1.47 1.35L5.41 20z\"/>\n",
              "  </svg>\n",
              "      </button>\n",
              "      \n",
              "  <style>\n",
              "    .colab-df-container {\n",
              "      display:flex;\n",
              "      flex-wrap:wrap;\n",
              "      gap: 12px;\n",
              "    }\n",
              "\n",
              "    .colab-df-convert {\n",
              "      background-color: #E8F0FE;\n",
              "      border: none;\n",
              "      border-radius: 50%;\n",
              "      cursor: pointer;\n",
              "      display: none;\n",
              "      fill: #1967D2;\n",
              "      height: 32px;\n",
              "      padding: 0 0 0 0;\n",
              "      width: 32px;\n",
              "    }\n",
              "\n",
              "    .colab-df-convert:hover {\n",
              "      background-color: #E2EBFA;\n",
              "      box-shadow: 0px 1px 2px rgba(60, 64, 67, 0.3), 0px 1px 3px 1px rgba(60, 64, 67, 0.15);\n",
              "      fill: #174EA6;\n",
              "    }\n",
              "\n",
              "    [theme=dark] .colab-df-convert {\n",
              "      background-color: #3B4455;\n",
              "      fill: #D2E3FC;\n",
              "    }\n",
              "\n",
              "    [theme=dark] .colab-df-convert:hover {\n",
              "      background-color: #434B5C;\n",
              "      box-shadow: 0px 1px 3px 1px rgba(0, 0, 0, 0.15);\n",
              "      filter: drop-shadow(0px 1px 2px rgba(0, 0, 0, 0.3));\n",
              "      fill: #FFFFFF;\n",
              "    }\n",
              "  </style>\n",
              "\n",
              "      <script>\n",
              "        const buttonEl =\n",
              "          document.querySelector('#df-f7d398fb-55d1-45a8-a708-499cb69eb2b9 button.colab-df-convert');\n",
              "        buttonEl.style.display =\n",
              "          google.colab.kernel.accessAllowed ? 'block' : 'none';\n",
              "\n",
              "        async function convertToInteractive(key) {\n",
              "          const element = document.querySelector('#df-f7d398fb-55d1-45a8-a708-499cb69eb2b9');\n",
              "          const dataTable =\n",
              "            await google.colab.kernel.invokeFunction('convertToInteractive',\n",
              "                                                     [key], {});\n",
              "          if (!dataTable) return;\n",
              "\n",
              "          const docLinkHtml = 'Like what you see? Visit the ' +\n",
              "            '<a target=\"_blank\" href=https://colab.research.google.com/notebooks/data_table.ipynb>data table notebook</a>'\n",
              "            + ' to learn more about interactive tables.';\n",
              "          element.innerHTML = '';\n",
              "          dataTable['output_type'] = 'display_data';\n",
              "          await google.colab.output.renderOutput(dataTable, element);\n",
              "          const docLink = document.createElement('div');\n",
              "          docLink.innerHTML = docLinkHtml;\n",
              "          element.appendChild(docLink);\n",
              "        }\n",
              "      </script>\n",
              "    </div>\n",
              "  </div>\n",
              "  "
            ]
          },
          "metadata": {},
          "execution_count": 43
        }
      ]
    },
    {
      "cell_type": "code",
      "source": [
        "df4['t'] = df4['t'].fillna(0)\n",
        "df4['n'] = df4['n'].fillna(0)\n",
        "df4['m'] = df4['m'].fillna(0)"
      ],
      "metadata": {
        "id": "tGD_ehzW3Hjb"
      },
      "execution_count": null,
      "outputs": []
    },
    {
      "cell_type": "code",
      "source": [
        "df4"
      ],
      "metadata": {
        "colab": {
          "base_uri": "https://localhost:8080/",
          "height": 423
        },
        "id": "lo5W3JN84SJr",
        "outputId": "14ce492a-e976-4e88-be9f-295f24745190"
      },
      "execution_count": null,
      "outputs": [
        {
          "output_type": "execute_result",
          "data": {
            "text/plain": [
              "      t  n  m\n",
              "0     2  1  x\n",
              "1     2  0  x\n",
              "2     2  0  x\n",
              "3     2  0  x\n",
              "4     2  o  x\n",
              "...  .. .. ..\n",
              "2375  0  0  0\n",
              "2376  2  0  x\n",
              "2377  0  1  0\n",
              "2378  2  0  x\n",
              "2379  0  0  0\n",
              "\n",
              "[2380 rows x 3 columns]"
            ],
            "text/html": [
              "\n",
              "  <div id=\"df-95d78ae4-1f6c-482c-929d-7d3ff8eedb47\">\n",
              "    <div class=\"colab-df-container\">\n",
              "      <div>\n",
              "<style scoped>\n",
              "    .dataframe tbody tr th:only-of-type {\n",
              "        vertical-align: middle;\n",
              "    }\n",
              "\n",
              "    .dataframe tbody tr th {\n",
              "        vertical-align: top;\n",
              "    }\n",
              "\n",
              "    .dataframe thead th {\n",
              "        text-align: right;\n",
              "    }\n",
              "</style>\n",
              "<table border=\"1\" class=\"dataframe\">\n",
              "  <thead>\n",
              "    <tr style=\"text-align: right;\">\n",
              "      <th></th>\n",
              "      <th>t</th>\n",
              "      <th>n</th>\n",
              "      <th>m</th>\n",
              "    </tr>\n",
              "  </thead>\n",
              "  <tbody>\n",
              "    <tr>\n",
              "      <th>0</th>\n",
              "      <td>2</td>\n",
              "      <td>1</td>\n",
              "      <td>x</td>\n",
              "    </tr>\n",
              "    <tr>\n",
              "      <th>1</th>\n",
              "      <td>2</td>\n",
              "      <td>0</td>\n",
              "      <td>x</td>\n",
              "    </tr>\n",
              "    <tr>\n",
              "      <th>2</th>\n",
              "      <td>2</td>\n",
              "      <td>0</td>\n",
              "      <td>x</td>\n",
              "    </tr>\n",
              "    <tr>\n",
              "      <th>3</th>\n",
              "      <td>2</td>\n",
              "      <td>0</td>\n",
              "      <td>x</td>\n",
              "    </tr>\n",
              "    <tr>\n",
              "      <th>4</th>\n",
              "      <td>2</td>\n",
              "      <td>o</td>\n",
              "      <td>x</td>\n",
              "    </tr>\n",
              "    <tr>\n",
              "      <th>...</th>\n",
              "      <td>...</td>\n",
              "      <td>...</td>\n",
              "      <td>...</td>\n",
              "    </tr>\n",
              "    <tr>\n",
              "      <th>2375</th>\n",
              "      <td>0</td>\n",
              "      <td>0</td>\n",
              "      <td>0</td>\n",
              "    </tr>\n",
              "    <tr>\n",
              "      <th>2376</th>\n",
              "      <td>2</td>\n",
              "      <td>0</td>\n",
              "      <td>x</td>\n",
              "    </tr>\n",
              "    <tr>\n",
              "      <th>2377</th>\n",
              "      <td>0</td>\n",
              "      <td>1</td>\n",
              "      <td>0</td>\n",
              "    </tr>\n",
              "    <tr>\n",
              "      <th>2378</th>\n",
              "      <td>2</td>\n",
              "      <td>0</td>\n",
              "      <td>x</td>\n",
              "    </tr>\n",
              "    <tr>\n",
              "      <th>2379</th>\n",
              "      <td>0</td>\n",
              "      <td>0</td>\n",
              "      <td>0</td>\n",
              "    </tr>\n",
              "  </tbody>\n",
              "</table>\n",
              "<p>2380 rows × 3 columns</p>\n",
              "</div>\n",
              "      <button class=\"colab-df-convert\" onclick=\"convertToInteractive('df-95d78ae4-1f6c-482c-929d-7d3ff8eedb47')\"\n",
              "              title=\"Convert this dataframe to an interactive table.\"\n",
              "              style=\"display:none;\">\n",
              "        \n",
              "  <svg xmlns=\"http://www.w3.org/2000/svg\" height=\"24px\"viewBox=\"0 0 24 24\"\n",
              "       width=\"24px\">\n",
              "    <path d=\"M0 0h24v24H0V0z\" fill=\"none\"/>\n",
              "    <path d=\"M18.56 5.44l.94 2.06.94-2.06 2.06-.94-2.06-.94-.94-2.06-.94 2.06-2.06.94zm-11 1L8.5 8.5l.94-2.06 2.06-.94-2.06-.94L8.5 2.5l-.94 2.06-2.06.94zm10 10l.94 2.06.94-2.06 2.06-.94-2.06-.94-.94-2.06-.94 2.06-2.06.94z\"/><path d=\"M17.41 7.96l-1.37-1.37c-.4-.4-.92-.59-1.43-.59-.52 0-1.04.2-1.43.59L10.3 9.45l-7.72 7.72c-.78.78-.78 2.05 0 2.83L4 21.41c.39.39.9.59 1.41.59.51 0 1.02-.2 1.41-.59l7.78-7.78 2.81-2.81c.8-.78.8-2.07 0-2.86zM5.41 20L4 18.59l7.72-7.72 1.47 1.35L5.41 20z\"/>\n",
              "  </svg>\n",
              "      </button>\n",
              "      \n",
              "  <style>\n",
              "    .colab-df-container {\n",
              "      display:flex;\n",
              "      flex-wrap:wrap;\n",
              "      gap: 12px;\n",
              "    }\n",
              "\n",
              "    .colab-df-convert {\n",
              "      background-color: #E8F0FE;\n",
              "      border: none;\n",
              "      border-radius: 50%;\n",
              "      cursor: pointer;\n",
              "      display: none;\n",
              "      fill: #1967D2;\n",
              "      height: 32px;\n",
              "      padding: 0 0 0 0;\n",
              "      width: 32px;\n",
              "    }\n",
              "\n",
              "    .colab-df-convert:hover {\n",
              "      background-color: #E2EBFA;\n",
              "      box-shadow: 0px 1px 2px rgba(60, 64, 67, 0.3), 0px 1px 3px 1px rgba(60, 64, 67, 0.15);\n",
              "      fill: #174EA6;\n",
              "    }\n",
              "\n",
              "    [theme=dark] .colab-df-convert {\n",
              "      background-color: #3B4455;\n",
              "      fill: #D2E3FC;\n",
              "    }\n",
              "\n",
              "    [theme=dark] .colab-df-convert:hover {\n",
              "      background-color: #434B5C;\n",
              "      box-shadow: 0px 1px 3px 1px rgba(0, 0, 0, 0.15);\n",
              "      filter: drop-shadow(0px 1px 2px rgba(0, 0, 0, 0.3));\n",
              "      fill: #FFFFFF;\n",
              "    }\n",
              "  </style>\n",
              "\n",
              "      <script>\n",
              "        const buttonEl =\n",
              "          document.querySelector('#df-95d78ae4-1f6c-482c-929d-7d3ff8eedb47 button.colab-df-convert');\n",
              "        buttonEl.style.display =\n",
              "          google.colab.kernel.accessAllowed ? 'block' : 'none';\n",
              "\n",
              "        async function convertToInteractive(key) {\n",
              "          const element = document.querySelector('#df-95d78ae4-1f6c-482c-929d-7d3ff8eedb47');\n",
              "          const dataTable =\n",
              "            await google.colab.kernel.invokeFunction('convertToInteractive',\n",
              "                                                     [key], {});\n",
              "          if (!dataTable) return;\n",
              "\n",
              "          const docLinkHtml = 'Like what you see? Visit the ' +\n",
              "            '<a target=\"_blank\" href=https://colab.research.google.com/notebooks/data_table.ipynb>data table notebook</a>'\n",
              "            + ' to learn more about interactive tables.';\n",
              "          element.innerHTML = '';\n",
              "          dataTable['output_type'] = 'display_data';\n",
              "          await google.colab.output.renderOutput(dataTable, element);\n",
              "          const docLink = document.createElement('div');\n",
              "          docLink.innerHTML = docLinkHtml;\n",
              "          element.appendChild(docLink);\n",
              "        }\n",
              "      </script>\n",
              "    </div>\n",
              "  </div>\n",
              "  "
            ]
          },
          "metadata": {},
          "execution_count": 59
        }
      ]
    },
    {
      "cell_type": "markdown",
      "source": [
        "Labelling and Conversion into new CSV FILE\n"
      ],
      "metadata": {
        "id": "Nq0hiGOjBG4Z"
      }
    },
    {
      "cell_type": "code",
      "source": [
        "df_tnm_new = pd.read_csv(\"tnm_new.csv\")\n",
        "list_tnm = df_tnm_new.values.tolist()\n",
        "print(list_tnm)"
      ],
      "metadata": {
        "id": "FvTjcdBi2F5a",
        "colab": {
          "base_uri": "https://localhost:8080/"
        },
        "outputId": "3a6363df-3f89-4b05-f907-fd39e16b75d9"
      },
      "execution_count": null,
      "outputs": [
        {
          "output_type": "stream",
          "name": "stdout",
          "text": [
            "[['2', '1', '0'], ['2', '0', '0'], ['2', '0', '0'], ['2', '0', '0'], ['2', '0', '0'], ['4', '1', '0'], ['3', '0', '0'], ['3', '2', '0'], ['2', '0', '0'], ['1', '0', '0'], ['2', '0', '0'], ['2', '0', '0'], ['1', '0', '0'], ['3', '0', '0'], ['2', '0', '0'], ['2', '0', '0'], ['2', '1', '0'], ['2', '1', '0'], ['2', '1', '0'], ['3', '1', '0'], ['2', '1', '0'], ['1', '0', '0'], ['3', '0', '0'], ['1', '0', '0'], ['2', '1', '0'], ['2', '0', '0'], ['1', '1', '0'], ['2', '2', '0'], ['2', '0', '0'], ['1', '0', '0'], ['2', '0', '0'], ['2', '2', '0'], ['2', '0', '0'], ['2', '1', '0'], ['2', '0', '0'], ['3', '2', '0'], ['2', '0', '0'], ['2', '0', '0'], ['1', '0', '0'], ['2', '0', '0'], ['2', '0', '0'], ['2', '1', '0'], ['2', '1', '0'], ['1', '1', '0'], ['2', '1', '0'], ['3', '0', '0'], ['3', '0', '0'], ['2', '0', '0'], ['2', '0', '0'], ['2', '1', '0'], ['2', '1', '0'], ['2', '1', '0'], ['2', '1', '0'], ['1', '1', '0'], ['2', '1', '0'], ['1', '0', '1'], ['1', '0', '0'], ['3', '0', '0'], ['2', '1', '0'], ['2', 'x', '0'], ['1', '1', '0'], ['2', '2', '0'], ['2', '0', '0'], ['1', '0', '0'], ['2', '0', '0'], ['2', '1', '0'], ['2', '2', '0'], ['1', '0', '0'], ['2', '0', '0'], ['1', '1', '0'], ['2', '1', '0'], ['2', '0', '0'], ['3', '2', '0'], ['2', 'x', '0'], ['1', '0', '0'], ['2', '0', '0'], ['2', '2', '0'], ['3', '0', '0'], ['2', '1', '0'], ['i', '0', '0'], ['1', '0', '0'], ['3', '2', '0'], ['1', '0', '0'], ['2', '0', '0'], ['3', '0', '0'], ['2', '0', '0'], ['3', '1', '0'], ['3', '1', '0'], ['2', '3', '0'], ['1', '0', '0'], ['2', '1', '0'], ['4', '0', '0'], ['2', '0', '0'], ['2', '3', '0'], ['2', '0', '0'], ['2', '0', '0'], ['2', '3', '0'], ['2', '3', '0'], ['2', 'x', '0'], ['2', '0', '0'], ['2', '3', '0'], ['2', '3', '0'], ['2', '3', '0'], ['2', '3', '0'], ['2', '3', '0'], ['2', '1', '0'], ['2', '0', '0'], ['2', '1', '0'], ['2', '0', '0'], ['2', '0', '0'], ['2', '0', '0'], ['t', '0', '0'], ['2', '1', '0'], ['4', '2', '0'], ['3', '2', '0'], ['3', 'x', '0'], ['1', 'x', '0'], ['1', '0', '0'], ['2', '0', '0'], ['2', '0', '0'], ['2', '0', '0'], ['3', '0', '0'], ['2', '0', '0'], ['2', '1', '0'], ['2', '1', '0'], ['2', '1', '0'], ['2', '1', '0'], ['2', '1', '0'], ['1', '0', '0'], ['1', '0', '0'], ['3', '0', '0'], ['3', '1', '0'], ['2', 'x', '0'], ['2', '1', '0'], ['1', '2', '0'], ['I', '0', '0'], ['2', '0', '0'], ['2', '0', '0'], ['1', '2', '0'], ['2', '0', '0'], ['2', '1', '0'], ['2', '0', '0'], ['2', '2', '0'], ['2', 'x', '0'], ['3', '0', '0'], ['2', '0', '0'], ['2', '0', '0'], ['1', '0', '0'], ['q', 'O', '0'], ['2', '1', '0'], ['d', '1', '0'], ['3', '1', '0'], ['2', '1', '0'], ['2', '0', '0'], ['1', '0', '0'], ['2', '0', '0'], ['3', 'c', '0'], ['3', '0', '0'], ['2', '1', '0'], ['2', '1', '0'], ['2', '1', '0'], ['2', '1', '0'], ['2', '1', '0'], ['2', '1', '0'], ['1', '0', '0'], ['1', '0', '0'], ['1', '0', '0'], ['1', '1', '0'], ['3', '0', '0'], ['2', 'x', '0'], ['2', '1', '0'], ['1', '2', '0'], ['2', '0', '0'], ['2', '0', '0'], ['1', '0', '0'], ['2', '2', '0'], ['2', '2', '0'], ['2', '0', '0'], ['2', '0', '0'], ['2', '1', '0'], ['2', '0', '0'], ['2', '0', '0'], ['2', '2', '0'], ['3', '0', '0'], ['2', '0', '0'], ['1', '0', '0'], ['2', '0', '0'], ['2', '0', '0'], ['3', '0', '0'], ['2', '0', '0'], ['i', '0', '0'], ['1', '0', '0'], ['1', '0', '0'], ['1', '0', '0'], ['2', '0', '0'], ['3', '1', '0'], ['2', '0', '0'], ['3', '1', '0'], ['3', '1', '0'], ['2', '3', '0'], ['1', '0', '0'], ['2', '1', '0'], ['4', '0', '0'], ['u', '0', '0'], ['2', '0', '0'], ['2', '0', '0'], ['2', '0', '0'], ['2', '0', '0'], ['2', '3', '0'], ['2', '3', '0'], ['2', 'x', '0'], ['2', '0', '0'], ['2', '3', '0'], ['2', '3', '0'], ['2', '3', '0'], ['2', '3', '0'], ['2', '3', '0'], ['2', '1', '0'], ['2', '0', '0'], ['2', '1', '0'], ['2', '0', '0'], ['2', '0', '0'], ['2', 'n', '0'], ['2', '0', 'A'], ['4', '1', '0'], ['3', '2', '0'], ['1', '2', '0'], ['1', 'x', '0'], ['2', 'x', '0'], ['2', '0', '0'], ['2', '0', '0'], ['3', '0', '0'], ['2', '0', '0'], ['2', '0', '0'], ['2', '0', '0'], ['2', '1', '0'], ['2', '1', '0'], ['1', '1', '0'], ['1', '1', '0'], ['3', '1', 'c'], ['3', '0', '0'], ['2', '0', '0'], ['2', '0', '0'], ['1', '1', '0'], ['2', 'x', '0'], ['2', '1', '0'], ['1', '2', '0'], ['2', '0', '0'], ['2', '0', '0'], ['2', '0', '0'], ['2', '2', '0'], ['3', '0', '0'], ['2', '1', '0'], ['1', '0', '0'], ['2', '2', '0'], ['3', '0', '0'], ['2', '0', '0'], ['2', '0', '0'], ['1', '0', '0'], ['2', '0', '0'], ['3', '1', '0'], ['2', '1', '0'], ['2', 'I', '0'], ['2', '1', '0'], ['2', '0', '0'], ['2', '0', '0'], ['2', '0', '0'], ['1', '0', '0'], ['1', '1', '0'], ['1', '1', '0'], ['3', '1', '0'], ['2', 'u', '0'], ['1', '0', '0'], ['2', '1', '0'], ['2', '0', '0'], ['1', '0', '0'], ['2', '0', '0'], ['2', '1', '0'], ['2', '0', '0'], ['2', '1', '0'], ['2', '2', '0'], ['2', '0', '0'], ['2', '0', '0'], ['3', '0', '0'], ['2', '2', '0'], ['1', '0', '0'], ['2', '0', '0'], ['2', '0', '0'], ['3', '0', '0'], ['2', '0', '0'], ['i', '0', '0'], ['1', '0', '0'], ['1', '0', '0'], ['1', '1', '0'], ['2', '0', '0'], ['3', '0', '0'], ['2', '0', '0'], ['3', '0', '0'], ['3', '0', '0'], ['2', '0', '0'], ['2', '0', '0'], ['4', '1', '0'], ['2', '0', '0'], ['2', '0', '0'], ['2', '0', '0'], ['2', '0', '0'], ['2', '0', '0'], ['2', '0', '0'], ['2', '3', '0'], ['2', '0', '0'], ['2', '0', '0'], ['2', '0', '0'], ['2', '0', '0'], ['2', '0', '0'], ['2', 'i', '0'], ['2', 't', '0'], ['2', '0', '0'], ['2', '3', '0'], ['t', '0', '0'], ['2', '0', '0'], ['2', '0', '0'], ['4', '0', '0'], ['3', '1', '0'], ['3', '0', '0'], ['1', '0', '0'], ['1', '0', '0'], ['2', '0', '0'], ['2', '0', '0'], ['2', '0', '0'], ['t', '1', '0'], ['2', '2', '0'], ['2', '2', '0'], ['2', '0', '0'], ['2', '0', '0'], ['2', '0', '0'], ['2', '0', '0'], ['1', '0', '0'], ['1', '0', '0'], ['t', '0', '0'], ['i', '1', '0'], ['2', '1', '0'], ['2', '1', '0'], ['1', '1', '0'], ['2', '0', '0'], ['2', '0', '0'], ['1', '1', '0'], ['d', 'x', 'e'], ['2', '1', '0'], ['2', '2', '0'], ['2', '0', '0'], ['2', '0', '0'], ['3', '0', '0'], ['2', '2', '0'], ['2', '0', '0'], ['1', '1', '0'], ['0', '0', '0'], ['3', '0', '0'], ['2', '0', '0'], ['2', '0', '0'], ['1', '0', '0'], ['2', '1', '0'], ['3', '1', '0'], ['3', '1', '0'], ['2', '1', '0'], ['2', '0', '0'], ['2', '0', 'g'], ['2', '0', '0'], ['2', '0', '0'], ['2', '1', '0'], ['1', '1', '0'], ['1', '1', '0'], ['s', '1', '0'], ['1', '1', '0'], ['3', '1', '0'], ['2', '0', '0'], ['2', '0', '0'], ['1', '0', '0'], ['2', '1', '0'], ['2', '0', '0'], ['1', '1', '0'], ['t', '2', '0'], ['2', '0', '0'], ['2', '0', '0'], ['2', '0', '0'], ['2', '2', '0'], ['2', '0', '0'], ['2', '0', '0'], ['2', '1', '0'], ['3', '0', '0'], ['2', '2', 't'], ['1', '0', '0'], ['2', '0', '0'], ['2', '0', '0'], ['t', '0', '0'], ['2', '0', '0'], ['i', '0', '0'], ['1', '0', '0'], ['1', '0', '0'], ['1', '0', '0'], ['2', '0', '0'], ['3', '0', 'e'], ['2', '1', '0'], ['3', '0', '0'], ['3', '0', '0'], ['2', '1', '0'], ['1', '3', '0'], ['2', '0', '1'], ['4', '1', '0'], ['2', '0', '0'], ['2', '0', 't'], ['2', '3', '0'], ['2', '0', '0'], ['2', '0', '0'], ['2', '0', 'c'], ['2', '3', '0'], ['d', 'x', '0'], ['2', '0', '0'], ['2', '3', '0'], ['2', '3', '0'], ['2', '3', '0'], ['2', '0', '0'], ['2', '0', '0'], ['2', '0', '0'], ['2', '1', '0'], ['2', '0', '0'], ['2', '0', '0'], ['2', '0', '0'], ['2', '0', '0'], ['4', '1', '0'], ['3', '0', '0'], ['3', '2', '0'], ['2', 'x', '0'], ['1', 'x', '0'], ['2', '0', '0'], ['2', '0', '0'], ['1', '0', '0'], ['3', '0', '0'], ['2', '0', '0'], ['2', '0', '0'], ['2', '1', '0'], ['2', '1', '0'], ['2', '1', '0'], ['3', '1', '0'], ['2', '1', '0'], ['1', '0', '0'], ['3', '0', '0'], ['1', '0', '0'], ['2', '1', '0'], ['2', '0', '0'], ['1', '1', '0'], ['2', '2', '0'], ['2', '0', '0'], ['1', '0', '0'], ['2', '0', '0'], ['2', '2', '0'], ['2', '0', '0'], ['2', '1', '0'], ['2', '0', '0'], ['3', '2', '0'], ['2', '0', '0'], ['2', '0', '0'], ['1', '0', '0'], ['2', '0', '0'], ['2', '0', '0'], ['2', '1', '0'], ['2', '1', '0'], ['1', '1', '0'], ['2', '1', '0'], ['3', '0', '0'], ['3', '0', '0'], ['2', '0', '0'], ['2', '0', '0'], ['2', '1', '0'], ['2', '1', '0'], ['2', '1', '0'], ['2', '1', '0'], ['1', '1', '0'], ['2', '1', '0'], ['1', '0', '0'], ['1', '0', '0'], ['3', '0', '0'], ['2', '1', '0'], ['2', '0', '0'], ['1', '1', '0'], ['2', '2', '0'], ['2', '0', '0'], ['1', '0', '0'], ['2', '0', '0'], ['2', '1', '0'], ['2', '2', '0'], ['1', '0', '0'], ['2', '0', '0'], ['1', '1', '0'], ['2', '1', '0'], ['2', '0', '0'], ['3', '2', '0'], ['2', '0', '0'], ['1', '0', '0'], ['2', '0', '0'], ['2', '2', '0'], ['3', '0', '0'], ['2', '1', '0'], ['i', '0', '0'], ['1', '0', '0'], ['3', '2', '0'], ['1', '0', '0'], ['2', '0', '0'], ['3', '0', '0'], ['2', '0', '0'], ['3', '1', '0'], ['3', '1', '0'], ['2', '3', '0'], ['1', '0', '0'], ['2', '1', '0'], ['4', '0', '0'], ['2', '0', '0'], ['2', '3', '0'], ['2', '0', '0'], ['2', '0', '0'], ['2', '3', '0'], ['2', '3', '0'], ['2', '0', '0'], ['2', '0', '0'], ['2', '3', '0'], ['2', '3', '0'], ['2', '3', '0'], ['2', '3', '0'], ['2', '3', '0'], ['2', '1', '0'], ['2', '0', '0'], ['2', '1', '0'], ['2', '0', '0'], ['2', '0', '0'], ['2', '0', '0'], ['t', '0', '0'], ['2', '1', '0'], ['4', '2', '0'], ['3', '2', '0'], ['3', '0', '0'], ['1', '0', '0'], ['1', '0', '0'], ['2', '0', '0'], ['2', '0', '0'], ['2', '0', '0'], ['3', '0', '0'], ['2', '0', '0'], ['2', '1', '0'], ['2', '1', '0'], ['2', '1', '0'], ['2', '1', '0'], ['2', '1', '0'], ['1', '0', '0'], ['1', '0', '0'], ['3', '0', '0'], ['3', '1', '0'], ['2', '0', '0'], ['2', '1', '0'], ['1', '2', '0'], ['I', '0', '0'], ['2', '0', '0'], ['2', '0', '0'], ['1', '2', '0'], ['2', '0', '0'], ['2', '1', '0'], ['2', '0', '0'], ['2', '2', '0'], ['2', '0', '0'], ['3', '0', '0'], ['2', '0', '0'], ['2', '0', '0'], ['1', '0', '0'], ['q', 'O', '0'], ['2', '1', '0'], ['d', '1', '0'], ['3', '1', '0'], ['2', '1', '0'], ['2', '0', '0'], ['1', '0', '0'], ['2', '0', '0'], ['3', '3', '0'], ['3', '0', '0'], ['2', '1', '0'], ['2', '1', '0'], ['2', '1', '0'], ['2', '1', '0'], ['2', '1', '0'], ['2', '1', '0'], ['1', '0', '0'], ['1', '0', '0'], ['1', '0', '0'], ['1', '1', '0'], ['3', '0', '0'], ['2', '0', '0'], ['2', '1', '0'], ['1', '2', '0'], ['2', '0', '0'], ['2', '0', '0'], ['1', '0', '0'], ['2', '2', '0'], ['2', '2', '0'], ['2', '0', '0'], ['2', '0', '0'], ['2', '1', '0'], ['2', '0', '0'], ['2', '0', '0'], ['2', '2', '0'], ['3', '0', '0'], ['2', '0', '0'], ['1', '0', '0'], ['2', '0', '0'], ['2', '0', '0'], ['3', '0', '0'], ['2', '0', '0'], ['i', '0', '0'], ['1', '0', '0'], ['1', '0', '0'], ['1', '0', '0'], ['2', '0', '0'], ['3', '1', '0'], ['2', '0', '0'], ['3', '1', '0'], ['3', '1', '0'], ['2', '3', '0'], ['1', '0', '0'], ['2', '1', '0'], ['4', '0', '0'], ['u', '0', '0'], ['2', '0', '0'], ['2', '0', '0'], ['2', '0', '0'], ['2', '0', '0'], ['2', '3', '0'], ['2', '3', '0'], ['2', '0', '0'], ['2', '0', '0'], ['2', '3', '0'], ['2', '3', '0'], ['2', '3', '0'], ['2', '3', '0'], ['2', '3', '0'], ['2', '1', '0'], ['2', '0', '0'], ['2', '1', '0'], ['2', '0', '0'], ['2', '0', '0'], ['2', '1', '0'], ['2', '0', '1'], ['4', '1', '0'], ['3', '2', '0'], ['1', '2', '0'], ['1', '0', '0'], ['2', '0', '0'], ['2', '0', '0'], ['2', '0', '0'], ['3', '0', '0'], ['2', '0', '0'], ['2', '0', '0'], ['2', '0', '0'], ['2', '1', '0'], ['2', '1', '0'], ['1', '1', '0'], ['1', '1', '0'], ['3', '1', 'c'], ['3', '0', '0'], ['2', '0', '0'], ['2', '0', '0'], ['1', '1', '0'], ['2', '0', '0'], ['2', '1', '0'], ['1', '2', '0'], ['2', '0', '0'], ['2', '0', '0'], ['2', '0', '0'], ['2', '2', '0'], ['3', '0', '0'], ['2', '1', '1'], ['1', '0', '0'], ['2', '2', '0'], ['3', '0', '0'], ['2', '0', '0'], ['2', '0', '0'], ['1', '0', '0'], ['2', '0', '0'], ['3', '1', '0'], ['2', '1', '0'], ['2', 'I', '0'], ['2', '1', '0'], ['2', '0', '0'], ['2', '0', '0'], ['2', '0', '0'], ['1', '0', '0'], ['1', '1', '0'], ['1', '1', '0'], ['3', '1', '0'], ['2', '1', '0'], ['1', '0', '0'], ['2', '1', '0'], ['2', '0', '0'], ['1', '0', '0'], ['2', '0', '0'], ['2', '1', '0'], ['2', '1', '0'], ['2', '1', '0'], ['2', '2', '0'], ['2', '0', '0'], ['2', '0', '0'], ['3', '0', '0'], ['2', '2', '0'], ['1', '0', '0'], ['2', '0', '0'], ['2', '0', '0'], ['3', '0', '0'], ['2', '0', '0'], ['i', '0', '0'], ['1', '0', '0'], ['1', '0', '0'], ['1', '1', '0'], ['2', '0', '0'], ['3', '0', '0'], ['2', '0', '0'], ['3', '0', '0'], ['3', '0', '0'], ['2', '0', '0'], ['2', '0', '0'], ['4', '1', '0'], ['2', '0', '0'], ['2', '0', '0'], ['2', '0', '0'], ['2', '0', '0'], ['2', '0', '0'], ['2', '0', '0'], ['2', '3', '0'], ['2', '0', '0'], ['2', '0', '0'], ['2', '0', '0'], ['2', '0', '0'], ['2', '0', '0'], ['2', '1', '0'], ['2', '1', '0'], ['2', '0', '0'], ['2', '3', '0'], ['t', '0', '0'], ['2', '0', '0'], ['2', '0', '0'], ['4', '0', '0'], ['3', '1', '0'], ['3', '0', '0'], ['1', '0', '0'], ['1', '0', '0'], ['2', '0', '0'], ['2', '0', '0'], ['2', '0', '0'], ['t', '1', '0'], ['2', '2', '0'], ['2', '2', '0'], ['2', '0', '0'], ['2', '0', '0'], ['2', '0', '0'], ['2', '0', '0'], ['1', '0', '0'], ['1', '0', '0'], ['t', '0', '0'], ['i', '1', '0'], ['2', '1', '0'], ['2', '1', '0'], ['1', '1', '0'], ['2', '0', '0'], ['2', '0', '0'], ['1', '1', '0'], ['0', '0', '0'], ['2', '1', '0'], ['2', '2', '0'], ['2', '0', '0'], ['2', '0', '0'], ['3', '0', '0'], ['2', '2', '0'], ['2', '0', '0'], ['1', '1', '0'], ['I', '0', '0'], ['3', '0', '0'], ['2', '0', '0'], ['2', '0', '0'], ['1', '0', '0'], ['2', '1', '0'], ['3', '1', '0'], ['3', '1', '0'], ['2', '1', '0'], ['2', '0', '0'], ['2', '0', 'g'], ['2', '0', '0'], ['2', '0', '0'], ['2', '1', '0'], ['1', '1', '0'], ['1', '1', '0'], ['s', '1', '0'], ['1', '1', '0'], ['3', '1', '0'], ['2', '0', '0'], ['2', '0', '0'], ['1', '0', '0'], ['2', '1', '0'], ['2', '0', '0'], ['1', '1', '0'], ['1', '2', '0'], ['2', '0', '0'], ['2', '0', '0'], ['2', '0', '0'], ['2', '2', '0'], ['2', '0', '0'], ['2', '0', '0'], ['2', '1', '0'], ['3', '0', '0'], ['2', '2', 't'], ['1', '0', '0'], ['2', '0', '0'], ['2', '0', '0'], ['t', '0', '0'], ['2', '0', '0'], ['i', '0', '0'], ['1', '0', '0'], ['1', '0', '0'], ['1', '0', '0'], ['2', '0', '0'], ['3', '0', '0'], ['2', '1', '0'], ['3', '0', '0'], ['3', '0', '0'], ['2', '1', '0'], ['1', '3', '0'], ['2', '0', '1'], ['4', '1', '0'], ['2', '0', '0'], ['2', '0', '0'], ['2', '3', '0'], ['2', '0', '0'], ['2', '0', '0'], ['2', '0', 'c'], ['2', '3', '0'], ['d', '0', '0'], ['2', '0', '0'], ['2', '3', '0'], ['2', '3', '0'], ['2', '3', '0'], ['2', '0', '0'], ['2', '0', '0'], ['2', '0', '0'], ['2', '1', '0'], ['2', '0', '0'], ['2', '0', '0'], ['2', '0', '0'], ['2', '0', '0'], ['4', '1', '0'], ['3', '0', '0'], ['3', '2', '0'], ['2', '0', '0'], ['1', '0', '0'], ['2', '0', '0'], ['2', '0', '0'], ['1', '0', '0'], ['3', '0', '0'], ['2', '0', '0'], ['2', '0', '0'], ['2', '1', '0'], ['2', '1', '0'], ['2', '1', '0'], ['3', '1', '0'], ['2', '1', '0'], ['1', '0', '0'], ['3', '0', '0'], ['1', '0', '0'], ['2', '1', '0'], ['2', '0', '0'], ['1', '1', '0'], ['2', '2', '0'], ['2', '0', '0'], ['1', '0', '0'], ['2', '0', '0'], ['2', '2', '0'], ['2', '0', '0'], ['2', '1', '0'], ['2', '0', '0'], ['3', '2', '0'], ['2', '0', '0'], ['2', '0', '0'], ['1', '0', '0'], ['2', '0', '0'], ['2', '0', '0'], ['2', '1', '0'], ['2', '1', '0'], ['1', '1', '0'], ['2', '1', '0'], ['3', '0', '0'], ['3', '0', '0'], ['2', '0', '0'], ['2', '0', '0'], ['2', '1', '0'], ['2', '1', '0'], ['2', '1', '0'], ['2', '1', '0'], ['1', '1', '0'], ['2', '1', '0'], ['1', '0', '0'], ['1', '0', '0'], ['3', '0', '0'], ['2', '1', '0'], ['2', '0', '0'], ['1', '1', '0'], ['2', '2', '0'], ['2', '0', '0'], ['1', '0', '0'], ['2', '0', '0'], ['2', '1', '0'], ['2', '2', '0'], ['1', '0', '0'], ['2', '0', '0'], ['1', '1', '0'], ['2', '1', '0'], ['2', '0', '0'], ['3', '2', '0'], ['2', '0', '0'], ['1', '0', '0'], ['2', '0', '0'], ['2', '2', '0'], ['3', '0', '0'], ['2', '1', '0'], ['i', '0', '0'], ['1', '0', '0'], ['3', '2', '0'], ['1', '0', '0'], ['2', '0', '0'], ['3', '0', '0'], ['2', '0', '0'], ['3', '1', '0'], ['3', '1', '0'], ['2', '3', '0'], ['1', '0', '0'], ['2', '1', '0'], ['4', '0', '0'], ['2', '0', '0'], ['2', '3', '0'], ['2', '0', '0'], ['2', '0', '0'], ['2', '3', '0'], ['2', '3', '0'], ['2', '0', '0'], ['2', '0', '0'], ['2', '3', '0'], ['2', '3', '0'], ['2', '3', '0'], ['2', '3', '0'], ['2', '3', '0'], ['2', '1', '0'], ['2', '0', '0'], ['2', '1', '0'], ['2', '0', '0'], ['2', '0', '0'], ['2', '0', '0'], ['t', '0', '0'], ['2', '1', '0'], ['4', '2', '0'], ['3', '2', '0'], ['3', '0', '0'], ['1', '0', '0'], ['1', '0', '0'], ['2', '0', '0'], ['2', '0', '0'], ['2', '0', '0'], ['3', '0', '0'], ['2', '0', '0'], ['2', '1', '0'], ['2', '1', '0'], ['2', '1', '0'], ['2', '1', '0'], ['2', '1', '0'], ['1', '0', '0'], ['1', '0', '0'], ['3', '0', '0'], ['3', '1', '0'], ['2', '0', '0'], ['2', '1', '0'], ['1', '2', '0'], ['I', '0', '0'], ['2', '0', '0'], ['2', '0', '0'], ['1', '2', '0'], ['2', '0', '0'], ['2', '1', '0'], ['2', '0', '0'], ['2', '2', '0'], ['2', '0', '0'], ['3', '0', '0'], ['2', '0', '0'], ['2', '0', '0'], ['1', '0', '0'], ['q', '0', '0'], ['2', '1', '0'], ['d', '1', '0'], ['3', '1', '0'], ['2', '1', '0'], ['2', '0', '0'], ['1', '0', '0'], ['2', '0', '0'], ['3', '3', '0'], ['3', '0', '0'], ['2', '1', '0'], ['2', '1', '0'], ['2', '1', '0'], ['2', '1', '0'], ['2', '1', '0'], ['2', '1', '0'], ['1', '0', '0'], ['1', '0', '0'], ['1', '0', '0'], ['1', '1', '0'], ['3', '0', '0'], ['2', '0', '0'], ['2', '1', '0'], ['1', '2', '0'], ['2', '0', '0'], ['2', '0', '0'], ['1', '0', '0'], ['2', '2', '0'], ['2', '2', '0'], ['2', '0', '0'], ['2', '0', '0'], ['2', '1', '0'], ['2', '0', '0'], ['2', '0', '0'], ['2', '2', '0'], ['3', '0', '0'], ['2', '0', '0'], ['1', '0', '0'], ['2', '0', '0'], ['2', '0', '0'], ['3', '0', '0'], ['2', '0', '0'], ['i', '0', '0'], ['1', '0', '0'], ['1', '0', '0'], ['1', '0', '0'], ['2', '0', '0'], ['3', '1', '0'], ['2', '0', '0'], ['3', '1', '0'], ['3', '1', '0'], ['2', '3', '0'], ['1', '0', '0'], ['2', '1', '0'], ['4', '0', '0'], ['u', '0', '0'], ['2', '0', '0'], ['2', '0', '0'], ['2', '0', '0'], ['2', '0', '0'], ['2', '3', '0'], ['2', '3', '0'], ['2', '0', '0'], ['2', '0', '0'], ['2', '3', '0'], ['2', '3', '0'], ['2', '3', '0'], ['2', '3', '0'], ['2', '3', '0'], ['2', '1', '0'], ['2', '0', '0'], ['2', '1', '0'], ['2', '0', '0'], ['2', '0', '0'], ['2', '1', '0'], ['2', '0', 'A'], ['4', '1', '0'], ['3', '2', '0'], ['1', '2', '0'], ['1', '0', '0'], ['2', '0', '0'], ['2', '0', '0'], ['2', '0', '0'], ['3', '0', '0'], ['2', '0', '0'], ['2', '0', '0'], ['2', '0', '0'], ['2', '1', '0'], ['2', '1', '0'], ['1', '1', '0'], ['1', '1', '0'], ['3', '1', 'c'], ['3', '0', '0'], ['2', '0', '0'], ['2', '0', '0'], ['1', '1', '0'], ['2', '0', '0'], ['2', '1', '0'], ['1', '2', '0'], ['2', '0', '0'], ['2', '0', '0'], ['2', '0', '0'], ['2', '2', '0'], ['3', '0', '0'], ['2', '1', '1'], ['1', '0', '0'], ['2', '2', '0'], ['3', '0', '0'], ['2', '0', '0'], ['2', '0', '0'], ['1', '0', '0'], ['2', '0', '0'], ['3', '1', '0'], ['2', '1', '0'], ['2', 'I', '0'], ['2', '1', '0'], ['2', '0', '0'], ['2', '0', '0'], ['2', '0', '0'], ['1', '0', '0'], ['1', '1', '0'], ['1', '1', '0'], ['3', '1', '0'], ['2', '1', '0'], ['1', '0', '0'], ['2', '1', '0'], ['2', '0', '0'], ['1', '0', '0'], ['2', '0', '0'], ['2', '1', '0'], ['2', '1', '0'], ['2', '1', '0'], ['2', '2', '0'], ['2', '0', '0'], ['2', '0', '0'], ['3', '0', '0'], ['2', '2', '0'], ['1', '0', '0'], ['2', '0', '0'], ['2', '0', '0'], ['3', '0', '0'], ['2', '0', '0'], ['i', '0', '0'], ['1', '0', '0'], ['1', '0', '0'], ['1', '1', '0'], ['2', '0', '0'], ['3', '0', '0'], ['2', '0', '0'], ['3', '0', '0'], ['3', '0', '0'], ['2', '0', '0'], ['2', '0', '0'], ['4', '1', '0'], ['2', '0', '0'], ['2', '0', '0'], ['2', '0', '0'], ['2', '0', '0'], ['2', '0', '0'], ['2', '0', '0'], ['2', '3', '0'], ['2', '0', '0'], ['2', '0', '0'], ['2', '0', '0'], ['2', '0', '0'], ['2', '0', '0'], ['2', 'i', '0'], ['2', 't', '0'], ['2', '0', '0'], ['2', '3', '0'], ['t', '0', '0'], ['2', '0', '0'], ['2', '0', '0'], ['4', '0', '0'], ['3', '1', '0'], ['3', '0', '0'], ['1', '0', '0'], ['1', '0', '0'], ['2', '0', '0'], ['2', '0', '0'], ['2', '0', '0'], ['t', '1', '0'], ['2', '2', '0'], ['2', '2', '0'], ['2', '0', '0'], ['2', '0', '0'], ['2', '0', '0'], ['2', '0', '0'], ['1', '0', '0'], ['1', '0', '0'], ['t', '0', '0'], ['i', '1', '0'], ['2', '1', '0'], ['2', '1', '0'], ['1', '1', '0'], ['2', '0', '0'], ['2', '0', '0'], ['1', '1', '0'], ['d', '0', '1'], ['2', '1', '0'], ['2', '2', '0'], ['2', '0', '0'], ['2', '0', '0'], ['3', '0', '0'], ['2', '2', '0'], ['2', '0', '0'], ['1', '1', '0'], ['I', '0', '0'], ['3', '0', '0'], ['2', '0', '0'], ['2', '0', '0'], ['1', '0', '0'], ['2', '1', '0'], ['3', '1', '0'], ['3', '1', '0'], ['2', '1', '0'], ['2', '0', '0'], ['2', '0', 'g'], ['2', '0', '0'], ['2', '0', '0'], ['2', '1', '0'], ['1', '1', '0'], ['1', '1', '0'], ['s', '1', '0'], ['1', '1', '0'], ['3', '1', '0'], ['2', '0', '0'], ['2', '0', '0'], ['1', '0', '0'], ['2', '1', '0'], ['2', '0', '0'], ['1', '1', '0'], ['t', '2', '0'], ['2', '0', '0'], ['2', '0', '0'], ['2', '0', '0'], ['2', '2', '0'], ['2', '0', '0'], ['2', '0', '0'], ['2', '1', '0'], ['3', '0', '0'], ['2', '2', 't'], ['1', '0', '0'], ['2', '0', '0'], ['2', '0', '0'], ['t', '0', '0'], ['2', '0', '0'], ['i', '0', '0'], ['1', '0', '0'], ['1', '0', '0'], ['1', '0', '0'], ['2', '0', '0'], ['3', '0', '1'], ['2', '1', '0'], ['3', '0', '0'], ['3', '0', '0'], ['2', '1', '0'], ['1', '3', '0'], ['2', '0', '1'], ['4', '1', '0'], ['2', '0', '0'], ['2', '0', '1'], ['2', '3', '0'], ['2', '0', '0'], ['2', '0', '0'], ['2', '0', 'c'], ['2', '3', '0'], ['d', '1', '0'], ['2', '0', '0'], ['2', '3', '0'], ['2', '3', '0'], ['2', '3', '0'], ['2', '0', '0'], ['2', '0', '0'], ['2', '0', '0'], ['2', '1', '0'], ['2', '0', '0'], ['2', '0', '0'], ['2', '0', '0'], ['2', '0', '0'], ['4', '1', '0'], ['3', '0', '0'], ['3', '2', '0'], ['2', '1', '0'], ['1', '1', '0'], ['2', '0', '0'], ['2', '0', '0'], ['1', '0', '0'], ['3', '0', '0'], ['2', '0', '0'], ['2', '0', '0'], ['2', '1', '0'], ['2', '1', '0'], ['2', '1', '0'], ['3', '1', '0'], ['2', '1', '0'], ['1', '0', '0'], ['3', '0', '0'], ['1', '0', '0'], ['2', '1', '0'], ['2', '0', '0'], ['1', '1', '0'], ['2', '2', '0'], ['2', '0', '0'], ['1', '0', '0'], ['2', '0', '0'], ['2', '2', '0'], ['2', '0', '0'], ['2', '1', '0'], ['2', '0', '0'], ['3', '2', '0'], ['2', '0', '0'], ['2', '0', '0'], ['1', '0', '0'], ['2', '0', '0'], ['2', '0', '0'], ['2', '1', '0'], ['2', '1', '0'], ['1', '1', '0'], ['2', '1', '0'], ['3', '0', '0'], ['3', '0', '0'], ['2', '0', '0'], ['2', '0', '0'], ['2', '1', '0'], ['2', '1', '0'], ['2', '1', '0'], ['2', '1', '0'], ['1', '1', '0'], ['2', '1', '0'], ['1', '0', '0'], ['1', '0', '0'], ['3', '0', '0'], ['2', '1', '0'], ['2', '0', '0'], ['1', '1', '0'], ['2', '2', '0'], ['2', '0', '0'], ['1', '0', '0'], ['2', '0', '0'], ['2', '1', '0'], ['2', '2', '0'], ['1', '0', '0'], ['2', '0', '0'], ['1', '1', '0'], ['2', '1', '0'], ['2', '0', '0'], ['3', '2', '0'], ['2', '0', '0'], ['1', '0', '0'], ['2', '0', '0'], ['2', '2', '0'], ['3', '0', '0'], ['2', '1', '0'], ['i', '0', '0'], ['1', '0', '0'], ['3', '2', '0'], ['1', '0', '0'], ['2', '0', '0'], ['3', '0', '0'], ['2', '0', '0'], ['3', '1', '0'], ['3', '1', '0'], ['2', '3', '0'], ['1', '0', '0'], ['2', '1', '0'], ['4', '0', '0'], ['2', '0', '0'], ['2', '3', '0'], ['2', '0', '0'], ['2', '0', '0'], ['2', '3', '0'], ['2', '3', '0'], ['2', '0', '0'], ['2', '0', '0'], ['2', '3', '0'], ['2', '3', '0'], ['2', '3', '0'], ['2', '3', '0'], ['2', '3', '0'], ['2', '1', '0'], ['2', '0', '0'], ['2', '1', '0'], ['2', '0', '0'], ['2', '0', '0'], ['2', '0', '0'], ['t', '0', '0'], ['2', '1', '0'], ['4', '2', '0'], ['3', '2', '0'], ['3', '0', '0'], ['1', '0', '0'], ['1', '0', '0'], ['2', '0', '0'], ['2', '0', '0'], ['2', '0', '0'], ['3', '0', '0'], ['2', '0', '0'], ['2', '1', '0'], ['2', '1', '0'], ['2', '1', '0'], ['2', '1', '0'], ['2', '1', '0'], ['1', '0', '0'], ['1', '0', '0'], ['3', '0', '0'], ['3', '1', '0'], ['2', '0', '0'], ['2', '1', '0'], ['1', '2', '0'], ['I', '0', '0'], ['2', '0', '0'], ['2', '0', '0'], ['1', '2', '0'], ['2', '0', '0'], ['2', '1', '0'], ['2', '0', '0'], ['2', '2', '0'], ['2', '0', '0'], ['3', '0', '0'], ['2', '0', '0'], ['2', '0', '0'], ['1', '0', '0'], ['q', 'O', '0'], ['2', '1', '0'], ['d', '1', '0'], ['3', '1', '0'], ['2', '1', '0'], ['2', '0', '0'], ['1', '0', '0'], ['2', '0', '0'], ['3', '3', '0'], ['3', '0', '0'], ['2', '1', '0'], ['2', '1', '0'], ['2', '1', '0'], ['2', '1', '0'], ['2', '1', '0'], ['2', '1', '0'], ['1', '0', '0'], ['1', '0', '0'], ['1', '0', '0'], ['1', '1', '0'], ['3', '0', '0'], ['2', '0', '0'], ['2', '1', '0'], ['1', '2', '0'], ['2', '0', '0'], ['2', '0', '0'], ['1', '0', '0'], ['2', '2', '0'], ['2', '2', '0'], ['2', '0', '0'], ['2', '0', '0'], ['2', '1', '0'], ['2', '0', '0'], ['2', '0', '0'], ['2', '2', '0'], ['3', '0', '0'], ['2', '0', '0'], ['1', '0', '0'], ['2', '0', '0'], ['2', '0', '0'], ['3', '0', '0'], ['2', '0', '0'], ['i', '0', '0'], ['1', '0', '0'], ['1', '0', '0'], ['1', '0', '0'], ['2', '0', '0'], ['3', '1', '0'], ['2', '0', '0'], ['3', '1', '0'], ['3', '1', '0'], ['2', '3', '0'], ['1', '0', '0'], ['2', '1', '0'], ['4', '0', '0'], ['u', '0', '0'], ['2', '0', '0'], ['2', '0', '0'], ['2', '0', '0'], ['2', '0', '0'], ['2', '3', '0'], ['2', '3', '0'], ['2', '0', '0'], ['2', '0', '0'], ['2', '3', '0'], ['2', '3', '0'], ['2', '3', '0'], ['2', '3', '0'], ['2', '3', '0'], ['2', '1', '0'], ['2', '0', '0'], ['2', '1', '0'], ['2', '0', '0'], ['2', '0', '0'], ['2', '1', '0'], ['2', '0', '1'], ['4', '1', '0'], ['3', '2', '0'], ['1', '2', '0'], ['1', '0', '0'], ['2', '0', '0'], ['2', '0', '0'], ['2', '0', '0'], ['3', '0', '0'], ['2', '0', '0'], ['2', '0', '0'], ['2', '0', '0'], ['2', '1', '0'], ['2', '1', '0'], ['1', '1', '0'], ['1', '1', '0'], ['3', '1', 'c'], ['3', '0', '0'], ['2', '0', '0'], ['2', '0', '0'], ['1', '1', '0'], ['2', '0', '0'], ['2', '1', '0'], ['1', '2', '0'], ['2', '0', '0'], ['2', '0', '0'], ['2', '0', '0'], ['2', '2', '0'], ['3', '0', '0'], ['2', '1', '1'], ['1', '0', '0'], ['2', '2', '0'], ['3', '1', '0'], ['2', '0', '0'], ['2', '0', '0'], ['1', '0', '0'], ['2', '0', '0'], ['3', '1', '0'], ['2', '1', '0'], ['2', '1', '0'], ['2', '1', '0'], ['2', '0', '0'], ['2', '0', '0'], ['2', '0', '0'], ['1', '0', '0'], ['1', '1', '0'], ['1', '1', '0'], ['3', '1', '0'], ['2', '1', '0'], ['1', '0', '0'], ['2', '1', '0'], ['2', '0', '0'], ['1', '0', '0'], ['2', '0', '0'], ['2', '1', '0'], ['2', '1', '0'], ['2', '1', '0'], ['2', '2', '0'], ['2', '0', '0'], ['2', '0', '0'], ['3', '0', '0'], ['2', '2', '0'], ['1', '0', '0'], ['2', '0', '0'], ['2', '0', '0'], ['3', '0', '0'], ['2', '0', '0'], ['i', '0', '0'], ['1', '0', '0'], ['1', '0', '0'], ['1', '1', '0'], ['2', '0', '0'], ['3', '0', '0'], ['2', '0', '0'], ['3', '0', '0'], ['3', '0', '0'], ['2', '0', '0'], ['2', '0', '0'], ['4', '1', '0'], ['2', '0', '0'], ['2', '0', '0'], ['2', '0', '0'], ['2', '0', '0'], ['2', '0', '0'], ['2', '0', '0'], ['2', '3', '0'], ['2', '0', '0'], ['2', '0', '0'], ['2', '0', '0'], ['2', '0', '0'], ['2', '0', '0'], ['2', 'i', '0'], ['2', 't', '0'], ['2', '0', '0'], ['2', '3', '0'], ['t', '0', '0'], ['2', '0', '0'], ['2', '0', '0'], ['4', '0', '0'], ['3', '1', '0'], ['3', '0', '0'], ['1', '0', '0'], ['1', '0', '0'], ['2', '0', '0'], ['2', '0', '0'], ['2', '0', '0'], ['t', '1', '0'], ['2', '2', '0'], ['2', '2', '0'], ['2', '0', '0'], ['2', '0', '0'], ['2', '0', '0'], ['2', '0', '0'], ['1', '0', '0'], ['1', '0', '0'], ['t', '0', '0'], ['i', '1', '0'], ['2', '1', '0'], ['2', '1', '0'], ['1', '1', '0'], ['2', '0', '0'], ['2', '0', '0'], ['1', '1', '0'], ['d', '0', '1'], ['2', '1', '0'], ['2', '2', '0'], ['2', '0', '0'], ['2', '0', '0'], ['3', '0', '0'], ['2', '2', '0'], ['2', '0', '0'], ['1', '1', '0'], ['I', '0', '0'], ['3', '0', '0'], ['2', '0', '0'], ['2', '0', '0'], ['1', '0', '0'], ['2', '1', '0'], ['3', '1', '0'], ['3', '1', '0'], ['2', '1', '0'], ['2', '0', '0'], ['2', '0', '3'], ['2', '0', '0'], ['2', '0', '0'], ['2', '1', '0'], ['1', '1', '0'], ['1', '1', '0'], ['s', '1', '0'], ['1', '1', '0'], ['3', '1', '0'], ['2', '0', '0'], ['2', '0', '0'], ['1', '0', '0'], ['2', '1', '0'], ['2', '0', '0'], ['1', '1', '0'], ['t', '2', '0'], ['2', '0', '0'], ['2', '0', '0'], ['2', '0', '0'], ['2', '2', '0'], ['2', '0', '0'], ['2', '0', '0'], ['2', '1', '0'], ['3', '0', '0'], ['2', '2', 't'], ['1', '0', '0'], ['2', '0', '0'], ['2', '0', '0'], ['t', '0', '1'], ['2', '0', '0'], ['i', '0', '0'], ['1', '0', '0'], ['1', '0', '0'], ['1', '0', '0'], ['2', '0', '0'], ['3', '0', '3'], ['2', '1', '0'], ['3', '0', '0'], ['3', '0', '0'], ['2', '1', '0'], ['1', '3', '0'], ['2', '0', '1'], ['4', '1', '0'], ['2', '0', '0'], ['2', '0', '1'], ['2', '3', '0'], ['2', '0', '0'], ['2', '0', '0'], ['2', '0', '1'], ['2', '3', '0'], ['d', '0', '0'], ['2', '0', '0'], ['2', '3', '0'], ['2', '3', '0'], ['2', '3', '0'], ['2', '0', '0'], ['2', '0', '0'], ['2', '0', '0']]\n"
          ]
        }
      ]
    },
    {
      "cell_type": "code",
      "source": [
        "array_tnm=np.array(list_tnm)\n",
        "print(array_tnm[0])"
      ],
      "metadata": {
        "id": "9TyzSn4W2F2l",
        "colab": {
          "base_uri": "https://localhost:8080/"
        },
        "outputId": "4cce9937-2bd8-48e2-c54b-56d6d9723f25"
      },
      "execution_count": null,
      "outputs": [
        {
          "output_type": "stream",
          "name": "stdout",
          "text": [
            "['2' '1' '0']\n"
          ]
        }
      ]
    },
    {
      "cell_type": "code",
      "source": [
        "n=[]\n",
        "for i in range(len(array_tnm)):\n",
        "  n.append(\"\".join(array_tnm[i]))\n",
        "print(n)"
      ],
      "metadata": {
        "id": "KAjdxdWM2Fzu",
        "colab": {
          "base_uri": "https://localhost:8080/"
        },
        "outputId": "d96eeb8b-04f1-45a7-898c-09afc4e24c0b"
      },
      "execution_count": null,
      "outputs": [
        {
          "output_type": "stream",
          "name": "stdout",
          "text": [
            "['210', '200', '200', '200', '200', '410', '300', '320', '200', '100', '200', '200', '100', '300', '200', '200', '210', '210', '210', '310', '210', '100', '300', '100', '210', '200', '110', '220', '200', '100', '200', '220', '200', '210', '200', '320', '200', '200', '100', '200', '200', '210', '210', '110', '210', '300', '300', '200', '200', '210', '210', '210', '210', '110', '210', '101', '100', '300', '210', '2x0', '110', '220', '200', '100', '200', '210', '220', '100', '200', '110', '210', '200', '320', '2x0', '100', '200', '220', '300', '210', 'i00', '100', '320', '100', '200', '300', '200', '310', '310', '230', '100', '210', '400', '200', '230', '200', '200', '230', '230', '2x0', '200', '230', '230', '230', '230', '230', '210', '200', '210', '200', '200', '200', 't00', '210', '420', '320', '3x0', '1x0', '100', '200', '200', '200', '300', '200', '210', '210', '210', '210', '210', '100', '100', '300', '310', '2x0', '210', '120', 'I00', '200', '200', '120', '200', '210', '200', '220', '2x0', '300', '200', '200', '100', 'qO0', '210', 'd10', '310', '210', '200', '100', '200', '3c0', '300', '210', '210', '210', '210', '210', '210', '100', '100', '100', '110', '300', '2x0', '210', '120', '200', '200', '100', '220', '220', '200', '200', '210', '200', '200', '220', '300', '200', '100', '200', '200', '300', '200', 'i00', '100', '100', '100', '200', '310', '200', '310', '310', '230', '100', '210', '400', 'u00', '200', '200', '200', '200', '230', '230', '2x0', '200', '230', '230', '230', '230', '230', '210', '200', '210', '200', '200', '2n0', '20A', '410', '320', '120', '1x0', '2x0', '200', '200', '300', '200', '200', '200', '210', '210', '110', '110', '31c', '300', '200', '200', '110', '2x0', '210', '120', '200', '200', '200', '220', '300', '210', '100', '220', '300', '200', '200', '100', '200', '310', '210', '2I0', '210', '200', '200', '200', '100', '110', '110', '310', '2u0', '100', '210', '200', '100', '200', '210', '200', '210', '220', '200', '200', '300', '220', '100', '200', '200', '300', '200', 'i00', '100', '100', '110', '200', '300', '200', '300', '300', '200', '200', '410', '200', '200', '200', '200', '200', '200', '230', '200', '200', '200', '200', '200', '2i0', '2t0', '200', '230', 't00', '200', '200', '400', '310', '300', '100', '100', '200', '200', '200', 't10', '220', '220', '200', '200', '200', '200', '100', '100', 't00', 'i10', '210', '210', '110', '200', '200', '110', 'dxe', '210', '220', '200', '200', '300', '220', '200', '110', '000', '300', '200', '200', '100', '210', '310', '310', '210', '200', '20g', '200', '200', '210', '110', '110', 's10', '110', '310', '200', '200', '100', '210', '200', '110', 't20', '200', '200', '200', '220', '200', '200', '210', '300', '22t', '100', '200', '200', 't00', '200', 'i00', '100', '100', '100', '200', '30e', '210', '300', '300', '210', '130', '201', '410', '200', '20t', '230', '200', '200', '20c', '230', 'dx0', '200', '230', '230', '230', '200', '200', '200', '210', '200', '200', '200', '200', '410', '300', '320', '2x0', '1x0', '200', '200', '100', '300', '200', '200', '210', '210', '210', '310', '210', '100', '300', '100', '210', '200', '110', '220', '200', '100', '200', '220', '200', '210', '200', '320', '200', '200', '100', '200', '200', '210', '210', '110', '210', '300', '300', '200', '200', '210', '210', '210', '210', '110', '210', '100', '100', '300', '210', '200', '110', '220', '200', '100', '200', '210', '220', '100', '200', '110', '210', '200', '320', '200', '100', '200', '220', '300', '210', 'i00', '100', '320', '100', '200', '300', '200', '310', '310', '230', '100', '210', '400', '200', '230', '200', '200', '230', '230', '200', '200', '230', '230', '230', '230', '230', '210', '200', '210', '200', '200', '200', 't00', '210', '420', '320', '300', '100', '100', '200', '200', '200', '300', '200', '210', '210', '210', '210', '210', '100', '100', '300', '310', '200', '210', '120', 'I00', '200', '200', '120', '200', '210', '200', '220', '200', '300', '200', '200', '100', 'qO0', '210', 'd10', '310', '210', '200', '100', '200', '330', '300', '210', '210', '210', '210', '210', '210', '100', '100', '100', '110', '300', '200', '210', '120', '200', '200', '100', '220', '220', '200', '200', '210', '200', '200', '220', '300', '200', '100', '200', '200', '300', '200', 'i00', '100', '100', '100', '200', '310', '200', '310', '310', '230', '100', '210', '400', 'u00', '200', '200', '200', '200', '230', '230', '200', '200', '230', '230', '230', '230', '230', '210', '200', '210', '200', '200', '210', '201', '410', '320', '120', '100', '200', '200', '200', '300', '200', '200', '200', '210', '210', '110', '110', '31c', '300', '200', '200', '110', '200', '210', '120', '200', '200', '200', '220', '300', '211', '100', '220', '300', '200', '200', '100', '200', '310', '210', '2I0', '210', '200', '200', '200', '100', '110', '110', '310', '210', '100', '210', '200', '100', '200', '210', '210', '210', '220', '200', '200', '300', '220', '100', '200', '200', '300', '200', 'i00', '100', '100', '110', '200', '300', '200', '300', '300', '200', '200', '410', '200', '200', '200', '200', '200', '200', '230', '200', '200', '200', '200', '200', '210', '210', '200', '230', 't00', '200', '200', '400', '310', '300', '100', '100', '200', '200', '200', 't10', '220', '220', '200', '200', '200', '200', '100', '100', 't00', 'i10', '210', '210', '110', '200', '200', '110', '000', '210', '220', '200', '200', '300', '220', '200', '110', 'I00', '300', '200', '200', '100', '210', '310', '310', '210', '200', '20g', '200', '200', '210', '110', '110', 's10', '110', '310', '200', '200', '100', '210', '200', '110', '120', '200', '200', '200', '220', '200', '200', '210', '300', '22t', '100', '200', '200', 't00', '200', 'i00', '100', '100', '100', '200', '300', '210', '300', '300', '210', '130', '201', '410', '200', '200', '230', '200', '200', '20c', '230', 'd00', '200', '230', '230', '230', '200', '200', '200', '210', '200', '200', '200', '200', '410', '300', '320', '200', '100', '200', '200', '100', '300', '200', '200', '210', '210', '210', '310', '210', '100', '300', '100', '210', '200', '110', '220', '200', '100', '200', '220', '200', '210', '200', '320', '200', '200', '100', '200', '200', '210', '210', '110', '210', '300', '300', '200', '200', '210', '210', '210', '210', '110', '210', '100', '100', '300', '210', '200', '110', '220', '200', '100', '200', '210', '220', '100', '200', '110', '210', '200', '320', '200', '100', '200', '220', '300', '210', 'i00', '100', '320', '100', '200', '300', '200', '310', '310', '230', '100', '210', '400', '200', '230', '200', '200', '230', '230', '200', '200', '230', '230', '230', '230', '230', '210', '200', '210', '200', '200', '200', 't00', '210', '420', '320', '300', '100', '100', '200', '200', '200', '300', '200', '210', '210', '210', '210', '210', '100', '100', '300', '310', '200', '210', '120', 'I00', '200', '200', '120', '200', '210', '200', '220', '200', '300', '200', '200', '100', 'q00', '210', 'd10', '310', '210', '200', '100', '200', '330', '300', '210', '210', '210', '210', '210', '210', '100', '100', '100', '110', '300', '200', '210', '120', '200', '200', '100', '220', '220', '200', '200', '210', '200', '200', '220', '300', '200', '100', '200', '200', '300', '200', 'i00', '100', '100', '100', '200', '310', '200', '310', '310', '230', '100', '210', '400', 'u00', '200', '200', '200', '200', '230', '230', '200', '200', '230', '230', '230', '230', '230', '210', '200', '210', '200', '200', '210', '20A', '410', '320', '120', '100', '200', '200', '200', '300', '200', '200', '200', '210', '210', '110', '110', '31c', '300', '200', '200', '110', '200', '210', '120', '200', '200', '200', '220', '300', '211', '100', '220', '300', '200', '200', '100', '200', '310', '210', '2I0', '210', '200', '200', '200', '100', '110', '110', '310', '210', '100', '210', '200', '100', '200', '210', '210', '210', '220', '200', '200', '300', '220', '100', '200', '200', '300', '200', 'i00', '100', '100', '110', '200', '300', '200', '300', '300', '200', '200', '410', '200', '200', '200', '200', '200', '200', '230', '200', '200', '200', '200', '200', '2i0', '2t0', '200', '230', 't00', '200', '200', '400', '310', '300', '100', '100', '200', '200', '200', 't10', '220', '220', '200', '200', '200', '200', '100', '100', 't00', 'i10', '210', '210', '110', '200', '200', '110', 'd01', '210', '220', '200', '200', '300', '220', '200', '110', 'I00', '300', '200', '200', '100', '210', '310', '310', '210', '200', '20g', '200', '200', '210', '110', '110', 's10', '110', '310', '200', '200', '100', '210', '200', '110', 't20', '200', '200', '200', '220', '200', '200', '210', '300', '22t', '100', '200', '200', 't00', '200', 'i00', '100', '100', '100', '200', '301', '210', '300', '300', '210', '130', '201', '410', '200', '201', '230', '200', '200', '20c', '230', 'd10', '200', '230', '230', '230', '200', '200', '200', '210', '200', '200', '200', '200', '410', '300', '320', '210', '110', '200', '200', '100', '300', '200', '200', '210', '210', '210', '310', '210', '100', '300', '100', '210', '200', '110', '220', '200', '100', '200', '220', '200', '210', '200', '320', '200', '200', '100', '200', '200', '210', '210', '110', '210', '300', '300', '200', '200', '210', '210', '210', '210', '110', '210', '100', '100', '300', '210', '200', '110', '220', '200', '100', '200', '210', '220', '100', '200', '110', '210', '200', '320', '200', '100', '200', '220', '300', '210', 'i00', '100', '320', '100', '200', '300', '200', '310', '310', '230', '100', '210', '400', '200', '230', '200', '200', '230', '230', '200', '200', '230', '230', '230', '230', '230', '210', '200', '210', '200', '200', '200', 't00', '210', '420', '320', '300', '100', '100', '200', '200', '200', '300', '200', '210', '210', '210', '210', '210', '100', '100', '300', '310', '200', '210', '120', 'I00', '200', '200', '120', '200', '210', '200', '220', '200', '300', '200', '200', '100', 'qO0', '210', 'd10', '310', '210', '200', '100', '200', '330', '300', '210', '210', '210', '210', '210', '210', '100', '100', '100', '110', '300', '200', '210', '120', '200', '200', '100', '220', '220', '200', '200', '210', '200', '200', '220', '300', '200', '100', '200', '200', '300', '200', 'i00', '100', '100', '100', '200', '310', '200', '310', '310', '230', '100', '210', '400', 'u00', '200', '200', '200', '200', '230', '230', '200', '200', '230', '230', '230', '230', '230', '210', '200', '210', '200', '200', '210', '201', '410', '320', '120', '100', '200', '200', '200', '300', '200', '200', '200', '210', '210', '110', '110', '31c', '300', '200', '200', '110', '200', '210', '120', '200', '200', '200', '220', '300', '211', '100', '220', '310', '200', '200', '100', '200', '310', '210', '210', '210', '200', '200', '200', '100', '110', '110', '310', '210', '100', '210', '200', '100', '200', '210', '210', '210', '220', '200', '200', '300', '220', '100', '200', '200', '300', '200', 'i00', '100', '100', '110', '200', '300', '200', '300', '300', '200', '200', '410', '200', '200', '200', '200', '200', '200', '230', '200', '200', '200', '200', '200', '2i0', '2t0', '200', '230', 't00', '200', '200', '400', '310', '300', '100', '100', '200', '200', '200', 't10', '220', '220', '200', '200', '200', '200', '100', '100', 't00', 'i10', '210', '210', '110', '200', '200', '110', 'd01', '210', '220', '200', '200', '300', '220', '200', '110', 'I00', '300', '200', '200', '100', '210', '310', '310', '210', '200', '203', '200', '200', '210', '110', '110', 's10', '110', '310', '200', '200', '100', '210', '200', '110', 't20', '200', '200', '200', '220', '200', '200', '210', '300', '22t', '100', '200', '200', 't01', '200', 'i00', '100', '100', '100', '200', '303', '210', '300', '300', '210', '130', '201', '410', '200', '201', '230', '200', '200', '201', '230', 'd00', '200', '230', '230', '230', '200', '200', '200']\n"
          ]
        }
      ]
    },
    {
      "cell_type": "code",
      "source": [
        "print(n[0][2])"
      ],
      "metadata": {
        "colab": {
          "base_uri": "https://localhost:8080/"
        },
        "id": "AZSrIPivF2dj",
        "outputId": "19c2d505-0135-4bde-e8c0-317807ff61a1"
      },
      "execution_count": null,
      "outputs": [
        {
          "output_type": "stream",
          "name": "stdout",
          "text": [
            "0\n"
          ]
        }
      ]
    },
    {
      "cell_type": "code",
      "source": [
        "stage=[]\n",
        "for i in range(len(n)):\n",
        "  if(n[i]=='000'):\n",
        "    stage.append(\"0\")\n",
        "  elif(n[i]=='100'):\n",
        "    stage.append(\"IA\")\n",
        "  elif(n[i]=='010'):\n",
        "    stage.append(\"IB\")\n",
        "  elif(n[i]=='010' or n[i]=='110' or n[i]=='200'):\n",
        "    stage.append(\"IIA\")\n",
        "  elif(n[i]=='210' or n[i]=='300'):\n",
        "    stage.append(\"IIB\")\n",
        "  elif(n[i]=='020' or n[i]=='120' or n[i]=='220' or n[i]=='310' or n[i]=='320'):\n",
        "    stage.append(\"IIIA\")\n",
        "  elif(n[i]=='400' or n[i]=='410' or n[i]=='420'):\n",
        "    stage.append(\"IIIB\")\n",
        "  elif(n[i][1]=='3' and n[i][2]=='0'):\n",
        "    stage.append(\"IIIC\")\n",
        "  elif(n[i][2]=='1'):\n",
        "    stage.append(\"IV\")\n",
        "  else:\n",
        "    stage.append(\"none\")\n",
        "\n",
        "print(stage)\n"
      ],
      "metadata": {
        "id": "5iY1xw8Y2Fw9",
        "colab": {
          "base_uri": "https://localhost:8080/"
        },
        "outputId": "0e16f874-3e53-436c-b2ea-41eafcb891dd"
      },
      "execution_count": null,
      "outputs": [
        {
          "output_type": "stream",
          "name": "stdout",
          "text": [
            "['IIB', 'IIA', 'IIA', 'IIA', 'IIA', 'IIIB', 'IIB', 'IIIA', 'IIA', 'IA', 'IIA', 'IIA', 'IA', 'IIB', 'IIA', 'IIA', 'IIB', 'IIB', 'IIB', 'IIIA', 'IIB', 'IA', 'IIB', 'IA', 'IIB', 'IIA', 'IIA', 'IIIA', 'IIA', 'IA', 'IIA', 'IIIA', 'IIA', 'IIB', 'IIA', 'IIIA', 'IIA', 'IIA', 'IA', 'IIA', 'IIA', 'IIB', 'IIB', 'IIA', 'IIB', 'IIB', 'IIB', 'IIA', 'IIA', 'IIB', 'IIB', 'IIB', 'IIB', 'IIA', 'IIB', 'IV', 'IA', 'IIB', 'IIB', 'none', 'IIA', 'IIIA', 'IIA', 'IA', 'IIA', 'IIB', 'IIIA', 'IA', 'IIA', 'IIA', 'IIB', 'IIA', 'IIIA', 'none', 'IA', 'IIA', 'IIIA', 'IIB', 'IIB', 'none', 'IA', 'IIIA', 'IA', 'IIA', 'IIB', 'IIA', 'IIIA', 'IIIA', 'IIIC', 'IA', 'IIB', 'IIIB', 'IIA', 'IIIC', 'IIA', 'IIA', 'IIIC', 'IIIC', 'none', 'IIA', 'IIIC', 'IIIC', 'IIIC', 'IIIC', 'IIIC', 'IIB', 'IIA', 'IIB', 'IIA', 'IIA', 'IIA', 'none', 'IIB', 'IIIB', 'IIIA', 'none', 'none', 'IA', 'IIA', 'IIA', 'IIA', 'IIB', 'IIA', 'IIB', 'IIB', 'IIB', 'IIB', 'IIB', 'IA', 'IA', 'IIB', 'IIIA', 'none', 'IIB', 'IIIA', 'none', 'IIA', 'IIA', 'IIIA', 'IIA', 'IIB', 'IIA', 'IIIA', 'none', 'IIB', 'IIA', 'IIA', 'IA', 'none', 'IIB', 'none', 'IIIA', 'IIB', 'IIA', 'IA', 'IIA', 'none', 'IIB', 'IIB', 'IIB', 'IIB', 'IIB', 'IIB', 'IIB', 'IA', 'IA', 'IA', 'IIA', 'IIB', 'none', 'IIB', 'IIIA', 'IIA', 'IIA', 'IA', 'IIIA', 'IIIA', 'IIA', 'IIA', 'IIB', 'IIA', 'IIA', 'IIIA', 'IIB', 'IIA', 'IA', 'IIA', 'IIA', 'IIB', 'IIA', 'none', 'IA', 'IA', 'IA', 'IIA', 'IIIA', 'IIA', 'IIIA', 'IIIA', 'IIIC', 'IA', 'IIB', 'IIIB', 'none', 'IIA', 'IIA', 'IIA', 'IIA', 'IIIC', 'IIIC', 'none', 'IIA', 'IIIC', 'IIIC', 'IIIC', 'IIIC', 'IIIC', 'IIB', 'IIA', 'IIB', 'IIA', 'IIA', 'none', 'none', 'IIIB', 'IIIA', 'IIIA', 'none', 'none', 'IIA', 'IIA', 'IIB', 'IIA', 'IIA', 'IIA', 'IIB', 'IIB', 'IIA', 'IIA', 'none', 'IIB', 'IIA', 'IIA', 'IIA', 'none', 'IIB', 'IIIA', 'IIA', 'IIA', 'IIA', 'IIIA', 'IIB', 'IIB', 'IA', 'IIIA', 'IIB', 'IIA', 'IIA', 'IA', 'IIA', 'IIIA', 'IIB', 'none', 'IIB', 'IIA', 'IIA', 'IIA', 'IA', 'IIA', 'IIA', 'IIIA', 'none', 'IA', 'IIB', 'IIA', 'IA', 'IIA', 'IIB', 'IIA', 'IIB', 'IIIA', 'IIA', 'IIA', 'IIB', 'IIIA', 'IA', 'IIA', 'IIA', 'IIB', 'IIA', 'none', 'IA', 'IA', 'IIA', 'IIA', 'IIB', 'IIA', 'IIB', 'IIB', 'IIA', 'IIA', 'IIIB', 'IIA', 'IIA', 'IIA', 'IIA', 'IIA', 'IIA', 'IIIC', 'IIA', 'IIA', 'IIA', 'IIA', 'IIA', 'none', 'none', 'IIA', 'IIIC', 'none', 'IIA', 'IIA', 'IIIB', 'IIIA', 'IIB', 'IA', 'IA', 'IIA', 'IIA', 'IIA', 'none', 'IIIA', 'IIIA', 'IIA', 'IIA', 'IIA', 'IIA', 'IA', 'IA', 'none', 'none', 'IIB', 'IIB', 'IIA', 'IIA', 'IIA', 'IIA', 'none', 'IIB', 'IIIA', 'IIA', 'IIA', 'IIB', 'IIIA', 'IIA', 'IIA', '0', 'IIB', 'IIA', 'IIA', 'IA', 'IIB', 'IIIA', 'IIIA', 'IIB', 'IIA', 'none', 'IIA', 'IIA', 'IIB', 'IIA', 'IIA', 'none', 'IIA', 'IIIA', 'IIA', 'IIA', 'IA', 'IIB', 'IIA', 'IIA', 'none', 'IIA', 'IIA', 'IIA', 'IIIA', 'IIA', 'IIA', 'IIB', 'IIB', 'none', 'IA', 'IIA', 'IIA', 'none', 'IIA', 'none', 'IA', 'IA', 'IA', 'IIA', 'none', 'IIB', 'IIB', 'IIB', 'IIB', 'IIIC', 'IV', 'IIIB', 'IIA', 'none', 'IIIC', 'IIA', 'IIA', 'none', 'IIIC', 'none', 'IIA', 'IIIC', 'IIIC', 'IIIC', 'IIA', 'IIA', 'IIA', 'IIB', 'IIA', 'IIA', 'IIA', 'IIA', 'IIIB', 'IIB', 'IIIA', 'none', 'none', 'IIA', 'IIA', 'IA', 'IIB', 'IIA', 'IIA', 'IIB', 'IIB', 'IIB', 'IIIA', 'IIB', 'IA', 'IIB', 'IA', 'IIB', 'IIA', 'IIA', 'IIIA', 'IIA', 'IA', 'IIA', 'IIIA', 'IIA', 'IIB', 'IIA', 'IIIA', 'IIA', 'IIA', 'IA', 'IIA', 'IIA', 'IIB', 'IIB', 'IIA', 'IIB', 'IIB', 'IIB', 'IIA', 'IIA', 'IIB', 'IIB', 'IIB', 'IIB', 'IIA', 'IIB', 'IA', 'IA', 'IIB', 'IIB', 'IIA', 'IIA', 'IIIA', 'IIA', 'IA', 'IIA', 'IIB', 'IIIA', 'IA', 'IIA', 'IIA', 'IIB', 'IIA', 'IIIA', 'IIA', 'IA', 'IIA', 'IIIA', 'IIB', 'IIB', 'none', 'IA', 'IIIA', 'IA', 'IIA', 'IIB', 'IIA', 'IIIA', 'IIIA', 'IIIC', 'IA', 'IIB', 'IIIB', 'IIA', 'IIIC', 'IIA', 'IIA', 'IIIC', 'IIIC', 'IIA', 'IIA', 'IIIC', 'IIIC', 'IIIC', 'IIIC', 'IIIC', 'IIB', 'IIA', 'IIB', 'IIA', 'IIA', 'IIA', 'none', 'IIB', 'IIIB', 'IIIA', 'IIB', 'IA', 'IA', 'IIA', 'IIA', 'IIA', 'IIB', 'IIA', 'IIB', 'IIB', 'IIB', 'IIB', 'IIB', 'IA', 'IA', 'IIB', 'IIIA', 'IIA', 'IIB', 'IIIA', 'none', 'IIA', 'IIA', 'IIIA', 'IIA', 'IIB', 'IIA', 'IIIA', 'IIA', 'IIB', 'IIA', 'IIA', 'IA', 'none', 'IIB', 'none', 'IIIA', 'IIB', 'IIA', 'IA', 'IIA', 'IIIC', 'IIB', 'IIB', 'IIB', 'IIB', 'IIB', 'IIB', 'IIB', 'IA', 'IA', 'IA', 'IIA', 'IIB', 'IIA', 'IIB', 'IIIA', 'IIA', 'IIA', 'IA', 'IIIA', 'IIIA', 'IIA', 'IIA', 'IIB', 'IIA', 'IIA', 'IIIA', 'IIB', 'IIA', 'IA', 'IIA', 'IIA', 'IIB', 'IIA', 'none', 'IA', 'IA', 'IA', 'IIA', 'IIIA', 'IIA', 'IIIA', 'IIIA', 'IIIC', 'IA', 'IIB', 'IIIB', 'none', 'IIA', 'IIA', 'IIA', 'IIA', 'IIIC', 'IIIC', 'IIA', 'IIA', 'IIIC', 'IIIC', 'IIIC', 'IIIC', 'IIIC', 'IIB', 'IIA', 'IIB', 'IIA', 'IIA', 'IIB', 'IV', 'IIIB', 'IIIA', 'IIIA', 'IA', 'IIA', 'IIA', 'IIA', 'IIB', 'IIA', 'IIA', 'IIA', 'IIB', 'IIB', 'IIA', 'IIA', 'none', 'IIB', 'IIA', 'IIA', 'IIA', 'IIA', 'IIB', 'IIIA', 'IIA', 'IIA', 'IIA', 'IIIA', 'IIB', 'IV', 'IA', 'IIIA', 'IIB', 'IIA', 'IIA', 'IA', 'IIA', 'IIIA', 'IIB', 'none', 'IIB', 'IIA', 'IIA', 'IIA', 'IA', 'IIA', 'IIA', 'IIIA', 'IIB', 'IA', 'IIB', 'IIA', 'IA', 'IIA', 'IIB', 'IIB', 'IIB', 'IIIA', 'IIA', 'IIA', 'IIB', 'IIIA', 'IA', 'IIA', 'IIA', 'IIB', 'IIA', 'none', 'IA', 'IA', 'IIA', 'IIA', 'IIB', 'IIA', 'IIB', 'IIB', 'IIA', 'IIA', 'IIIB', 'IIA', 'IIA', 'IIA', 'IIA', 'IIA', 'IIA', 'IIIC', 'IIA', 'IIA', 'IIA', 'IIA', 'IIA', 'IIB', 'IIB', 'IIA', 'IIIC', 'none', 'IIA', 'IIA', 'IIIB', 'IIIA', 'IIB', 'IA', 'IA', 'IIA', 'IIA', 'IIA', 'none', 'IIIA', 'IIIA', 'IIA', 'IIA', 'IIA', 'IIA', 'IA', 'IA', 'none', 'none', 'IIB', 'IIB', 'IIA', 'IIA', 'IIA', 'IIA', '0', 'IIB', 'IIIA', 'IIA', 'IIA', 'IIB', 'IIIA', 'IIA', 'IIA', 'none', 'IIB', 'IIA', 'IIA', 'IA', 'IIB', 'IIIA', 'IIIA', 'IIB', 'IIA', 'none', 'IIA', 'IIA', 'IIB', 'IIA', 'IIA', 'none', 'IIA', 'IIIA', 'IIA', 'IIA', 'IA', 'IIB', 'IIA', 'IIA', 'IIIA', 'IIA', 'IIA', 'IIA', 'IIIA', 'IIA', 'IIA', 'IIB', 'IIB', 'none', 'IA', 'IIA', 'IIA', 'none', 'IIA', 'none', 'IA', 'IA', 'IA', 'IIA', 'IIB', 'IIB', 'IIB', 'IIB', 'IIB', 'IIIC', 'IV', 'IIIB', 'IIA', 'IIA', 'IIIC', 'IIA', 'IIA', 'none', 'IIIC', 'none', 'IIA', 'IIIC', 'IIIC', 'IIIC', 'IIA', 'IIA', 'IIA', 'IIB', 'IIA', 'IIA', 'IIA', 'IIA', 'IIIB', 'IIB', 'IIIA', 'IIA', 'IA', 'IIA', 'IIA', 'IA', 'IIB', 'IIA', 'IIA', 'IIB', 'IIB', 'IIB', 'IIIA', 'IIB', 'IA', 'IIB', 'IA', 'IIB', 'IIA', 'IIA', 'IIIA', 'IIA', 'IA', 'IIA', 'IIIA', 'IIA', 'IIB', 'IIA', 'IIIA', 'IIA', 'IIA', 'IA', 'IIA', 'IIA', 'IIB', 'IIB', 'IIA', 'IIB', 'IIB', 'IIB', 'IIA', 'IIA', 'IIB', 'IIB', 'IIB', 'IIB', 'IIA', 'IIB', 'IA', 'IA', 'IIB', 'IIB', 'IIA', 'IIA', 'IIIA', 'IIA', 'IA', 'IIA', 'IIB', 'IIIA', 'IA', 'IIA', 'IIA', 'IIB', 'IIA', 'IIIA', 'IIA', 'IA', 'IIA', 'IIIA', 'IIB', 'IIB', 'none', 'IA', 'IIIA', 'IA', 'IIA', 'IIB', 'IIA', 'IIIA', 'IIIA', 'IIIC', 'IA', 'IIB', 'IIIB', 'IIA', 'IIIC', 'IIA', 'IIA', 'IIIC', 'IIIC', 'IIA', 'IIA', 'IIIC', 'IIIC', 'IIIC', 'IIIC', 'IIIC', 'IIB', 'IIA', 'IIB', 'IIA', 'IIA', 'IIA', 'none', 'IIB', 'IIIB', 'IIIA', 'IIB', 'IA', 'IA', 'IIA', 'IIA', 'IIA', 'IIB', 'IIA', 'IIB', 'IIB', 'IIB', 'IIB', 'IIB', 'IA', 'IA', 'IIB', 'IIIA', 'IIA', 'IIB', 'IIIA', 'none', 'IIA', 'IIA', 'IIIA', 'IIA', 'IIB', 'IIA', 'IIIA', 'IIA', 'IIB', 'IIA', 'IIA', 'IA', 'none', 'IIB', 'none', 'IIIA', 'IIB', 'IIA', 'IA', 'IIA', 'IIIC', 'IIB', 'IIB', 'IIB', 'IIB', 'IIB', 'IIB', 'IIB', 'IA', 'IA', 'IA', 'IIA', 'IIB', 'IIA', 'IIB', 'IIIA', 'IIA', 'IIA', 'IA', 'IIIA', 'IIIA', 'IIA', 'IIA', 'IIB', 'IIA', 'IIA', 'IIIA', 'IIB', 'IIA', 'IA', 'IIA', 'IIA', 'IIB', 'IIA', 'none', 'IA', 'IA', 'IA', 'IIA', 'IIIA', 'IIA', 'IIIA', 'IIIA', 'IIIC', 'IA', 'IIB', 'IIIB', 'none', 'IIA', 'IIA', 'IIA', 'IIA', 'IIIC', 'IIIC', 'IIA', 'IIA', 'IIIC', 'IIIC', 'IIIC', 'IIIC', 'IIIC', 'IIB', 'IIA', 'IIB', 'IIA', 'IIA', 'IIB', 'none', 'IIIB', 'IIIA', 'IIIA', 'IA', 'IIA', 'IIA', 'IIA', 'IIB', 'IIA', 'IIA', 'IIA', 'IIB', 'IIB', 'IIA', 'IIA', 'none', 'IIB', 'IIA', 'IIA', 'IIA', 'IIA', 'IIB', 'IIIA', 'IIA', 'IIA', 'IIA', 'IIIA', 'IIB', 'IV', 'IA', 'IIIA', 'IIB', 'IIA', 'IIA', 'IA', 'IIA', 'IIIA', 'IIB', 'none', 'IIB', 'IIA', 'IIA', 'IIA', 'IA', 'IIA', 'IIA', 'IIIA', 'IIB', 'IA', 'IIB', 'IIA', 'IA', 'IIA', 'IIB', 'IIB', 'IIB', 'IIIA', 'IIA', 'IIA', 'IIB', 'IIIA', 'IA', 'IIA', 'IIA', 'IIB', 'IIA', 'none', 'IA', 'IA', 'IIA', 'IIA', 'IIB', 'IIA', 'IIB', 'IIB', 'IIA', 'IIA', 'IIIB', 'IIA', 'IIA', 'IIA', 'IIA', 'IIA', 'IIA', 'IIIC', 'IIA', 'IIA', 'IIA', 'IIA', 'IIA', 'none', 'none', 'IIA', 'IIIC', 'none', 'IIA', 'IIA', 'IIIB', 'IIIA', 'IIB', 'IA', 'IA', 'IIA', 'IIA', 'IIA', 'none', 'IIIA', 'IIIA', 'IIA', 'IIA', 'IIA', 'IIA', 'IA', 'IA', 'none', 'none', 'IIB', 'IIB', 'IIA', 'IIA', 'IIA', 'IIA', 'IV', 'IIB', 'IIIA', 'IIA', 'IIA', 'IIB', 'IIIA', 'IIA', 'IIA', 'none', 'IIB', 'IIA', 'IIA', 'IA', 'IIB', 'IIIA', 'IIIA', 'IIB', 'IIA', 'none', 'IIA', 'IIA', 'IIB', 'IIA', 'IIA', 'none', 'IIA', 'IIIA', 'IIA', 'IIA', 'IA', 'IIB', 'IIA', 'IIA', 'none', 'IIA', 'IIA', 'IIA', 'IIIA', 'IIA', 'IIA', 'IIB', 'IIB', 'none', 'IA', 'IIA', 'IIA', 'none', 'IIA', 'none', 'IA', 'IA', 'IA', 'IIA', 'IV', 'IIB', 'IIB', 'IIB', 'IIB', 'IIIC', 'IV', 'IIIB', 'IIA', 'IV', 'IIIC', 'IIA', 'IIA', 'none', 'IIIC', 'none', 'IIA', 'IIIC', 'IIIC', 'IIIC', 'IIA', 'IIA', 'IIA', 'IIB', 'IIA', 'IIA', 'IIA', 'IIA', 'IIIB', 'IIB', 'IIIA', 'IIB', 'IIA', 'IIA', 'IIA', 'IA', 'IIB', 'IIA', 'IIA', 'IIB', 'IIB', 'IIB', 'IIIA', 'IIB', 'IA', 'IIB', 'IA', 'IIB', 'IIA', 'IIA', 'IIIA', 'IIA', 'IA', 'IIA', 'IIIA', 'IIA', 'IIB', 'IIA', 'IIIA', 'IIA', 'IIA', 'IA', 'IIA', 'IIA', 'IIB', 'IIB', 'IIA', 'IIB', 'IIB', 'IIB', 'IIA', 'IIA', 'IIB', 'IIB', 'IIB', 'IIB', 'IIA', 'IIB', 'IA', 'IA', 'IIB', 'IIB', 'IIA', 'IIA', 'IIIA', 'IIA', 'IA', 'IIA', 'IIB', 'IIIA', 'IA', 'IIA', 'IIA', 'IIB', 'IIA', 'IIIA', 'IIA', 'IA', 'IIA', 'IIIA', 'IIB', 'IIB', 'none', 'IA', 'IIIA', 'IA', 'IIA', 'IIB', 'IIA', 'IIIA', 'IIIA', 'IIIC', 'IA', 'IIB', 'IIIB', 'IIA', 'IIIC', 'IIA', 'IIA', 'IIIC', 'IIIC', 'IIA', 'IIA', 'IIIC', 'IIIC', 'IIIC', 'IIIC', 'IIIC', 'IIB', 'IIA', 'IIB', 'IIA', 'IIA', 'IIA', 'none', 'IIB', 'IIIB', 'IIIA', 'IIB', 'IA', 'IA', 'IIA', 'IIA', 'IIA', 'IIB', 'IIA', 'IIB', 'IIB', 'IIB', 'IIB', 'IIB', 'IA', 'IA', 'IIB', 'IIIA', 'IIA', 'IIB', 'IIIA', 'none', 'IIA', 'IIA', 'IIIA', 'IIA', 'IIB', 'IIA', 'IIIA', 'IIA', 'IIB', 'IIA', 'IIA', 'IA', 'none', 'IIB', 'none', 'IIIA', 'IIB', 'IIA', 'IA', 'IIA', 'IIIC', 'IIB', 'IIB', 'IIB', 'IIB', 'IIB', 'IIB', 'IIB', 'IA', 'IA', 'IA', 'IIA', 'IIB', 'IIA', 'IIB', 'IIIA', 'IIA', 'IIA', 'IA', 'IIIA', 'IIIA', 'IIA', 'IIA', 'IIB', 'IIA', 'IIA', 'IIIA', 'IIB', 'IIA', 'IA', 'IIA', 'IIA', 'IIB', 'IIA', 'none', 'IA', 'IA', 'IA', 'IIA', 'IIIA', 'IIA', 'IIIA', 'IIIA', 'IIIC', 'IA', 'IIB', 'IIIB', 'none', 'IIA', 'IIA', 'IIA', 'IIA', 'IIIC', 'IIIC', 'IIA', 'IIA', 'IIIC', 'IIIC', 'IIIC', 'IIIC', 'IIIC', 'IIB', 'IIA', 'IIB', 'IIA', 'IIA', 'IIB', 'IV', 'IIIB', 'IIIA', 'IIIA', 'IA', 'IIA', 'IIA', 'IIA', 'IIB', 'IIA', 'IIA', 'IIA', 'IIB', 'IIB', 'IIA', 'IIA', 'none', 'IIB', 'IIA', 'IIA', 'IIA', 'IIA', 'IIB', 'IIIA', 'IIA', 'IIA', 'IIA', 'IIIA', 'IIB', 'IV', 'IA', 'IIIA', 'IIIA', 'IIA', 'IIA', 'IA', 'IIA', 'IIIA', 'IIB', 'IIB', 'IIB', 'IIA', 'IIA', 'IIA', 'IA', 'IIA', 'IIA', 'IIIA', 'IIB', 'IA', 'IIB', 'IIA', 'IA', 'IIA', 'IIB', 'IIB', 'IIB', 'IIIA', 'IIA', 'IIA', 'IIB', 'IIIA', 'IA', 'IIA', 'IIA', 'IIB', 'IIA', 'none', 'IA', 'IA', 'IIA', 'IIA', 'IIB', 'IIA', 'IIB', 'IIB', 'IIA', 'IIA', 'IIIB', 'IIA', 'IIA', 'IIA', 'IIA', 'IIA', 'IIA', 'IIIC', 'IIA', 'IIA', 'IIA', 'IIA', 'IIA', 'none', 'none', 'IIA', 'IIIC', 'none', 'IIA', 'IIA', 'IIIB', 'IIIA', 'IIB', 'IA', 'IA', 'IIA', 'IIA', 'IIA', 'none', 'IIIA', 'IIIA', 'IIA', 'IIA', 'IIA', 'IIA', 'IA', 'IA', 'none', 'none', 'IIB', 'IIB', 'IIA', 'IIA', 'IIA', 'IIA', 'IV', 'IIB', 'IIIA', 'IIA', 'IIA', 'IIB', 'IIIA', 'IIA', 'IIA', 'none', 'IIB', 'IIA', 'IIA', 'IA', 'IIB', 'IIIA', 'IIIA', 'IIB', 'IIA', 'none', 'IIA', 'IIA', 'IIB', 'IIA', 'IIA', 'none', 'IIA', 'IIIA', 'IIA', 'IIA', 'IA', 'IIB', 'IIA', 'IIA', 'none', 'IIA', 'IIA', 'IIA', 'IIIA', 'IIA', 'IIA', 'IIB', 'IIB', 'none', 'IA', 'IIA', 'IIA', 'IV', 'IIA', 'none', 'IA', 'IA', 'IA', 'IIA', 'none', 'IIB', 'IIB', 'IIB', 'IIB', 'IIIC', 'IV', 'IIIB', 'IIA', 'IV', 'IIIC', 'IIA', 'IIA', 'IV', 'IIIC', 'none', 'IIA', 'IIIC', 'IIIC', 'IIIC', 'IIA', 'IIA', 'IIA']\n"
          ]
        }
      ]
    },
    {
      "cell_type": "code",
      "source": [
        "import random"
      ],
      "metadata": {
        "id": "G_OCrVbzITcE"
      },
      "execution_count": null,
      "outputs": []
    },
    {
      "cell_type": "code",
      "source": [
        "for i in range(len(stage)):\n",
        "  if(stage[i]=='none'):\n",
        "    stage[i]=random.choice(stage)"
      ],
      "metadata": {
        "id": "JpTyEpUNmXjT"
      },
      "execution_count": null,
      "outputs": []
    },
    {
      "cell_type": "code",
      "source": [
        "for i in range(len(stage)):\n",
        "  if(stage[i]=='none'):\n",
        "    stage[i]=random.choice(stage)"
      ],
      "metadata": {
        "id": "VCTya9KwIy1z"
      },
      "execution_count": null,
      "outputs": []
    },
    {
      "cell_type": "code",
      "source": [
        "type(df_tnm_new)"
      ],
      "metadata": {
        "colab": {
          "base_uri": "https://localhost:8080/"
        },
        "id": "NvqwBRrWmXdM",
        "outputId": "f8b044cf-214e-41ab-ee7f-8f0dcee4beb6"
      },
      "execution_count": null,
      "outputs": [
        {
          "output_type": "execute_result",
          "data": {
            "text/plain": [
              "pandas.core.frame.DataFrame"
            ]
          },
          "metadata": {},
          "execution_count": 10
        }
      ]
    },
    {
      "cell_type": "code",
      "source": [
        "df_stage = pd.DataFrame(stage, columns=['Stage'])\n",
        "print(df_stage)"
      ],
      "metadata": {
        "colab": {
          "base_uri": "https://localhost:8080/"
        },
        "id": "etSeAtsdmXah",
        "outputId": "fb73be1e-07f5-4f6d-9ac1-0a3f0c7edc13"
      },
      "execution_count": null,
      "outputs": [
        {
          "output_type": "stream",
          "name": "stdout",
          "text": [
            "     Stage\n",
            "0      IIB\n",
            "1      IIA\n",
            "2      IIA\n",
            "3      IIA\n",
            "4      IIA\n",
            "...    ...\n",
            "1687  IIIC\n",
            "1688  IIIC\n",
            "1689   IIA\n",
            "1690   IIA\n",
            "1691   IIA\n",
            "\n",
            "[1692 rows x 1 columns]\n"
          ]
        }
      ]
    },
    {
      "cell_type": "code",
      "source": [
        "combined_df = pd.concat([df_tnm_new, df_stage], axis=1)\n",
        "print(combined_df)"
      ],
      "metadata": {
        "colab": {
          "base_uri": "https://localhost:8080/"
        },
        "id": "6lrEgbn4mXXu",
        "outputId": "2c576ab3-63dd-4b85-9e60-09fced2fb811"
      },
      "execution_count": null,
      "outputs": [
        {
          "output_type": "stream",
          "name": "stdout",
          "text": [
            "      T  N  M Stage\n",
            "0     2  1  0   IIB\n",
            "1     2  0  0   IIA\n",
            "2     2  0  0   IIA\n",
            "3     2  0  0   IIA\n",
            "4     2  0  0   IIA\n",
            "...  .. .. ..   ...\n",
            "1687  2  3  0  IIIC\n",
            "1688  2  3  0  IIIC\n",
            "1689  2  0  0   IIA\n",
            "1690  2  0  0   IIA\n",
            "1691  2  0  0   IIA\n",
            "\n",
            "[1692 rows x 4 columns]\n"
          ]
        }
      ]
    },
    {
      "cell_type": "code",
      "source": [
        "combined_df.to_csv('tnm_combined.csv')"
      ],
      "metadata": {
        "id": "hNPfL9RVmXU6"
      },
      "execution_count": null,
      "outputs": []
    },
    {
      "cell_type": "code",
      "source": [
        "combined_df1 = pd.read_csv(\"tnm_combined.csv\")\n",
        "combined_df1.head()"
      ],
      "metadata": {
        "colab": {
          "base_uri": "https://localhost:8080/",
          "height": 206
        },
        "id": "qbFXBz_rNNWE",
        "outputId": "1d7119e7-138d-4606-e7a3-ebdbabff970a"
      },
      "execution_count": null,
      "outputs": [
        {
          "output_type": "execute_result",
          "data": {
            "text/plain": [
              "   Unnamed: 0  T  N  M Stage\n",
              "0           0  2  1  0   IIB\n",
              "1           1  2  0  0   IIA\n",
              "2           2  2  0  0   IIA\n",
              "3           3  2  0  0   IIA\n",
              "4           4  2  0  0   IIA"
            ],
            "text/html": [
              "\n",
              "  <div id=\"df-fc657bd0-699c-4221-9780-5e583ea247b8\">\n",
              "    <div class=\"colab-df-container\">\n",
              "      <div>\n",
              "<style scoped>\n",
              "    .dataframe tbody tr th:only-of-type {\n",
              "        vertical-align: middle;\n",
              "    }\n",
              "\n",
              "    .dataframe tbody tr th {\n",
              "        vertical-align: top;\n",
              "    }\n",
              "\n",
              "    .dataframe thead th {\n",
              "        text-align: right;\n",
              "    }\n",
              "</style>\n",
              "<table border=\"1\" class=\"dataframe\">\n",
              "  <thead>\n",
              "    <tr style=\"text-align: right;\">\n",
              "      <th></th>\n",
              "      <th>Unnamed: 0</th>\n",
              "      <th>T</th>\n",
              "      <th>N</th>\n",
              "      <th>M</th>\n",
              "      <th>Stage</th>\n",
              "    </tr>\n",
              "  </thead>\n",
              "  <tbody>\n",
              "    <tr>\n",
              "      <th>0</th>\n",
              "      <td>0</td>\n",
              "      <td>2</td>\n",
              "      <td>1</td>\n",
              "      <td>0</td>\n",
              "      <td>IIB</td>\n",
              "    </tr>\n",
              "    <tr>\n",
              "      <th>1</th>\n",
              "      <td>1</td>\n",
              "      <td>2</td>\n",
              "      <td>0</td>\n",
              "      <td>0</td>\n",
              "      <td>IIA</td>\n",
              "    </tr>\n",
              "    <tr>\n",
              "      <th>2</th>\n",
              "      <td>2</td>\n",
              "      <td>2</td>\n",
              "      <td>0</td>\n",
              "      <td>0</td>\n",
              "      <td>IIA</td>\n",
              "    </tr>\n",
              "    <tr>\n",
              "      <th>3</th>\n",
              "      <td>3</td>\n",
              "      <td>2</td>\n",
              "      <td>0</td>\n",
              "      <td>0</td>\n",
              "      <td>IIA</td>\n",
              "    </tr>\n",
              "    <tr>\n",
              "      <th>4</th>\n",
              "      <td>4</td>\n",
              "      <td>2</td>\n",
              "      <td>0</td>\n",
              "      <td>0</td>\n",
              "      <td>IIA</td>\n",
              "    </tr>\n",
              "  </tbody>\n",
              "</table>\n",
              "</div>\n",
              "      <button class=\"colab-df-convert\" onclick=\"convertToInteractive('df-fc657bd0-699c-4221-9780-5e583ea247b8')\"\n",
              "              title=\"Convert this dataframe to an interactive table.\"\n",
              "              style=\"display:none;\">\n",
              "        \n",
              "  <svg xmlns=\"http://www.w3.org/2000/svg\" height=\"24px\"viewBox=\"0 0 24 24\"\n",
              "       width=\"24px\">\n",
              "    <path d=\"M0 0h24v24H0V0z\" fill=\"none\"/>\n",
              "    <path d=\"M18.56 5.44l.94 2.06.94-2.06 2.06-.94-2.06-.94-.94-2.06-.94 2.06-2.06.94zm-11 1L8.5 8.5l.94-2.06 2.06-.94-2.06-.94L8.5 2.5l-.94 2.06-2.06.94zm10 10l.94 2.06.94-2.06 2.06-.94-2.06-.94-.94-2.06-.94 2.06-2.06.94z\"/><path d=\"M17.41 7.96l-1.37-1.37c-.4-.4-.92-.59-1.43-.59-.52 0-1.04.2-1.43.59L10.3 9.45l-7.72 7.72c-.78.78-.78 2.05 0 2.83L4 21.41c.39.39.9.59 1.41.59.51 0 1.02-.2 1.41-.59l7.78-7.78 2.81-2.81c.8-.78.8-2.07 0-2.86zM5.41 20L4 18.59l7.72-7.72 1.47 1.35L5.41 20z\"/>\n",
              "  </svg>\n",
              "      </button>\n",
              "      \n",
              "  <style>\n",
              "    .colab-df-container {\n",
              "      display:flex;\n",
              "      flex-wrap:wrap;\n",
              "      gap: 12px;\n",
              "    }\n",
              "\n",
              "    .colab-df-convert {\n",
              "      background-color: #E8F0FE;\n",
              "      border: none;\n",
              "      border-radius: 50%;\n",
              "      cursor: pointer;\n",
              "      display: none;\n",
              "      fill: #1967D2;\n",
              "      height: 32px;\n",
              "      padding: 0 0 0 0;\n",
              "      width: 32px;\n",
              "    }\n",
              "\n",
              "    .colab-df-convert:hover {\n",
              "      background-color: #E2EBFA;\n",
              "      box-shadow: 0px 1px 2px rgba(60, 64, 67, 0.3), 0px 1px 3px 1px rgba(60, 64, 67, 0.15);\n",
              "      fill: #174EA6;\n",
              "    }\n",
              "\n",
              "    [theme=dark] .colab-df-convert {\n",
              "      background-color: #3B4455;\n",
              "      fill: #D2E3FC;\n",
              "    }\n",
              "\n",
              "    [theme=dark] .colab-df-convert:hover {\n",
              "      background-color: #434B5C;\n",
              "      box-shadow: 0px 1px 3px 1px rgba(0, 0, 0, 0.15);\n",
              "      filter: drop-shadow(0px 1px 2px rgba(0, 0, 0, 0.3));\n",
              "      fill: #FFFFFF;\n",
              "    }\n",
              "  </style>\n",
              "\n",
              "      <script>\n",
              "        const buttonEl =\n",
              "          document.querySelector('#df-fc657bd0-699c-4221-9780-5e583ea247b8 button.colab-df-convert');\n",
              "        buttonEl.style.display =\n",
              "          google.colab.kernel.accessAllowed ? 'block' : 'none';\n",
              "\n",
              "        async function convertToInteractive(key) {\n",
              "          const element = document.querySelector('#df-fc657bd0-699c-4221-9780-5e583ea247b8');\n",
              "          const dataTable =\n",
              "            await google.colab.kernel.invokeFunction('convertToInteractive',\n",
              "                                                     [key], {});\n",
              "          if (!dataTable) return;\n",
              "\n",
              "          const docLinkHtml = 'Like what you see? Visit the ' +\n",
              "            '<a target=\"_blank\" href=https://colab.research.google.com/notebooks/data_table.ipynb>data table notebook</a>'\n",
              "            + ' to learn more about interactive tables.';\n",
              "          element.innerHTML = '';\n",
              "          dataTable['output_type'] = 'display_data';\n",
              "          await google.colab.output.renderOutput(dataTable, element);\n",
              "          const docLink = document.createElement('div');\n",
              "          docLink.innerHTML = docLinkHtml;\n",
              "          element.appendChild(docLink);\n",
              "        }\n",
              "      </script>\n",
              "    </div>\n",
              "  </div>\n",
              "  "
            ]
          },
          "metadata": {},
          "execution_count": 73
        }
      ]
    },
    {
      "cell_type": "markdown",
      "source": [
        "End of labellig the dataset"
      ],
      "metadata": {
        "id": "O1_e4CsTMR0F"
      }
    }
  ]
}